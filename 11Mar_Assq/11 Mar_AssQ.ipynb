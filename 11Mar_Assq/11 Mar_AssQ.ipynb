{
 "cells": [
  {
   "cell_type": "markdown",
   "id": "afb5f00b",
   "metadata": {},
   "source": [
    "# Q1: What is the difference between a t-test and a z-test? Provide an example scenario where you would\n",
    "use each type of test."
   ]
  },
  {
   "cell_type": "markdown",
   "id": "376547f5",
   "metadata": {},
   "source": [
    "# t test-population std not given,sample size not matters\n",
    "ex:# A researcher hypothesizes that a new drug will decrease blood pressure by 10 mmHg. They conduct a\n",
    "clinical trial with 100 patients and find that the sample mean decrease in blood pressure is 8 mmHg with a\n",
    "## sample standard deviation of 3 mmHg. Test the hypothesis with a significance level of 0.05.\n",
    "\n",
    "# z test-population std must given ,sample size >30\n",
    "ex:# A researcher hypothesizes that a new drug will decrease blood pressure by 10 mmHg. They conduct a\n",
    "clinical trial with 100 patients and find that the sample mean decrease in blood pressure is 8 mmHg with a\n",
    "## population standard deviation of 3 mmHg. Test the hypothesis with a significance level of 0.05."
   ]
  },
  {
   "cell_type": "code",
   "execution_count": null,
   "id": "e9677a33",
   "metadata": {},
   "outputs": [],
   "source": []
  },
  {
   "cell_type": "markdown",
   "id": "36dc1fe7",
   "metadata": {},
   "source": [
    "# Q2: Differentiate between one-tailed and two-tailed tests."
   ]
  },
  {
   "cell_type": "markdown",
   "id": "47fd2383",
   "metadata": {},
   "source": [
    "# one tailed test -we have to the parameter which is greater or lesser than the specfied value -so its one directional\n"
   ]
  },
  {
   "cell_type": "markdown",
   "id": "3516c2df",
   "metadata": {},
   "source": [
    "#  two tailed test- we have to find the parameter which is greater and lesser than the specified value, so its non directional"
   ]
  },
  {
   "cell_type": "code",
   "execution_count": null,
   "id": "48348812",
   "metadata": {},
   "outputs": [],
   "source": []
  },
  {
   "cell_type": "markdown",
   "id": "0b8733f3",
   "metadata": {},
   "source": [
    "# Q3: Explain the concept of Type 1 and Type 2 errors in hypothesis testing. Provide an example scenario for\n",
    "each type of error."
   ]
  },
  {
   "cell_type": "markdown",
   "id": "a68f0c0e",
   "metadata": {},
   "source": [
    "# type 1 error:\n",
    "    if we reject h0 ,but in reality the population theroy is good ,then its called type1 error"
   ]
  },
  {
   "cell_type": "markdown",
   "id": "da35246e",
   "metadata": {},
   "source": [
    "# type 2 error:\n",
    "    if we accept h0 ,but in reality the population theroy is not good ,then its called type2 error"
   ]
  },
  {
   "cell_type": "code",
   "execution_count": null,
   "id": "4698a7c2",
   "metadata": {},
   "outputs": [],
   "source": []
  },
  {
   "cell_type": "markdown",
   "id": "369719d6",
   "metadata": {},
   "source": [
    "# Q4:  Explain Bayes's theorem with an example."
   ]
  },
  {
   "cell_type": "markdown",
   "id": "4865d1e2",
   "metadata": {},
   "source": [
    "# Bayes's theorem is a mathematical formula that describes the relationship between conditional probabilities. It is named after Thomas Bayes, an 18th-century British statistician and theologian.\n",
    "\n",
    "The theorem states that the probability of a hypothesis (H) given the available evidence (E) is proportional to the probability of the evidence given the hypothesis times the prior probability of the hypothesis, divided by the probability of the evidence:\n",
    "\n",
    "P(H|E) = P(E|H) * P(H) / P(E)\n",
    "\n",
    "where:\n",
    "P(H|E) is the posterior probability of the hypothesis H given the evidence E.\n",
    "P(E|H) is the likelihood of observing the evidence E given the hypothesis H.\n",
    "P(H) is the prior probability of the hypothesis H (i.e., the probability of the hypothesis before taking into account the evidence).\n",
    "P(E) is the probability of observing the evidence E (regardless of the hypothesis)."
   ]
  },
  {
   "cell_type": "code",
   "execution_count": null,
   "id": "251b90be",
   "metadata": {},
   "outputs": [],
   "source": []
  },
  {
   "cell_type": "markdown",
   "id": "91a80629",
   "metadata": {},
   "source": [
    "# Q5: What is a confidence interval? How to calculate the confidence interval, explain with an example."
   ]
  },
  {
   "cell_type": "markdown",
   "id": "e942e678",
   "metadata": {},
   "source": [
    "# confidence interval is area where we can accept our hypothesis, c.i=mean + or - margin of error"
   ]
  },
  {
   "cell_type": "code",
   "execution_count": null,
   "id": "691c1690",
   "metadata": {},
   "outputs": [],
   "source": []
  },
  {
   "cell_type": "markdown",
   "id": "3787662e",
   "metadata": {},
   "source": [
    "# Q6. Use Bayes' Theorem to calculate the probability of an event occurring given prior knowledge of the\n",
    "event's probability and new evidence. Provide a sample problem and solution.\n"
   ]
  },
  {
   "cell_type": "markdown",
   "id": "7fe6c6dc",
   "metadata": {},
   "source": [
    "# Sure, I can provide a sample problem and solution using Bayes' theorem.\n",
    "\n",
    "Problem:\n",
    "Suppose a factory produces two types of widgets: Type A and Type B. It is known that Type A widgets have a defect rate of 5%, while Type B widgets have a defect rate of 2%. If a randomly selected widget from the factory is defective, what is the probability that it is a Type A widget?\n",
    "\n",
    "Solution:\n",
    "Let's define the following events:\n",
    "- A: the event that the widget is Type A\n",
    "- B: the event that the widget is defective\n",
    "\n",
    "We are interested in calculating the probability of event A given that event B has occurred, i.e., P(A|B). Using Bayes' theorem, we have:\n",
    "\n",
    "P(A|B) = P(B|A) * P(A) / P(B)\n",
    "\n",
    "where:\n",
    "- P(B|A) is the probability of observing a defective widget given that it is a Type A widget, which is 0.05\n",
    "- P(A) is the prior probability of selecting a Type A widget, which is 0.5 since there are two types of widgets\n",
    "- P(B) is the probability of observing a defective widget, which is the sum of the probabilities of observing a defective Type A widget and a defective Type B widget, i.e., P(B) = P(B|A) * P(A) + P(B|not A) * P(not A) = 0.05 * 0.5 + 0.02 * 0.5 = 0.035\n",
    "\n",
    "Plugging in these values, we get:\n",
    "\n",
    "P(A|B) = 0.05 * 0.5 / 0.035 = 0.714 or approximately 71.4%\n",
    "\n",
    "So the probability that the defective widget is a Type A widget is 71.4%, given that we know the prior probability of each type of widget and the defect rates for each type."
   ]
  },
  {
   "cell_type": "code",
   "execution_count": null,
   "id": "a53fa04a",
   "metadata": {},
   "outputs": [],
   "source": []
  },
  {
   "cell_type": "markdown",
   "id": "555a2ebc",
   "metadata": {},
   "source": [
    "# Q7. Calculate the 95% confidence interval for a sample of data with a mean of 50 and a standard deviation\n",
    "of 5. Interpret the results."
   ]
  },
  {
   "cell_type": "code",
   "execution_count": 16,
   "id": "a013fad0",
   "metadata": {},
   "outputs": [
    {
     "name": "stdout",
     "output_type": "stream",
     "text": [
      "49.02001800772997 50.97998199227003\n"
     ]
    }
   ],
   "source": [
    "from scipy.stats import norm\n",
    "import math\n",
    "c_i=0.95\n",
    "alpha=0.05\n",
    "\n",
    "sample_mean=50\n",
    "sample_std=5\n",
    "# assume\n",
    "n=100\n",
    "# results=lower and upper bound\n",
    "\n",
    "# c_i=mean+- margin_error\n",
    "critical_value=norm.ppf(1-(alpha/2))\n",
    "margin_error=critical_value*(sample_std/math.sqrt(n))\n",
    "\n",
    "lower_fence=sample_mean-margin_error\n",
    "higher_fence=sample_mean+margin_error\n",
    "\n",
    "print(lower_fence,higher_fence)"
   ]
  },
  {
   "cell_type": "code",
   "execution_count": null,
   "id": "1c2f6f2b",
   "metadata": {},
   "outputs": [],
   "source": []
  },
  {
   "cell_type": "markdown",
   "id": "35d5ae42",
   "metadata": {},
   "source": [
    "# Q8. What is the margin of error in a confidence interval? How does sample size affect the margin of error?\n",
    "Provide an example of a scenario where a larger sample size would result in a smaller margin of error."
   ]
  },
  {
   "cell_type": "markdown",
   "id": "f097d13a",
   "metadata": {},
   "source": [
    "# confidence_interval=mean +or- margin_error\n",
    "\n",
    "# margin of error is nothing but min and max value from the mean\n",
    "\n",
    "# margin_of_error=crtical_value*standard_error\n",
    "\n",
    "# standard_error=populatoion_std/math.sqrt(n) \n",
    "\n",
    "# so if n is high ,then the result or standard error will  get higer"
   ]
  },
  {
   "cell_type": "code",
   "execution_count": null,
   "id": "0ad8790b",
   "metadata": {},
   "outputs": [],
   "source": []
  },
  {
   "cell_type": "markdown",
   "id": "23a1a3fe",
   "metadata": {},
   "source": [
    "# Q9. Calculate the z-score for a data point with a value of 75, a population mean of 70, and a population\n",
    "standard deviation of 5. Interpret the results."
   ]
  },
  {
   "cell_type": "code",
   "execution_count": 25,
   "id": "3a3f9e9d",
   "metadata": {},
   "outputs": [
    {
     "name": "stdout",
     "output_type": "stream",
     "text": [
      "0.1\n"
     ]
    }
   ],
   "source": [
    "mean=70\n",
    "std=5\n",
    "# zscor=?\n",
    "value=75\n",
    "# assume\n",
    "n=100\n",
    "zscor=(value-mean)/std/math.sqrt(n)\n",
    "\n",
    "print(zscor)"
   ]
  },
  {
   "cell_type": "code",
   "execution_count": null,
   "id": "1e27b6b1",
   "metadata": {},
   "outputs": [],
   "source": []
  },
  {
   "cell_type": "markdown",
   "id": "2045d2a7",
   "metadata": {},
   "source": [
    "# Q10. In a study of the effectiveness of a new weight loss drug, \n",
    "# a sample of 50 participants lost an average\n",
    "\n",
    "# of 6 pounds with a standard deviation of 2.5 pounds. Conduct a hypothesis test to determine if the drug is\n",
    "\n",
    "# significantly effective at a 95% confidence level using a t-test."
   ]
  },
  {
   "cell_type": "code",
   "execution_count": null,
   "id": "5de7501d",
   "metadata": {},
   "outputs": [],
   "source": []
  },
  {
   "cell_type": "code",
   "execution_count": 47,
   "id": "5b8f3d16",
   "metadata": {},
   "outputs": [],
   "source": [
    "n=50\n",
    "sample_mean=6\n",
    "sample_std=2.5\n",
    "c_i=0.95\n",
    "alpha=1-0.95\n",
    "\n",
    "mu=0\n",
    "# here n>30 ,and sample_std given ,so we can use t test\n",
    "# in question they told to check effective so,it may high or low than significance so two tail test\n"
   ]
  },
  {
   "cell_type": "code",
   "execution_count": 30,
   "id": "bdfe4db9",
   "metadata": {},
   "outputs": [],
   "source": [
    "# h0 -null-mu=0,The weight loss drug has no significant effect on weight loss, and the mean weight loss is equal to or less than 0 pounds. H0: µ <= 0.\n",
    "#h1 -alternate -mu!= 0\n"
   ]
  },
  {
   "cell_type": "code",
   "execution_count": 48,
   "id": "f6947edb",
   "metadata": {},
   "outputs": [
    {
     "name": "stdout",
     "output_type": "stream",
     "text": [
      "reject h0\n"
     ]
    }
   ],
   "source": [
    "import scipy.stats as stats\n",
    "t_test=(sample_mean-mu)/(sample_std/math.sqrt(n))\n",
    "dof=n-1\n",
    "p_value=stats.t.sf(abs(t_test),dof)\n",
    "\n",
    "if p_value > alpha:\n",
    "    print(\"accept h0\")\n",
    "else:\n",
    "    print(\"reject h0\")"
   ]
  },
  {
   "cell_type": "code",
   "execution_count": null,
   "id": "5b48bf51",
   "metadata": {},
   "outputs": [],
   "source": []
  },
  {
   "cell_type": "markdown",
   "id": "8efdd339",
   "metadata": {},
   "source": [
    "# Q11. In a survey of 500 people, 65% reported being satisfied with their current job. Calculate the 95% confidence interval for the true proportion of people who are satisfied with their job."
   ]
  },
  {
   "cell_type": "code",
   "execution_count": 25,
   "id": "60c67bd9",
   "metadata": {},
   "outputs": [
    {
     "name": "stdout",
     "output_type": "stream",
     "text": [
      "0.6918074606190788 0.6081925393809212\n"
     ]
    }
   ],
   "source": [
    "from scipy.stats import norm\n",
    "import math\n",
    "n=500\n",
    "# good=65%\n",
    "\n",
    "c_i=0.95\n",
    "alpha=1-0.95\n",
    "c_i=(1-(alpha/2))\n",
    "\n",
    "\n",
    "# c_i=mean+ or - margin_of_error\n",
    "\n",
    "sample_mean=0.65\n",
    "critical_value=norm.ppf(c_i)\n",
    "\n",
    "std_err=math.sqrt(sample_mean*(1-sample_mean)/n)\n",
    "\n",
    "\n",
    "margin_of_error=critical_value*std_err\n",
    "\n",
    "lower_fence=sample_mean-margin_of_error\n",
    "\n",
    "higher_fence=sample_mean+margin_of_error\n",
    "\n",
    "print(higher_fence,lower_fence)\n",
    "\n",
    "\n"
   ]
  },
  {
   "cell_type": "code",
   "execution_count": null,
   "id": "c15df780",
   "metadata": {},
   "outputs": [],
   "source": []
  },
  {
   "cell_type": "markdown",
   "id": "bfe01bb2",
   "metadata": {},
   "source": [
    "# Q12. A researcher is testing the effectiveness of two different teaching methods on student performance.\n",
    "\n",
    "# Sample A has a mean score of 85 with a standard deviation of 6, \n",
    "\n",
    "# while # sample B has a mean score of 82 ,\n",
    "  # with a standard deviation of 5. \n",
    "  \n",
    "  # Conduct a hypothesis test to determine if the two teaching methods have a\n",
    "significant difference in student performance using a t-test with a \n",
    "# significance level of 0.01."
   ]
  },
  {
   "cell_type": "code",
   "execution_count": 7,
   "id": "677088bc",
   "metadata": {},
   "outputs": [],
   "source": [
    "import scipy.stats as stats\n",
    "import math\n",
    "\n",
    "#sample 1\n",
    "sample1_mean=85\n",
    "sample1_std=6\n",
    "#sample2\n",
    "sample2_mean=82\n",
    "sample_std=5\n",
    "\n",
    "alpha=0.01\n",
    "# assume\n",
    "n1=n2=100\n"
   ]
  },
  {
   "cell_type": "code",
   "execution_count": 3,
   "id": "818164c6",
   "metadata": {},
   "outputs": [],
   "source": [
    "# null h0: there is no diff u1 =u2"
   ]
  },
  {
   "cell_type": "code",
   "execution_count": 2,
   "id": "de9a31cb",
   "metadata": {},
   "outputs": [],
   "source": [
    "#  h1: there is  diff u1 !=u2"
   ]
  },
  {
   "cell_type": "code",
   "execution_count": 11,
   "id": "3d983145",
   "metadata": {},
   "outputs": [
    {
     "name": "stdout",
     "output_type": "stream",
     "text": [
      "accept h0\n"
     ]
    }
   ],
   "source": [
    "# p value\n",
    "t_stat=(sample1_mean-sample2_mean)/math.sqrt((sample1_mean**2/n1)+(sample2_mean**2/n2))\n",
    "dof=min(n1-1,n2-1)\n",
    "p_value=stats.t.sf(abs(t_stat),dof)\n",
    "\n",
    "if p_value>alpha:\n",
    "    print(\"accept h0\")\n",
    "else:\n",
    "    print(\"reject h0\")"
   ]
  },
  {
   "cell_type": "code",
   "execution_count": null,
   "id": "72365c8d",
   "metadata": {},
   "outputs": [],
   "source": []
  },
  {
   "cell_type": "markdown",
   "id": "c431c621",
   "metadata": {},
   "source": [
    "# Q13. A population has a mean of 60 and a standard deviation of 8. A sample of 50 observations has a mean\n",
    "of 65. Calculate the 90% confidence interval for the true population mean."
   ]
  },
  {
   "cell_type": "code",
   "execution_count": 12,
   "id": "e8308ad3",
   "metadata": {},
   "outputs": [],
   "source": [
    "mean=60\n",
    "std=8\n",
    "n=50\n",
    "smaple_mean=65\n",
    "c_i=0.95\n",
    "# calculate_confidence_interval\n"
   ]
  },
  {
   "cell_type": "code",
   "execution_count": 35,
   "id": "2ab3bafd",
   "metadata": {},
   "outputs": [
    {
     "name": "stdout",
     "output_type": "stream",
     "text": [
      "62.78255388104051 67.21744611895949\n"
     ]
    }
   ],
   "source": [
    "# confidence_interval=sample_mean + or - margin_of_error\n",
    "import math\n",
    "from scipy.stats import norm\n",
    "# using z test\n",
    "\n",
    "critical_value=norm.ppf(0.975)\n",
    "std_error=std/math.sqrt(50)\n",
    "margin_of_error=critical_value*std_error\n",
    "\n",
    "lower=smaple_mean-margin_of_error\n",
    "higher=smaple_mean+margin_of_error\n",
    "print(lower,higher)"
   ]
  },
  {
   "cell_type": "code",
   "execution_count": null,
   "id": "da486312",
   "metadata": {},
   "outputs": [],
   "source": []
  },
  {
   "cell_type": "markdown",
   "id": "4aa41f32",
   "metadata": {},
   "source": [
    "# Q14. In a study of the effects of caffeine on reaction time, a sample of 30 participants had an average\n",
    "reaction time of 0.25 seconds with a standard deviation of 0.05 seconds. Conduct a hypothesis test to\n",
    "determine if the caffeine has a significant effect on reaction time at a 90% confidence level using a t-test."
   ]
  },
  {
   "cell_type": "code",
   "execution_count": 54,
   "id": "3d0d5412",
   "metadata": {},
   "outputs": [],
   "source": [
    "n=30\n",
    "sample_mean=0.25\n",
    "sample_std=0.05\n",
    "c_i=0.90\n",
    "\n",
    "# find significance effect,is there any change ,so two tail test\n",
    "# sample_std,and n<30,so t -tail test\n",
    "\n",
    "# h0:mu=0\n",
    "#h1:mu!=0\n",
    "# assume\n",
    "mu=0\n",
    "alpha=1-0.90\n"
   ]
  },
  {
   "cell_type": "code",
   "execution_count": 37,
   "id": "050a5cf3",
   "metadata": {},
   "outputs": [],
   "source": [
    "import math\n",
    "import scipy.stats as stats"
   ]
  },
  {
   "cell_type": "code",
   "execution_count": 59,
   "id": "4e821821",
   "metadata": {},
   "outputs": [
    {
     "name": "stdout",
     "output_type": "stream",
     "text": [
      "1.4162622442556677e-22\n"
     ]
    }
   ],
   "source": [
    "t_stats=(sample_mean-mu)/(sample_std/math.sqrt(n))\n",
    "dof=n-1\n",
    "p_value=stats.t.sf(abs(t_stats),dof)\n",
    "print(p_value)"
   ]
  },
  {
   "cell_type": "code",
   "execution_count": 49,
   "id": "f764b9a1",
   "metadata": {},
   "outputs": [
    {
     "name": "stdout",
     "output_type": "stream",
     "text": [
      "reject h0\n"
     ]
    }
   ],
   "source": [
    "if p_value >alpha:\n",
    "    print(\"accept h0\")\n",
    "else:\n",
    "    print(\"reject h0\")"
   ]
  },
  {
   "cell_type": "code",
   "execution_count": null,
   "id": "2e5c2c75",
   "metadata": {},
   "outputs": [],
   "source": []
  },
  {
   "cell_type": "code",
   "execution_count": null,
   "id": "d73370c7",
   "metadata": {},
   "outputs": [],
   "source": []
  },
  {
   "cell_type": "code",
   "execution_count": null,
   "id": "5bae1c66",
   "metadata": {},
   "outputs": [],
   "source": []
  },
  {
   "cell_type": "code",
   "execution_count": null,
   "id": "0811e995",
   "metadata": {},
   "outputs": [],
   "source": []
  },
  {
   "cell_type": "code",
   "execution_count": null,
   "id": "4004a952",
   "metadata": {},
   "outputs": [],
   "source": []
  },
  {
   "cell_type": "code",
   "execution_count": null,
   "id": "0d759fe6",
   "metadata": {},
   "outputs": [],
   "source": []
  },
  {
   "cell_type": "code",
   "execution_count": null,
   "id": "99116da1",
   "metadata": {},
   "outputs": [],
   "source": []
  },
  {
   "cell_type": "code",
   "execution_count": null,
   "id": "1ca6cf1f",
   "metadata": {},
   "outputs": [],
   "source": []
  },
  {
   "cell_type": "code",
   "execution_count": null,
   "id": "731f3789",
   "metadata": {},
   "outputs": [],
   "source": []
  },
  {
   "cell_type": "code",
   "execution_count": null,
   "id": "7bb5a598",
   "metadata": {},
   "outputs": [],
   "source": []
  },
  {
   "cell_type": "code",
   "execution_count": null,
   "id": "a6fef15b",
   "metadata": {},
   "outputs": [],
   "source": []
  },
  {
   "cell_type": "code",
   "execution_count": null,
   "id": "6d3f0f07",
   "metadata": {},
   "outputs": [],
   "source": []
  },
  {
   "cell_type": "code",
   "execution_count": null,
   "id": "dd3059e4",
   "metadata": {},
   "outputs": [],
   "source": []
  },
  {
   "cell_type": "code",
   "execution_count": null,
   "id": "7ea33148",
   "metadata": {},
   "outputs": [],
   "source": []
  },
  {
   "cell_type": "code",
   "execution_count": null,
   "id": "d51c79ac",
   "metadata": {},
   "outputs": [],
   "source": []
  }
 ],
 "metadata": {
  "kernelspec": {
   "display_name": "Python 3 (ipykernel)",
   "language": "python",
   "name": "python3"
  },
  "language_info": {
   "codemirror_mode": {
    "name": "ipython",
    "version": 3
   },
   "file_extension": ".py",
   "mimetype": "text/x-python",
   "name": "python",
   "nbconvert_exporter": "python",
   "pygments_lexer": "ipython3",
   "version": "3.10.9"
  }
 },
 "nbformat": 4,
 "nbformat_minor": 5
}
