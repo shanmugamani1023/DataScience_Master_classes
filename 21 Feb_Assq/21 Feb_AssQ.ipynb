{
 "cells": [
  {
   "cell_type": "markdown",
   "id": "30b4e5af",
   "metadata": {},
   "source": [
    "# Q1. What is Web Scraping? Why is it Used? Give three areas where Web Scraping is used to get data.\n",
    "\n",
    "Q2. What are the different methods used for Web Scraping?\n",
    "\n",
    "Q3. What is Beautiful Soup? Why is it used?\n",
    "\n",
    "Q4. Why is flask used in this Web Scraping project?\n",
    "\n",
    "Q5. Write the names of AWS services used in this project. Also, explain the use of each service."
   ]
  },
  {
   "cell_type": "markdown",
   "id": "7a2e9fcb",
   "metadata": {},
   "source": [
    "# Q1. What is Web Scraping? Why is it Used? Give three areas where Web Scraping is used to get data."
   ]
  },
  {
   "cell_type": "markdown",
   "id": "f6cab2e1",
   "metadata": {},
   "source": [
    "# web scrapping is a process to get data from one website,its used for multiple process ex.price comparision,report generation..etc\n",
    "#  areas where Web Scraping is used to get data is insurance, banking, finance, trading, eCommerce, sports, and digital marketing"
   ]
  },
  {
   "cell_type": "markdown",
   "id": "e6bdf35a",
   "metadata": {},
   "source": [
    "# Q2. What are the different methods used for Web Scraping?"
   ]
  },
  {
   "cell_type": "markdown",
   "id": "b040def5",
   "metadata": {},
   "source": [
    "### There are several methods that can be used for web scraping in Python. Here are some of the most popular methods:\n",
    "\n",
    "### Using BeautifulSoup: \n",
    "BeautifulSoup is a Python library that allows you to extract data from HTML and XML files. It provides methods to navigate and search through the parse tree, as well as to extract specific data elements based on tag, class, or other attributes.\n",
    "\n",
    "### Using Scrapy: \n",
    "Scrapy is a Python framework used for web scraping. It is designed to handle large-scale web scraping projects and can extract data from multiple pages, follow links, and handle asynchronous requests.\n",
    "\n",
    "### Using Requests and lxml: \n",
    "Requests is a Python library used to send HTTP requests and retrieve responses. It can be combined with lxml, a library for processing XML and HTML documents, to extract data from web pages.\n",
    "\n",
    "### Using Selenium: \n",
    "Selenium is a web automation tool that can be used for web scraping. It allows you to automate web browsers and simulate user interaction, which can be useful for scraping pages that require user input.\n",
    "\n",
    "### Using APIs: \n",
    "Some websites provide APIs (Application Programming Interfaces) that allow you to access their data in a structured format. You can use Python's requests library to make API requests and extract the desired data.\n",
    "\n",
    "### These are just a few of the many methods available for web scraping in Python. The choice of method will depend on the specific requirements of your project and the complexity of the data you need to extract."
   ]
  },
  {
   "cell_type": "code",
   "execution_count": null,
   "id": "2c73efa3",
   "metadata": {},
   "outputs": [],
   "source": []
  },
  {
   "cell_type": "markdown",
   "id": "f40e58ea",
   "metadata": {},
   "source": [
    "# Q3. What is Beautiful Soup? Why is it used?"
   ]
  },
  {
   "cell_type": "markdown",
   "id": "ff8de9b8",
   "metadata": {},
   "source": [
    "### Beautiful Soup is a Python library used for web scraping to extract data from HTML and XML documents. It creates a parse tree that can be searched and modified using Python code, and it provides a wide range of methods and attributes for navigating the tree. Beautiful Soup is useful for extracting data from websites, handling poorly formed HTML, and monitoring changes to websites."
   ]
  },
  {
   "cell_type": "code",
   "execution_count": null,
   "id": "2bbcd7cd",
   "metadata": {},
   "outputs": [],
   "source": []
  },
  {
   "cell_type": "markdown",
   "id": "eb082401",
   "metadata": {},
   "source": [
    "# Q4. Why is flask used in this Web Scraping project?"
   ]
  },
  {
   "cell_type": "markdown",
   "id": "82e80cc5",
   "metadata": {},
   "source": [
    "# flask is a minimal framework used to create web application,it provides server to publish content,thats why we used flask for this web scrapping application"
   ]
  },
  {
   "cell_type": "code",
   "execution_count": null,
   "id": "d54c0750",
   "metadata": {},
   "outputs": [],
   "source": []
  },
  {
   "cell_type": "markdown",
   "id": "1508d451",
   "metadata": {},
   "source": [
    "# Q5. Write the names of AWS services used in this project. Also, explain the use of each service."
   ]
  },
  {
   "cell_type": "markdown",
   "id": "d2b77d57",
   "metadata": {},
   "source": [
    "# 1.code pipeline\n",
    "2. AWS Elastic Beanstalk"
   ]
  }
 ],
 "metadata": {
  "kernelspec": {
   "display_name": "Python 3 (ipykernel)",
   "language": "python",
   "name": "python3"
  },
  "language_info": {
   "codemirror_mode": {
    "name": "ipython",
    "version": 3
   },
   "file_extension": ".py",
   "mimetype": "text/x-python",
   "name": "python",
   "nbconvert_exporter": "python",
   "pygments_lexer": "ipython3",
   "version": "3.9.13"
  }
 },
 "nbformat": 4,
 "nbformat_minor": 5
}
