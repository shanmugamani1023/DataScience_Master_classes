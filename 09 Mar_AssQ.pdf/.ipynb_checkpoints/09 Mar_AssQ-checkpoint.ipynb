{
 "cells": [
  {
   "cell_type": "markdown",
   "id": "1e9d155f",
   "metadata": {},
   "source": [
    "# Q1: What are the Probability Mass Function (PMF) and Probability Density Function (PDF)? Explain with\n",
    "an example."
   ]
  },
  {
   "cell_type": "markdown",
   "id": "c10a5336",
   "metadata": {},
   "source": [
    "# pmf -describes probability of discrete random variable, or pmf describes probailty of each possible value can take by random variable\n",
    "ex.toss a coin,\n",
    "\n",
    "for every toss or event we may get different random outputs,through that outcomes we can create pmf"
   ]
  },
  {
   "cell_type": "markdown",
   "id": "f1ea1012",
   "metadata": {},
   "source": [
    "# pdf-describes probability of continuous variable \n",
    "ex.height,weight,iris data"
   ]
  },
  {
   "cell_type": "code",
   "execution_count": null,
   "id": "46b5a62c",
   "metadata": {},
   "outputs": [],
   "source": []
  },
  {
   "cell_type": "markdown",
   "id": "b40afdb8",
   "metadata": {},
   "source": [
    "# Q2: What is Cumulative Density Function (CDF)? Explain with an example. Why CDF is used?"
   ]
  },
  {
   "cell_type": "markdown",
   "id": "b9c8aef3",
   "metadata": {},
   "source": [
    "# cdf-describes cumulative probability value of each random variable,"
   ]
  },
  {
   "cell_type": "markdown",
   "id": "f7c30a71",
   "metadata": {},
   "source": [
    "# It can be used to calculate various statistics such as the mean, variance, and percentiles of a distribution. Additionally, the CDF is used in hypothesis testing, confidence intervals, and other statistical tests."
   ]
  },
  {
   "cell_type": "markdown",
   "id": "89276e75",
   "metadata": {},
   "source": [
    "# The CDF of a standard normal distribution can be computed using a standard normal table or with statistical software. For example, the CDF value for x=1 is approximately 0.8413, which means that there is a 84.13% chance that a randomly chosen value from the standard normal distribution will be less than or equal to 1."
   ]
  },
  {
   "cell_type": "code",
   "execution_count": null,
   "id": "48ae23c0",
   "metadata": {},
   "outputs": [],
   "source": []
  },
  {
   "cell_type": "markdown",
   "id": "c47bae89",
   "metadata": {},
   "source": [
    "# Q3: What are some examples of situations where the normal distribution might be used as a model?  Explain how the parameters of the normal distribution relate to the shape of the distribution."
   ]
  },
  {
   "cell_type": "markdown",
   "id": "d9e3d5d2",
   "metadata": {},
   "source": [
    "# examples:height,weight,iris data"
   ]
  },
  {
   "cell_type": "markdown",
   "id": "463b3a2f",
   "metadata": {},
   "source": [
    "# in normal distribution the plot or shape of the curve called bell shaped curve,and the the area b/w the mean is symmetrical,or area from the mean left and right are equal ,it nd-must solve empirical rule ,68,95,99.7 -68% of distribution falls in 1st std,95% of distribution falls in 2nd std,99.7% falls 3rd std"
   ]
  },
  {
   "cell_type": "markdown",
   "id": "c6ce3063",
   "metadata": {},
   "source": [
    "# The mean of the normal distribution is the value around which the data are centered, and it determines the location of the peak of the bell curve. The standard deviation of the normal distribution controls the width of the curve. A smaller standard deviation indicates that the data are tightly clustered around the mean, while a larger standard deviation indicates that the data are more spread out."
   ]
  },
  {
   "cell_type": "markdown",
   "id": "e9aee86a",
   "metadata": {},
   "source": [
    "# In summary, the normal distribution is a widely used probability distribution that is characterized by its mean and standard deviation. The parameters of the normal distribution relate to the shape of the distribution by determining the location and spread of the data around the mean"
   ]
  },
  {
   "cell_type": "code",
   "execution_count": null,
   "id": "f543d486",
   "metadata": {},
   "outputs": [],
   "source": []
  },
  {
   "cell_type": "markdown",
   "id": "73f87b4e",
   "metadata": {},
   "source": [
    "# Q4: Explain the importance of Normal Distribution. Give a few real-life examples of Normal\n",
    "Distribution. "
   ]
  },
  {
   "cell_type": "markdown",
   "id": "9ec0390c",
   "metadata": {},
   "source": [
    "# In summary, the normal distribution is a widely used probability distribution that is characterized by its mean and standard deviation. The parameters of the normal distribution relate to the shape of the distribution by determining the location and spread of the data around the mean"
   ]
  },
  {
   "cell_type": "code",
   "execution_count": null,
   "id": "bcbb2b3c",
   "metadata": {},
   "outputs": [],
   "source": []
  },
  {
   "cell_type": "markdown",
   "id": "3a62bda1",
   "metadata": {},
   "source": [
    "# Q5: What is Bernaulli Distribution? Give an Example. What is the difference between Bernoulli\n",
    "Distribution and Binomial Distribution?"
   ]
  },
  {
   "cell_type": "markdown",
   "id": "5b7ec110",
   "metadata": {},
   "source": [
    "# bernauli-ex.if i toss a coin i may get head ,or tail,the probabailty of head is 1/2,its called p,probality of tail is 1/2 ,so its nothing 1-p=q,so this kind of distribution,the binomial outcomes refers bernaulli distribution,and its only works for single trial,\n"
   ]
  },
  {
   "cell_type": "markdown",
   "id": "50cce87f",
   "metadata": {},
   "source": [
    "# binomial -its  a combination of multiple bernaulis distribution,ex.toss a coin 10 times,"
   ]
  },
  {
   "cell_type": "code",
   "execution_count": null,
   "id": "79b1a4f9",
   "metadata": {},
   "outputs": [],
   "source": []
  },
  {
   "cell_type": "markdown",
   "id": "34690287",
   "metadata": {},
   "source": [
    "# Q6. Consider a dataset with a mean of 50 and a standard deviation of 10. If we assume that the dataset is normally distributed, what is the probability that a randomly selected observation will be greater than 60? Use the appropriate formula and show your calculations."
   ]
  },
  {
   "cell_type": "code",
   "execution_count": 5,
   "id": "8f58af61",
   "metadata": {},
   "outputs": [],
   "source": [
    "\n",
    "mean=50\n",
    "std=10\n",
    "x=60\n",
    "# normall disrtribtued\n",
    "# what is probability of sample>60\n",
    "# we can find z (critical) value by z score \n",
    "# we can find percentage by using z value,\n",
    "# so the percent of random value will greater than 60 is that percentage of z value\n"
   ]
  },
  {
   "cell_type": "code",
   "execution_count": 16,
   "id": "8fc32c9d",
   "metadata": {},
   "outputs": [
    {
     "name": "stdout",
     "output_type": "stream",
     "text": [
      "0.15865525393145707\n"
     ]
    }
   ],
   "source": [
    "from scipy.stats import norm\n",
    "\n",
    "z_score=(x-mean)/std\n",
    "z_left_area=norm.cdf(z_score)\n",
    "z_right_are=1-z_left_area\n",
    "print(z_right_are)\n",
    "# so ,if we select observation randomly ,then it l be 15% chance for its above 60 "
   ]
  },
  {
   "cell_type": "code",
   "execution_count": null,
   "id": "3eac395f",
   "metadata": {},
   "outputs": [],
   "source": []
  },
  {
   "cell_type": "markdown",
   "id": "5861947a",
   "metadata": {},
   "source": [
    "# Q7: Explain uniform Distribution with an example.\n",
    "unifrom distribution describes the distribution which spread uniformly with min ,max range\n",
    "ex.Take one candy shop where the one day sales b/w 10 to 40 uniformaly,so this distrution has min 10 candy sale to max 40 candy sale,this is example of uniform distribtuion"
   ]
  },
  {
   "cell_type": "markdown",
   "id": "575cb38b",
   "metadata": {},
   "source": [
    "# so pdf is constant here, ex.roll a fair dice"
   ]
  },
  {
   "cell_type": "code",
   "execution_count": null,
   "id": "8848c92f",
   "metadata": {},
   "outputs": [],
   "source": []
  },
  {
   "cell_type": "markdown",
   "id": "9960d96b",
   "metadata": {},
   "source": [
    "# Q8: What is the z score? State the importance of the z score."
   ]
  },
  {
   "cell_type": "markdown",
   "id": "d1f0f19e",
   "metadata": {},
   "source": [
    "# z score represent the point how much is far away from the mean with respect to standard deviation,so z score =(x-mu)/sigma,x=point,mu=mean,sigma=std"
   ]
  },
  {
   "cell_type": "code",
   "execution_count": null,
   "id": "ccd1cace",
   "metadata": {},
   "outputs": [],
   "source": []
  },
  {
   "cell_type": "code",
   "execution_count": null,
   "id": "42df7e65",
   "metadata": {},
   "outputs": [],
   "source": []
  },
  {
   "cell_type": "markdown",
   "id": "2625050c",
   "metadata": {},
   "source": [
    "# using z score we can find area under the curve using z table"
   ]
  },
  {
   "cell_type": "markdown",
   "id": "c738b54b",
   "metadata": {},
   "source": [
    "# The importance of the z-score lies in its usefulness in standardizing data. By converting the data to z-scores, we can compare observations from different distributions on a common scale. This is particularly useful when working with data that have different units or scales of measurement."
   ]
  },
  {
   "cell_type": "code",
   "execution_count": null,
   "id": "3d11f7c4",
   "metadata": {},
   "outputs": [],
   "source": []
  },
  {
   "cell_type": "markdown",
   "id": "ccd69250",
   "metadata": {},
   "source": [
    "# Q9: What is Central Limit Theorem? State the significance of the Central Limit Theorem."
   ]
  },
  {
   "cell_type": "markdown",
   "id": "fac8b1d7",
   "metadata": {},
   "source": [
    "# the sampling distribution of mean from a population distribution will distribute normally when n>=30 for any distribution\n",
    "if distribution is normal then sampling distribution of mean will plot normal regrdless of size"
   ]
  },
  {
   "cell_type": "code",
   "execution_count": null,
   "id": "47fea9dc",
   "metadata": {},
   "outputs": [],
   "source": []
  },
  {
   "cell_type": "code",
   "execution_count": null,
   "id": "2d161bed",
   "metadata": {},
   "outputs": [],
   "source": []
  },
  {
   "cell_type": "markdown",
   "id": "6fe0dade",
   "metadata": {},
   "source": [
    "# Q10: State the assumptions of the Central Limit Theorem."
   ]
  },
  {
   "cell_type": "markdown",
   "id": "df31e53a",
   "metadata": {},
   "source": [
    "# Independence: The sample observations must be independent of each other. In other words, the value of one observation does not affect the value of another observation.\n",
    "\n",
    "Sample size: The sample size must be large enough. While there is no fixed rule for what constitutes a \"large\" sample size, a common guideline is that the sample size should be at least 30.\n",
    "\n",
    "Random Sampling: The observations must be randomly sampled from the population. This means that every member of the population has an equal chance of being included in the sample.\n",
    "\n",
    "Finite variance: The population from which the samples are drawn must have a finite variance. This means that the data must not be too spread out, or too concentrated around the mean."
   ]
  },
  {
   "cell_type": "code",
   "execution_count": null,
   "id": "a857e820",
   "metadata": {},
   "outputs": [],
   "source": []
  },
  {
   "cell_type": "code",
   "execution_count": null,
   "id": "7a892309",
   "metadata": {},
   "outputs": [],
   "source": []
  },
  {
   "cell_type": "code",
   "execution_count": null,
   "id": "d58278e0",
   "metadata": {},
   "outputs": [],
   "source": []
  },
  {
   "cell_type": "code",
   "execution_count": null,
   "id": "524182b3",
   "metadata": {},
   "outputs": [],
   "source": []
  },
  {
   "cell_type": "code",
   "execution_count": null,
   "id": "9a0f7fc3",
   "metadata": {},
   "outputs": [],
   "source": []
  },
  {
   "cell_type": "code",
   "execution_count": null,
   "id": "49c8d458",
   "metadata": {},
   "outputs": [],
   "source": []
  }
 ],
 "metadata": {
  "kernelspec": {
   "display_name": "Python 3 (ipykernel)",
   "language": "python",
   "name": "python3"
  },
  "language_info": {
   "codemirror_mode": {
    "name": "ipython",
    "version": 3
   },
   "file_extension": ".py",
   "mimetype": "text/x-python",
   "name": "python",
   "nbconvert_exporter": "python",
   "pygments_lexer": "ipython3",
   "version": "3.10.9"
  }
 },
 "nbformat": 4,
 "nbformat_minor": 5
}
