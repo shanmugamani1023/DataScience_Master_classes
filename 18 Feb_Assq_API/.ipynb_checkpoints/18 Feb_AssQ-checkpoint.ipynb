{
 "cells": [
  {
   "cell_type": "markdown",
   "id": "9c495bdc",
   "metadata": {},
   "source": [
    "# Q1. What is an API? Give an example, where an API is used in real life.\n",
    "\n",
    "Q2. Give advantages and disadvantages of using API. \n",
    "\n",
    "Q3. What is a Web API? Differentiate between API and Web API.\n",
    "\n",
    "Q4. Explain REST and SOAP Architecture. Mention shortcomings of SOAP.\n",
    "\n",
    "Q5. Differentiate between REST and SOAP."
   ]
  },
  {
   "cell_type": "markdown",
   "id": "9072f309",
   "metadata": {},
   "source": [
    "# Q1. What is an API? Give an example, where an API is used in real life."
   ]
  },
  {
   "cell_type": "markdown",
   "id": "6c118bbf",
   "metadata": {},
   "source": [
    "# API application programming interface ,used to transfer data from one app to another app, ex.gmail id integration with github application "
   ]
  },
  {
   "cell_type": "code",
   "execution_count": null,
   "id": "8f4062b5",
   "metadata": {},
   "outputs": [],
   "source": []
  },
  {
   "cell_type": "markdown",
   "id": "933ef4b9",
   "metadata": {},
   "source": [
    "# Q2. Give advantages and disadvantages of using API. "
   ]
  },
  {
   "cell_type": "markdown",
   "id": "55e9604c",
   "metadata": {},
   "source": [
    "# advantages\n",
    "1.simplicity to create ai\n",
    "2.scalbilty -traffic can be in control even 1 or 1lakh users\n",
    "3.flexbility-we can get data ,and give data to any homogenius or hetrogenius application"
   ]
  },
  {
   "cell_type": "markdown",
   "id": "b9673eee",
   "metadata": {},
   "source": [
    "# disadvantages\n",
    "Limited Functionality\n",
    "They may not have all the functionality you need, requiring additional development work.\n",
    "\n",
    "Dependency on Third Party Services\n",
    "If it depends on a third-party service, your application will also be unavailable.\n",
    "\n",
    "Security and Privacy Risks\n",
    "They can pose security and privacy risks if they’re not implemented correctly. Therefore, it’s essential to carefully consider these risks before using them in your application."
   ]
  },
  {
   "cell_type": "code",
   "execution_count": null,
   "id": "3bd201ea",
   "metadata": {},
   "outputs": [],
   "source": []
  },
  {
   "cell_type": "markdown",
   "id": "670d5a45",
   "metadata": {},
   "source": [
    "# Q3. What is a Web API? Differentiate between API and Web API."
   ]
  },
  {
   "cell_type": "markdown",
   "id": "ef706a10",
   "metadata": {},
   "source": [
    "# web api used to transfer data in http protocal.ex.google search\n",
    "differnce b/w api and web api is protocals .\n",
    "api-smtp,tcp,http\n",
    "web api-http only\n",
    "it has client-server model"
   ]
  },
  {
   "cell_type": "code",
   "execution_count": null,
   "id": "d7db4a97",
   "metadata": {},
   "outputs": [],
   "source": []
  },
  {
   "cell_type": "markdown",
   "id": "8341c953",
   "metadata": {},
   "source": [
    "# Q4. Explain REST and SOAP Architecture. Mention shortcomings of SOAP"
   ]
  },
  {
   "cell_type": "markdown",
   "id": "11de4fff",
   "metadata": {},
   "source": [
    "# Rest -\n",
    "1.its works based on HTTP architecture\n",
    "2.we can use GET,POST,PUT,DELETE\n",
    "3..simplicity-very simple to create api\n",
    "4.scalability high\n",
    "5.flexibility is high\n",
    "6.Less secure"
   ]
  },
  {
   "cell_type": "markdown",
   "id": "d291da76",
   "metadata": {},
   "source": [
    "# SOAP;\n",
    "1.ITs works based on TCP,SMPTP\n",
    "2.using XML data for internal processing\n",
    "3.NOt simple as REST\n",
    "4.BEtter secure than REST"
   ]
  },
  {
   "cell_type": "code",
   "execution_count": null,
   "id": "9cc39279",
   "metadata": {},
   "outputs": [],
   "source": []
  },
  {
   "cell_type": "markdown",
   "id": "52c53db0",
   "metadata": {},
   "source": [
    "# Q5. Differentiate between REST and SOAP."
   ]
  },
  {
   "cell_type": "code",
   "execution_count": 2,
   "id": "3fe9c7f9",
   "metadata": {},
   "outputs": [],
   "source": [
    "# Rest -\n",
    "# 1.its works based on HTTP architecture\n",
    "# 2.we can use GET,POST,PUT,DELETE\n",
    "# 3..simplicity-very simple to create api\n",
    "# 4.scalability high\n",
    "# 5.flexibility is high\n",
    "# 6.Less secure"
   ]
  },
  {
   "cell_type": "code",
   "execution_count": 3,
   "id": "d8b7bfd8",
   "metadata": {},
   "outputs": [],
   "source": [
    "# # SOAP;\n",
    "# 1.ITs works based on TCP,SMPTP\n",
    "# 2.using XML data for internal processing\n",
    "# 3.NOt simple as REST\n",
    "# 4.BEtter secure than REST"
   ]
  }
 ],
 "metadata": {
  "kernelspec": {
   "display_name": "Python 3 (ipykernel)",
   "language": "python",
   "name": "python3"
  },
  "language_info": {
   "codemirror_mode": {
    "name": "ipython",
    "version": 3
   },
   "file_extension": ".py",
   "mimetype": "text/x-python",
   "name": "python",
   "nbconvert_exporter": "python",
   "pygments_lexer": "ipython3",
   "version": "3.9.13"
  }
 },
 "nbformat": 4,
 "nbformat_minor": 5
}
