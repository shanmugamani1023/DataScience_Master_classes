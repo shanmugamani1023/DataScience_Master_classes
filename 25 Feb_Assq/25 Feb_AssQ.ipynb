{
 "cells": [
  {
   "cell_type": "markdown",
   "id": "101b2ba4",
   "metadata": {},
   "source": [
    "# Consider following code to answer further questions:\n",
    "\n",
    "import pandas as pd\n",
    "\n",
    "course_name = [‘Data Science’, ‘Machine Learning’, ‘Big Data’, ‘Data Engineer’]\n",
    "\n",
    "duration =  [2,3,6,4]\n",
    "\n",
    "df = pd.DataFrame(data = {‘course_name’ : course_name, ‘duration’ : duration})\n",
    "            "
   ]
  },
  {
   "cell_type": "markdown",
   "id": "aac979f7",
   "metadata": {},
   "source": [
    "# Q1. Write a code to print the data present in the second row of the dataframe, df."
   ]
  },
  {
   "cell_type": "code",
   "execution_count": 13,
   "id": "57c5b75c",
   "metadata": {},
   "outputs": [
    {
     "data": {
      "text/html": [
       "<div>\n",
       "<style scoped>\n",
       "    .dataframe tbody tr th:only-of-type {\n",
       "        vertical-align: middle;\n",
       "    }\n",
       "\n",
       "    .dataframe tbody tr th {\n",
       "        vertical-align: top;\n",
       "    }\n",
       "\n",
       "    .dataframe thead th {\n",
       "        text-align: right;\n",
       "    }\n",
       "</style>\n",
       "<table border=\"1\" class=\"dataframe\">\n",
       "  <thead>\n",
       "    <tr style=\"text-align: right;\">\n",
       "      <th></th>\n",
       "      <th>course_name</th>\n",
       "      <th>duration</th>\n",
       "    </tr>\n",
       "  </thead>\n",
       "  <tbody>\n",
       "    <tr>\n",
       "      <th>0</th>\n",
       "      <td>Data Science</td>\n",
       "      <td>2</td>\n",
       "    </tr>\n",
       "    <tr>\n",
       "      <th>1</th>\n",
       "      <td>Machine Learning</td>\n",
       "      <td>3</td>\n",
       "    </tr>\n",
       "    <tr>\n",
       "      <th>2</th>\n",
       "      <td>Big Data</td>\n",
       "      <td>6</td>\n",
       "    </tr>\n",
       "    <tr>\n",
       "      <th>3</th>\n",
       "      <td>Data Engineer</td>\n",
       "      <td>4</td>\n",
       "    </tr>\n",
       "  </tbody>\n",
       "</table>\n",
       "</div>"
      ],
      "text/plain": [
       "        course_name  duration\n",
       "0      Data Science         2\n",
       "1  Machine Learning         3\n",
       "2          Big Data         6\n",
       "3     Data Engineer         4"
      ]
     },
     "execution_count": 13,
     "metadata": {},
     "output_type": "execute_result"
    }
   ],
   "source": [
    "import pandas as pd\n",
    "course_name = ['Data Science', 'Machine Learning', 'Big Data', 'Data Engineer']\n",
    "\n",
    "duration =  [2,3,6,4]\n",
    "\n",
    "df = pd.DataFrame(data = {'course_name' : course_name, 'duration' : duration})\n",
    "df"
   ]
  },
  {
   "cell_type": "code",
   "execution_count": 12,
   "id": "f3e50aaa",
   "metadata": {
    "scrolled": true
   },
   "outputs": [
    {
     "data": {
      "text/plain": [
       "course_name    Machine Learning\n",
       "duration                      3\n",
       "Name: 1, dtype: object"
      ]
     },
     "execution_count": 12,
     "metadata": {},
     "output_type": "execute_result"
    }
   ],
   "source": [
    "df.loc[1]"
   ]
  },
  {
   "cell_type": "code",
   "execution_count": 16,
   "id": "06295aec",
   "metadata": {},
   "outputs": [
    {
     "data": {
      "text/html": [
       "<div>\n",
       "<style scoped>\n",
       "    .dataframe tbody tr th:only-of-type {\n",
       "        vertical-align: middle;\n",
       "    }\n",
       "\n",
       "    .dataframe tbody tr th {\n",
       "        vertical-align: top;\n",
       "    }\n",
       "\n",
       "    .dataframe thead th {\n",
       "        text-align: right;\n",
       "    }\n",
       "</style>\n",
       "<table border=\"1\" class=\"dataframe\">\n",
       "  <thead>\n",
       "    <tr style=\"text-align: right;\">\n",
       "      <th></th>\n",
       "      <th>course_name</th>\n",
       "    </tr>\n",
       "  </thead>\n",
       "  <tbody>\n",
       "    <tr>\n",
       "      <th>0</th>\n",
       "      <td>Data Science</td>\n",
       "    </tr>\n",
       "    <tr>\n",
       "      <th>1</th>\n",
       "      <td>Machine Learning</td>\n",
       "    </tr>\n",
       "    <tr>\n",
       "      <th>2</th>\n",
       "      <td>Big Data</td>\n",
       "    </tr>\n",
       "    <tr>\n",
       "      <th>3</th>\n",
       "      <td>Data Engineer</td>\n",
       "    </tr>\n",
       "  </tbody>\n",
       "</table>\n",
       "</div>"
      ],
      "text/plain": [
       "        course_name\n",
       "0      Data Science\n",
       "1  Machine Learning\n",
       "2          Big Data\n",
       "3     Data Engineer"
      ]
     },
     "execution_count": 16,
     "metadata": {},
     "output_type": "execute_result"
    }
   ],
   "source": [
    "df.loc[:,[\"course_name\"]]"
   ]
  },
  {
   "cell_type": "markdown",
   "id": "20de4477",
   "metadata": {},
   "source": [
    "# Q2. What is the difference between the functions loc and iloc in pandas.DataFrame?"
   ]
  },
  {
   "cell_type": "markdown",
   "id": "6d9c0987",
   "metadata": {},
   "source": [
    "# BOth used to access rows and columns ,loc used to access both predefined and manually defined index,but\n",
    "iloc used to access only predefined index"
   ]
  },
  {
   "cell_type": "code",
   "execution_count": null,
   "id": "62d89992",
   "metadata": {},
   "outputs": [],
   "source": []
  },
  {
   "cell_type": "markdown",
   "id": "cc2139b2",
   "metadata": {},
   "source": [
    "# Q3. Reindex the given dataframe using a variable, reindex = [3,0,1,2] and store it in the variable, new_df\n",
    "\n",
    "then find the output for both new_df.loc[2] and new_df.iloc[2].\n",
    "Did you observe any difference in both the outputs? If so then explain it.\n",
    "\n",
    "Consider the below code to answer further questions:\n",
    "\n",
    "import pandas as pd\n",
    "\n",
    "import numpy as np\n",
    "\n",
    "columns = ['column_1', 'column_2', 'column_3', 'column_4', 'column_5', 'column_6']\n",
    "\n",
    "indices = [1,2,3,4,5,6]\n",
    "\n",
    "#Creating a dataframe:\n",
    "\n",
    "df1 = pd.DataFrame(np.random.rand(6,6), columns = columns, index = indices)"
   ]
  },
  {
   "cell_type": "code",
   "execution_count": 28,
   "id": "a6f71cee",
   "metadata": {},
   "outputs": [
    {
     "data": {
      "text/html": [
       "<div>\n",
       "<style scoped>\n",
       "    .dataframe tbody tr th:only-of-type {\n",
       "        vertical-align: middle;\n",
       "    }\n",
       "\n",
       "    .dataframe tbody tr th {\n",
       "        vertical-align: top;\n",
       "    }\n",
       "\n",
       "    .dataframe thead th {\n",
       "        text-align: right;\n",
       "    }\n",
       "</style>\n",
       "<table border=\"1\" class=\"dataframe\">\n",
       "  <thead>\n",
       "    <tr style=\"text-align: right;\">\n",
       "      <th></th>\n",
       "      <th>column_1</th>\n",
       "      <th>column_2</th>\n",
       "      <th>column_3</th>\n",
       "      <th>column_4</th>\n",
       "      <th>column_5</th>\n",
       "      <th>column_6</th>\n",
       "    </tr>\n",
       "  </thead>\n",
       "  <tbody>\n",
       "    <tr>\n",
       "      <th>1</th>\n",
       "      <td>0.023528</td>\n",
       "      <td>0.646617</td>\n",
       "      <td>0.311910</td>\n",
       "      <td>0.517898</td>\n",
       "      <td>0.699041</td>\n",
       "      <td>0.543132</td>\n",
       "    </tr>\n",
       "    <tr>\n",
       "      <th>2</th>\n",
       "      <td>0.444353</td>\n",
       "      <td>0.502308</td>\n",
       "      <td>0.276453</td>\n",
       "      <td>0.792731</td>\n",
       "      <td>0.356244</td>\n",
       "      <td>0.870132</td>\n",
       "    </tr>\n",
       "    <tr>\n",
       "      <th>3</th>\n",
       "      <td>0.065602</td>\n",
       "      <td>0.843119</td>\n",
       "      <td>0.157227</td>\n",
       "      <td>0.876171</td>\n",
       "      <td>0.665316</td>\n",
       "      <td>0.241909</td>\n",
       "    </tr>\n",
       "    <tr>\n",
       "      <th>4</th>\n",
       "      <td>0.123024</td>\n",
       "      <td>0.524985</td>\n",
       "      <td>0.195772</td>\n",
       "      <td>0.446288</td>\n",
       "      <td>0.127658</td>\n",
       "      <td>0.539134</td>\n",
       "    </tr>\n",
       "    <tr>\n",
       "      <th>5</th>\n",
       "      <td>0.140285</td>\n",
       "      <td>0.816665</td>\n",
       "      <td>0.723397</td>\n",
       "      <td>0.850531</td>\n",
       "      <td>0.787080</td>\n",
       "      <td>0.781864</td>\n",
       "    </tr>\n",
       "    <tr>\n",
       "      <th>6</th>\n",
       "      <td>0.696616</td>\n",
       "      <td>0.780823</td>\n",
       "      <td>0.804826</td>\n",
       "      <td>0.513059</td>\n",
       "      <td>0.056156</td>\n",
       "      <td>0.134728</td>\n",
       "    </tr>\n",
       "  </tbody>\n",
       "</table>\n",
       "</div>"
      ],
      "text/plain": [
       "   column_1  column_2  column_3  column_4  column_5  column_6\n",
       "1  0.023528  0.646617  0.311910  0.517898  0.699041  0.543132\n",
       "2  0.444353  0.502308  0.276453  0.792731  0.356244  0.870132\n",
       "3  0.065602  0.843119  0.157227  0.876171  0.665316  0.241909\n",
       "4  0.123024  0.524985  0.195772  0.446288  0.127658  0.539134\n",
       "5  0.140285  0.816665  0.723397  0.850531  0.787080  0.781864\n",
       "6  0.696616  0.780823  0.804826  0.513059  0.056156  0.134728"
      ]
     },
     "execution_count": 28,
     "metadata": {},
     "output_type": "execute_result"
    }
   ],
   "source": [
    "import numpy as np\n",
    "\n",
    "columns = ['column_1', 'column_2', 'column_3', 'column_4', 'column_5', 'column_6']\n",
    "\n",
    "indices = [1,2,3,4,5,6]\n",
    "\n",
    "reindex = [3,0,1,2] \n",
    "\n",
    "#Creating a dataframe:\n",
    "\n",
    "df1 = pd.DataFrame(np.random.rand(6,6), columns = columns, index = indices)\n",
    "\n",
    "df1"
   ]
  },
  {
   "cell_type": "code",
   "execution_count": 29,
   "id": "b61c5389",
   "metadata": {
    "scrolled": true
   },
   "outputs": [
    {
     "name": "stdout",
     "output_type": "stream",
     "text": [
      "   column_1  column_2  column_3  column_4  column_5  column_6\n",
      "3  0.065602  0.843119  0.157227  0.876171  0.665316  0.241909\n",
      "0       NaN       NaN       NaN       NaN       NaN       NaN\n",
      "1  0.023528  0.646617  0.311910  0.517898  0.699041  0.543132\n",
      "2  0.444353  0.502308  0.276453  0.792731  0.356244  0.870132\n"
     ]
    }
   ],
   "source": [
    "print(df1.reindex(reindex))\n",
    "# 4,5,6 values gone\n",
    "# o th index value shows Nan because in original df there is no 0 th index\n",
    "# "
   ]
  },
  {
   "cell_type": "code",
   "execution_count": 71,
   "id": "33fe3357",
   "metadata": {},
   "outputs": [
    {
     "data": {
      "text/plain": [
       "column_1    0.444353\n",
       "column_2    column_2\n",
       "column_3    0.276453\n",
       "column_4    0.792731\n",
       "column_5    0.356244\n",
       "column_6    0.870132\n",
       "Name: 2, dtype: object"
      ]
     },
     "execution_count": 71,
     "metadata": {},
     "output_type": "execute_result"
    }
   ],
   "source": [
    "df1.loc[2]"
   ]
  },
  {
   "cell_type": "code",
   "execution_count": 34,
   "id": "6d9abfe9",
   "metadata": {
    "scrolled": true
   },
   "outputs": [
    {
     "data": {
      "text/plain": [
       "column_1    0.065602\n",
       "column_2    0.843119\n",
       "column_3    0.157227\n",
       "column_4    0.876171\n",
       "column_5    0.665316\n",
       "column_6    0.241909\n",
       "Name: 3, dtype: float64"
      ]
     },
     "execution_count": 34,
     "metadata": {},
     "output_type": "execute_result"
    }
   ],
   "source": [
    "df1.iloc[2]"
   ]
  },
  {
   "cell_type": "code",
   "execution_count": null,
   "id": "58d7217a",
   "metadata": {},
   "outputs": [],
   "source": []
  },
  {
   "cell_type": "markdown",
   "id": "583bf554",
   "metadata": {},
   "source": [
    "\n",
    "\n",
    "\n",
    "Q5. Replace the data present in the second row of column, ‘column_2’ by a string variable then find the\n",
    "mean of column, column_2.\n",
    "\n",
    "If you are getting errors in executing it then explain why.\n",
    "\n",
    "[Hint: To replace the data use df1.loc[] and equate this to string data of your choice.]"
   ]
  },
  {
   "cell_type": "markdown",
   "id": "2647efae",
   "metadata": {},
   "source": [
    "# Q4. Write a code to find the following statistical measurements for the above dataframe df1:\n",
    "\n",
    "(i) \tmean of each and every column present in the dataframe.\n",
    "\n",
    "(ii) standard deviation of column, ‘column_2’"
   ]
  },
  {
   "cell_type": "code",
   "execution_count": 36,
   "id": "3306da9c",
   "metadata": {},
   "outputs": [
    {
     "data": {
      "text/html": [
       "<div>\n",
       "<style scoped>\n",
       "    .dataframe tbody tr th:only-of-type {\n",
       "        vertical-align: middle;\n",
       "    }\n",
       "\n",
       "    .dataframe tbody tr th {\n",
       "        vertical-align: top;\n",
       "    }\n",
       "\n",
       "    .dataframe thead th {\n",
       "        text-align: right;\n",
       "    }\n",
       "</style>\n",
       "<table border=\"1\" class=\"dataframe\">\n",
       "  <thead>\n",
       "    <tr style=\"text-align: right;\">\n",
       "      <th></th>\n",
       "      <th>column_1</th>\n",
       "      <th>column_2</th>\n",
       "      <th>column_3</th>\n",
       "      <th>column_4</th>\n",
       "      <th>column_5</th>\n",
       "      <th>column_6</th>\n",
       "    </tr>\n",
       "  </thead>\n",
       "  <tbody>\n",
       "    <tr>\n",
       "      <th>count</th>\n",
       "      <td>6.000000</td>\n",
       "      <td>6.000000</td>\n",
       "      <td>6.000000</td>\n",
       "      <td>6.000000</td>\n",
       "      <td>6.000000</td>\n",
       "      <td>6.000000</td>\n",
       "    </tr>\n",
       "    <tr>\n",
       "      <th>mean</th>\n",
       "      <td>0.248901</td>\n",
       "      <td>0.685753</td>\n",
       "      <td>0.411597</td>\n",
       "      <td>0.666113</td>\n",
       "      <td>0.448582</td>\n",
       "      <td>0.518483</td>\n",
       "    </tr>\n",
       "    <tr>\n",
       "      <th>std</th>\n",
       "      <td>0.264834</td>\n",
       "      <td>0.149646</td>\n",
       "      <td>0.279762</td>\n",
       "      <td>0.193847</td>\n",
       "      <td>0.312986</td>\n",
       "      <td>0.289075</td>\n",
       "    </tr>\n",
       "    <tr>\n",
       "      <th>min</th>\n",
       "      <td>0.023528</td>\n",
       "      <td>0.502308</td>\n",
       "      <td>0.157227</td>\n",
       "      <td>0.446288</td>\n",
       "      <td>0.056156</td>\n",
       "      <td>0.134728</td>\n",
       "    </tr>\n",
       "    <tr>\n",
       "      <th>25%</th>\n",
       "      <td>0.079957</td>\n",
       "      <td>0.555393</td>\n",
       "      <td>0.215942</td>\n",
       "      <td>0.514268</td>\n",
       "      <td>0.184805</td>\n",
       "      <td>0.316215</td>\n",
       "    </tr>\n",
       "    <tr>\n",
       "      <th>50%</th>\n",
       "      <td>0.131654</td>\n",
       "      <td>0.713720</td>\n",
       "      <td>0.294181</td>\n",
       "      <td>0.655314</td>\n",
       "      <td>0.510780</td>\n",
       "      <td>0.541133</td>\n",
       "    </tr>\n",
       "    <tr>\n",
       "      <th>75%</th>\n",
       "      <td>0.368336</td>\n",
       "      <td>0.807704</td>\n",
       "      <td>0.620525</td>\n",
       "      <td>0.836081</td>\n",
       "      <td>0.690609</td>\n",
       "      <td>0.722181</td>\n",
       "    </tr>\n",
       "    <tr>\n",
       "      <th>max</th>\n",
       "      <td>0.696616</td>\n",
       "      <td>0.843119</td>\n",
       "      <td>0.804826</td>\n",
       "      <td>0.876171</td>\n",
       "      <td>0.787080</td>\n",
       "      <td>0.870132</td>\n",
       "    </tr>\n",
       "  </tbody>\n",
       "</table>\n",
       "</div>"
      ],
      "text/plain": [
       "       column_1  column_2  column_3  column_4  column_5  column_6\n",
       "count  6.000000  6.000000  6.000000  6.000000  6.000000  6.000000\n",
       "mean   0.248901  0.685753  0.411597  0.666113  0.448582  0.518483\n",
       "std    0.264834  0.149646  0.279762  0.193847  0.312986  0.289075\n",
       "min    0.023528  0.502308  0.157227  0.446288  0.056156  0.134728\n",
       "25%    0.079957  0.555393  0.215942  0.514268  0.184805  0.316215\n",
       "50%    0.131654  0.713720  0.294181  0.655314  0.510780  0.541133\n",
       "75%    0.368336  0.807704  0.620525  0.836081  0.690609  0.722181\n",
       "max    0.696616  0.843119  0.804826  0.876171  0.787080  0.870132"
      ]
     },
     "execution_count": 36,
     "metadata": {},
     "output_type": "execute_result"
    }
   ],
   "source": [
    "df1.describe()"
   ]
  },
  {
   "cell_type": "code",
   "execution_count": 68,
   "id": "46c6c495",
   "metadata": {},
   "outputs": [
    {
     "data": {
      "text/plain": [
       "'column_2'"
      ]
     },
     "execution_count": 68,
     "metadata": {},
     "output_type": "execute_result"
    }
   ],
   "source": [
    "df1[\"column_2\"].describe()[2]\n",
    "# std of 2column"
   ]
  },
  {
   "cell_type": "code",
   "execution_count": null,
   "id": "a4e15243",
   "metadata": {},
   "outputs": [],
   "source": []
  },
  {
   "cell_type": "markdown",
   "id": "c376b98a",
   "metadata": {},
   "source": [
    "# Q5. Replace the data present in the second row of column, ‘column_2’ by a string variable then find the\n",
    "mean of column, column_2.\n",
    "\n",
    "If you are getting errors in executing it then explain why.\n",
    "\n",
    "[Hint: To replace the data use df1.loc[] and equate this to string data of your choice.]"
   ]
  },
  {
   "cell_type": "code",
   "execution_count": 65,
   "id": "a7a4d482",
   "metadata": {},
   "outputs": [
    {
     "data": {
      "text/html": [
       "<div>\n",
       "<style scoped>\n",
       "    .dataframe tbody tr th:only-of-type {\n",
       "        vertical-align: middle;\n",
       "    }\n",
       "\n",
       "    .dataframe tbody tr th {\n",
       "        vertical-align: top;\n",
       "    }\n",
       "\n",
       "    .dataframe thead th {\n",
       "        text-align: right;\n",
       "    }\n",
       "</style>\n",
       "<table border=\"1\" class=\"dataframe\">\n",
       "  <thead>\n",
       "    <tr style=\"text-align: right;\">\n",
       "      <th></th>\n",
       "      <th>column_1</th>\n",
       "      <th>column_2</th>\n",
       "      <th>column_3</th>\n",
       "      <th>column_4</th>\n",
       "      <th>column_5</th>\n",
       "      <th>column_6</th>\n",
       "    </tr>\n",
       "  </thead>\n",
       "  <tbody>\n",
       "    <tr>\n",
       "      <th>1</th>\n",
       "      <td>0.023528</td>\n",
       "      <td>column_2</td>\n",
       "      <td>0.311910</td>\n",
       "      <td>0.517898</td>\n",
       "      <td>0.699041</td>\n",
       "      <td>0.543132</td>\n",
       "    </tr>\n",
       "    <tr>\n",
       "      <th>2</th>\n",
       "      <td>0.444353</td>\n",
       "      <td>column_2</td>\n",
       "      <td>0.276453</td>\n",
       "      <td>0.792731</td>\n",
       "      <td>0.356244</td>\n",
       "      <td>0.870132</td>\n",
       "    </tr>\n",
       "    <tr>\n",
       "      <th>3</th>\n",
       "      <td>0.065602</td>\n",
       "      <td>column_2</td>\n",
       "      <td>0.157227</td>\n",
       "      <td>0.876171</td>\n",
       "      <td>0.665316</td>\n",
       "      <td>0.241909</td>\n",
       "    </tr>\n",
       "    <tr>\n",
       "      <th>4</th>\n",
       "      <td>0.123024</td>\n",
       "      <td>column_2</td>\n",
       "      <td>0.195772</td>\n",
       "      <td>0.446288</td>\n",
       "      <td>0.127658</td>\n",
       "      <td>0.539134</td>\n",
       "    </tr>\n",
       "    <tr>\n",
       "      <th>5</th>\n",
       "      <td>0.140285</td>\n",
       "      <td>column_2</td>\n",
       "      <td>0.723397</td>\n",
       "      <td>0.850531</td>\n",
       "      <td>0.787080</td>\n",
       "      <td>0.781864</td>\n",
       "    </tr>\n",
       "    <tr>\n",
       "      <th>6</th>\n",
       "      <td>0.696616</td>\n",
       "      <td>column_2</td>\n",
       "      <td>0.804826</td>\n",
       "      <td>0.513059</td>\n",
       "      <td>0.056156</td>\n",
       "      <td>0.134728</td>\n",
       "    </tr>\n",
       "  </tbody>\n",
       "</table>\n",
       "</div>"
      ],
      "text/plain": [
       "   column_1  column_2  column_3  column_4  column_5  column_6\n",
       "1  0.023528  column_2  0.311910  0.517898  0.699041  0.543132\n",
       "2  0.444353  column_2  0.276453  0.792731  0.356244  0.870132\n",
       "3  0.065602  column_2  0.157227  0.876171  0.665316  0.241909\n",
       "4  0.123024  column_2  0.195772  0.446288  0.127658  0.539134\n",
       "5  0.140285  column_2  0.723397  0.850531  0.787080  0.781864\n",
       "6  0.696616  column_2  0.804826  0.513059  0.056156  0.134728"
      ]
     },
     "execution_count": 65,
     "metadata": {},
     "output_type": "execute_result"
    }
   ],
   "source": [
    "\n",
    "a=\"column_2\"\n",
    "df1[\"column_2\"]=[a,a,a,a,a,a]\n",
    "df1"
   ]
  },
  {
   "cell_type": "code",
   "execution_count": 67,
   "id": "c4dc6b17",
   "metadata": {},
   "outputs": [
    {
     "data": {
      "text/plain": [
       "count            6\n",
       "unique           1\n",
       "top       column_2\n",
       "freq             6\n",
       "Name: column_2, dtype: object"
      ]
     },
     "execution_count": 67,
     "metadata": {},
     "output_type": "execute_result"
    }
   ],
   "source": [
    "df1[\"column_2\"].describe()\n",
    "# string not has any std"
   ]
  },
  {
   "cell_type": "code",
   "execution_count": 129,
   "id": "b348d375",
   "metadata": {},
   "outputs": [
    {
     "data": {
      "text/html": [
       "<div>\n",
       "<style scoped>\n",
       "    .dataframe tbody tr th:only-of-type {\n",
       "        vertical-align: middle;\n",
       "    }\n",
       "\n",
       "    .dataframe tbody tr th {\n",
       "        vertical-align: top;\n",
       "    }\n",
       "\n",
       "    .dataframe thead th {\n",
       "        text-align: right;\n",
       "    }\n",
       "</style>\n",
       "<table border=\"1\" class=\"dataframe\">\n",
       "  <thead>\n",
       "    <tr style=\"text-align: right;\">\n",
       "      <th></th>\n",
       "      <th>column_1</th>\n",
       "      <th>column_2</th>\n",
       "      <th>column_3</th>\n",
       "      <th>column_4</th>\n",
       "      <th>column_5</th>\n",
       "      <th>column_6</th>\n",
       "    </tr>\n",
       "  </thead>\n",
       "  <tbody>\n",
       "    <tr>\n",
       "      <th>1</th>\n",
       "      <td>0.023528</td>\n",
       "      <td>column_2</td>\n",
       "      <td>0.311910</td>\n",
       "      <td>0.517898</td>\n",
       "      <td>0.699041</td>\n",
       "      <td>0.543132</td>\n",
       "    </tr>\n",
       "    <tr>\n",
       "      <th>2</th>\n",
       "      <td>0.444353</td>\n",
       "      <td>column_2</td>\n",
       "      <td>0.276453</td>\n",
       "      <td>0.792731</td>\n",
       "      <td>0.356244</td>\n",
       "      <td>0.870132</td>\n",
       "    </tr>\n",
       "    <tr>\n",
       "      <th>3</th>\n",
       "      <td>0.065602</td>\n",
       "      <td>column_2</td>\n",
       "      <td>0.157227</td>\n",
       "      <td>0.876171</td>\n",
       "      <td>0.665316</td>\n",
       "      <td>0.241909</td>\n",
       "    </tr>\n",
       "    <tr>\n",
       "      <th>4</th>\n",
       "      <td>0.123024</td>\n",
       "      <td>column_2</td>\n",
       "      <td>0.195772</td>\n",
       "      <td>0.446288</td>\n",
       "      <td>0.127658</td>\n",
       "      <td>0.539134</td>\n",
       "    </tr>\n",
       "    <tr>\n",
       "      <th>5</th>\n",
       "      <td>0.140285</td>\n",
       "      <td>column_2</td>\n",
       "      <td>0.723397</td>\n",
       "      <td>0.850531</td>\n",
       "      <td>0.787080</td>\n",
       "      <td>0.781864</td>\n",
       "    </tr>\n",
       "    <tr>\n",
       "      <th>6</th>\n",
       "      <td>0.696616</td>\n",
       "      <td>column_2</td>\n",
       "      <td>0.804826</td>\n",
       "      <td>0.513059</td>\n",
       "      <td>0.056156</td>\n",
       "      <td>0.134728</td>\n",
       "    </tr>\n",
       "  </tbody>\n",
       "</table>\n",
       "</div>"
      ],
      "text/plain": [
       "   column_1  column_2  column_3  column_4  column_5  column_6\n",
       "1  0.023528  column_2  0.311910  0.517898  0.699041  0.543132\n",
       "2  0.444353  column_2  0.276453  0.792731  0.356244  0.870132\n",
       "3  0.065602  column_2  0.157227  0.876171  0.665316  0.241909\n",
       "4  0.123024  column_2  0.195772  0.446288  0.127658  0.539134\n",
       "5  0.140285  column_2  0.723397  0.850531  0.787080  0.781864\n",
       "6  0.696616  column_2  0.804826  0.513059  0.056156  0.134728"
      ]
     },
     "execution_count": 129,
     "metadata": {},
     "output_type": "execute_result"
    }
   ],
   "source": [
    "df1"
   ]
  },
  {
   "cell_type": "code",
   "execution_count": 131,
   "id": "06e7cf5d",
   "metadata": {},
   "outputs": [
    {
     "data": {
      "text/html": [
       "<div>\n",
       "<style scoped>\n",
       "    .dataframe tbody tr th:only-of-type {\n",
       "        vertical-align: middle;\n",
       "    }\n",
       "\n",
       "    .dataframe tbody tr th {\n",
       "        vertical-align: top;\n",
       "    }\n",
       "\n",
       "    .dataframe thead th {\n",
       "        text-align: right;\n",
       "    }\n",
       "</style>\n",
       "<table border=\"1\" class=\"dataframe\">\n",
       "  <thead>\n",
       "    <tr style=\"text-align: right;\">\n",
       "      <th></th>\n",
       "      <th>column_1</th>\n",
       "      <th>column_2</th>\n",
       "      <th>column_3</th>\n",
       "      <th>column_4</th>\n",
       "      <th>column_5</th>\n",
       "      <th>column_6</th>\n",
       "    </tr>\n",
       "  </thead>\n",
       "  <tbody>\n",
       "    <tr>\n",
       "      <th>6</th>\n",
       "      <td>0.696616</td>\n",
       "      <td>column_2</td>\n",
       "      <td>0.804826</td>\n",
       "      <td>0.513059</td>\n",
       "      <td>0.056156</td>\n",
       "      <td>0.134728</td>\n",
       "    </tr>\n",
       "    <tr>\n",
       "      <th>2</th>\n",
       "      <td>0.444353</td>\n",
       "      <td>column_2</td>\n",
       "      <td>0.276453</td>\n",
       "      <td>0.792731</td>\n",
       "      <td>0.356244</td>\n",
       "      <td>0.870132</td>\n",
       "    </tr>\n",
       "    <tr>\n",
       "      <th>5</th>\n",
       "      <td>0.140285</td>\n",
       "      <td>column_2</td>\n",
       "      <td>0.723397</td>\n",
       "      <td>0.850531</td>\n",
       "      <td>0.787080</td>\n",
       "      <td>0.781864</td>\n",
       "    </tr>\n",
       "    <tr>\n",
       "      <th>4</th>\n",
       "      <td>0.123024</td>\n",
       "      <td>column_2</td>\n",
       "      <td>0.195772</td>\n",
       "      <td>0.446288</td>\n",
       "      <td>0.127658</td>\n",
       "      <td>0.539134</td>\n",
       "    </tr>\n",
       "    <tr>\n",
       "      <th>3</th>\n",
       "      <td>0.065602</td>\n",
       "      <td>column_2</td>\n",
       "      <td>0.157227</td>\n",
       "      <td>0.876171</td>\n",
       "      <td>0.665316</td>\n",
       "      <td>0.241909</td>\n",
       "    </tr>\n",
       "    <tr>\n",
       "      <th>1</th>\n",
       "      <td>0.023528</td>\n",
       "      <td>column_2</td>\n",
       "      <td>0.311910</td>\n",
       "      <td>0.517898</td>\n",
       "      <td>0.699041</td>\n",
       "      <td>0.543132</td>\n",
       "    </tr>\n",
       "  </tbody>\n",
       "</table>\n",
       "</div>"
      ],
      "text/plain": [
       "   column_1  column_2  column_3  column_4  column_5  column_6\n",
       "6  0.696616  column_2  0.804826  0.513059  0.056156  0.134728\n",
       "2  0.444353  column_2  0.276453  0.792731  0.356244  0.870132\n",
       "5  0.140285  column_2  0.723397  0.850531  0.787080  0.781864\n",
       "4  0.123024  column_2  0.195772  0.446288  0.127658  0.539134\n",
       "3  0.065602  column_2  0.157227  0.876171  0.665316  0.241909\n",
       "1  0.023528  column_2  0.311910  0.517898  0.699041  0.543132"
      ]
     },
     "execution_count": 131,
     "metadata": {},
     "output_type": "execute_result"
    }
   ],
   "source": [
    "df1.sort_values(\"column_1\",ascending=False)"
   ]
  },
  {
   "cell_type": "markdown",
   "id": "6ca3a70c",
   "metadata": {},
   "source": [
    "\n",
    "\n",
    "\n"
   ]
  },
  {
   "cell_type": "markdown",
   "id": "a4c9878e",
   "metadata": {},
   "source": [
    "# Q6. What do you understand about the windows function in pandas and list the types of windows\n",
    "functions?"
   ]
  },
  {
   "cell_type": "markdown",
   "id": "a37f5fc1",
   "metadata": {},
   "source": [
    "# In Pandas, the window function is used for performing calculations on a sliding window of data in a DataFrame or Series. A window function is applied to a specific subset of data called a window, which can slide over the entire dataset or a group of data based on a specific criterion.\n",
    "\n",
    "Pandas supports several types of window functions, including:\n",
    "\n",
    "Rolling window functions: These functions apply calculations over a rolling window of a specified size. Examples include rolling mean, rolling sum, rolling median, rolling variance, and rolling standard deviation.\n",
    "\n",
    "Expanding window functions: These functions apply calculations to all the data up to and including the current row. Examples include expanding sum, expanding mean, expanding min, and expanding max.\n",
    "\n",
    "Exponentially-weighted window functions: These functions apply calculations over a sliding window of data where the weights decrease exponentially as the distance from the current row increases. Examples include exponentially-weighted moving average (EWMA) and exponentially-weighted moving covariance.\n",
    "\n",
    "Grouped window functions: These functions apply calculations to subsets of data based on a grouping criterion, such as a categorical variable or a datetime index. Examples include grouped mean, grouped sum, and grouped rank.\n",
    "\n",
    "By using these window functions, users can perform advanced data analysis and manipulation tasks in Pandas with ease."
   ]
  },
  {
   "cell_type": "code",
   "execution_count": 72,
   "id": "4b8ba718",
   "metadata": {},
   "outputs": [
    {
     "name": "stdout",
     "output_type": "stream",
     "text": [
      "0    NaN\n",
      "1    NaN\n",
      "2    2.0\n",
      "3    3.0\n",
      "4    4.0\n",
      "Name: A, dtype: float64\n"
     ]
    }
   ],
   "source": [
    "import pandas as pd\n",
    "import numpy as np\n",
    "\n",
    "# create a sample DataFrame\n",
    "data = {'A': [1, 2, 3, 4, 5],\n",
    "        'B': [2, 4, 6, 8, 10]}\n",
    "df = pd.DataFrame(data)\n",
    "\n",
    "# calculate the rolling mean of column 'A' with window size of 3\n",
    "rolling_mean = df['A'].rolling(window=3).mean()\n",
    "\n",
    "# print the result\n",
    "print(rolling_mean)\n"
   ]
  },
  {
   "cell_type": "code",
   "execution_count": 80,
   "id": "65ac8b2d",
   "metadata": {},
   "outputs": [
    {
     "name": "stdout",
     "output_type": "stream",
     "text": [
      "Name: pandas\n",
      "Version: 1.4.4\n",
      "Summary: Powerful data structures for data analysis, time series, and statistics\n",
      "Home-page: https://pandas.pydata.org\n",
      "Author: The Pandas Development Team\n",
      "Author-email: pandas-dev@python.org\n",
      "License: BSD-3-Clause\n",
      "Location: /home/dell/anaconda3/lib/python3.9/site-packages\n",
      "Requires: numpy, python-dateutil, pytz\n",
      "Required-by: datashader, holoviews, hvplot, seaborn, statsmodels, xarray\n",
      "Note: you may need to restart the kernel to use updated packages.\n"
     ]
    }
   ],
   "source": [
    "pip show pandas"
   ]
  },
  {
   "cell_type": "markdown",
   "id": "73cf4c07",
   "metadata": {},
   "source": [
    "# \n",
    "Q7. Write a code to print only the current month and year at the time of answering this question.\n",
    "\n",
    "[Hint: Use pandas.datetime function]"
   ]
  },
  {
   "cell_type": "code",
   "execution_count": 79,
   "id": "4e5e1e77",
   "metadata": {},
   "outputs": [
    {
     "name": "stdout",
     "output_type": "stream",
     "text": [
      "   Month  Year\n",
      "0      3  2023\n"
     ]
    }
   ],
   "source": [
    "import pandas as pd\n",
    "\n",
    "# get the current date and time\n",
    "now = pd.Timestamp.now()\n",
    "\n",
    "# extract the current month and year\n",
    "current_month = now.month\n",
    "current_year = now.year\n",
    "\n",
    "\n",
    "# create a DataFrame with the current month and year\n",
    "df = pd.DataFrame({'Month': [current_month], 'Year': [current_year]})\n",
    "\n",
    "# print the DataFrame\n",
    "print(df)\n",
    "\n",
    "\n"
   ]
  },
  {
   "cell_type": "code",
   "execution_count": null,
   "id": "465b6ca2",
   "metadata": {},
   "outputs": [],
   "source": []
  },
  {
   "cell_type": "markdown",
   "id": "2080f24f",
   "metadata": {},
   "source": [
    "# Q8. Write a Python program that takes in two dates as input (in the format YYYY-MM-DD) and\n",
    "calculates the difference between them in days, hours, and minutes using Pandas time delta. The\n",
    "program should prompt the user to enter the dates and display the result."
   ]
  },
  {
   "cell_type": "code",
   "execution_count": 128,
   "id": "16c7e2ad",
   "metadata": {},
   "outputs": [
    {
     "name": "stdout",
     "output_type": "stream",
     "text": [
      "12.0 minutes\n",
      "720.0 hours\n",
      "30 days\n"
     ]
    }
   ],
   "source": [
    "date1=pd.to_datetime(\"2023-01-01\")\n",
    "date2=pd.to_datetime(\"2023-01-31\")\n",
    "\n",
    "diff=(date2-date1)\n",
    "days = diff.days\n",
    "\n",
    "seconds = diff.total_seconds()\n",
    "hours = seconds // 3600\n",
    "minutes = hours // 60\n",
    "print(minutes,str(\"minutes\"))\n",
    "print(hours,\"hours\")\n",
    "print(days,\"days\")"
   ]
  },
  {
   "cell_type": "markdown",
   "id": "261af7bd",
   "metadata": {},
   "source": [
    "# Q9. Write a Python program that reads a CSV file containing categorical data and converts a specified\n",
    "column to a categorical data type. The program should prompt the user to enter the file path, column\n",
    "name, and category order, and then display the sorted data."
   ]
  },
  {
   "cell_type": "code",
   "execution_count": null,
   "id": "2dec17ca",
   "metadata": {},
   "outputs": [],
   "source": [
    "import pandas as pd\n",
    "\n",
    "input_file=input(\"give csv\")\n",
    "data=pd.read_csv(input_file)\n",
    "input_col=input(\"col name\")\n",
    "input_cat_order=input(\"cat order\")\n",
    "\n",
    "\n",
    "data[input_col]=pd.Categorical(data[input_col],categories=input_cat_order)\n",
    "\n",
    "df_sorted=data.sort_values(input_col)\n",
    "\n",
    "print(df_sorted)"
   ]
  },
  {
   "cell_type": "code",
   "execution_count": null,
   "id": "cd04a2e4",
   "metadata": {},
   "outputs": [],
   "source": []
  },
  {
   "cell_type": "markdown",
   "id": "3c65cc64",
   "metadata": {},
   "source": [
    "# Q10. Write a Python program that reads a CSV file containing sales data for \n",
    "\n",
    "different products and visualizes the data using a stacked bar chart to show the sales of each product category \n",
    "\n",
    "over time. The program should prompt the user to enter the file path and display the chart."
   ]
  },
  {
   "cell_type": "code",
   "execution_count": null,
   "id": "a1dfa2c9",
   "metadata": {},
   "outputs": [],
   "source": []
  },
  {
   "cell_type": "code",
   "execution_count": 152,
   "id": "4cd58cd6",
   "metadata": {},
   "outputs": [
    {
     "data": {
      "image/png": "[encoded data removed]",
      "text/plain": [
       "<Figure size 640x480 with 1 Axes>"
      ]
     },
     "metadata": {},
     "output_type": "display_data"
    },
    {
     "data": {
      "image/png": "[encoded data removed]",
      "text/plain": [
       "<Figure size 640x480 with 1 Axes>"
      ]
     },
     "metadata": {},
     "output_type": "display_data"
    },
    {
     "data": {
      "image/png": "[encoded data removed]",
      "text/plain": [
       "<Figure size 640x480 with 1 Axes>"
      ]
     },
     "metadata": {},
     "output_type": "display_data"
    }
   ],
   "source": [
    "import pandas as pd\n",
    "import matplotlib.pyplot as plt\n",
    "\n",
    "data = {'date': [1, 2, 3, 4, 5,6,7,8],\n",
    "        'sales': [200, 400, 600, 800, 1000,200,200,200]}\n",
    "\n",
    "df = pd.DataFrame(data)\n",
    "\n",
    "df.plot(kind=\"bar\",stacked=True)\n",
    "df.plot(kind=\"barh\",stacked=True)\n",
    "df.plot(stacked=True)\n",
    "\n",
    "\n",
    "# set the title and axis labels\n",
    "plt.title('Sales by Product Category ')\n",
    "plt.xlabel('Date')\n",
    "plt.ylabel('Sales')\n",
    "\n",
    "# show the plot\n",
    "plt.show()"
   ]
  },
  {
   "cell_type": "code",
   "execution_count": 149,
   "id": "32eb7ec4",
   "metadata": {},
   "outputs": [
    {
     "data": {
      "text/plain": [
       "600.0"
      ]
     },
     "execution_count": 149,
     "metadata": {},
     "output_type": "execute_result"
    }
   ],
   "source": [
    "df[\"sales\"].mean()"
   ]
  },
  {
   "cell_type": "code",
   "execution_count": 153,
   "id": "ae86658c",
   "metadata": {},
   "outputs": [
    {
     "data": {
      "text/plain": [
       "0    200\n",
       "Name: sales, dtype: int64"
      ]
     },
     "execution_count": 153,
     "metadata": {},
     "output_type": "execute_result"
    }
   ],
   "source": [
    "df[\"sales\"].mode()"
   ]
  },
  {
   "cell_type": "code",
   "execution_count": null,
   "id": "2bef9eae",
   "metadata": {},
   "outputs": [],
   "source": [
    "import pandas as pd\n",
    "\n",
    "# Prompt the user to enter the file path of the CSV file\n",
    "file_path = input(\"Enter the file path of the CSV file containing the student data: \")\n",
    "\n",
    "# Read the CSV file into a Pandas DataFrame\n",
    "data = pd.read_csv(file_path)\n",
    "\n",
    "# Calculate the mean, median, and mode of the test scores using Pandas tools\n",
    "mean = data['Test Score'].mean()\n",
    "median = data['Test Score'].median()\n",
    "mode = data['Test Score'].mode().tolist()\n",
    "# In statistics, the mode is the value that appears most frequently in a dataset\n",
    "\n",
    "# Display the mean, median, and mode in a table\n",
    "table_data = {'Statistic': ['Mean', 'Median', 'Mode'], 'Value': [mean, median, mode]}\n",
    "table = pd.DataFrame(table_data)\n",
    "print(table)\n"
   ]
  }
 ],
 "metadata": {
  "kernelspec": {
   "display_name": "Python 3 (ipykernel)",
   "language": "python",
   "name": "python3"
  },
  "language_info": {
   "codemirror_mode": {
    "name": "ipython",
    "version": 3
   },
   "file_extension": ".py",
   "mimetype": "text/x-python",
   "name": "python",
   "nbconvert_exporter": "python",
   "pygments_lexer": "ipython3",
   "version": "3.9.13"
  }
 },
 "nbformat": 4,
 "nbformat_minor": 5
}
