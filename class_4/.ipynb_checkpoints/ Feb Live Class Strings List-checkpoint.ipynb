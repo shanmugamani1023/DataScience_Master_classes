{
 "cells": [
  {
   "cell_type": "code",
   "execution_count": 42,
   "id": "6247d683",
   "metadata": {},
   "outputs": [
    {
     "data": {
      "text/plain": [
       "['shan']"
      ]
     },
     "execution_count": 42,
     "metadata": {},
     "output_type": "execute_result"
    }
   ],
   "source": [
    "value=\"shan\"\n",
    "\" \".join(value)\n",
    "value.split(' s')\n",
    "\n",
    "# tab used to show all functions if we click after . in value\n",
    "# shift+tab used to explain what function for when we click shift+tab after () brackets in function\n"
   ]
  },
  {
   "cell_type": "code",
   "execution_count": 9,
   "id": "b2afad06",
   "metadata": {},
   "outputs": [
    {
     "ename": "ValueError",
     "evalue": "empty separator",
     "output_type": "error",
     "traceback": [
      "\u001b[0;31m---------------------------------------------------------------------------\u001b[0m",
      "\u001b[0;31mValueError\u001b[0m                                Traceback (most recent call last)",
      "\u001b[0;32m/tmp/ipykernel_11916/3444261417.py\u001b[0m in \u001b[0;36m<module>\u001b[0;34m\u001b[0m\n\u001b[1;32m      1\u001b[0m \u001b[0;31m# convert string into list\u001b[0m\u001b[0;34m\u001b[0m\u001b[0;34m\u001b[0m\u001b[0m\n\u001b[1;32m      2\u001b[0m \u001b[0mcheck\u001b[0m\u001b[0;34m=\u001b[0m\u001b[0mlist\u001b[0m\u001b[0;34m(\u001b[0m\u001b[0mvalue\u001b[0m\u001b[0;34m)\u001b[0m\u001b[0;34m\u001b[0m\u001b[0;34m\u001b[0m\u001b[0m\n\u001b[0;32m----> 3\u001b[0;31m \u001b[0mvalue\u001b[0m\u001b[0;34m.\u001b[0m\u001b[0msplit\u001b[0m\u001b[0;34m(\u001b[0m\u001b[0;34m''\u001b[0m\u001b[0;34m)\u001b[0m\u001b[0;34m\u001b[0m\u001b[0;34m\u001b[0m\u001b[0m\n\u001b[0m",
      "\u001b[0;31mValueError\u001b[0m: empty separator"
     ]
    }
   ],
   "source": [
    "# convert string into list\n",
    "check=list(value)\n"
   ]
  },
  {
   "cell_type": "code",
   "execution_count": 13,
   "id": "5e525b5b",
   "metadata": {},
   "outputs": [
    {
     "data": {
      "text/plain": [
       "['s', 'h', 'a', 'n']"
      ]
     },
     "execution_count": 13,
     "metadata": {},
     "output_type": "execute_result"
    }
   ],
   "source": [
    "# if we want to split based on delimiter or seperator then we can use this split function\n",
    "value=\"s h a n\"\n",
    "value.split(\" \")"
   ]
  },
  {
   "cell_type": "code",
   "execution_count": 17,
   "id": "8ecf9edd",
   "metadata": {},
   "outputs": [
    {
     "name": "stdout",
     "output_type": "stream",
     "text": [
      "['s', 'h', 'a', 'n']\n",
      "['s', ' ', 'h', ' ', 'a', ' ', 'n']\n"
     ]
    }
   ],
   "source": [
    "# or else we can use list function directly without sepeartor or delimiter\n",
    "value=\"shan\"\n",
    "print(list(value))\n",
    "value2=\"s h a n\"\n",
    "print(list(value2))"
   ]
  },
  {
   "cell_type": "code",
   "execution_count": null,
   "id": "94022448",
   "metadata": {},
   "outputs": [],
   "source": []
  },
  {
   "cell_type": "code",
   "execution_count": null,
   "id": "70e5c313",
   "metadata": {},
   "outputs": [],
   "source": [
    "# how to convert list into string ,"
   ]
  },
  {
   "cell_type": "code",
   "execution_count": 33,
   "id": "36e0a367",
   "metadata": {},
   "outputs": [
    {
     "name": "stdout",
     "output_type": "stream",
     "text": [
      "s+h+a+n\n"
     ]
    },
    {
     "data": {
      "text/plain": [
       "str"
      ]
     },
     "execution_count": 33,
     "metadata": {},
     "output_type": "execute_result"
    }
   ],
   "source": [
    "list_value=[\"s\",\"h\",\"a\",\"n\"]\n",
    "list_string=\"+\".join(list_value)\n",
    "# join work like first it will go turough every values and take value before join function and produce output\n",
    "print(list_string)\n",
    "type(list_string)"
   ]
  },
  {
   "cell_type": "code",
   "execution_count": 40,
   "id": "1c259f67",
   "metadata": {},
   "outputs": [
    {
     "name": "stdout",
     "output_type": "stream",
     "text": [
      "s+h+a+nshan"
     ]
    }
   ],
   "source": [
    "print(list_string,end=\"shan\")\n",
    "# end parameter used to put the value at end"
   ]
  },
  {
   "cell_type": "code",
   "execution_count": 44,
   "id": "01ac0caf",
   "metadata": {},
   "outputs": [
    {
     "data": {
      "text/plain": [
       "'s+-+a+n'"
      ]
     },
     "execution_count": 44,
     "metadata": {},
     "output_type": "execute_result"
    }
   ],
   "source": [
    "list_string.replace(\"h\",\"-\")"
   ]
  },
  {
   "cell_type": "code",
   "execution_count": 47,
   "id": "b5580148",
   "metadata": {},
   "outputs": [],
   "source": [
    "# we can replce values but it doesnt affect original one only get copy"
   ]
  },
  {
   "cell_type": "code",
   "execution_count": 50,
   "id": "258b5c6d",
   "metadata": {},
   "outputs": [
    {
     "name": "stdout",
     "output_type": "stream",
     "text": [
      "sha \n",
      " n\n",
      "mani\n"
     ]
    }
   ],
   "source": [
    "print(\"sha \\n n\"+\"\\n\"+\"mani\")\n",
    "# \\n used to print values in new line"
   ]
  },
  {
   "cell_type": "code",
   "execution_count": null,
   "id": "22c70c90",
   "metadata": {},
   "outputs": [],
   "source": []
  },
  {
   "cell_type": "code",
   "execution_count": 52,
   "id": "454ad285",
   "metadata": {},
   "outputs": [
    {
     "name": "stdout",
     "output_type": "stream",
     "text": [
      "shan\tmani\n"
     ]
    }
   ],
   "source": [
    "print(\"shan\\tmani\")\n",
    "# \\t used to put space b/w words"
   ]
  },
  {
   "cell_type": "code",
   "execution_count": null,
   "id": "48c4b263",
   "metadata": {},
   "outputs": [],
   "source": []
  },
  {
   "cell_type": "code",
   "execution_count": 54,
   "id": "022a112a",
   "metadata": {},
   "outputs": [
    {
     "data": {
      "text/plain": [
       "'Welcome to pwskills.Welcome to Data Science Masters'"
      ]
     },
     "execution_count": 54,
     "metadata": {},
     "output_type": "execute_result"
    }
   ],
   "source": [
    "str1=\"Welcome to pwskills.Welcome to Dat cience Masters\"\n",
    "str1.replace(\"Dat\",\"Data\").replace(\"cience\",\"Science\")"
   ]
  },
  {
   "cell_type": "code",
   "execution_count": null,
   "id": "bdd4bf14",
   "metadata": {},
   "outputs": [],
   "source": []
  },
  {
   "cell_type": "code",
   "execution_count": 59,
   "id": "b8dab1e2",
   "metadata": {},
   "outputs": [
    {
     "data": {
      "text/plain": [
       "True"
      ]
     },
     "execution_count": 59,
     "metadata": {},
     "output_type": "execute_result"
    }
   ],
   "source": [
    "str1=\" \"\n",
    "str1.isspace()\n",
    "# used to check given string empty or not"
   ]
  },
  {
   "cell_type": "code",
   "execution_count": null,
   "id": "4dc58e6f",
   "metadata": {},
   "outputs": [],
   "source": []
  },
  {
   "cell_type": "code",
   "execution_count": 60,
   "id": "3acb1c88",
   "metadata": {},
   "outputs": [
    {
     "name": "stdout",
     "output_type": "stream",
     "text": [
      "s\n",
      "h\n",
      "a\n",
      "n\n"
     ]
    }
   ],
   "source": [
    "str1=\"shan\"\n",
    "for i in str1:\n",
    "    print(i)"
   ]
  },
  {
   "cell_type": "code",
   "execution_count": 73,
   "id": "0527cf3e",
   "metadata": {},
   "outputs": [
    {
     "name": "stdout",
     "output_type": "stream",
     "text": [
      "s\n",
      "h\n",
      "a\n",
      "n\n"
     ]
    }
   ],
   "source": [
    "a=[\"s\",\"h\",\"a\"]\n",
    "\n",
    "for i in \"shan\":\n",
    "    print(i)"
   ]
  },
  {
   "cell_type": "code",
   "execution_count": 75,
   "id": "80ec123f",
   "metadata": {},
   "outputs": [
    {
     "name": "stdout",
     "output_type": "stream",
     "text": [
      "0\n",
      "1\n",
      "2\n",
      "3\n",
      "4\n",
      "5\n"
     ]
    }
   ],
   "source": [
    "for i in range(6):\n",
    "    print(i)"
   ]
  },
  {
   "cell_type": "code",
   "execution_count": 83,
   "id": "e3bc0df1",
   "metadata": {},
   "outputs": [
    {
     "name": "stdout",
     "output_type": "stream",
     "text": [
      "a\n",
      "n\n",
      "a\n",
      "h\n",
      "s\n"
     ]
    }
   ],
   "source": [
    "a=[\"s\",\"h\",\"a\",\"n\",\"a\"]\n",
    "for i in range(len(a)-1,-1,-1):\n",
    "#     4,-1,-1\n",
    "    print(a[i])"
   ]
  },
  {
   "cell_type": "code",
   "execution_count": null,
   "id": "e800da5f",
   "metadata": {},
   "outputs": [],
   "source": []
  },
  {
   "cell_type": "code",
   "execution_count": 84,
   "id": "ea0cc1fb",
   "metadata": {},
   "outputs": [
    {
     "name": "stdout",
     "output_type": "stream",
     "text": [
      "n\n",
      "a\n",
      "h\n",
      "s\n"
     ]
    }
   ],
   "source": [
    "a=\"shan\"\n",
    "# another way to print\n",
    "ch=len(a)-1\n",
    "while(ch>=0):\n",
    "    print(a[ch])\n",
    "    ch=ch-1\n",
    "\n"
   ]
  },
  {
   "cell_type": "code",
   "execution_count": null,
   "id": "c0a8455c",
   "metadata": {},
   "outputs": [],
   "source": []
  },
  {
   "cell_type": "code",
   "execution_count": null,
   "id": "1158ef3f",
   "metadata": {},
   "outputs": [],
   "source": []
  },
  {
   "cell_type": "code",
   "execution_count": null,
   "id": "d48c09e0",
   "metadata": {},
   "outputs": [],
   "source": []
  },
  {
   "cell_type": "code",
   "execution_count": null,
   "id": "7ae39f7d",
   "metadata": {},
   "outputs": [],
   "source": []
  },
  {
   "cell_type": "code",
   "execution_count": null,
   "id": "605434ca",
   "metadata": {},
   "outputs": [],
   "source": []
  },
  {
   "cell_type": "code",
   "execution_count": null,
   "id": "942f50c4",
   "metadata": {},
   "outputs": [],
   "source": []
  }
 ],
 "metadata": {
  "kernelspec": {
   "display_name": "Python 3 (ipykernel)",
   "language": "python",
   "name": "python3"
  },
  "language_info": {
   "codemirror_mode": {
    "name": "ipython",
    "version": 3
   },
   "file_extension": ".py",
   "mimetype": "text/x-python",
   "name": "python",
   "nbconvert_exporter": "python",
   "pygments_lexer": "ipython3",
   "version": "3.9.13"
  }
 },
 "nbformat": 4,
 "nbformat_minor": 5
}
