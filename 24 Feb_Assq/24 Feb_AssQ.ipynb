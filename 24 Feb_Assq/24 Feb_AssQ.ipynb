{
 "cells": [
  {
   "cell_type": "markdown",
   "id": "3db24684",
   "metadata": {},
   "source": [
    "# Q1. List any five functions of the pandas library with execution."
   ]
  },
  {
   "cell_type": "code",
   "execution_count": 2,
   "id": "f116704e",
   "metadata": {},
   "outputs": [
    {
     "name": "stdout",
     "output_type": "stream",
     "text": [
      "0    1\n",
      "1    2\n",
      "2    3\n",
      "3    4\n",
      "4    5\n",
      "5    6\n",
      "dtype: int64\n"
     ]
    }
   ],
   "source": [
    "import pandas as pd\n",
    "\n",
    "lis=[1,2,3,4,5,6]\n",
    "s=pd.Series(lis)\n",
    "print(s)"
   ]
  },
  {
   "cell_type": "code",
   "execution_count": null,
   "id": "672cbb9d",
   "metadata": {},
   "outputs": [],
   "source": []
  },
  {
   "cell_type": "code",
   "execution_count": 4,
   "id": "42a26797",
   "metadata": {},
   "outputs": [
    {
     "data": {
      "text/html": [
       "<div>\n",
       "<style scoped>\n",
       "    .dataframe tbody tr th:only-of-type {\n",
       "        vertical-align: middle;\n",
       "    }\n",
       "\n",
       "    .dataframe tbody tr th {\n",
       "        vertical-align: top;\n",
       "    }\n",
       "\n",
       "    .dataframe thead th {\n",
       "        text-align: right;\n",
       "    }\n",
       "</style>\n",
       "<table border=\"1\" class=\"dataframe\">\n",
       "  <thead>\n",
       "    <tr style=\"text-align: right;\">\n",
       "      <th></th>\n",
       "      <th>0</th>\n",
       "    </tr>\n",
       "  </thead>\n",
       "  <tbody>\n",
       "    <tr>\n",
       "      <th>0</th>\n",
       "      <td>1</td>\n",
       "    </tr>\n",
       "    <tr>\n",
       "      <th>1</th>\n",
       "      <td>2</td>\n",
       "    </tr>\n",
       "    <tr>\n",
       "      <th>2</th>\n",
       "      <td>3</td>\n",
       "    </tr>\n",
       "    <tr>\n",
       "      <th>3</th>\n",
       "      <td>4</td>\n",
       "    </tr>\n",
       "    <tr>\n",
       "      <th>4</th>\n",
       "      <td>5</td>\n",
       "    </tr>\n",
       "    <tr>\n",
       "      <th>5</th>\n",
       "      <td>6</td>\n",
       "    </tr>\n",
       "  </tbody>\n",
       "</table>\n",
       "</div>"
      ],
      "text/plain": [
       "   0\n",
       "0  1\n",
       "1  2\n",
       "2  3\n",
       "3  4\n",
       "4  5\n",
       "5  6"
      ]
     },
     "execution_count": 4,
     "metadata": {},
     "output_type": "execute_result"
    }
   ],
   "source": [
    "h=pd.DataFrame(lis)\n",
    "h"
   ]
  },
  {
   "cell_type": "code",
   "execution_count": 6,
   "id": "3fced650",
   "metadata": {},
   "outputs": [
    {
     "data": {
      "text/plain": [
       "RangeIndex(start=0, stop=1, step=1)"
      ]
     },
     "execution_count": 6,
     "metadata": {},
     "output_type": "execute_result"
    }
   ],
   "source": [
    "h.columns"
   ]
  },
  {
   "cell_type": "code",
   "execution_count": 8,
   "id": "da1cbbc0",
   "metadata": {},
   "outputs": [
    {
     "data": {
      "text/plain": [
       "<bound method NDFrame.describe of    0\n",
       "0  1\n",
       "1  2\n",
       "2  3\n",
       "3  4\n",
       "4  5\n",
       "5  6>"
      ]
     },
     "execution_count": 8,
     "metadata": {},
     "output_type": "execute_result"
    }
   ],
   "source": [
    "h.describe\n"
   ]
  },
  {
   "cell_type": "code",
   "execution_count": 9,
   "id": "c1fc469e",
   "metadata": {},
   "outputs": [
    {
     "data": {
      "text/plain": [
       "0    int64\n",
       "dtype: object"
      ]
     },
     "execution_count": 9,
     "metadata": {},
     "output_type": "execute_result"
    }
   ],
   "source": [
    "h.dtypes"
   ]
  },
  {
   "cell_type": "code",
   "execution_count": null,
   "id": "d2e6fa9e",
   "metadata": {},
   "outputs": [],
   "source": []
  },
  {
   "cell_type": "markdown",
   "id": "7cb4c0d6",
   "metadata": {},
   "source": [
    "# Q2. Given a Pandas DataFrame df with columns 'A', 'B', and 'C', write a Python function to re-index the DataFrame with a new index that starts from 1 and increments by 2 for each row."
   ]
  },
  {
   "cell_type": "code",
   "execution_count": 22,
   "id": "5eef9954",
   "metadata": {},
   "outputs": [],
   "source": [
    "dict_value={\n",
    "    \"A\":[\"shan\",\"mani\"],\n",
    "    \"B\":[\"shan\",\"mani\"],\n",
    "    \"C\":[\"shan\",\"mani\"],\n",
    "    \n",
    "}\n",
    "dic_df=pd.DataFrame(dict_value)"
   ]
  },
  {
   "cell_type": "code",
   "execution_count": 30,
   "id": "3dec474a",
   "metadata": {},
   "outputs": [
    {
     "data": {
      "text/html": [
       "<div>\n",
       "<style scoped>\n",
       "    .dataframe tbody tr th:only-of-type {\n",
       "        vertical-align: middle;\n",
       "    }\n",
       "\n",
       "    .dataframe tbody tr th {\n",
       "        vertical-align: top;\n",
       "    }\n",
       "\n",
       "    .dataframe thead th {\n",
       "        text-align: right;\n",
       "    }\n",
       "</style>\n",
       "<table border=\"1\" class=\"dataframe\">\n",
       "  <thead>\n",
       "    <tr style=\"text-align: right;\">\n",
       "      <th></th>\n",
       "      <th>A</th>\n",
       "      <th>B</th>\n",
       "      <th>C</th>\n",
       "      <th>index</th>\n",
       "    </tr>\n",
       "  </thead>\n",
       "  <tbody>\n",
       "    <tr>\n",
       "      <th>0</th>\n",
       "      <td>shan</td>\n",
       "      <td>shan</td>\n",
       "      <td>shan</td>\n",
       "      <td>1</td>\n",
       "    </tr>\n",
       "    <tr>\n",
       "      <th>1</th>\n",
       "      <td>mani</td>\n",
       "      <td>mani</td>\n",
       "      <td>mani</td>\n",
       "      <td>3</td>\n",
       "    </tr>\n",
       "  </tbody>\n",
       "</table>\n",
       "</div>"
      ],
      "text/plain": [
       "      A     B     C  index\n",
       "0  shan  shan  shan      1\n",
       "1  mani  mani  mani      3"
      ]
     },
     "execution_count": 30,
     "metadata": {},
     "output_type": "execute_result"
    }
   ],
   "source": [
    "dic_df"
   ]
  },
  {
   "cell_type": "code",
   "execution_count": 29,
   "id": "b8a2d4b5",
   "metadata": {},
   "outputs": [],
   "source": [
    "dic_df[\"index\"]=[1,3]"
   ]
  },
  {
   "cell_type": "code",
   "execution_count": 31,
   "id": "e5181609",
   "metadata": {},
   "outputs": [
    {
     "data": {
      "text/html": [
       "<div>\n",
       "<style scoped>\n",
       "    .dataframe tbody tr th:only-of-type {\n",
       "        vertical-align: middle;\n",
       "    }\n",
       "\n",
       "    .dataframe tbody tr th {\n",
       "        vertical-align: top;\n",
       "    }\n",
       "\n",
       "    .dataframe thead th {\n",
       "        text-align: right;\n",
       "    }\n",
       "</style>\n",
       "<table border=\"1\" class=\"dataframe\">\n",
       "  <thead>\n",
       "    <tr style=\"text-align: right;\">\n",
       "      <th></th>\n",
       "      <th>A</th>\n",
       "      <th>B</th>\n",
       "      <th>C</th>\n",
       "    </tr>\n",
       "    <tr>\n",
       "      <th>index</th>\n",
       "      <th></th>\n",
       "      <th></th>\n",
       "      <th></th>\n",
       "    </tr>\n",
       "  </thead>\n",
       "  <tbody>\n",
       "    <tr>\n",
       "      <th>1</th>\n",
       "      <td>shan</td>\n",
       "      <td>shan</td>\n",
       "      <td>shan</td>\n",
       "    </tr>\n",
       "    <tr>\n",
       "      <th>3</th>\n",
       "      <td>mani</td>\n",
       "      <td>mani</td>\n",
       "      <td>mani</td>\n",
       "    </tr>\n",
       "  </tbody>\n",
       "</table>\n",
       "</div>"
      ],
      "text/plain": [
       "          A     B     C\n",
       "index                  \n",
       "1      shan  shan  shan\n",
       "3      mani  mani  mani"
      ]
     },
     "execution_count": 31,
     "metadata": {},
     "output_type": "execute_result"
    }
   ],
   "source": [
    "dic_df.set_index(\"index\")"
   ]
  },
  {
   "cell_type": "code",
   "execution_count": null,
   "id": "48eac7d5",
   "metadata": {},
   "outputs": [],
   "source": []
  },
  {
   "cell_type": "markdown",
   "id": "b104c898",
   "metadata": {},
   "source": [
    "# Q3. You have a Pandas DataFrame df with a column named 'Values'. \n",
    "\n",
    " # Write a Python function that iterates over the DataFrame and calculates the \n",
    " \n",
    " # sum of the first three values in the 'Values' column. The function should \n",
    " \n",
    " # print the sum to the console. For example, if the 'Values' column of df contains the values [10, 20, 30, 40, 50], your function should\n",
    " \n",
    " # calculate and print the sum of the first three values, which is 60.\n",
    "\n"
   ]
  },
  {
   "cell_type": "code",
   "execution_count": 36,
   "id": "9806c865",
   "metadata": {},
   "outputs": [
    {
     "data": {
      "text/html": [
       "<div>\n",
       "<style scoped>\n",
       "    .dataframe tbody tr th:only-of-type {\n",
       "        vertical-align: middle;\n",
       "    }\n",
       "\n",
       "    .dataframe tbody tr th {\n",
       "        vertical-align: top;\n",
       "    }\n",
       "\n",
       "    .dataframe thead th {\n",
       "        text-align: right;\n",
       "    }\n",
       "</style>\n",
       "<table border=\"1\" class=\"dataframe\">\n",
       "  <thead>\n",
       "    <tr style=\"text-align: right;\">\n",
       "      <th></th>\n",
       "      <th>values</th>\n",
       "    </tr>\n",
       "  </thead>\n",
       "  <tbody>\n",
       "    <tr>\n",
       "      <th>0</th>\n",
       "      <td>10</td>\n",
       "    </tr>\n",
       "    <tr>\n",
       "      <th>1</th>\n",
       "      <td>20</td>\n",
       "    </tr>\n",
       "    <tr>\n",
       "      <th>2</th>\n",
       "      <td>30</td>\n",
       "    </tr>\n",
       "    <tr>\n",
       "      <th>3</th>\n",
       "      <td>40</td>\n",
       "    </tr>\n",
       "    <tr>\n",
       "      <th>4</th>\n",
       "      <td>50</td>\n",
       "    </tr>\n",
       "  </tbody>\n",
       "</table>\n",
       "</div>"
      ],
      "text/plain": [
       "   values\n",
       "0      10\n",
       "1      20\n",
       "2      30\n",
       "3      40\n",
       "4      50"
      ]
     },
     "execution_count": 36,
     "metadata": {},
     "output_type": "execute_result"
    }
   ],
   "source": [
    "dict_val={\n",
    "    \"values\":[10, 20, 30, 40, 50],\n",
    "}\n",
    "df=pd.DataFrame(dict_val)\n",
    "df"
   ]
  },
  {
   "cell_type": "code",
   "execution_count": 64,
   "id": "66715ea0",
   "metadata": {},
   "outputs": [
    {
     "name": "stdout",
     "output_type": "stream",
     "text": [
      "60\n"
     ]
    }
   ],
   "source": [
    "df2=df[0:3]\n",
    "j=0\n",
    "sum=0\n",
    "for i in df2.iteritems():\n",
    "    for j in range(len(df2)):\n",
    "        sum=sum+i[1][j]     \n",
    "        \n",
    "print(sum)    "
   ]
  },
  {
   "cell_type": "code",
   "execution_count": null,
   "id": "fc1595b8",
   "metadata": {},
   "outputs": [],
   "source": []
  },
  {
   "cell_type": "markdown",
   "id": "6a2ad08e",
   "metadata": {},
   "source": [
    "# Q4. Given a Pandas DataFrame df with a column 'Text', write a Python function to create a new column 'Word_Count' that contains the number of words in each row of the 'Text' column."
   ]
  },
  {
   "cell_type": "code",
   "execution_count": 96,
   "id": "7960f958",
   "metadata": {},
   "outputs": [],
   "source": [
    "dict_val3={\n",
    "    \"text\":[\"hai how are you?\",\"hai i am good ,how about you?\",\"yes i am good\",\"yes i am good\"],\n",
    "}\n",
    "df2=pd.DataFrame(dict_val3)\n",
    "df2[\"word count\"]=df2[\"text\"].apply(lambda x:len(x.split()))"
   ]
  },
  {
   "cell_type": "code",
   "execution_count": 99,
   "id": "9f03de17",
   "metadata": {},
   "outputs": [
    {
     "data": {
      "text/html": [
       "<div>\n",
       "<style scoped>\n",
       "    .dataframe tbody tr th:only-of-type {\n",
       "        vertical-align: middle;\n",
       "    }\n",
       "\n",
       "    .dataframe tbody tr th {\n",
       "        vertical-align: top;\n",
       "    }\n",
       "\n",
       "    .dataframe thead th {\n",
       "        text-align: right;\n",
       "    }\n",
       "</style>\n",
       "<table border=\"1\" class=\"dataframe\">\n",
       "  <thead>\n",
       "    <tr style=\"text-align: right;\">\n",
       "      <th></th>\n",
       "      <th>text</th>\n",
       "      <th>word count</th>\n",
       "    </tr>\n",
       "  </thead>\n",
       "  <tbody>\n",
       "    <tr>\n",
       "      <th>0</th>\n",
       "      <td>hai how are you?</td>\n",
       "      <td>4</td>\n",
       "    </tr>\n",
       "    <tr>\n",
       "      <th>1</th>\n",
       "      <td>hai i am good ,how about you?</td>\n",
       "      <td>7</td>\n",
       "    </tr>\n",
       "    <tr>\n",
       "      <th>2</th>\n",
       "      <td>yes i am good</td>\n",
       "      <td>4</td>\n",
       "    </tr>\n",
       "    <tr>\n",
       "      <th>3</th>\n",
       "      <td>yes i am good</td>\n",
       "      <td>4</td>\n",
       "    </tr>\n",
       "  </tbody>\n",
       "</table>\n",
       "</div>"
      ],
      "text/plain": [
       "                            text  word count\n",
       "0               hai how are you?           4\n",
       "1  hai i am good ,how about you?           7\n",
       "2                  yes i am good           4\n",
       "3                  yes i am good           4"
      ]
     },
     "execution_count": 99,
     "metadata": {},
     "output_type": "execute_result"
    }
   ],
   "source": [
    "df2"
   ]
  },
  {
   "cell_type": "code",
   "execution_count": null,
   "id": "7327183a",
   "metadata": {},
   "outputs": [],
   "source": []
  },
  {
   "cell_type": "markdown",
   "id": "a580b13c",
   "metadata": {},
   "source": [
    "# Q5. How are DataFrame.size() and DataFrame.shape() different?"
   ]
  },
  {
   "cell_type": "code",
   "execution_count": 103,
   "id": "c0567c8e",
   "metadata": {},
   "outputs": [
    {
     "data": {
      "text/plain": [
       "8"
      ]
     },
     "execution_count": 103,
     "metadata": {},
     "output_type": "execute_result"
    }
   ],
   "source": [
    "df2.size\n",
    "# total items"
   ]
  },
  {
   "cell_type": "code",
   "execution_count": 102,
   "id": "20c7854e",
   "metadata": {},
   "outputs": [
    {
     "data": {
      "text/plain": [
       "(4, 2)"
      ]
     },
     "execution_count": 102,
     "metadata": {},
     "output_type": "execute_result"
    }
   ],
   "source": [
    "df2.shape\n",
    "# no.of rows and columns"
   ]
  },
  {
   "cell_type": "code",
   "execution_count": null,
   "id": "f94ea451",
   "metadata": {},
   "outputs": [],
   "source": []
  },
  {
   "cell_type": "markdown",
   "id": "2e643d68",
   "metadata": {},
   "source": [
    "# Q6. Which function of pandas do we use to read an excel file?"
   ]
  },
  {
   "cell_type": "code",
   "execution_count": null,
   "id": "ef93ebb3",
   "metadata": {},
   "outputs": [],
   "source": [
    "pd.read_excel(\"text.xlsx\")"
   ]
  },
  {
   "cell_type": "code",
   "execution_count": null,
   "id": "ae321f66",
   "metadata": {},
   "outputs": [],
   "source": []
  },
  {
   "cell_type": "markdown",
   "id": "9eb78528",
   "metadata": {},
   "source": [
    "# Q7. You have a Pandas DataFrame df that contains a column named 'Email' \n",
    " \n",
    " that contains email addresses in the format 'username@domain.com'. Write a Python function that creates a new \n",
    " \n",
    " column 'Username' in df that contains only the username part of each email address.\n",
    "\n",
    "\n",
    "The username is the part of the email address that appears before the '@' symbol. For example, if the\n",
    "\n",
    "email address is 'john.doe@example.com', the 'Username' column should contain 'john.doe'. Your\n",
    "\n",
    "function should extract the username from each email address and store it in the new 'Username'\n",
    "\n",
    "column."
   ]
  },
  {
   "cell_type": "code",
   "execution_count": 116,
   "id": "ae7813e3",
   "metadata": {},
   "outputs": [
    {
     "name": "stdout",
     "output_type": "stream",
     "text": [
      "          text username\n",
      "0  a@gmail.com        a\n",
      "1  b@gmail.com        b\n",
      "2  c@gmail.com        c\n"
     ]
    }
   ],
   "source": [
    "dict_val4={\n",
    "    \"text\":[\"a@gmail.com\",\"b@gmail.com\",\"c@gmail.com\"],\n",
    "}\n",
    "def define(x):\n",
    "    y=x.split(\"@\")\n",
    "    return y[0]\n",
    "    \n",
    "    \n",
    "df4=pd.DataFrame(dict_val4)\n",
    "df4[\"username\"]=df4[\"text\"].apply(define)\n",
    "print(df4)"
   ]
  },
  {
   "cell_type": "code",
   "execution_count": null,
   "id": "0b748fb0",
   "metadata": {},
   "outputs": [],
   "source": []
  },
  {
   "cell_type": "markdown",
   "id": "424488f7",
   "metadata": {},
   "source": [
    "# Q8. You have a Pandas DataFrame df with columns 'A', 'B', and 'C'. Write a Python function that selects\n",
    "all rows where the value in column 'A' is greater than 5 and the value in column 'B' is less than 10. The\n",
    "function should return a new DataFrame that contains only the selected rows.\n",
    "\n",
    "For example, if df contains the following values:\n",
    "\n",
    "   A   B   C\n",
    "\n",
    "0  3   5   1\n",
    "\n",
    "1  8   2   7\n",
    "\n",
    "2  6   9   4\n",
    "\n",
    "3  2   3   5\n",
    "\n",
    "4  9   1   2\n",
    "\n",
    "\n",
    "Your function should select the following rows:   A   B   C\n",
    "\n",
    "1  8   2   7\n",
    "\n",
    "4  9   1   2\n",
    "\n",
    "The function should return a new DataFrame that contains only the selected rows"
   ]
  },
  {
   "cell_type": "code",
   "execution_count": 130,
   "id": "d298fa18",
   "metadata": {},
   "outputs": [
    {
     "data": {
      "text/html": [
       "<div>\n",
       "<style scoped>\n",
       "    .dataframe tbody tr th:only-of-type {\n",
       "        vertical-align: middle;\n",
       "    }\n",
       "\n",
       "    .dataframe tbody tr th {\n",
       "        vertical-align: top;\n",
       "    }\n",
       "\n",
       "    .dataframe thead th {\n",
       "        text-align: right;\n",
       "    }\n",
       "</style>\n",
       "<table border=\"1\" class=\"dataframe\">\n",
       "  <thead>\n",
       "    <tr style=\"text-align: right;\">\n",
       "      <th></th>\n",
       "      <th>A</th>\n",
       "      <th>B</th>\n",
       "      <th>C</th>\n",
       "    </tr>\n",
       "  </thead>\n",
       "  <tbody>\n",
       "    <tr>\n",
       "      <th>1</th>\n",
       "      <td>8</td>\n",
       "      <td>2</td>\n",
       "      <td>7</td>\n",
       "    </tr>\n",
       "    <tr>\n",
       "      <th>2</th>\n",
       "      <td>6</td>\n",
       "      <td>9</td>\n",
       "      <td>4</td>\n",
       "    </tr>\n",
       "    <tr>\n",
       "      <th>4</th>\n",
       "      <td>9</td>\n",
       "      <td>1</td>\n",
       "      <td>2</td>\n",
       "    </tr>\n",
       "  </tbody>\n",
       "</table>\n",
       "</div>"
      ],
      "text/plain": [
       "   A  B  C\n",
       "1  8  2  7\n",
       "2  6  9  4\n",
       "4  9  1  2"
      ]
     },
     "execution_count": 130,
     "metadata": {},
     "output_type": "execute_result"
    }
   ],
   "source": [
    "dict_val4={\n",
    "    \"A\":[3,8,6,2,9],\n",
    "    \"B\":[5,2,9,3,1],\n",
    "    \"C\":[1,7,4,5,2]\n",
    "}\n",
    "# A >5\n",
    "# B<10\n",
    "df4=pd.DataFrame(dict_val4)\n",
    "# we cant use and  gate here i mean in letters\n",
    "df4[(df4[\"A\"]>5) & (df4[\"B\"]<10)] "
   ]
  },
  {
   "cell_type": "code",
   "execution_count": null,
   "id": "8a575e5f",
   "metadata": {},
   "outputs": [],
   "source": []
  },
  {
   "cell_type": "markdown",
   "id": "81961d39",
   "metadata": {},
   "source": [
    "# Q9. Given a Pandas DataFrame df with a column 'Values', write a Python function to calculate the mean, median, and standard deviation of the values in the 'Values' column."
   ]
  },
  {
   "cell_type": "code",
   "execution_count": 136,
   "id": "7ec6e113",
   "metadata": {},
   "outputs": [
    {
     "name": "stdout",
     "output_type": "stream",
     "text": [
      "values    30.0\n",
      "dtype: float64\n",
      "values    30.0\n",
      "dtype: float64\n",
      "values    15.811388\n",
      "dtype: float64\n"
     ]
    }
   ],
   "source": [
    "dict_val={\n",
    "    \"values\":[10, 20, 30, 40, 50],\n",
    "}\n",
    "df=pd.DataFrame(dict_val)\n",
    "print(df.mean())\n",
    "\n",
    "print(df.median())\n",
    "\n",
    "print(df.std())"
   ]
  },
  {
   "cell_type": "code",
   "execution_count": null,
   "id": "d2ab638a",
   "metadata": {},
   "outputs": [],
   "source": []
  },
  {
   "cell_type": "markdown",
   "id": "8208cbe3",
   "metadata": {},
   "source": [
    "\n",
    "# Q10. Given a Pandas DataFrame df with a column 'Sales' and a column \n",
    "  'Date', write a Python function to create a new column 'MovingAverage' that contains the moving average of the \n",
    "\n",
    "sales for the past 7 days\n",
    "\n",
    "\n",
    "for each row in the DataFrame. The moving average should be calculated using a window of size 7 and\n",
    "\n",
    "should include the current day"
   ]
  },
  {
   "cell_type": "code",
   "execution_count": null,
   "id": "9be99edf",
   "metadata": {},
   "outputs": [],
   "source": [
    "# sales ,date -col\n",
    "# new -movingAvg\n",
    "\n",
    "# past 7 days\n",
    "# windows size 7 \n",
    "\n",
    "# should include current day"
   ]
  },
  {
   "cell_type": "code",
   "execution_count": null,
   "id": "5d18f0cc",
   "metadata": {},
   "outputs": [],
   "source": []
  },
  {
   "cell_type": "markdown",
   "id": "b66944f5",
   "metadata": {},
   "source": [
    "# Q11. You have a Pandas DataFrame df with a column 'Date'. Write a Python function that creates a new\n",
    "column 'Weekday' in the DataFrame. The 'Weekday' column should contain the weekday name (e.g.\n",
    "Monday, Tuesday) corresponding to each date in the 'Date' column.\n",
    "\n",
    "For example, if df contains the following values:\n",
    "\n",
    "         Date\n",
    "\n",
    "0  2023-01-01\n",
    "\n",
    "1  2023-01-02\n",
    "\n",
    "2  2023-01-03\n",
    "\n",
    "3  2023-01-04\n",
    "\n",
    "4  2023-01-05\n",
    "\n",
    "Your function should create the following DataFrame:\n",
    "\n",
    "\n",
    "         Date    Weekday\n",
    "\n",
    "0  2023-01-01    Sunday\n",
    "\n",
    "1  2023-01-02     Monday\n",
    "\n",
    "2  2023-01-03    Tuesday\n",
    "\n",
    "3  2023-01-04    Wednesday\n",
    "\n",
    "4  2023-01-05    Thursday\n",
    "\n",
    "The function should return the modified DataFrame."
   ]
  },
  {
   "cell_type": "code",
   "execution_count": null,
   "id": "208194e7",
   "metadata": {},
   "outputs": [],
   "source": []
  },
  {
   "cell_type": "code",
   "execution_count": 145,
   "id": "87c32927",
   "metadata": {},
   "outputs": [
    {
     "data": {
      "text/html": [
       "<div>\n",
       "<style scoped>\n",
       "    .dataframe tbody tr th:only-of-type {\n",
       "        vertical-align: middle;\n",
       "    }\n",
       "\n",
       "    .dataframe tbody tr th {\n",
       "        vertical-align: top;\n",
       "    }\n",
       "\n",
       "    .dataframe thead th {\n",
       "        text-align: right;\n",
       "    }\n",
       "</style>\n",
       "<table border=\"1\" class=\"dataframe\">\n",
       "  <thead>\n",
       "    <tr style=\"text-align: right;\">\n",
       "      <th></th>\n",
       "      <th>inputDates</th>\n",
       "      <th>dayOfWeek</th>\n",
       "    </tr>\n",
       "  </thead>\n",
       "  <tbody>\n",
       "    <tr>\n",
       "      <th>0</th>\n",
       "      <td>2023-01-01</td>\n",
       "      <td>Sunday</td>\n",
       "    </tr>\n",
       "    <tr>\n",
       "      <th>1</th>\n",
       "      <td>2023-01-02</td>\n",
       "      <td>Monday</td>\n",
       "    </tr>\n",
       "    <tr>\n",
       "      <th>2</th>\n",
       "      <td>2023-01-03</td>\n",
       "      <td>Tuesday</td>\n",
       "    </tr>\n",
       "    <tr>\n",
       "      <th>3</th>\n",
       "      <td>2023-01-04</td>\n",
       "      <td>Wednesday</td>\n",
       "    </tr>\n",
       "    <tr>\n",
       "      <th>4</th>\n",
       "      <td>2023-02-05</td>\n",
       "      <td>Sunday</td>\n",
       "    </tr>\n",
       "  </tbody>\n",
       "</table>\n",
       "</div>"
      ],
      "text/plain": [
       "  inputDates  dayOfWeek\n",
       "0 2023-01-01     Sunday\n",
       "1 2023-01-02     Monday\n",
       "2 2023-01-03    Tuesday\n",
       "3 2023-01-04  Wednesday\n",
       "4 2023-02-05     Sunday"
      ]
     },
     "execution_count": 145,
     "metadata": {},
     "output_type": "execute_result"
    }
   ],
   "source": [
    "import pandas as pd\n",
    "\n",
    "\n",
    "date = pd.DataFrame({'inputDates':['2023-01-01', '2023-01-02',\n",
    "\t\t\t\t\t\t\t\t'2023-01-03', '2023-01-04 ',\n",
    "\t\t\t\t\t\t\t\t'2023-02-05  '],})\n",
    "\n",
    "date['inputDates'] = pd.to_datetime(date['inputDates'])\n",
    "\n",
    "date['dayOfWeek'] = date['inputDates'].dt.day_name()\n",
    "\n",
    "date\n"
   ]
  },
  {
   "cell_type": "code",
   "execution_count": null,
   "id": "aceeae93",
   "metadata": {},
   "outputs": [],
   "source": []
  },
  {
   "cell_type": "markdown",
   "id": "e773f9d3",
   "metadata": {},
   "source": [
    "# Q12. Given a Pandas DataFrame df with a column 'Date' that contains \n",
    "\n",
    "timestamps, write a Python function to select all rows where the date is between '2023-01-01' and '2023-01-31'."
   ]
  },
  {
   "cell_type": "code",
   "execution_count": 156,
   "id": "7c121501",
   "metadata": {},
   "outputs": [
    {
     "data": {
      "text/html": [
       "<div>\n",
       "<style scoped>\n",
       "    .dataframe tbody tr th:only-of-type {\n",
       "        vertical-align: middle;\n",
       "    }\n",
       "\n",
       "    .dataframe tbody tr th {\n",
       "        vertical-align: top;\n",
       "    }\n",
       "\n",
       "    .dataframe thead th {\n",
       "        text-align: right;\n",
       "    }\n",
       "</style>\n",
       "<table border=\"1\" class=\"dataframe\">\n",
       "  <thead>\n",
       "    <tr style=\"text-align: right;\">\n",
       "      <th></th>\n",
       "      <th>inputDates</th>\n",
       "      <th>dayOfWeek</th>\n",
       "    </tr>\n",
       "  </thead>\n",
       "  <tbody>\n",
       "    <tr>\n",
       "      <th>1</th>\n",
       "      <td>2023-01-02</td>\n",
       "      <td>Monday</td>\n",
       "    </tr>\n",
       "    <tr>\n",
       "      <th>2</th>\n",
       "      <td>2023-01-03</td>\n",
       "      <td>Tuesday</td>\n",
       "    </tr>\n",
       "    <tr>\n",
       "      <th>3</th>\n",
       "      <td>2023-01-04</td>\n",
       "      <td>Wednesday</td>\n",
       "    </tr>\n",
       "  </tbody>\n",
       "</table>\n",
       "</div>"
      ],
      "text/plain": [
       "  inputDates  dayOfWeek\n",
       "1 2023-01-02     Monday\n",
       "2 2023-01-03    Tuesday\n",
       "3 2023-01-04  Wednesday"
      ]
     },
     "execution_count": 156,
     "metadata": {},
     "output_type": "execute_result"
    }
   ],
   "source": [
    "date[(date[\"inputDates\"] >\"2023-01-01\") & (date[\"inputDates\"] < \"2023-01-31\")]"
   ]
  },
  {
   "cell_type": "code",
   "execution_count": null,
   "id": "922356c0",
   "metadata": {},
   "outputs": [],
   "source": []
  },
  {
   "cell_type": "markdown",
   "id": "664c5595",
   "metadata": {},
   "source": [
    "# Q13. To use the basic functions of pandas, what is the first and foremost necessary library that needs to\n",
    "be imported?\n",
    "import pandas as pd"
   ]
  },
  {
   "cell_type": "code",
   "execution_count": null,
   "id": "8839d6f0",
   "metadata": {},
   "outputs": [],
   "source": []
  },
  {
   "cell_type": "code",
   "execution_count": null,
   "id": "beaf8e8f",
   "metadata": {},
   "outputs": [],
   "source": []
  }
 ],
 "metadata": {
  "kernelspec": {
   "display_name": "Python 3 (ipykernel)",
   "language": "python",
   "name": "python3"
  },
  "language_info": {
   "codemirror_mode": {
    "name": "ipython",
    "version": 3
   },
   "file_extension": ".py",
   "mimetype": "text/x-python",
   "name": "python",
   "nbconvert_exporter": "python",
   "pygments_lexer": "ipython3",
   "version": "3.9.13"
  }
 },
 "nbformat": 4,
 "nbformat_minor": 5
}
