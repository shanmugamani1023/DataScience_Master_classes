{
 "cells": [
  {
   "cell_type": "markdown",
   "id": "4e4940e8",
   "metadata": {},
   "source": [
    "# Go to this given URL and solve the following questions\n",
    "\n",
    "URL: https://www.youtube.com/@PW-Foundation/videos\n",
    "Q1. Write a python program to extract the video URL of the first five videos.\n",
    "\n",
    "Q2. Write a python program to extract the URL of the video thumbnails of the first five videos.\n",
    "\n",
    "Q3. Write a python program to extract the title of the first five videos.\n",
    "\n",
    "Q4. Write a python program to extract the number of views of the first five videos.\n",
    "\n",
    "Q5. Write a python program to extract the time of posting of video for the first five videos.\n",
    "\n",
    "Note: Save all the data scraped in the above questions in a CSV file."
   ]
  },
  {
   "cell_type": "markdown",
   "id": "dffa1948",
   "metadata": {},
   "source": [
    "# Q1. Write a python program to extract the video URL of the first five videos."
   ]
  },
  {
   "cell_type": "code",
   "execution_count": 1,
   "id": "bbb216c2",
   "metadata": {},
   "outputs": [],
   "source": [
    "import requests\n",
    "from bs4 import BeautifulSoup\n",
    "from urllib.request import urlopen\n",
    "import logging\n",
    "import os "
   ]
  },
  {
   "cell_type": "code",
   "execution_count": 2,
   "id": "ad96df1f",
   "metadata": {},
   "outputs": [],
   "source": [
    "headers = {\"User-Agent\": \"Mozilla/5.0 (Windows NT 10.0; Win64; x64) AppleWebKit/537.36 (KHTML, like Gecko) Chrome/58.0.3029.110 Safari/537.36\"}"
   ]
  },
  {
   "cell_type": "code",
   "execution_count": 5,
   "id": "19074317",
   "metadata": {},
   "outputs": [],
   "source": [
    "urlclient = urlopen(https://www.youtube.com/@PW-Foundation/videos)"
   ]
  },
  {
   "cell_type": "code",
   "execution_count": 23,
   "id": "c4eab8a2",
   "metadata": {},
   "outputs": [
    {
     "name": "stdout",
     "output_type": "stream",
     "text": [
      "[]\n"
     ]
    }
   ],
   "source": [
    "soup = BeautifulSoup(response.content,\"html.parser\")\n",
    "videos_box = soup.find_all(\"a\",{\"class\":\"thumbnail\"} )\n",
    "# bigbox = flipcart_html.find_all(\"div\" ,{\"class\":\"_1AtVbE col-12-12\"} )\n",
    "\n",
    "print(videos_box)\n",
    "\n"
   ]
  },
  {
   "cell_type": "code",
   "execution_count": 19,
   "id": "4de4836a",
   "metadata": {},
   "outputs": [
    {
     "name": "stdout",
     "output_type": "stream",
     "text": [
      "[]\n"
     ]
    }
   ],
   "source": [
    "\n"
   ]
  },
  {
   "cell_type": "code",
   "execution_count": null,
   "id": "2c836185",
   "metadata": {},
   "outputs": [],
   "source": []
  },
  {
   "cell_type": "code",
   "execution_count": null,
   "id": "e86f4b0c",
   "metadata": {},
   "outputs": [],
   "source": []
  },
  {
   "cell_type": "code",
   "execution_count": null,
   "id": "46577c4b",
   "metadata": {},
   "outputs": [],
   "source": [
    "# <a id=\"thumbnail\" class=\"yt-simple-endpoint inline-block style-scope ytd-thumbnail\" aria-hidden=\"true\" tabindex=\"-1\" rel=\"null\" href=\"/watch?v=PI1obes98Zc\">\n",
    "  <yt-image alt=\"\" ftl-eligible=\"\" notify-on-loaded=\"\" notify-on-unloaded=\"\" class=\"style-scope ytd-thumbnail\"><img alt=\"\" style=\"background-color: transparent;\" class=\"yt-core-image--fill-parent-height yt-core-image--fill-parent-width yt-core-image yt-core-image--content-mode-scale-aspect-fill yt-core-image--loaded\" src=\"https://i.ytimg.com/vi/PI1obes98Zc/hqdefault.jpg?sqp=-oaymwEcCNACELwBSFXyq4qpAw4IARUAAIhCGAFwAcABBg==&amp;rs=AOn4CLDyWGBtPVQCXcUM1DiCpOeszoKAsQ\"></yt-image>\n",
    "  \n",
    "  <div id=\"overlays\" class=\"style-scope ytd-thumbnail\"><ytd-thumbnail-overlay-time-status-renderer class=\"style-scope ytd-thumbnail\" overlay-style=\"DEFAULT\"><!--css-build:shady--><yt-icon size=\"16\" class=\"style-scope ytd-thumbnail-overlay-time-status-renderer\" disable-upgrade=\"\" hidden=\"\"></yt-icon><span id=\"text\" class=\"style-scope ytd-thumbnail-overlay-time-status-renderer\" aria-label=\"40 minutes, 11 seconds\">\n",
    "  40:11\n",
    "</span></ytd-thumbnail-overlay-time-status-renderer><ytd-thumbnail-overlay-now-playing-renderer class=\"style-scope ytd-thumbnail\"><!--css-build:shady--><span id=\"overlay-text\" class=\"style-scope ytd-thumbnail-overlay-now-playing-renderer\">Now playing</span>\n",
    "<ytd-thumbnail-overlay-equalizer class=\"style-scope ytd-thumbnail-overlay-now-playing-renderer\"><!--css-build:shady--><svg xmlns=\"http://www.w3.org/2000/svg\" id=\"equalizer\" viewBox=\"0 0 55 95\" class=\"style-scope ytd-thumbnail-overlay-equalizer\">\n",
    "  <g class=\"style-scope ytd-thumbnail-overlay-equalizer\">\n",
    "    <rect class=\"bar style-scope ytd-thumbnail-overlay-equalizer\" x=\"0\"></rect>\n",
    "    <rect class=\"bar style-scope ytd-thumbnail-overlay-equalizer\" x=\"20\"></rect>\n",
    "    <rect class=\"bar style-scope ytd-thumbnail-overlay-equalizer\" x=\"40\"></rect>\n",
    "  </g>\n",
    "</svg>\n",
    "</ytd-thumbnail-overlay-equalizer>\n",
    "</ytd-thumbnail-overlay-now-playing-renderer></div>\n",
    "  <div id=\"mouseover-overlay\" class=\"style-scope ytd-thumbnail\"><ytd-moving-thumbnail-renderer class=\"style-scope ytd-thumbnail\"><!--css-build:shady--><img id=\"thumbnail\" alt=\"\" class=\"style-scope ytd-moving-thumbnail-renderer\" src=\"https://i.ytimg.com/an_webp/PI1obes98Zc/mqdefault_6s.webp?du=3000&amp;sqp=CMmZ1qAG&amp;rs=AOn4CLDF7Tf4ce8cSgyNiVEcQ1mGhYRTNA\">\n",
    "<yt-icon id=\"play\" icon=\"play_all\" class=\"style-scope ytd-moving-thumbnail-renderer\"><svg viewBox=\"0 0 24 24\" preserveAspectRatio=\"xMidYMid meet\" focusable=\"false\" class=\"style-scope yt-icon\" style=\"pointer-events: none; display: block; width: 100%; height: 100%;\"><g class=\"style-scope yt-icon\"><path d=\"M6,4l12,8L6,20V4z\" class=\"style-scope yt-icon\"></path></g></svg><!--css-build:shady--></yt-icon>\n",
    "</ytd-moving-thumbnail-renderer></div>\n",
    "  <div id=\"hover-overlays\" class=\"style-scope ytd-thumbnail\"><ytd-thumbnail-overlay-toggle-button-renderer class=\"style-scope ytd-thumbnail\" role=\"button\" tabindex=\"-1\" top-right-overlay=\"true\" use-expandable-tooltip=\"\" aria-label=\"Watch Later\"><!--css-build:shady--><div id=\"label-container\" class=\"style-scope ytd-thumbnail-overlay-toggle-button-renderer\"><div id=\"label\" class=\"style-scope ytd-thumbnail-overlay-toggle-button-renderer\">\n",
    "    Watch Later\n",
    "  </div></div><yt-icon id=\"icon-on-hover-element\" class=\"style-scope ytd-thumbnail-overlay-toggle-button-renderer\"><!--css-build:shady--></yt-icon><yt-icon id=\"icon\" class=\"style-scope ytd-thumbnail-overlay-toggle-button-renderer\"><svg viewBox=\"0 0 24 24\" preserveAspectRatio=\"xMidYMid meet\" focusable=\"false\" class=\"style-scope yt-icon\" style=\"pointer-events: none; display: block; width: 100%; height: 100%;\"><g class=\"style-scope yt-icon\"><path d=\"M14.97,16.95L10,13.87V7h2v5.76l4.03,2.49L14.97,16.95z M12,3c-4.96,0-9,4.04-9,9s4.04,9,9,9s9-4.04,9-9S16.96,3,12,3 M12,2c5.52,0,10,4.48,10,10s-4.48,10-10,10S2,17.52,2,12S6.48,2,12,2L12,2z\" class=\"style-scope yt-icon\"></path></g></svg><!--css-build:shady--></yt-icon><tp-yt-paper-tooltip id=\"tooltip\" animation-delay=\"0\" offset=\"0\" class=\"style-scope ytd-thumbnail-overlay-toggle-button-renderer\" role=\"tooltip\" tabindex=\"-1\" style=\"--paper-tooltip-delay-in:0ms;\"><!--css-build:shady--><div id=\"tooltip\" class=\"style-scope tp-yt-paper-tooltip fade-in-animation\" style-target=\"tooltip\">\n",
    "  \n",
    "  Watch Later\n",
    "\n",
    "</div>\n",
    "</tp-yt-paper-tooltip></ytd-thumbnail-overlay-toggle-button-renderer><ytd-thumbnail-overlay-toggle-button-renderer class=\"style-scope ytd-thumbnail\" role=\"button\" tabindex=\"-1\" top-right-overlay=\"true\" use-expandable-tooltip=\"\" aria-label=\"Add to queue\"><!--css-build:shady--><div id=\"label-container\" class=\"style-scope ytd-thumbnail-overlay-toggle-button-renderer\"><div id=\"label\" class=\"style-scope ytd-thumbnail-overlay-toggle-button-renderer\">\n",
    "    Add to queue\n",
    "  </div></div><yt-icon id=\"icon-on-hover-element\" class=\"style-scope ytd-thumbnail-overlay-toggle-button-renderer\"><!--css-build:shady--></yt-icon><yt-icon id=\"icon\" class=\"style-scope ytd-thumbnail-overlay-toggle-button-renderer\"><svg viewBox=\"0 0 24 24\" preserveAspectRatio=\"xMidYMid meet\" focusable=\"false\" class=\"style-scope yt-icon\" style=\"pointer-events: none; display: block; width: 100%; height: 100%;\"><g class=\"style-scope yt-icon\"><path d=\"M21,16h-7v-1h7V16z M21,11H9v1h12V11z M21,7H3v1h18V7z M10,15l-7-4v8L10,15z\" class=\"style-scope yt-icon\"></path></g></svg><!--css-build:shady--></yt-icon><tp-yt-paper-tooltip id=\"tooltip\" animation-delay=\"0\" offset=\"0\" class=\"style-scope ytd-thumbnail-overlay-toggle-button-renderer\" role=\"tooltip\" tabindex=\"-1\" style=\"--paper-tooltip-delay-in:0ms;\"><!--css-build:shady--><div id=\"tooltip\" class=\"hidden style-scope tp-yt-paper-tooltip\" style-target=\"tooltip\">\n",
    "  \n",
    "  Add to queue\n",
    "\n",
    "</div>\n",
    "</tp-yt-paper-tooltip></ytd-thumbnail-overlay-toggle-button-renderer></div>\n",
    "</a>"
   ]
  }
 ],
 "metadata": {
  "kernelspec": {
   "display_name": "Python 3 (ipykernel)",
   "language": "python",
   "name": "python3"
  },
  "language_info": {
   "codemirror_mode": {
    "name": "ipython",
    "version": 3
   },
   "file_extension": ".py",
   "mimetype": "text/x-python",
   "name": "python",
   "nbconvert_exporter": "python",
   "pygments_lexer": "ipython3",
   "version": "3.9.13"
  }
 },
 "nbformat": 4,
 "nbformat_minor": 5
}
