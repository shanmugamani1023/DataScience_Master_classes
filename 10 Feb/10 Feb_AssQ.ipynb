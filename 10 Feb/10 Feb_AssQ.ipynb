{
 "cells": [
  {
   "cell_type": "markdown",
   "id": "1fd49afb",
   "metadata": {},
   "source": [
    "# Q1. Which function is used to open a file? What are the different modes of opening a file? Explain each mode of file opening.\n"
   ]
  },
  {
   "cell_type": "markdown",
   "id": "49d90a78",
   "metadata": {},
   "source": [
    "# open(a,b)\n",
    "# a-file path \n",
    "# b-mode\n",
    "# Types of Mode:\n",
    "      r-read\n",
    "      w-write\n",
    "      a-append\n",
    "      \n",
    "     r- read method used to read the file \n",
    "     w-write method used to write data into file but it overwrite old data\n",
    "     a-append mode used to write data into file but its doesnt overwrite the data it will append data\n",
    "      \n"
   ]
  },
  {
   "cell_type": "code",
   "execution_count": null,
   "id": "560b7279",
   "metadata": {},
   "outputs": [],
   "source": []
  },
  {
   "cell_type": "markdown",
   "id": "37504221",
   "metadata": {},
   "source": [
    "# Q2. Why close() function is used? Why is it important to close a file?\n"
   ]
  },
  {
   "cell_type": "markdown",
   "id": "99275912",
   "metadata": {},
   "source": [
    "# when we open the file and if we write any data it not going to reflect immediatly,so we need to close the file then only it can reflect,thats why we using close function"
   ]
  },
  {
   "cell_type": "code",
   "execution_count": null,
   "id": "e7fd20d8",
   "metadata": {},
   "outputs": [],
   "source": []
  },
  {
   "cell_type": "markdown",
   "id": "c7ecf6a7",
   "metadata": {},
   "source": [
    "# Q3. Write a python program to create a text file. Write ‘I want to become a Data Scientist’ in that file. Then close the file. Open this file and read the content of the file.  \n"
   ]
  },
  {
   "cell_type": "code",
   "execution_count": 4,
   "id": "1e9b3dad",
   "metadata": {},
   "outputs": [],
   "source": [
    "file=open(\"text.txt\",'a')\n",
    "file.write(\"I want to become a Data Scientist\")\n",
    "file.close()\n"
   ]
  },
  {
   "cell_type": "code",
   "execution_count": 7,
   "id": "a84b6281",
   "metadata": {},
   "outputs": [
    {
     "name": "stdout",
     "output_type": "stream",
     "text": [
      "I want to become a Data ScientistI want to become a Data Scientist\n"
     ]
    }
   ],
   "source": [
    "data=open(\"text.txt\",'r')\n",
    "print(data.read())"
   ]
  },
  {
   "cell_type": "code",
   "execution_count": null,
   "id": "9a971015",
   "metadata": {},
   "outputs": [],
   "source": []
  },
  {
   "cell_type": "markdown",
   "id": "d958e4d6",
   "metadata": {},
   "source": [
    "# Q4. Explain the following with python code: read(), readline() and readlines().\n"
   ]
  },
  {
   "cell_type": "markdown",
   "id": "9dfabc3e",
   "metadata": {},
   "source": [
    "# read() - used to read to data from file"
   ]
  },
  {
   "cell_type": "markdown",
   "id": "4b937d96",
   "metadata": {},
   "source": [
    "# The readline() method returns one line from the file."
   ]
  },
  {
   "cell_type": "markdown",
   "id": "86e924a1",
   "metadata": {},
   "source": [
    "# The readlines() method returns a list containing each line in the file as a list item."
   ]
  },
  {
   "cell_type": "code",
   "execution_count": null,
   "id": "b81c8a3e",
   "metadata": {},
   "outputs": [],
   "source": []
  },
  {
   "cell_type": "markdown",
   "id": "02f77a16",
   "metadata": {},
   "source": [
    "# Q5. Explain why with statement is used with open(). What is the advantage of using with statement and open() together?\n"
   ]
  },
  {
   "cell_type": "code",
   "execution_count": 11,
   "id": "73771672",
   "metadata": {},
   "outputs": [
    {
     "name": "stdout",
     "output_type": "stream",
     "text": [
      "I want to become a Data ScientistI want to become a Data Scientist\n"
     ]
    }
   ],
   "source": [
    "with open(\"text.txt\" , \"r\") as f :\n",
    "    print(f.read())\n",
    "\n",
    "#     using with we can directly get data from file,and we can work on that data easily"
   ]
  },
  {
   "cell_type": "code",
   "execution_count": null,
   "id": "614cc8a9",
   "metadata": {},
   "outputs": [],
   "source": []
  },
  {
   "cell_type": "markdown",
   "id": "114725c1",
   "metadata": {},
   "source": [
    "# Q6. Explain the write() and writelines() functions. Give a suitable example."
   ]
  },
  {
   "cell_type": "markdown",
   "id": "7b3d1e93",
   "metadata": {},
   "source": [
    "# write used to write any data to file\n",
    "# The writelines() method writes the items of a list to the file."
   ]
  },
  {
   "cell_type": "code",
   "execution_count": null,
   "id": "af4b7c2e",
   "metadata": {},
   "outputs": [],
   "source": []
  },
  {
   "cell_type": "code",
   "execution_count": null,
   "id": "1bb4e743",
   "metadata": {},
   "outputs": [],
   "source": []
  }
 ],
 "metadata": {
  "kernelspec": {
   "display_name": "Python 3 (ipykernel)",
   "language": "python",
   "name": "python3"
  },
  "language_info": {
   "codemirror_mode": {
    "name": "ipython",
    "version": 3
   },
   "file_extension": ".py",
   "mimetype": "text/x-python",
   "name": "python",
   "nbconvert_exporter": "python",
   "pygments_lexer": "ipython3",
   "version": "3.9.13"
  }
 },
 "nbformat": 4,
 "nbformat_minor": 5
}
