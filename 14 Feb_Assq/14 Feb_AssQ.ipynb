{
 "cells": [
  {
   "cell_type": "markdown",
   "id": "7bdb01be",
   "metadata": {},
   "source": [
    "# Q1. What is multithreading in python? Why is it used? Name the module used to handle threads in python.\n"
   ]
  },
  {
   "cell_type": "markdown",
   "id": "0512958f",
   "metadata": {},
   "source": [
    "# 1.Threading is process to handly multi instance of function at single time and return data ."
   ]
  },
  {
   "cell_type": "markdown",
   "id": "16cb1786",
   "metadata": {},
   "source": [
    "# 2.It increases performance of one application"
   ]
  },
  {
   "cell_type": "markdown",
   "id": "0a5a29fc",
   "metadata": {},
   "source": [
    "# 3.import threading -module used to handle threads"
   ]
  },
  {
   "cell_type": "code",
   "execution_count": null,
   "id": "17f599bd",
   "metadata": {},
   "outputs": [],
   "source": []
  },
  {
   "cell_type": "markdown",
   "id": "a316bae2",
   "metadata": {},
   "source": [
    "# Q2. Why threading module used? Write the use of the following functions\n",
    "         activeCount(\n",
    "         currentThread(\n",
    "         enumerate()\n"
   ]
  },
  {
   "cell_type": "markdown",
   "id": "200bff93",
   "metadata": {},
   "source": [
    "## threading module used to create threads."
   ]
  },
  {
   "cell_type": "markdown",
   "id": "e39708ab",
   "metadata": {},
   "source": [
    "### threading.activeCount() − Returns the number of thread objects that are active.\n",
    "### threading.currentThread() − Returns the number of thread objects in the caller's thread control.\n",
    "### threading.enumerate() − Returns a list of all thread objects that are currently active.\n"
   ]
  },
  {
   "cell_type": "code",
   "execution_count": null,
   "id": "6a9577ae",
   "metadata": {},
   "outputs": [],
   "source": []
  },
  {
   "cell_type": "markdown",
   "id": "fdefee68",
   "metadata": {},
   "source": [
    "# Q3. Explain the following functions\n",
    "     run(\n",
    "    start(\n",
    "     join(\n",
    "    isAlive()\n"
   ]
  },
  {
   "cell_type": "markdown",
   "id": "fcca0466",
   "metadata": {},
   "source": [
    "#  run()  − The run() method is the entry point for a thread.\n",
    "#  start()  − The start() method starts a thread by calling the run method.\n",
    "#  join([time])  − The join() waits for threads to terminate.\n",
    "#  isAlive()  − The isAlive() method checks whether a thread is still executing."
   ]
  },
  {
   "cell_type": "code",
   "execution_count": null,
   "id": "dacfd0ba",
   "metadata": {},
   "outputs": [],
   "source": []
  },
  {
   "cell_type": "code",
   "execution_count": null,
   "id": "dea3cf98",
   "metadata": {},
   "outputs": [],
   "source": []
  },
  {
   "cell_type": "markdown",
   "id": "a04a5fb8",
   "metadata": {},
   "source": [
    "# Q4. Write a python program to create two threads. Thread one must print the list of squares and thread two must print the list of cubes.\n"
   ]
  },
  {
   "cell_type": "code",
   "execution_count": 1,
   "id": "7582d2d6",
   "metadata": {},
   "outputs": [],
   "source": [
    "lis_square=[]\n",
    "lis_cube=[]\n",
    "def square(x):\n",
    "    global lis\n",
    "    lis_square.append(x*x)\n",
    "    print(lis_square)\n",
    "    \n",
    "def cubes(y):\n",
    "    global lis\n",
    "    lis_cube.append(y*y*y)\n",
    "    print(lis_cube)\n",
    "    \n",
    "\n",
    "\n",
    "    "
   ]
  },
  {
   "cell_type": "code",
   "execution_count": 4,
   "id": "7252a717",
   "metadata": {},
   "outputs": [],
   "source": [
    "import threading\n",
    "thread1=[threading.Thread(target=square,args=(i,)) for i in range(5)]\n",
    "thread2=[threading.Thread(target=cubes,args=(i,)) for i in range(5)]\n",
    "\n"
   ]
  },
  {
   "cell_type": "code",
   "execution_count": 3,
   "id": "aa8c3337",
   "metadata": {},
   "outputs": [
    {
     "name": "stdout",
     "output_type": "stream",
     "text": [
      "[0]\n",
      "[0, 1]\n",
      "[0, 1, 4]\n",
      "[0, 1, 4, 9]\n",
      "[0, 1, 4, 9, 16]\n"
     ]
    }
   ],
   "source": [
    "for t in thread1:\n",
    "    t.start()"
   ]
  },
  {
   "cell_type": "code",
   "execution_count": 5,
   "id": "3f147751",
   "metadata": {},
   "outputs": [
    {
     "name": "stdout",
     "output_type": "stream",
     "text": [
      "[0]\n",
      "[0, 1]\n",
      "[0, 1, 8]\n",
      "[0, 1, 8, 27]\n",
      "[0, 1, 8, 27, 64]\n"
     ]
    }
   ],
   "source": [
    "for t2 in thread2:\n",
    "    t2.start()"
   ]
  },
  {
   "cell_type": "code",
   "execution_count": null,
   "id": "6bf550f7",
   "metadata": {},
   "outputs": [],
   "source": []
  },
  {
   "cell_type": "markdown",
   "id": "d1abf8db",
   "metadata": {},
   "source": [
    "# Q5. State advantages and disadvantages of multithreading.\n"
   ]
  },
  {
   "cell_type": "markdown",
   "id": "273217f6",
   "metadata": {},
   "source": [
    "# advantages:\n",
    "    1. Scalability\n",
    "    2. Minimized system resource usage\n",
    "    3.Responsiveness"
   ]
  },
  {
   "cell_type": "markdown",
   "id": "2b0814e2",
   "metadata": {},
   "source": [
    "# Disadvantages of Multithreading\n",
    "   It needs more careful synchronization.\n",
    "It can consume a large space of stocks of blocked threads.\n",
    "It needs support for thread or process.\n",
    "If a parent process has several threads for proper process functioning, the child processes should also be multithreaded because they may be required.\n",
    "It imposes context switching overhead."
   ]
  },
  {
   "cell_type": "code",
   "execution_count": null,
   "id": "4502e5cd",
   "metadata": {},
   "outputs": [],
   "source": []
  },
  {
   "cell_type": "markdown",
   "id": "8e727450",
   "metadata": {},
   "source": [
    "# Q6. Explain deadlocks and race conditions."
   ]
  },
  {
   "cell_type": "markdown",
   "id": "d384d600",
   "metadata": {},
   "source": [
    "# deadlock. Two threads hold locks on different resources, each waiting indefinitely for the other to release its lock. race condition. Two (or more) threads alter the state of a shared resource concurrently, leaving it in an unpredictable state."
   ]
  },
  {
   "cell_type": "code",
   "execution_count": 24,
   "id": "42457f3f",
   "metadata": {},
   "outputs": [
    {
     "name": "stdout",
     "output_type": "stream",
     "text": [
      "thread starts\n",
      "thread end\n"
     ]
    }
   ],
   "source": [
    "import threading\n",
    "import time\n",
    "def thread():\n",
    "    print(\"thread starts\")\n",
    "    time.sleep(1)\n",
    "    print(\"thread end\")    \n",
    "    \n",
    "t=threading.Thread(target=thread)\n",
    "t.start()"
   ]
  },
  {
   "cell_type": "code",
   "execution_count": 31,
   "id": "ac1210f2",
   "metadata": {},
   "outputs": [],
   "source": [
    "t.join()\n"
   ]
  },
  {
   "cell_type": "code",
   "execution_count": 32,
   "id": "529ecdf8",
   "metadata": {},
   "outputs": [
    {
     "data": {
      "text/plain": [
       "8"
      ]
     },
     "execution_count": 32,
     "metadata": {},
     "output_type": "execute_result"
    }
   ],
   "source": [
    "threading.active_count()"
   ]
  },
  {
   "cell_type": "code",
   "execution_count": null,
   "id": "7f470158",
   "metadata": {},
   "outputs": [],
   "source": []
  },
  {
   "cell_type": "code",
   "execution_count": null,
   "id": "c1dc549d",
   "metadata": {},
   "outputs": [],
   "source": []
  }
 ],
 "metadata": {
  "kernelspec": {
   "display_name": "Python 3 (ipykernel)",
   "language": "python",
   "name": "python3"
  },
  "language_info": {
   "codemirror_mode": {
    "name": "ipython",
    "version": 3
   },
   "file_extension": ".py",
   "mimetype": "text/x-python",
   "name": "python",
   "nbconvert_exporter": "python",
   "pygments_lexer": "ipython3",
   "version": "3.9.13"
  }
 },
 "nbformat": 4,
 "nbformat_minor": 5
}
