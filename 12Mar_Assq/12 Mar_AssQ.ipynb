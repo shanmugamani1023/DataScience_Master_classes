{
 "cells": [
  {
   "cell_type": "markdown",
   "id": "b2377d07",
   "metadata": {},
   "source": [
    "# Q1. Calculate the 95% confidence interval for a sample of data with a mean of 50 and a standard deviation\n",
    "of 5 using Python. Interpret the results."
   ]
  },
  {
   "cell_type": "code",
   "execution_count": 8,
   "id": "2e82691b",
   "metadata": {},
   "outputs": [],
   "source": [
    "C_I=0.95\n",
    "sample_mean=50\n",
    "sample_std=5\n",
    "# results\n",
    "alpha=1-0.95\n",
    "c_i=1-alpha/2\n",
    "# c_i=sample_mean + or - margin_of_error\n",
    "\n",
    "# margin_of_error=critical_value*std_error\n",
    "# we can get critical_value by alpha,ppf,\n",
    "# std error-sigma/root(n)\n",
    "\n",
    "import scipy.stats as stats\n",
    "import math"
   ]
  },
  {
   "cell_type": "code",
   "execution_count": 14,
   "id": "6b012177",
   "metadata": {},
   "outputs": [
    {
     "name": "stdout",
     "output_type": "stream",
     "text": [
      "49.02001800772997 50.97998199227003\n"
     ]
    }
   ],
   "source": [
    "# assume\n",
    "n=100\n",
    "critical=stats.norm.ppf(c_i)\n",
    "std_error=sample_std/math.sqrt(n)\n",
    "margin_of_error=critical*std_error\n",
    "\n",
    "lower=sample_mean-margin_of_error\n",
    "higher=sample_mean+margin_of_error\n",
    "print(lower,higher)"
   ]
  },
  {
   "cell_type": "code",
   "execution_count": null,
   "id": "9f9f84a4",
   "metadata": {},
   "outputs": [],
   "source": []
  },
  {
   "cell_type": "markdown",
   "id": "849c00b1",
   "metadata": {},
   "source": [
    "# Q2. Conduct a chi-square goodness of fit test to determine if the distribution of colors of M&Ms in a bag\n",
    "matches the expected distribution of 20% blue, 20% orange, 20% green, 10% yellow, 10% red, and 20%\n",
    "brown. Use Python to perform the test with a significance level of 0.05."
   ]
  },
  {
   "cell_type": "markdown",
   "id": "c0344d30",
   "metadata": {},
   "source": [
    "# expected:\n",
    "    20%-blue\n",
    "    20%-orange\n",
    "    20%-green\n",
    "    10%-yellow\n",
    "    10%-red\n",
    "    10%-brown\n",
    "   \n",
    "   with \n",
    "   alpha=0.05"
   ]
  },
  {
   "cell_type": "code",
   "execution_count": 34,
   "id": "77a9b26f",
   "metadata": {},
   "outputs": [
    {
     "name": "stdout",
     "output_type": "stream",
     "text": [
      "the sample distribution equal to expected\n"
     ]
    }
   ],
   "source": [
    "from scipy.stats import chisquare\n",
    "\n",
    "observed_frequencies = [20, 20, 20, 10, 10, 20]  # blue, orange, green, yellow, red, brown\n",
    "\n",
    "expected=[20, 20, 20, 10, 10, 20]\n",
    "\n",
    "stat,p_value=chisquare(f_obs=observed_frequencies,f_exp=expected)\n",
    "\n",
    "if p_value >0.05:\n",
    "    print(\"the sample distribution equal to expected\")\n",
    "else:\n",
    "    print(\"the sample distribution not equal to expected\")\n",
    "    \n",
    "    \n"
   ]
  },
  {
   "cell_type": "code",
   "execution_count": null,
   "id": "9e8194e1",
   "metadata": {},
   "outputs": [],
   "source": []
  },
  {
   "cell_type": "markdown",
   "id": "054a7800",
   "metadata": {},
   "source": [
    "# Q3. Use Python to calculate the chi-square statistic and p-value for a contingency table with the following\n",
    "data:\n",
    "Interpret the results of the test."
   ]
  },
  {
   "attachments": {
    "Screenshot%20from%202023-05-04%2017-27-38.png": {
     "image/png": "[encoded data removed]"
    }
   },
   "cell_type": "markdown",
   "id": "73e72759",
   "metadata": {},
   "source": [
    "![Screenshot%20from%202023-05-04%2017-27-38.png](attachment:Screenshot%20from%202023-05-04%2017-27-38.png)"
   ]
  },
  {
   "cell_type": "code",
   "execution_count": 35,
   "id": "27f96a03",
   "metadata": {},
   "outputs": [],
   "source": [
    "import numpy as np\n",
    "import scipy.stats as stats"
   ]
  },
  {
   "cell_type": "code",
   "execution_count": 50,
   "id": "ced847d2",
   "metadata": {},
   "outputs": [
    {
     "name": "stdout",
     "output_type": "stream",
     "text": [
      "5.833333333333334 0.05411376622282158\n",
      "there is diff \n"
     ]
    }
   ],
   "source": [
    "obs=np.array([[20,10,15],[15,25,20]])\n",
    "\n",
    "statistic,pvalue,dof,expected_freq=stats.chi2_contingency(obs)\n",
    "\n",
    "print(statistic,pvalue)\n",
    "\n",
    "if pvalue <0.5:\n",
    "    print(\"there is diff \")\n",
    "else:\n",
    "    print(\"no difference\")"
   ]
  },
  {
   "cell_type": "code",
   "execution_count": null,
   "id": "9e9a0c36",
   "metadata": {},
   "outputs": [],
   "source": []
  },
  {
   "cell_type": "markdown",
   "id": "c8749c31",
   "metadata": {},
   "source": [
    "# Q4. A study of the prevalence of smoking in a population of 500 individuals found that 60 individuals\n",
    "smoked. Use Python to calculate the 95% confidence interval for the true proportion of individuals in the\n",
    "population who smoke."
   ]
  },
  {
   "cell_type": "code",
   "execution_count": 64,
   "id": "e81d9351",
   "metadata": {},
   "outputs": [],
   "source": [
    "# sample_percent=12%\n",
    "\n",
    "# true propertion\n",
    "# c_i=mean+/- margin_of_err\n",
    "# margin_of_err=z*math.sqrt(p*(1-p)/n)\n",
    "\n",
    "\n",
    "import scipy.stats as stats\n",
    "interval=0.95\n",
    "alpha=1-0.95\n",
    "c_i=1-(alpha/2)\n",
    "n=500\n",
    "p=60/n\n",
    "# p-sample_propertion(sample_percent/population_size)"
   ]
  },
  {
   "cell_type": "code",
   "execution_count": 67,
   "id": "5f3d7b12",
   "metadata": {},
   "outputs": [
    {
     "name": "stdout",
     "output_type": "stream",
     "text": [
      "0.09151638887130707 0.1484836111286929\n"
     ]
    }
   ],
   "source": [
    "z=stats.norm.ppf(c_i)\n",
    "std_err=math.sqrt(p*(1-p)/n)\n",
    "margin_err=z*std_err\n",
    "c_i_value_lower=p-(margin_err)\n",
    "c_i_value_higher=p+(margin_err)\n",
    "\n",
    "print(c_i_value_lower,c_i_value_higher)"
   ]
  },
  {
   "cell_type": "code",
   "execution_count": null,
   "id": "d86c549e",
   "metadata": {},
   "outputs": [],
   "source": []
  },
  {
   "cell_type": "markdown",
   "id": "8152f080",
   "metadata": {},
   "source": [
    "# Q5. Calculate the 90% confidence interval for a sample of data with a mean of 75 and a standard deviation\n",
    "of 12 using Python. Interpret the results."
   ]
  },
  {
   "cell_type": "code",
   "execution_count": 87,
   "id": "8a488d9d",
   "metadata": {},
   "outputs": [],
   "source": [
    "# c_i=90%\n",
    "sample_mean=75\n",
    "sample_std=12\n",
    "\n",
    "# results,interval\n",
    "\n",
    "# critical_value*std_error\n",
    "alpha=1-0.90\n",
    "c_i=1-(alpha/2)\n",
    "# t=ppf(c-i)\n",
    "# assume \n",
    "n=100\n",
    "# std_err=sigma/math.sqrt(n)\n"
   ]
  },
  {
   "cell_type": "code",
   "execution_count": 86,
   "id": "06bdda02",
   "metadata": {},
   "outputs": [
    {
     "name": "stdout",
     "output_type": "stream",
     "text": [
      "73.00753061280433 76.99246938719567\n"
     ]
    }
   ],
   "source": [
    "import scipy.stats as stats\n",
    "import math\n",
    "\n",
    "z=stats.t.ppf(c_i,n-1)\n",
    "\n",
    "std_err=sample_std/math.sqrt(n)\n",
    "\n",
    "margin_err=z*std_err\n",
    "\n",
    "lower=sample_mean-margin_err\n",
    "higher=sample_mean+margin_err\n",
    "\n",
    "print(lower,higher)\n",
    "\n",
    "\n"
   ]
  },
  {
   "cell_type": "code",
   "execution_count": null,
   "id": "7287d1f4",
   "metadata": {},
   "outputs": [],
   "source": []
  },
  {
   "cell_type": "markdown",
   "id": "0ef10e5f",
   "metadata": {},
   "source": [
    "# Q6. Use Python to plot the chi-square distribution with 10 degrees of freedom. Label the axes and shade the\n",
    "area corresponding to a chi-square statistic of 15."
   ]
  },
  {
   "cell_type": "code",
   "execution_count": 1,
   "id": "3b6d781f",
   "metadata": {},
   "outputs": [],
   "source": [
    "chi_squre_stat=15\n",
    "dof=10\n"
   ]
  },
  {
   "cell_type": "code",
   "execution_count": 32,
   "id": "d0138f60",
   "metadata": {},
   "outputs": [
    {
     "data": {
      "image/png": "[encoded data removed]",
      "text/plain": [
       "<Figure size 640x480 with 1 Axes>"
      ]
     },
     "metadata": {},
     "output_type": "display_data"
    }
   ],
   "source": [
    "import matplotlib.pyplot as plot\n",
    "\n",
    "import scipy.stats as stats\n",
    "\n",
    "import numpy as np\n",
    "# chi square distribution plot\n",
    "\n",
    "# x,y\n",
    "# x=crtical value array\n",
    "\n",
    "# y-pdf of x as array\n",
    "# assume\n",
    "c_i=0.95\n",
    "\n",
    "start_value=stats.chi2.ppf(0.001,dof)\n",
    "en_value=stats.chi2.ppf(0.999,dof)\n",
    "\n",
    "x=np.linspace(start_value,en_value,1000)\n",
    "\n",
    "y=chi2.pdf(x,dof)\n",
    "\n",
    "\n",
    "\n",
    "x_fill=np.linspace(stats.chi2.ppf(c_i,dof),max(x),100)\n",
    "\n",
    "y_fill=chi2.pdf(x_fill,dof)\n",
    "\n",
    "\n",
    "fig,ax=plt.subplots()\n",
    "\n",
    "ax.plot(x,y)\n",
    "\n",
    "ax.fill_between(x_fill,y_fill)\n",
    "\n",
    "ax.set_xlabel(\"x\")\n",
    "ax.set_ylabel(\"pdf\")\n",
    "ax.set_title(\"$\\chi^2$-plot\")\n",
    "plot.show()\n",
    "\n",
    "\n",
    "\n",
    "\n",
    "\n",
    "\n"
   ]
  },
  {
   "cell_type": "code",
   "execution_count": null,
   "id": "c8f58eb3",
   "metadata": {},
   "outputs": [],
   "source": []
  },
  {
   "cell_type": "markdown",
   "id": "23d79fcb",
   "metadata": {},
   "source": [
    "# Q7. A random sample of 1000 people was asked if they preferred Coke or Pepsi. Of the sample, 520\n",
    "preferred Coke. Calculate a 99% confidence interval for the true proportion of people in the population who\n",
    "prefer Coke."
   ]
  },
  {
   "cell_type": "code",
   "execution_count": 47,
   "id": "b81273b6",
   "metadata": {},
   "outputs": [],
   "source": [
    "N=1000\n",
    "n=520\n",
    "p=(n/N)\n",
    "interval=0.99\n",
    "alpha=1-0.99\n",
    "c_i=1-alpha/2\n",
    "# confidene_interval=p+/margin_of_err\n",
    "\n",
    "# margin_of_err=critical_value*(math.sqrt(p(1-p)/n))\n",
    "\n",
    "# critical_value=z=norm.ppf()\n",
    "\n",
    "# lower_fence=p-margin_of_err\n",
    "\n",
    "# higher_fence=p+margin_of_err\n",
    "\n"
   ]
  },
  {
   "cell_type": "code",
   "execution_count": 40,
   "id": "651729f6",
   "metadata": {},
   "outputs": [],
   "source": [
    "import scipy.stats as stats\n",
    "import math\n"
   ]
  },
  {
   "cell_type": "code",
   "execution_count": 53,
   "id": "511d4961",
   "metadata": {},
   "outputs": [
    {
     "name": "stdout",
     "output_type": "stream",
     "text": [
      "0.4793051576779699 0.5606948423220302\n"
     ]
    }
   ],
   "source": [
    "critical_value=stats.norm.ppf(c_i)\n",
    "\n",
    "margin_of_err=critical_value*(math.sqrt(p*(1-p)/N))\n",
    "\n",
    "\n",
    "lower_fence=p-margin_of_err\n",
    "\n",
    "higher_fence=p+margin_of_err\n",
    "\n",
    "print(lower_fence,higher_fence)"
   ]
  },
  {
   "cell_type": "code",
   "execution_count": null,
   "id": "af7b1b55",
   "metadata": {},
   "outputs": [],
   "source": []
  },
  {
   "cell_type": "markdown",
   "id": "1bdc03bd",
   "metadata": {},
   "source": [
    "# Q8. A researcher hypothesizes that a coin is biased towards tails. They flip the coin 100 times and observe\n",
    "45 tails. Conduct a chi-square goodness of fit test to determine if the observed frequencies match the\n",
    "expected frequencies of a fair coin. Use a significance level of 0.05."
   ]
  },
  {
   "cell_type": "code",
   "execution_count": 80,
   "id": "eabd9b2f",
   "metadata": {},
   "outputs": [],
   "source": [
    "n=100\n",
    "tail_count=45\n",
    "# check coin is fair or not\n",
    "\n",
    "alpha=0.05\n",
    "\n",
    "obs=[]\n",
    "expec=[]\n",
    "import scipy.stats as stats\n",
    "import numpy as np"
   ]
  },
  {
   "cell_type": "code",
   "execution_count": 82,
   "id": "0c1079ab",
   "metadata": {},
   "outputs": [],
   "source": [
    "ob_tail_count=45\n",
    "observer_head_count=int(n-tail_count)\n",
    "obs=np.array([observer_head_count,ob_tail_count])\n",
    "# for fair coin\n",
    "# head percent =50% so,value =50,50\n",
    "expected_head_count=50\n",
    "expected_tail_count=50\n",
    "\n",
    "expe=np.array([expected_head_count,expected_tail_count])\n",
    "\n",
    "\n"
   ]
  },
  {
   "cell_type": "code",
   "execution_count": 83,
   "id": "0195769b",
   "metadata": {},
   "outputs": [
    {
     "name": "stdout",
     "output_type": "stream",
     "text": [
      "accept h0\n"
     ]
    }
   ],
   "source": [
    "stats,pvalue=stats.chisquare(obs,expe)\n",
    "\n",
    "if pvalue > alpha:\n",
    "    print(\"accept h0\")\n",
    "else:\n",
    "    print(\"reject h0\")"
   ]
  },
  {
   "cell_type": "markdown",
   "id": "e0828f7c",
   "metadata": {},
   "source": [
    "# result:\n",
    "# so,the coin is biased towrds tails is true"
   ]
  },
  {
   "cell_type": "code",
   "execution_count": null,
   "id": "e3275ba8",
   "metadata": {},
   "outputs": [],
   "source": []
  },
  {
   "cell_type": "markdown",
   "id": "b777d709",
   "metadata": {},
   "source": [
    "# Q9. A study was conducted to determine if there is an association between smoking status (smoker or\n",
    "non-smoker) and lung cancer diagnosis (yes or no). The results are shown in the contingency table below.\n",
    "Conduct a chi-square test for independence to determine if there is a significant association between\n",
    "smoking status and lung cancer diagnosis.\n",
    "\n",
    "Use a significance level of 0.05."
   ]
  },
  {
   "attachments": {
    "Screenshot%20from%202023-05-05%2008-36-07.png": {
     "image/png": "[encoded data removed]"
    }
   },
   "cell_type": "markdown",
   "id": "e5a1c6ff",
   "metadata": {},
   "source": [
    "# ![Screenshot%20from%202023-05-05%2008-36-07.png](attachment:Screenshot%20from%202023-05-05%2008-36-07.png)"
   ]
  },
  {
   "cell_type": "code",
   "execution_count": 89,
   "id": "6922aa55",
   "metadata": {},
   "outputs": [],
   "source": [
    "import scipy.stats as stats\n",
    "import numpy as np\n",
    "\n",
    "obs=np.array([[60,30],[140,170]])\n",
    "alpha=0.05"
   ]
  },
  {
   "cell_type": "code",
   "execution_count": 94,
   "id": "f5c69ab5",
   "metadata": {},
   "outputs": [
    {
     "name": "stdout",
     "output_type": "stream",
     "text": [
      "0.0005158863863703744\n",
      "reject h0\n"
     ]
    }
   ],
   "source": [
    "statistic,pvalue,dof,expected_freq=stats.chi2_contingency(obs)\n",
    "print(pvalue)\n",
    "if pvalue > alpha:\n",
    "    print(\"accept h0\")\n",
    "else:\n",
    "    print(\"reject h0\")"
   ]
  },
  {
   "cell_type": "code",
   "execution_count": null,
   "id": "a0a5c8e4",
   "metadata": {},
   "outputs": [],
   "source": []
  },
  {
   "cell_type": "code",
   "execution_count": null,
   "id": "92581e40",
   "metadata": {},
   "outputs": [],
   "source": []
  },
  {
   "cell_type": "markdown",
   "id": "18ba867d",
   "metadata": {},
   "source": [
    "# Q10. A study was conducted to determine if the proportion of people who prefer milk chocolate, dark\n",
    "chocolate, or white chocolate is different in the U.S. versus the U.K. A random sample of 500 people from\n",
    "the U.S. and a random sample of 500 people from the U.K. were surveyed. The results are shown in the\n",
    "contingency table below. Conduct a chi-square test for independence to determine if there is a significant\n",
    "association between chocolate preference and country of origin.\n",
    "Use a significance level of 0.01"
   ]
  },
  {
   "attachments": {
    "Screenshot%20from%202023-05-05%2008-50-32.png": {
     "image/png": "[encoded data removed]"
    }
   },
   "cell_type": "markdown",
   "id": "b7a8fa46",
   "metadata": {},
   "source": [
    "![Screenshot%20from%202023-05-05%2008-50-32.png](attachment:Screenshot%20from%202023-05-05%2008-50-32.png)"
   ]
  },
  {
   "cell_type": "code",
   "execution_count": 101,
   "id": "65f9e406",
   "metadata": {},
   "outputs": [
    {
     "name": "stdout",
     "output_type": "stream",
     "text": [
      "0.0012348168997745918\n",
      "reject h0\n"
     ]
    }
   ],
   "source": [
    "a=[200,225]\n",
    "b=[150,175]\n",
    "c=[150,100]\n",
    "obs=np.array([a,b,c])\n",
    "alpha=0.01\n",
    "\n",
    "statistic,pvalue,dof,expected_freq=stats.chi2_contingency(obs)\n",
    "print(pvalue)\n",
    "if pvalue > alpha:\n",
    "    print(\"accept h0\")\n",
    "else:\n",
    "    print(\"reject h0\")"
   ]
  },
  {
   "cell_type": "code",
   "execution_count": null,
   "id": "40b0e3ec",
   "metadata": {},
   "outputs": [],
   "source": []
  },
  {
   "cell_type": "markdown",
   "id": "4b356f27",
   "metadata": {},
   "source": [
    "# Q11. A random sample of 30 people was selected from a population with an unknown mean and standard\n",
    "deviation. The sample mean was found to be 72 and the sample standard deviation was found to be 10.\n",
    "Conduct a hypothesis test to determine if the population mean is significantly different from 70. Use a\n",
    "significance level of 0.05."
   ]
  },
  {
   "cell_type": "code",
   "execution_count": 115,
   "id": "e3382623",
   "metadata": {},
   "outputs": [],
   "source": [
    "n=30\n",
    "sample_mean=72\n",
    "sample_std=10\n",
    "# conduct hypotheis test to find populatio is diff from 70\n",
    "alpha=0.05\n",
    "# assume mu=70\n",
    "mu=70\n",
    "dof=n-1\n",
    "import scipy.stats as stats\n",
    "import math"
   ]
  },
  {
   "cell_type": "code",
   "execution_count": 114,
   "id": "4a7785bb",
   "metadata": {},
   "outputs": [],
   "source": [
    "# h0: mu-70"
   ]
  },
  {
   "cell_type": "code",
   "execution_count": 113,
   "id": "3c745ae1",
   "metadata": {},
   "outputs": [
    {
     "name": "stdout",
     "output_type": "stream",
     "text": [
      "accept h0\n"
     ]
    }
   ],
   "source": [
    "t=(sample_mean-mu)/math.sqrt(n)\n",
    "pvalue=stats.t.sf(abs(t),dof)\n",
    "\n",
    "if pvalue >alpha:\n",
    "    print(\"accept h0\")\n",
    "else:\n",
    "    print(\"reject h0\")"
   ]
  },
  {
   "cell_type": "markdown",
   "id": "04e9463a",
   "metadata": {},
   "source": [
    "# result :\n",
    "Te test gives result as population mean is significantly not different from 70\n"
   ]
  },
  {
   "cell_type": "code",
   "execution_count": null,
   "id": "c1e14f7a",
   "metadata": {},
   "outputs": [],
   "source": []
  },
  {
   "cell_type": "code",
   "execution_count": null,
   "id": "8566e383",
   "metadata": {},
   "outputs": [],
   "source": []
  },
  {
   "cell_type": "code",
   "execution_count": null,
   "id": "aea03f5c",
   "metadata": {},
   "outputs": [],
   "source": []
  },
  {
   "cell_type": "code",
   "execution_count": null,
   "id": "8def70c2",
   "metadata": {},
   "outputs": [],
   "source": []
  },
  {
   "cell_type": "code",
   "execution_count": null,
   "id": "8f26b780",
   "metadata": {},
   "outputs": [],
   "source": []
  },
  {
   "cell_type": "code",
   "execution_count": null,
   "id": "294ca4da",
   "metadata": {},
   "outputs": [],
   "source": []
  },
  {
   "cell_type": "code",
   "execution_count": null,
   "id": "c6c42305",
   "metadata": {},
   "outputs": [],
   "source": []
  }
 ],
 "metadata": {
  "kernelspec": {
   "display_name": "Python 3 (ipykernel)",
   "language": "python",
   "name": "python3"
  },
  "language_info": {
   "codemirror_mode": {
    "name": "ipython",
    "version": 3
   },
   "file_extension": ".py",
   "mimetype": "text/x-python",
   "name": "python",
   "nbconvert_exporter": "python",
   "pygments_lexer": "ipython3",
   "version": "3.10.9"
  }
 },
 "nbformat": 4,
 "nbformat_minor": 5
}
