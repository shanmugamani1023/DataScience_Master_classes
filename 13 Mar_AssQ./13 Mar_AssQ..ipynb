{
 "cells": [
  {
   "cell_type": "markdown",
   "id": "e969d818",
   "metadata": {},
   "source": [
    "# Q1. Explain the assumptions required to use ANOVA and provide examples of violations that could impact\n",
    "the validity of the results"
   ]
  },
  {
   "cell_type": "markdown",
   "id": "659a45de",
   "metadata": {},
   "source": [
    "# what is anova:\n",
    "# analysis of variance ,used to compare the means of two or more diff groups"
   ]
  },
  {
   "cell_type": "markdown",
   "id": "850c739e",
   "metadata": {},
   "source": [
    "# assumptions:\n",
    "# 1.sampling distribution of mean will distribute normally\n",
    "# 2.no ouliers in distribution\n",
    "# 3.samples are random and independent\n",
    "# 4.homogenity of variance-variance of multiple group are equal"
   ]
  },
  {
   "cell_type": "markdown",
   "id": "46d4d8e6",
   "metadata": {},
   "source": [
    "# example:\n",
    "\n",
    "# Normality violation: Suppose we are comparing the average income of three different professions, but the data for one profession is heavily skewed due to a few high-income outliers. In this case, ANOVA may not be appropriate because the data is not normally distributed, and the assumption of normality is violated.\n",
    "\n",
    "# Homogeneity of variances violation: Suppose we are comparing the average height of three different plant varieties, but one variety has a much larger variance in height than the other two. In this case, ANOVA may not be appropriate because the assumption of equal variances is violated.\n",
    "\n",
    "# Independence violation: Suppose we are comparing the effectiveness of three different treatments for a disease, but some patients receive multiple treatments or are related to each other. In this case, ANOVA may not be appropriate because the assumption of independence is violated, and the correlation between the observations can lead to biased results."
   ]
  },
  {
   "cell_type": "code",
   "execution_count": null,
   "id": "0e1e0407",
   "metadata": {},
   "outputs": [],
   "source": []
  },
  {
   "cell_type": "markdown",
   "id": "4c30ad8f",
   "metadata": {},
   "source": [
    "# Q2. What are the three types of ANOVA, and in what situations would each be used?"
   ]
  },
  {
   "cell_type": "markdown",
   "id": "293bc81a",
   "metadata": {},
   "source": [
    "# types:\n",
    "    1.one way test annova or (one way)\n",
    "    2.repeated test annova or (two way)\n",
    "    3.ratio test annova or (N way)"
   ]
  },
  {
   "cell_type": "markdown",
   "id": "4733394b",
   "metadata": {},
   "source": [
    "# 1.one way test:\n",
    "    factor-category\n",
    "    level-sub catagory\n",
    "    \n",
    "    this types used in one factor and 2 or more multiple levels ,and levels are independent\n",
    "    "
   ]
  },
  {
   "cell_type": "markdown",
   "id": "7c99a6fa",
   "metadata": {},
   "source": [
    "# 2.repeated annova:\n",
    "    this type used in one factor and 2 or more multiple levels,and levels are dependent"
   ]
  },
  {
   "cell_type": "markdown",
   "id": "3b06e4eb",
   "metadata": {},
   "source": [
    "# 3.ratio annova:\n",
    "    this type used in two or more factors and multiple levels,levels may be dependent,and independent"
   ]
  },
  {
   "cell_type": "code",
   "execution_count": null,
   "id": "4af6d435",
   "metadata": {},
   "outputs": [],
   "source": []
  },
  {
   "cell_type": "markdown",
   "id": "4c1d44a5",
   "metadata": {},
   "source": [
    "# Q3. What is the partitioning of variance in ANOVA, and why is it important to understand this concept?"
   ]
  },
  {
   "cell_type": "markdown",
   "id": "361fa816",
   "metadata": {},
   "source": [
    "# partitioning of variance in anova means ratio b/w variance b/w groups and ration within groups.\n",
    "\n",
    "# if we know about partitioning then we can know about why or what is different b/w the data's"
   ]
  },
  {
   "cell_type": "code",
   "execution_count": null,
   "id": "a755b794",
   "metadata": {},
   "outputs": [],
   "source": []
  },
  {
   "cell_type": "markdown",
   "id": "636473e6",
   "metadata": {},
   "source": [
    "# Q4. How would you calculate the total sum of squares (SST), explained sum of squares (SSE), and residual\n",
    "sum of squares (SSR) in a one-way ANOVA using Python?\n",
    "\n",
    "sst,sse,ssr"
   ]
  },
  {
   "cell_type": "code",
   "execution_count": 25,
   "id": "cd648ca2",
   "metadata": {},
   "outputs": [
    {
     "name": "stdout",
     "output_type": "stream",
     "text": [
      "821.7076520396762 -90.49618200200453 791.6609613242791\n"
     ]
    }
   ],
   "source": [
    "import numpy as np\n",
    "from statsmodels.formula.api import ols\n",
    "# models for one way annova\n",
    "#sample data\n",
    "\n",
    "np.random.seed(123)\n",
    "data1=np.random.normal(1,2,50)\n",
    "data2=np.random.normal(2,3,50)\n",
    "data=np.concatenate([data1,data2])\n",
    "groups=np.concatenate([['group1']*50,['group2']*50])\n",
    "\n",
    "\n",
    "models=ols('data ~ C(groups)',data=dict(data=data,groups=groups)).fit()\n",
    "\n",
    "sst=np.sum((data-data.mean())**2)\n",
    "\n",
    "sse=np.sum((models.fittedvalues-data.mean()**2))\n",
    "\n",
    "ssr=np.sum((models.resid)**2)\n",
    "print(sst,sse,ssr)\n"
   ]
  },
  {
   "cell_type": "code",
   "execution_count": null,
   "id": "6f21676b",
   "metadata": {},
   "outputs": [],
   "source": []
  },
  {
   "cell_type": "code",
   "execution_count": 4,
   "id": "d6850aad",
   "metadata": {},
   "outputs": [],
   "source": []
  },
  {
   "cell_type": "markdown",
   "id": "0bbd832b",
   "metadata": {},
   "source": [
    "# Q5. In a two-way ANOVA, how would you calculate the main effects and interaction effects using Python?"
   ]
  },
  {
   "cell_type": "code",
   "execution_count": null,
   "id": "c4e01fbc",
   "metadata": {},
   "outputs": [],
   "source": []
  },
  {
   "cell_type": "code",
   "execution_count": 6,
   "id": "2ced64eb",
   "metadata": {},
   "outputs": [],
   "source": [
    "# Importing libraries\n",
    "import numpy as np\n",
    "import pandas as pd\n",
    "\n",
    "import statsmodels.api as sm\n",
    "from statsmodels.formula.api import ols\n",
    "\n",
    "# maineffect means result of sigle independent variable\n",
    "# interaction effect means result of combination of two or more independent variblas,\n",
    "\n",
    "# ex:i l take tution to some persons,\n",
    "# then i can teach to them so tyey will imporive them maths skill\n",
    "# and i can give homewrok so they will improve them skill\n",
    "# so ,the main effect explain the result of my teaching,homework\n",
    "# interaction effect explains result of combination of both effect\n",
    "\n",
    "# for that we should \n"
   ]
  },
  {
   "cell_type": "code",
   "execution_count": 8,
   "id": "7b5e357a",
   "metadata": {},
   "outputs": [
    {
     "name": "stdout",
     "output_type": "stream",
     "text": [
      "                             df     sum_sq   mean_sq         F    PR(>F)\n",
      "C(Fertilizer)               1.0   0.033333  0.033333  0.012069  0.913305\n",
      "C(Watering)                 1.0   1.027463  1.027463  0.372012  0.546828\n",
      "C(Fertilizer):C(Watering)   1.0   0.577010  0.577010  0.208918  0.651144\n",
      "Residual                   28.0  77.333333  2.761905       NaN       NaN\n"
     ]
    }
   ],
   "source": [
    "dataframe = pd.DataFrame({'Fertilizer': np.repeat(['daily', 'weekly'], 15),\n",
    "                          'Watering': np.repeat(['daily', 'weekly'], 15),\n",
    "                          'height': [14, 16, 15, 15, 16, 13, 12, 11,\n",
    "                                     14, 15, 16, 16, 17, 18, 14, 13, \n",
    "                                     14, 14, 14, 15, 16, 16, 17, 18,\n",
    "                                     14, 13, 14, 14, 14, 15]})\n",
    "model=ols('height ~ C(Fertilizer) + C(Watering) +\\\n",
    "C(Fertilizer):C(Watering)',data=dataframe).fit()\n",
    "result=sm.stats.anova_lm(model,type=2)\n",
    "\n",
    "print(result)"
   ]
  },
  {
   "cell_type": "markdown",
   "id": "8400bebb",
   "metadata": {},
   "source": [
    "# The p-values for water and sun turn out to be less than 0.05 which implies that the means of both the factors possess a statistically significant effect on plant height. The p-value for the interaction effect (0.904053) is greater than 0.05 which depicts that there is no significant interaction effect between fertilizer frequency and watering frequency.\n",
    "\n"
   ]
  },
  {
   "cell_type": "code",
   "execution_count": null,
   "id": "344a073c",
   "metadata": {},
   "outputs": [],
   "source": []
  },
  {
   "cell_type": "markdown",
   "id": "1e26958f",
   "metadata": {},
   "source": [
    "# Q6. Suppose you conducted a one-way ANOVA and obtained an F-statistic of 5.23 and a p-value of 0.02.\n",
    "What can you conclude about the differences between the groups, and how would you interpret these\n",
    "results?\n"
   ]
  },
  {
   "cell_type": "markdown",
   "id": "8901ea33",
   "metadata": {},
   "source": [
    "# fvalue=5.23\n",
    "# pvalue=0.02\n",
    "\n",
    "# f value is ration b/w variance b/w groups and variance within groups\n",
    "# f value 5.23 explains there is diff b/w groups.and \n",
    "# p value refers the probability of random variable in area where h0 is true\n",
    "\n",
    "# but this pvalue refers thers is less evidence to prove null hypo is true,because the value is less\n"
   ]
  },
  {
   "cell_type": "markdown",
   "id": "3865bd37",
   "metadata": {},
   "source": [
    "# To interpret the results further, additional post-hoc tests or further analysis may be conducted to identify which specific groups differ from each other. These tests would help determine the nature and direction of the differences between the groups."
   ]
  },
  {
   "cell_type": "code",
   "execution_count": null,
   "id": "1bcd989e",
   "metadata": {},
   "outputs": [],
   "source": []
  },
  {
   "cell_type": "code",
   "execution_count": null,
   "id": "2c95bcab",
   "metadata": {},
   "outputs": [],
   "source": []
  },
  {
   "cell_type": "markdown",
   "id": "aca27da8",
   "metadata": {},
   "source": [
    "# Q7. In a repeated measures ANOVA, how would you handle missing data, and what are the potential consequences of using different methods to handle missing data"
   ]
  },
  {
   "cell_type": "markdown",
   "id": "9c3e2aaf",
   "metadata": {},
   "source": [
    "# 1.complete case analaysis\n",
    "# 2.mean subtitution\n",
    "# 3.pair wise deletion\n",
    "# 4.multiple imputation\n",
    "# 5.last observation carried forward"
   ]
  },
  {
   "cell_type": "code",
   "execution_count": null,
   "id": "a1408325",
   "metadata": {},
   "outputs": [],
   "source": []
  },
  {
   "cell_type": "code",
   "execution_count": null,
   "id": "ab83fa8c",
   "metadata": {},
   "outputs": [],
   "source": []
  },
  {
   "cell_type": "markdown",
   "id": "6ab4bac7",
   "metadata": {},
   "source": [
    "# Q8. What are some common post-hoc tests used after ANOVA, and when would you use each one? Provide\n",
    "an example of a situation where a post-hoc test might be necessary."
   ]
  },
  {
   "cell_type": "markdown",
   "id": "d9fbc99a",
   "metadata": {},
   "source": [
    "# post hoc test is a statistical test used to test which group has significantly differ than anyother group after anova\n",
    "\n",
    "# ex: doctor give 3 type of medicines to person for headche,\n",
    "\n",
    "# so in annova we can find the effect of medcines are not equal\n",
    "\n",
    "# we cant find which medicine gives different result,so we can use poc hoc test for that.\n"
   ]
  },
  {
   "cell_type": "code",
   "execution_count": null,
   "id": "5379bbec",
   "metadata": {},
   "outputs": [],
   "source": []
  },
  {
   "cell_type": "markdown",
   "id": "ff647d36",
   "metadata": {},
   "source": [
    "# Q9. A researcher wants to compare the mean weight loss of three diets: A, B, and C. They collect data from\n",
    "50 participants who were randomly assigned to one of the diets. Conduct a one-way ANOVA using Python\n",
    "to determine if there are any significant differences between the mean weight loss of the three diets.\n",
    "Report the F-statistic and p-value, and interpret the results."
   ]
  },
  {
   "cell_type": "code",
   "execution_count": 3,
   "id": "84216ae1",
   "metadata": {},
   "outputs": [
    {
     "name": "stdout",
     "output_type": "stream",
     "text": [
      "49\n",
      "F-statistic: 82.71943496342503\n",
      "p-value: 9.58391576831411e-25\n"
     ]
    }
   ],
   "source": [
    "import scipy.stats as stats\n",
    "\n",
    "# Weight loss data for each diet group\n",
    "diet_A = [2, 3, 4, 5, 3, 2, 1, 4, 3, 2,\n",
    "          3, 2, 1, 3, 4, 5, 2, 3, 4, 3, \n",
    "          2, 1, 3, 4, 5, 2, 3, 4, 5, 3, \n",
    "          2, 1, 4, 3, 2, 3, 2, 1, 3, 4, \n",
    "          5, 2, 3, 4, 3, 2, 1, 3, 4]\n",
    "diet_B = [1, 1, 2, 3, 2, 1, 1, 2, 1, \n",
    "          1, 1, 2, 1, 1, 2, 3, 2, 1, \n",
    "          1, 2, 1, 1, 1, 2, 1, 1, 2, 3, 2, 1, 1, 2, 1, 1, 1, 2, 1, 1, 2, 3, 2, 1, 1, 2, 1, 1, 1, 2, 1, 1]\n",
    "diet_C = [3, 4, 4, 3, 5, 3, 4, 3, 5, 3, 4, 3, 5, 3, 4, 4, 3, 5, 3, 4, 3, 5, 3, 4, 4, 3, 5, 3, 4, 3, 5, 3, 4, 4, 3, 5, 3, 4, 3, 5, 3, 4, 4, 3, 5, 3, 4, 3, 5, 3]\n",
    "print(len(diet_A))\n",
    "# Perform one-way ANOVA\n",
    "f_stat, p_value = stats.f_oneway(diet_A, diet_B, diet_C)\n",
    "\n",
    "# Print the results\n",
    "print(\"F-statistic:\", f_stat)\n",
    "print(\"p-value:\", p_value)\n"
   ]
  },
  {
   "cell_type": "markdown",
   "id": "eba5e8c6",
   "metadata": {},
   "source": [
    "# The extremely small p-value (close to 0) indicates strong evidence against the null hypothesis. Therefore, we reject the null hypothesis and conclude that there is a statistically significant difference in the mean weight loss among the three diet groups.\n",
    "\n",
    "The high F-statistic value further supports the conclusion that there are substantial differences between the groups. The larger the F-statistic, the greater the evidence for differences between the groups.\n",
    "\n",
    "In summary, the updated result confirms that there is a significant difference in the mean weight loss among the three diet groups based on the provided data."
   ]
  },
  {
   "cell_type": "code",
   "execution_count": 4,
   "id": "5b89dc30",
   "metadata": {},
   "outputs": [],
   "source": [
    "# 0.0000000000000000000000000958391576831411. This extremely small value indicates strong evidence against the null hypothesis."
   ]
  },
  {
   "cell_type": "code",
   "execution_count": null,
   "id": "876ab106",
   "metadata": {},
   "outputs": [],
   "source": []
  }
 ],
 "metadata": {
  "kernelspec": {
   "display_name": "Python 3 (ipykernel)",
   "language": "python",
   "name": "python3"
  },
  "language_info": {
   "codemirror_mode": {
    "name": "ipython",
    "version": 3
   },
   "file_extension": ".py",
   "mimetype": "text/x-python",
   "name": "python",
   "nbconvert_exporter": "python",
   "pygments_lexer": "ipython3",
   "version": "3.10.9"
  }
 },
 "nbformat": 4,
 "nbformat_minor": 5
}
