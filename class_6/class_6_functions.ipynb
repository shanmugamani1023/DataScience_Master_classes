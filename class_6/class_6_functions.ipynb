{
 "cells": [
  {
   "cell_type": "code",
   "execution_count": 23,
   "id": "058300fe",
   "metadata": {},
   "outputs": [],
   "source": [
    "# consider you have dictionary ,\n",
    "# if the dictionafy has list then return that\n",
    "\n",
    "def return_list(dict_value):\n",
    "    print(type(dict_value))\n",
    "    for i in dict_value.keys():\n",
    "        print(i)\n",
    "    "
   ]
  },
  {
   "cell_type": "code",
   "execution_count": 24,
   "id": "1b0bac44",
   "metadata": {},
   "outputs": [
    {
     "ename": "TypeError",
     "evalue": "return_list() got an unexpected keyword argument 'a'",
     "output_type": "error",
     "traceback": [
      "\u001b[0;31m---------------------------------------------------------------------------\u001b[0m",
      "\u001b[0;31mTypeError\u001b[0m                                 Traceback (most recent call last)",
      "\u001b[0;32m/tmp/ipykernel_10101/2458244333.py\u001b[0m in \u001b[0;36m<module>\u001b[0;34m\u001b[0m\n\u001b[0;32m----> 1\u001b[0;31m \u001b[0mreturn_list\u001b[0m\u001b[0;34m(\u001b[0m\u001b[0ma\u001b[0m\u001b[0;34m=\u001b[0m\u001b[0;36m8\u001b[0m\u001b[0;34m)\u001b[0m\u001b[0;34m\u001b[0m\u001b[0;34m\u001b[0m\u001b[0m\n\u001b[0m",
      "\u001b[0;31mTypeError\u001b[0m: return_list() got an unexpected keyword argument 'a'"
     ]
    }
   ],
   "source": [
    "return_list(a=8)"
   ]
  },
  {
   "cell_type": "code",
   "execution_count": 26,
   "id": "c815c972",
   "metadata": {},
   "outputs": [],
   "source": [
    "# generator function =used to return generator object ,its a iterable ,and we can create it by yield"
   ]
  },
  {
   "cell_type": "code",
   "execution_count": 25,
   "id": "608f18e4",
   "metadata": {},
   "outputs": [],
   "source": [
    "# instead of store one value into one big memory like list, we can give value instantly ,using yield"
   ]
  },
  {
   "cell_type": "code",
   "execution_count": 27,
   "id": "7af1304f",
   "metadata": {},
   "outputs": [],
   "source": [
    "# fibonci series\n",
    "# add old 2 elements and produce new one\n",
    "0,1,1,2,3,5,8,13,..."
   ]
  },
  {
   "cell_type": "code",
   "execution_count": 30,
   "id": "6d6e3c62",
   "metadata": {},
   "outputs": [
    {
     "name": "stdout",
     "output_type": "stream",
     "text": [
      "0\n",
      "1\n",
      "2\n",
      "3\n",
      "4\n",
      "5\n",
      "6\n",
      "7\n",
      "8\n",
      "9\n"
     ]
    }
   ],
   "source": [
    "def gen(n):\n",
    "    a,b=0,1\n",
    "    for i in range(n):\n",
    "        yield a\n",
    "        a,b=b,b+1\n",
    "        \n",
    "for j in (gen(10)):\n",
    "    print(j)\n",
    "    "
   ]
  },
  {
   "cell_type": "code",
   "execution_count": null,
   "id": "8c93845a",
   "metadata": {},
   "outputs": [],
   "source": []
  },
  {
   "cell_type": "code",
   "execution_count": null,
   "id": "fb9cb246",
   "metadata": {},
   "outputs": [],
   "source": []
  },
  {
   "cell_type": "code",
   "execution_count": null,
   "id": "8e192faa",
   "metadata": {},
   "outputs": [],
   "source": []
  }
 ],
 "metadata": {
  "kernelspec": {
   "display_name": "Python 3 (ipykernel)",
   "language": "python",
   "name": "python3"
  },
  "language_info": {
   "codemirror_mode": {
    "name": "ipython",
    "version": 3
   },
   "file_extension": ".py",
   "mimetype": "text/x-python",
   "name": "python",
   "nbconvert_exporter": "python",
   "pygments_lexer": "ipython3",
   "version": "3.9.13"
  }
 },
 "nbformat": 4,
 "nbformat_minor": 5
}
