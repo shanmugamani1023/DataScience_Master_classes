{
 "cells": [
  {
   "cell_type": "code",
   "execution_count": 5,
   "id": "b6029f38",
   "metadata": {},
   "outputs": [],
   "source": [
    "# consider you have dictionary ,\n",
    "# if the dictionafy has list then return that\n",
    "\n",
    "def return_list(*dict_value):\n",
    "    for i in dict_value.keys():\n",
    "        print(i)\n",
    "    "
   ]
  },
  {
   "cell_type": "code",
   "execution_count": 3,
   "id": "daa8f6fb",
   "metadata": {},
   "outputs": [
    {
     "ename": "TypeError",
     "evalue": "return_list() takes 1 positional argument but 2 were given",
     "output_type": "error",
     "traceback": [
      "\u001b[0;31m---------------------------------------------------------------------------\u001b[0m",
      "\u001b[0;31mTypeError\u001b[0m                                 Traceback (most recent call last)",
      "\u001b[0;32m/tmp/ipykernel_10101/2862404798.py\u001b[0m in \u001b[0;36m<module>\u001b[0;34m\u001b[0m\n\u001b[0;32m----> 1\u001b[0;31m \u001b[0mreturn_list\u001b[0m\u001b[0;34m(\u001b[0m\u001b[0;34m{\u001b[0m\u001b[0;34m\"name\"\u001b[0m\u001b[0;34m:\u001b[0m\u001b[0;34m\"shan\"\u001b[0m\u001b[0;34m,\u001b[0m\u001b[0;34m\"design\"\u001b[0m\u001b[0;34m:\u001b[0m\u001b[0;34m\"dev\"\u001b[0m\u001b[0;34m}\u001b[0m\u001b[0;34m,\u001b[0m\u001b[0;34m{\u001b[0m\u001b[0;34m\"name\"\u001b[0m\u001b[0;34m:\u001b[0m\u001b[0;34m\"shan\"\u001b[0m\u001b[0;34m,\u001b[0m\u001b[0;34m\"design\"\u001b[0m\u001b[0;34m:\u001b[0m\u001b[0;34m\"dev\"\u001b[0m\u001b[0;34m}\u001b[0m\u001b[0;34m)\u001b[0m\u001b[0;34m\u001b[0m\u001b[0;34m\u001b[0m\u001b[0m\n\u001b[0m",
      "\u001b[0;31mTypeError\u001b[0m: return_list() takes 1 positional argument but 2 were given"
     ]
    }
   ],
   "source": [
    "return_list({\"name\":\"shan\",\"design\":\"dev\"},{\"name\":\"shan\",\"design\":\"dev\"})"
   ]
  }
 ],
 "metadata": {
  "kernelspec": {
   "display_name": "Python 3 (ipykernel)",
   "language": "python",
   "name": "python3"
  },
  "language_info": {
   "codemirror_mode": {
    "name": "ipython",
    "version": 3
   },
   "file_extension": ".py",
   "mimetype": "text/x-python",
   "name": "python",
   "nbconvert_exporter": "python",
   "pygments_lexer": "ipython3",
   "version": "3.9.13"
  }
 },
 "nbformat": 4,
 "nbformat_minor": 5
}
