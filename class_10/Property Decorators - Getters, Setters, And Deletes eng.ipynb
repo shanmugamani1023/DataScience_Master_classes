{
 "cells": [
  {
   "cell_type": "code",
   "execution_count": 3,
   "id": "08a54cfc-4065-41b0-971d-2c8e88b5788f",
   "metadata": {},
   "outputs": [],
   "source": [
    "class pwskills:\n",
    "    \n",
    "    def __init__(self, course_price , course_name):\n",
    "        self.__course_price = course_price\n",
    "        self.course_name = course_name\n",
    "        \n",
    "#     @property\n",
    "    def course_price_access(self):\n",
    "        return self.__course_price\n",
    "    \n",
    "#     @course_price_access.setter\n",
    "#     def course_price_set(self , price):\n",
    "#         if price <= 3500:\n",
    "#             pass\n",
    "#         else :\n",
    "#             self.__course_price = price\n",
    "            \n",
    "#     @course_price_access.deleter \n",
    "#     def course_price_del(self):\n",
    "#         del  self.__course_price\n",
    "    \n",
    "        \n",
    "    \n",
    "    "
   ]
  },
  {
   "cell_type": "code",
   "execution_count": 8,
   "id": "aa678422-4681-4c70-92f9-4fb3ea373a93",
   "metadata": {},
   "outputs": [],
   "source": [
    "pw = pwskills(3500 , \"data science masters\")"
   ]
  },
  {
   "cell_type": "code",
   "execution_count": 10,
   "id": "94e4a6b1-e3c1-4b20-85a0-82a01bcef269",
   "metadata": {},
   "outputs": [
    {
     "name": "stdout",
     "output_type": "stream",
     "text": [
      "3500\n"
     ]
    }
   ],
   "source": [
    "pw1=pw.course_price_access()\n",
    "print(pw1)"
   ]
  },
  {
   "cell_type": "code",
   "execution_count": 20,
   "id": "26507163-cf11-48c4-b16b-aa8b0a5a0ad2",
   "metadata": {},
   "outputs": [],
   "source": [
    "del pw.course_price_del"
   ]
  },
  {
   "cell_type": "code",
   "execution_count": 12,
   "id": "3e896352-c653-4f44-90c6-ea771bb8b85a",
   "metadata": {},
   "outputs": [],
   "source": [
    "pw.course_price_set = 2300"
   ]
  },
  {
   "cell_type": "code",
   "execution_count": 13,
   "id": "ac79195d-530e-4e0c-8191-8c9f3c4a0040",
   "metadata": {},
   "outputs": [
    {
     "data": {
      "text/plain": [
       "3500"
      ]
     },
     "execution_count": 13,
     "metadata": {},
     "output_type": "execute_result"
    }
   ],
   "source": [
    "pw.course_price_access"
   ]
  },
  {
   "cell_type": "code",
   "execution_count": 14,
   "id": "18f5fa35-c1dd-4e0a-9749-90afbec5ed36",
   "metadata": {},
   "outputs": [],
   "source": [
    "pw.course_price_set = 4500"
   ]
  },
  {
   "cell_type": "code",
   "execution_count": 15,
   "id": "3b2cb159-3e13-49bb-8d1e-6e34a12a177a",
   "metadata": {},
   "outputs": [
    {
     "data": {
      "text/plain": [
       "4500"
      ]
     },
     "execution_count": 15,
     "metadata": {},
     "output_type": "execute_result"
    }
   ],
   "source": [
    "pw.course_price_access"
   ]
  },
  {
   "cell_type": "code",
   "execution_count": 3,
   "id": "542c4157-8b09-42fb-840a-a2fd9caa4566",
   "metadata": {},
   "outputs": [
    {
     "data": {
      "text/plain": [
       "'data science masters'"
      ]
     },
     "execution_count": 3,
     "metadata": {},
     "output_type": "execute_result"
    }
   ],
   "source": [
    "pw.course_name"
   ]
  },
  {
   "cell_type": "code",
   "execution_count": 5,
   "id": "1fd0ecb1-eefc-47e9-a773-7c11c06a2f18",
   "metadata": {},
   "outputs": [
    {
     "data": {
      "text/plain": [
       "3500"
      ]
     },
     "execution_count": 5,
     "metadata": {},
     "output_type": "execute_result"
    }
   ],
   "source": [
    "pw._pwskills__course_price"
   ]
  },
  {
   "cell_type": "code",
   "execution_count": null,
   "id": "9e9d9ce1-216e-4acf-bd68-4777ea614759",
   "metadata": {},
   "outputs": [],
   "source": []
  }
 ],
 "metadata": {
  "kernelspec": {
   "display_name": "Python 3 (ipykernel)",
   "language": "python",
   "name": "python3"
  },
  "language_info": {
   "codemirror_mode": {
    "name": "ipython",
    "version": 3
   },
   "file_extension": ".py",
   "mimetype": "text/x-python",
   "name": "python",
   "nbconvert_exporter": "python",
   "pygments_lexer": "ipython3",
   "version": "3.9.13"
  }
 },
 "nbformat": 4,
 "nbformat_minor": 5
}
