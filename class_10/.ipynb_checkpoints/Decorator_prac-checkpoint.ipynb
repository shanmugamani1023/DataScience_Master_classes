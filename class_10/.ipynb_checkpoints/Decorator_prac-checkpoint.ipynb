{
 "cells": [
  {
   "cell_type": "code",
   "execution_count": 1,
   "id": "d40d8837",
   "metadata": {},
   "outputs": [],
   "source": [
    "# check run time of one function using decorator"
   ]
  },
  {
   "cell_type": "code",
   "execution_count": 24,
   "id": "a56c175e",
   "metadata": {},
   "outputs": [],
   "source": [
    "import time\n",
    "\n",
    "def check_timer(func):\n",
    "    def check_inner_func():\n",
    "        start=time.time()\n",
    "        func()\n",
    "        end=time.time()\n",
    "        print(\"Run time:\"+str(end-start))\n",
    "    return check_inner_func"
   ]
  },
  {
   "cell_type": "code",
   "execution_count": 26,
   "id": "dcc58567",
   "metadata": {},
   "outputs": [],
   "source": [
    "@check_timer\n",
    "def check():\n",
    "    for i in range(1,1000):\n",
    "#         print(i)\n",
    "\n",
    "          pass;\n"
   ]
  },
  {
   "cell_type": "code",
   "execution_count": 27,
   "id": "ddf27b05",
   "metadata": {},
   "outputs": [
    {
     "name": "stdout",
     "output_type": "stream",
     "text": [
      "Run time:7.605552673339844e-05\n"
     ]
    }
   ],
   "source": [
    "check()"
   ]
  },
  {
   "cell_type": "code",
   "execution_count": null,
   "id": "9113d0d1",
   "metadata": {},
   "outputs": [],
   "source": []
  },
  {
   "cell_type": "code",
   "execution_count": null,
   "id": "cceb6834",
   "metadata": {},
   "outputs": [],
   "source": []
  },
  {
   "cell_type": "code",
   "execution_count": null,
   "id": "7c973ad2",
   "metadata": {},
   "outputs": [],
   "source": []
  }
 ],
 "metadata": {
  "kernelspec": {
   "display_name": "Python 3 (ipykernel)",
   "language": "python",
   "name": "python3"
  },
  "language_info": {
   "codemirror_mode": {
    "name": "ipython",
    "version": 3
   },
   "file_extension": ".py",
   "mimetype": "text/x-python",
   "name": "python",
   "nbconvert_exporter": "python",
   "pygments_lexer": "ipython3",
   "version": "3.9.13"
  }
 },
 "nbformat": 4,
 "nbformat_minor": 5
}
