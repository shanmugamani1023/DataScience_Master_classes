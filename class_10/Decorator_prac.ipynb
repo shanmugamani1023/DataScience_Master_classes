{
 "cells": [
  {
   "cell_type": "code",
   "execution_count": 1,
   "id": "68bc8922",
   "metadata": {},
   "outputs": [],
   "source": [
    "# check run time of one function using decorator"
   ]
  },
  {
   "cell_type": "code",
   "execution_count": 24,
   "id": "0500e618",
   "metadata": {},
   "outputs": [],
   "source": [
    "import time\n",
    "\n",
    "def check_timer(func):\n",
    "    def check_inner_func():\n",
    "        start=time.time()\n",
    "        func()\n",
    "        end=time.time()\n",
    "        print(\"Run time:\"+str(end-start))\n",
    "    return check_inner_func"
   ]
  },
  {
   "cell_type": "code",
   "execution_count": 26,
   "id": "d8b195bb",
   "metadata": {},
   "outputs": [],
   "source": [
    "@check_timer\n",
    "def check():\n",
    "    for i in range(1,1000):\n",
    "#         print(i)\n",
    "\n",
    "          pass;\n"
   ]
  },
  {
   "cell_type": "code",
   "execution_count": 27,
   "id": "274cb17f",
   "metadata": {},
   "outputs": [
    {
     "name": "stdout",
     "output_type": "stream",
     "text": [
      "Run time:7.605552673339844e-05\n"
     ]
    }
   ],
   "source": [
    "check()"
   ]
  },
  {
   "cell_type": "code",
   "execution_count": 30,
   "id": "49b864d1",
   "metadata": {},
   "outputs": [
    {
     "data": {
      "text/plain": [
       "[1, 2, 3]"
      ]
     },
     "execution_count": 30,
     "metadata": {},
     "output_type": "execute_result"
    }
   ],
   "source": [
    "a=[0,1,2,3]\n",
    "del a[0]\n",
    "a"
   ]
  },
  {
   "cell_type": "code",
   "execution_count": 36,
   "id": "bb8b589e",
   "metadata": {},
   "outputs": [],
   "source": [
    "class check():\n",
    "    def __init__(self):\n",
    "        print(\"hai\")\n",
    "        \n",
    "        \n",
    "    def check_1(self):\n",
    "        print(\"hai\")\n",
    "    def check_2(self):\n",
    "        print(\"hai2\")"
   ]
  },
  {
   "cell_type": "code",
   "execution_count": 37,
   "id": "56933f40",
   "metadata": {},
   "outputs": [
    {
     "name": "stdout",
     "output_type": "stream",
     "text": [
      "hai\n"
     ]
    },
    {
     "data": {
      "text/plain": [
       "<bound method check.check_2 of <__main__.check object at 0x7fe9d73e1220>>"
      ]
     },
     "execution_count": 37,
     "metadata": {},
     "output_type": "execute_result"
    }
   ],
   "source": [
    "obj=check()\n",
    "obj.check_2"
   ]
  },
  {
   "cell_type": "markdown",
   "id": "e8a5458a",
   "metadata": {},
   "source": [
    "# MRO stands for \"Method Resolution Order.\" In Python, when a method is called on an object, the interpreter needs to determine which implementation of the method to use if it is defined in multiple places (e.g., in a base class and a subclass). The MRO is the order in which Python looks for the method implementation.\n",
    "\n",
    "The MRO is important for resolving method name conflicts and for determining the correct order of method execution in a class hierarchy. It is determined at class creation time and can be viewed using the mro() method."
   ]
  }
 ],
 "metadata": {
  "kernelspec": {
   "display_name": "Python 3 (ipykernel)",
   "language": "python",
   "name": "python3"
  },
  "language_info": {
   "codemirror_mode": {
    "name": "ipython",
    "version": 3
   },
   "file_extension": ".py",
   "mimetype": "text/x-python",
   "name": "python",
   "nbconvert_exporter": "python",
   "pygments_lexer": "ipython3",
   "version": "3.9.13"
  }
 },
 "nbformat": 4,
 "nbformat_minor": 5
}
