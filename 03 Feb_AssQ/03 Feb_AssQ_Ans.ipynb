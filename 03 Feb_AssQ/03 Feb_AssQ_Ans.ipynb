{
 "cells": [
  {
   "cell_type": "markdown",
   "id": "5ecb2b78",
   "metadata": {},
   "source": [
    "# Q1. Which keyword is used to create a function? Create a function to return a list of odd numbers in the range of 1 to 25."
   ]
  },
  {
   "cell_type": "code",
   "execution_count": 108,
   "id": "de696c53",
   "metadata": {},
   "outputs": [],
   "source": [
    "def return_odd_num():\n",
    "    list_num=[]\n",
    "    for i in range(1,26):\n",
    "        if(i%2!=0):\n",
    "           list_num.append(i)\n",
    "    return list_num\n",
    "        \n",
    "        "
   ]
  },
  {
   "cell_type": "code",
   "execution_count": 111,
   "id": "77fa12db",
   "metadata": {},
   "outputs": [
    {
     "name": "stdout",
     "output_type": "stream",
     "text": [
      "[1, 3, 5, 7, 9, 11, 13, 15, 17, 19, 21, 23, 25]\n"
     ]
    }
   ],
   "source": [
    "list_value=return_odd_num()\n",
    "print(list_value)"
   ]
  },
  {
   "cell_type": "code",
   "execution_count": null,
   "id": "af0e6780",
   "metadata": {},
   "outputs": [],
   "source": []
  },
  {
   "cell_type": "markdown",
   "id": "9119575f",
   "metadata": {},
   "source": [
    "# Q2. Why *args and **kwargs is used in some functions? Create a function each for *args and **kwargs to demonstrate their use."
   ]
  },
  {
   "cell_type": "markdown",
   "id": "d4cb3b03",
   "metadata": {},
   "source": [
    "# * (single star) used to pass multiple values as arguments \n",
    "    \n",
    "   "
   ]
  },
  {
   "cell_type": "markdown",
   "id": "eca4f732",
   "metadata": {},
   "source": [
    "#  ** (double star) used to pass multiple key and value pairs as arguments"
   ]
  },
  {
   "cell_type": "code",
   "execution_count": 117,
   "id": "005032de",
   "metadata": {},
   "outputs": [],
   "source": [
    "def multiple__values(*values):\n",
    "    print(values)\n",
    "    "
   ]
  },
  {
   "cell_type": "code",
   "execution_count": 116,
   "id": "b23cda15",
   "metadata": {},
   "outputs": [
    {
     "name": "stdout",
     "output_type": "stream",
     "text": [
      "('a', 'b', 'c')\n"
     ]
    }
   ],
   "source": [
    "multiple_key_values(\"a\",\"b\",\"c\")"
   ]
  },
  {
   "cell_type": "code",
   "execution_count": 120,
   "id": "25ad3901",
   "metadata": {},
   "outputs": [],
   "source": [
    "def multiple_key_values(**values):\n",
    "    print(values)"
   ]
  },
  {
   "cell_type": "code",
   "execution_count": 126,
   "id": "b0459683",
   "metadata": {},
   "outputs": [
    {
     "name": "stdout",
     "output_type": "stream",
     "text": [
      "{'Name': 'Shan', 'Job': 'Data scientist'}\n"
     ]
    }
   ],
   "source": [
    "multiple_key_values(Name=\"Shan\",Job=\"Data scientist\")"
   ]
  },
  {
   "cell_type": "code",
   "execution_count": null,
   "id": "fd3e4f51",
   "metadata": {},
   "outputs": [],
   "source": []
  },
  {
   "cell_type": "markdown",
   "id": "8da36018",
   "metadata": {},
   "source": [
    "# Q3. What is an iterator in python? Name the method used to initialise the iterator object and the method used for iteration. Use these methods to print the first five elements of the given list [2, 4, 6, 8, 10, 12, 14, 16,18, 20]."
   ]
  },
  {
   "cell_type": "markdown",
   "id": "cf518bda",
   "metadata": {},
   "source": [
    "# Python Iterators\n",
    "An iterator is an object that contains a countable number of values."
   ]
  },
  {
   "cell_type": "markdown",
   "id": "03ce1c39",
   "metadata": {},
   "source": [
    "# Python iter(),next()"
   ]
  },
  {
   "cell_type": "code",
   "execution_count": 138,
   "id": "f8bd6f6e",
   "metadata": {},
   "outputs": [
    {
     "name": "stdout",
     "output_type": "stream",
     "text": [
      "2\n",
      "4\n",
      "6\n",
      "8\n",
      "10\n"
     ]
    }
   ],
   "source": [
    "lst=[2, 4, 6, 8, 10, 12, 14, 16,18, 20]\n",
    "# intialise the object iterator\n",
    "x = iter(lst)\n",
    "# print first five elements\n",
    "for i in range(0,5):\n",
    "    print(next(x))\n"
   ]
  },
  {
   "cell_type": "code",
   "execution_count": null,
   "id": "a971a55c",
   "metadata": {},
   "outputs": [],
   "source": []
  },
  {
   "cell_type": "markdown",
   "id": "95300d96",
   "metadata": {},
   "source": [
    "# Q4. What is a generator function in python? Why yield keyword is used? Give an example of a generator function."
   ]
  },
  {
   "cell_type": "markdown",
   "id": "7205525a",
   "metadata": {},
   "source": [
    "# Generator function used to generate iteratble objects .\n",
    "# And we use yideld key for through values for every iteration"
   ]
  },
  {
   "cell_type": "code",
   "execution_count": null,
   "id": "c2c85755",
   "metadata": {},
   "outputs": [],
   "source": [
    "# ex:Fibonaci series\n",
    "\n",
    "# 0,1,1,2,3,5,8,..."
   ]
  },
  {
   "cell_type": "code",
   "execution_count": 145,
   "id": "12412217",
   "metadata": {},
   "outputs": [],
   "source": [
    "def gen_func(n):\n",
    "    a=0\n",
    "    b=1\n",
    "    for i in range(n):\n",
    "        yield a\n",
    "        a,b=b,b+a\n",
    "        \n",
    "       \n",
    "        \n",
    "        "
   ]
  },
  {
   "cell_type": "code",
   "execution_count": 146,
   "id": "b8dacc60",
   "metadata": {},
   "outputs": [
    {
     "name": "stdout",
     "output_type": "stream",
     "text": [
      "0\n",
      "1\n",
      "1\n",
      "2\n",
      "3\n",
      "5\n",
      "8\n",
      "13\n",
      "21\n",
      "34\n"
     ]
    }
   ],
   "source": [
    "for i in gen_func(10):\n",
    "    print(i)"
   ]
  },
  {
   "cell_type": "code",
   "execution_count": null,
   "id": "faf4f553",
   "metadata": {},
   "outputs": [],
   "source": []
  },
  {
   "cell_type": "markdown",
   "id": "6b05adb9",
   "metadata": {},
   "source": [
    "# Q5. Create a generator function for prime numbers less than 1000. Use the next() method to print the first 20 prime numbers."
   ]
  },
  {
   "cell_type": "code",
   "execution_count": 203,
   "id": "bae8286f",
   "metadata": {},
   "outputs": [],
   "source": [
    "list_value=[]\n",
    "\n",
    "def prime(n):\n",
    "    for i in range(n):\n",
    "        \n",
    "        if(i==1):\n",
    "            pass\n",
    "        elif i>1:\n",
    "            for j in range(2,i):\n",
    "                if(i%j==0):\n",
    "                    break\n",
    "                else:\n",
    "                    yield i\n",
    "                    \n",
    "            \n",
    "    \n",
    "                    \n",
    "    \n",
    "    "
   ]
  },
  {
   "cell_type": "code",
   "execution_count": 270,
   "id": "e199f122",
   "metadata": {},
   "outputs": [
    {
     "name": "stdout",
     "output_type": "stream",
     "text": [
      "3\n",
      "5\n",
      "7\n",
      "9\n",
      "11\n",
      "13\n",
      "15\n",
      "17\n",
      "19\n",
      "21\n"
     ]
    }
   ],
   "source": [
    "for i in prime(1000):\n",
    "    list_value.append(i)\n",
    "\n",
    "y=iter(list_value)\n",
    "y=set(y)\n",
    "y=iter(y)\n",
    "\n",
    "for i in range(0,10):\n",
    "    try:\n",
    "        print(next(y))\n",
    "    except StopIteration:\n",
    "        print(\"ok\")\n",
    "    \n",
    "    "
   ]
  },
  {
   "cell_type": "code",
   "execution_count": null,
   "id": "af629e1c",
   "metadata": {},
   "outputs": [],
   "source": []
  }
 ],
 "metadata": {
  "kernelspec": {
   "display_name": "Python 3 (ipykernel)",
   "language": "python",
   "name": "python3"
  },
  "language_info": {
   "codemirror_mode": {
    "name": "ipython",
    "version": 3
   },
   "file_extension": ".py",
   "mimetype": "text/x-python",
   "name": "python",
   "nbconvert_exporter": "python",
   "pygments_lexer": "ipython3",
   "version": "3.9.13"
  }
 },
 "nbformat": 4,
 "nbformat_minor": 5
}
