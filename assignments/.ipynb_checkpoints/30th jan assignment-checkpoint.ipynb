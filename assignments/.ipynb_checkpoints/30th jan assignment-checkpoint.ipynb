{
 "cells": [
  {
   "cell_type": "markdown",
   "id": "0f393889",
   "metadata": {},
   "source": [
    "# 1.marks and grade"
   ]
  },
  {
   "cell_type": "code",
   "execution_count": 14,
   "id": "3c8f0ff7",
   "metadata": {},
   "outputs": [
    {
     "name": "stdout",
     "output_type": "stream",
     "text": [
      "Type percentage100\n",
      "A\n"
     ]
    }
   ],
   "source": [
    "percentage=int(input(\"Type percentage\"))\n",
    "if percentage >90:\n",
    "    print(\"A\")\n",
    "elif percentage>80 and percentage<=90:\n",
    "    print(\"B\")\n",
    "\n",
    "elif percentage>=60 and percentage<=80:\n",
    "    print(\"C\")\n",
    "else :\n",
    "    print(\"D\")"
   ]
  },
  {
   "cell_type": "code",
   "execution_count": null,
   "id": "3da0eca3",
   "metadata": {},
   "outputs": [],
   "source": []
  },
  {
   "cell_type": "markdown",
   "id": "22a3906f",
   "metadata": {},
   "source": [
    "# 2.Tax ,cost price"
   ]
  },
  {
   "cell_type": "code",
   "execution_count": 24,
   "id": "57edf09e",
   "metadata": {},
   "outputs": [
    {
     "name": "stdout",
     "output_type": "stream",
     "text": [
      "Type cost price1000\n",
      "Tax:5% percent from cost price of bike\n",
      "tax_price is :50.0\n"
     ]
    }
   ],
   "source": [
    "C_Price=int(input(\"Type cost price\"))\n",
    "tax_price=0\n",
    "if C_Price >100000:\n",
    "    print(\"Tax:15% percent from cost price of bike\")\n",
    "    tax_price=C_Price*(15/100)\n",
    "    print(\"tax_price is :{}\".format(tax_price))\n",
    "    \n",
    "elif C_Price>50000 and C_Price<=100000:\n",
    "    print(\"Tax:10% percent from cost price of bike\")\n",
    "    tax_price=C_Price*(10/100)\n",
    "    print(\"tax_price is :{}\".format(tax_price))\n",
    "\n",
    "elif C_Price<=50000:\n",
    "    print(\"Tax:5% percent from cost price of bike\")\n",
    "    tax_price=C_Price*(5/100)\n",
    "    print(\"tax_price is :{}\".format(tax_price))\n"
   ]
  },
  {
   "cell_type": "code",
   "execution_count": null,
   "id": "33abe71c",
   "metadata": {},
   "outputs": [],
   "source": []
  },
  {
   "cell_type": "markdown",
   "id": "60ca57f2",
   "metadata": {},
   "source": [
    "# City and Monuments"
   ]
  },
  {
   "cell_type": "code",
   "execution_count": 48,
   "id": "57d4281e",
   "metadata": {},
   "outputs": [
    {
     "name": "stdout",
     "output_type": "stream",
     "text": [
      "Type CityDelhi\n",
      "Monoument of Delhi is Red Fort\n"
     ]
    }
   ],
   "source": [
    "city=(input(\"Type City\"))\n",
    "Datas = {\n",
    "  \"Delhi\": \"Red Fort\",\n",
    "  \"Agra\": \"Taj Mahal\",\n",
    "  \"jaipur\": \"Jai Mahal\"\n",
    "}\n",
    "\n",
    "print(f\"Monoument of {city} is {Datas[city]}\")\n",
    "\n"
   ]
  },
  {
   "cell_type": "code",
   "execution_count": null,
   "id": "11e8397f",
   "metadata": {},
   "outputs": [],
   "source": []
  },
  {
   "cell_type": "markdown",
   "id": "bfc73dea",
   "metadata": {},
   "source": [
    "# How many times divided by 3, before it is less than or equal to 10\n"
   ]
  },
  {
   "cell_type": "code",
   "execution_count": 57,
   "id": "b3c8ea81",
   "metadata": {},
   "outputs": [
    {
     "name": "stdout",
     "output_type": "stream",
     "text": [
      "Type Number9\n",
      "given num 9 divided by 3  is 3 times \n"
     ]
    }
   ],
   "source": [
    "num=int(input(\"Type Number\"))\n",
    "if(num<=10):\n",
    "    output=int(num/3)\n",
    "    print(f\"given num {num} divided by 3  is {output} times \")\n",
    "    "
   ]
  },
  {
   "cell_type": "code",
   "execution_count": null,
   "id": "68e96513",
   "metadata": {},
   "outputs": [],
   "source": []
  },
  {
   "cell_type": "markdown",
   "id": "ce5f2367",
   "metadata": {},
   "source": [
    "# Why and when use while loop "
   ]
  },
  {
   "cell_type": "markdown",
   "id": "78915446",
   "metadata": {},
   "source": [
    "Python while loop is used to run a block code until a certain condition is met. "
   ]
  },
  {
   "cell_type": "code",
   "execution_count": 60,
   "id": "69ad58a3",
   "metadata": {},
   "outputs": [
    {
     "name": "stdout",
     "output_type": "stream",
     "text": [
      "10\n",
      "11\n",
      "12\n",
      "13\n",
      "14\n",
      "15\n"
     ]
    }
   ],
   "source": [
    "i = 10\n",
    "n = 15\n",
    "\n",
    "while i <= n:\n",
    "    print(i)\n",
    "    i = i + 1"
   ]
  },
  {
   "cell_type": "code",
   "execution_count": null,
   "id": "922bf600",
   "metadata": {},
   "outputs": [],
   "source": []
  },
  {
   "cell_type": "markdown",
   "id": "b6ca5318",
   "metadata": {},
   "source": [
    "# Diff Pattern"
   ]
  },
  {
   "cell_type": "code",
   "execution_count": 84,
   "id": "f5d6d19a",
   "metadata": {},
   "outputs": [
    {
     "name": "stdout",
     "output_type": "stream",
     "text": [
      "*  \n",
      "* *  \n",
      "* * *  \n",
      "* * * *  \n",
      "* * * * *  \n"
     ]
    }
   ],
   "source": [
    "# 5 star pattern\n",
    "num=5\n",
    "i=1\n",
    "while(i<=num):\n",
    "    j=1\n",
    "    while(j<=i): \n",
    "        print(\"*\",end=\" \")\n",
    "        j+=1\n",
    "    print(\" \")\n",
    "    i+=1    \n"
   ]
  },
  {
   "cell_type": "code",
   "execution_count": null,
   "id": "d89a6ad8",
   "metadata": {},
   "outputs": [],
   "source": []
  },
  {
   "cell_type": "code",
   "execution_count": 86,
   "id": "45df990c",
   "metadata": {},
   "outputs": [
    {
     "name": "stdout",
     "output_type": "stream",
     "text": [
      "*****\n",
      "****\n",
      "***\n",
      "**\n",
      "*\n"
     ]
    }
   ],
   "source": [
    "# reverse 5 star pattern\n",
    "num=5\n",
    "i=1\n",
    "while(i<=num):\n",
    "    j=num\n",
    "    while(j>=i):\n",
    "        print(\"*\",end=\"\")\n",
    "        j-=1\n",
    "    print(\"\")\n",
    "    i+=1"
   ]
  },
  {
   "cell_type": "code",
   "execution_count": 90,
   "id": "f7ab27a7",
   "metadata": {},
   "outputs": [
    {
     "name": "stdout",
     "output_type": "stream",
     "text": [
      "2  \n",
      "2 4  \n",
      "2 4 6  \n",
      "2 4 6 8  \n",
      "2 4 6 8 10  \n"
     ]
    }
   ],
   "source": [
    "# num triangle\n",
    "num=5\n",
    "i=1\n",
    "while(i<=num):\n",
    "    j=1\n",
    "    while(j<=i): \n",
    "        print(j*2,end=\" \")\n",
    "        j+=1\n",
    "    print(\" \")\n",
    "    i+=1 "
   ]
  },
  {
   "cell_type": "code",
   "execution_count": null,
   "id": "125faa7e",
   "metadata": {},
   "outputs": [],
   "source": []
  },
  {
   "cell_type": "code",
   "execution_count": 93,
   "id": "733404af",
   "metadata": {},
   "outputs": [],
   "source": [
    "# 7and 8 question same"
   ]
  },
  {
   "cell_type": "code",
   "execution_count": 99,
   "id": "6cdbc217",
   "metadata": {},
   "outputs": [
    {
     "name": "stdout",
     "output_type": "stream",
     "text": [
      "10\n",
      "9\n",
      "8\n",
      "7\n",
      "6\n",
      "5\n",
      "4\n",
      "3\n",
      "2\n",
      "1\n"
     ]
    }
   ],
   "source": [
    "i=10\n",
    "while(i>0):\n",
    "    print(i)\n",
    "    i-=1\n",
    "        "
   ]
  },
  {
   "cell_type": "code",
   "execution_count": null,
   "id": "8ab2a16e",
   "metadata": {},
   "outputs": [],
   "source": []
  },
  {
   "cell_type": "code",
   "execution_count": null,
   "id": "1b6c6e98",
   "metadata": {},
   "outputs": [],
   "source": []
  },
  {
   "cell_type": "code",
   "execution_count": null,
   "id": "653c7055",
   "metadata": {},
   "outputs": [],
   "source": []
  },
  {
   "cell_type": "code",
   "execution_count": null,
   "id": "66494eb7",
   "metadata": {},
   "outputs": [],
   "source": []
  },
  {
   "cell_type": "code",
   "execution_count": null,
   "id": "4d153265",
   "metadata": {},
   "outputs": [],
   "source": []
  },
  {
   "cell_type": "code",
   "execution_count": null,
   "id": "bdbaf4ed",
   "metadata": {},
   "outputs": [],
   "source": []
  },
  {
   "cell_type": "code",
   "execution_count": null,
   "id": "4c57c9c5",
   "metadata": {},
   "outputs": [],
   "source": []
  },
  {
   "cell_type": "code",
   "execution_count": null,
   "id": "9c181727",
   "metadata": {},
   "outputs": [],
   "source": []
  },
  {
   "cell_type": "code",
   "execution_count": null,
   "id": "db459227",
   "metadata": {},
   "outputs": [],
   "source": []
  },
  {
   "cell_type": "code",
   "execution_count": null,
   "id": "8f6d0556",
   "metadata": {},
   "outputs": [],
   "source": []
  },
  {
   "cell_type": "code",
   "execution_count": null,
   "id": "6dfb6ef9",
   "metadata": {},
   "outputs": [],
   "source": []
  },
  {
   "cell_type": "code",
   "execution_count": null,
   "id": "78a25455",
   "metadata": {},
   "outputs": [],
   "source": []
  },
  {
   "cell_type": "code",
   "execution_count": null,
   "id": "a8bf765a",
   "metadata": {},
   "outputs": [],
   "source": []
  },
  {
   "cell_type": "code",
   "execution_count": null,
   "id": "0dff925f",
   "metadata": {},
   "outputs": [],
   "source": []
  },
  {
   "cell_type": "code",
   "execution_count": null,
   "id": "5035de16",
   "metadata": {},
   "outputs": [],
   "source": []
  }
 ],
 "metadata": {
  "kernelspec": {
   "display_name": "Python 3 (ipykernel)",
   "language": "python",
   "name": "python3"
  },
  "language_info": {
   "codemirror_mode": {
    "name": "ipython",
    "version": 3
   },
   "file_extension": ".py",
   "mimetype": "text/x-python",
   "name": "python",
   "nbconvert_exporter": "python",
   "pygments_lexer": "ipython3",
   "version": "3.9.13"
  }
 },
 "nbformat": 4,
 "nbformat_minor": 5
}
