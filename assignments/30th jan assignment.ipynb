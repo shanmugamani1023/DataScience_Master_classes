{
 "cells": [
  {
   "cell_type": "markdown",
   "id": "66cff25e",
   "metadata": {},
   "source": [
    "# 1.marks and grade"
   ]
  },
  {
   "cell_type": "code",
   "execution_count": 14,
   "id": "4f9304b9",
   "metadata": {},
   "outputs": [
    {
     "name": "stdout",
     "output_type": "stream",
     "text": [
      "Type percentage100\n",
      "A\n"
     ]
    }
   ],
   "source": [
    "percentage=int(input(\"Type percentage\"))\n",
    "if percentage >90:\n",
    "    print(\"A\")\n",
    "elif percentage>80 and percentage<=90:\n",
    "    print(\"B\")\n",
    "\n",
    "elif percentage>=60 and percentage<=80:\n",
    "    print(\"C\")\n",
    "else :\n",
    "    print(\"D\")"
   ]
  },
  {
   "cell_type": "code",
   "execution_count": null,
   "id": "9a12b370",
   "metadata": {},
   "outputs": [],
   "source": []
  },
  {
   "cell_type": "markdown",
   "id": "c0b34f6c",
   "metadata": {},
   "source": [
    "# 2.Tax ,cost price"
   ]
  },
  {
   "cell_type": "code",
   "execution_count": 24,
   "id": "4f1b2859",
   "metadata": {},
   "outputs": [
    {
     "name": "stdout",
     "output_type": "stream",
     "text": [
      "Type cost price1000\n",
      "Tax:5% percent from cost price of bike\n",
      "tax_price is :50.0\n"
     ]
    }
   ],
   "source": [
    "C_Price=int(input(\"Type cost price\"))\n",
    "tax_price=0\n",
    "if C_Price >100000:\n",
    "    print(\"Tax:15% percent from cost price of bike\")\n",
    "    tax_price=C_Price*(15/100)\n",
    "    print(\"tax_price is :{}\".format(tax_price))\n",
    "    \n",
    "elif C_Price>50000 and C_Price<=100000:\n",
    "    print(\"Tax:10% percent from cost price of bike\")\n",
    "    tax_price=C_Price*(10/100)\n",
    "    print(\"tax_price is :{}\".format(tax_price))\n",
    "\n",
    "elif C_Price<=50000:\n",
    "    print(\"Tax:5% percent from cost price of bike\")\n",
    "    tax_price=C_Price*(5/100)\n",
    "    print(\"tax_price is :{}\".format(tax_price))\n"
   ]
  },
  {
   "cell_type": "code",
   "execution_count": null,
   "id": "ff686bcb",
   "metadata": {},
   "outputs": [],
   "source": []
  },
  {
   "cell_type": "markdown",
   "id": "422c620a",
   "metadata": {},
   "source": [
    "# City and Monuments"
   ]
  },
  {
   "cell_type": "code",
   "execution_count": 48,
   "id": "38753e0f",
   "metadata": {},
   "outputs": [
    {
     "name": "stdout",
     "output_type": "stream",
     "text": [
      "Type CityDelhi\n",
      "Monoument of Delhi is Red Fort\n"
     ]
    }
   ],
   "source": [
    "city=(input(\"Type City\"))\n",
    "Datas = {\n",
    "  \"Delhi\": \"Red Fort\",\n",
    "  \"Agra\": \"Taj Mahal\",\n",
    "  \"jaipur\": \"Jai Mahal\"\n",
    "}\n",
    "\n",
    "print(f\"Monoument of {city} is {Datas[city]}\")\n",
    "\n"
   ]
  },
  {
   "cell_type": "code",
   "execution_count": null,
   "id": "e645e394",
   "metadata": {},
   "outputs": [],
   "source": []
  },
  {
   "cell_type": "markdown",
   "id": "29e51ff4",
   "metadata": {},
   "source": [
    "# How many times divided by 3, before it is less than or equal to 10\n"
   ]
  },
  {
   "cell_type": "code",
   "execution_count": 57,
   "id": "100fe0e5",
   "metadata": {},
   "outputs": [
    {
     "name": "stdout",
     "output_type": "stream",
     "text": [
      "Type Number9\n",
      "given num 9 divided by 3  is 3 times \n"
     ]
    }
   ],
   "source": [
    "num=int(input(\"Type Number\"))\n",
    "if(num<=10):\n",
    "    output=int(num/3)\n",
    "    print(f\"given num {num} divided by 3  is {output} times \")\n",
    "    "
   ]
  },
  {
   "cell_type": "code",
   "execution_count": null,
   "id": "f1647d1f",
   "metadata": {},
   "outputs": [],
   "source": []
  },
  {
   "cell_type": "markdown",
   "id": "384e2f94",
   "metadata": {},
   "source": [
    "# Why and when use while loop "
   ]
  },
  {
   "cell_type": "markdown",
   "id": "e011f8fc",
   "metadata": {},
   "source": [
    "Python while loop is used to run a block code until a certain condition is met. "
   ]
  },
  {
   "cell_type": "code",
   "execution_count": 60,
   "id": "49397813",
   "metadata": {},
   "outputs": [
    {
     "name": "stdout",
     "output_type": "stream",
     "text": [
      "10\n",
      "11\n",
      "12\n",
      "13\n",
      "14\n",
      "15\n"
     ]
    }
   ],
   "source": [
    "i = 10\n",
    "n = 15\n",
    "\n",
    "while i <= n:\n",
    "    print(i)\n",
    "    i = i + 1"
   ]
  },
  {
   "cell_type": "code",
   "execution_count": null,
   "id": "d0a7efc8",
   "metadata": {},
   "outputs": [],
   "source": []
  },
  {
   "cell_type": "markdown",
   "id": "e1b257ab",
   "metadata": {},
   "source": [
    "# Diff Pattern"
   ]
  },
  {
   "cell_type": "code",
   "execution_count": 84,
   "id": "61f6b952",
   "metadata": {},
   "outputs": [
    {
     "name": "stdout",
     "output_type": "stream",
     "text": [
      "*  \n",
      "* *  \n",
      "* * *  \n",
      "* * * *  \n",
      "* * * * *  \n"
     ]
    }
   ],
   "source": [
    "# 5 star pattern\n",
    "num=5\n",
    "i=1\n",
    "while(i<=num):\n",
    "    j=1\n",
    "    while(j<=i): \n",
    "        print(\"*\",end=\" \")\n",
    "        j+=1\n",
    "    print(\" \")\n",
    "    i+=1    \n"
   ]
  },
  {
   "cell_type": "code",
   "execution_count": null,
   "id": "acff4471",
   "metadata": {},
   "outputs": [],
   "source": []
  },
  {
   "cell_type": "code",
   "execution_count": 86,
   "id": "9526ea6f",
   "metadata": {},
   "outputs": [
    {
     "name": "stdout",
     "output_type": "stream",
     "text": [
      "*****\n",
      "****\n",
      "***\n",
      "**\n",
      "*\n"
     ]
    }
   ],
   "source": [
    "# reverse 5 star pattern\n",
    "num=5\n",
    "i=1\n",
    "while(i<=num):\n",
    "    j=num\n",
    "    while(j>=i):\n",
    "        print(\"*\",end=\"\")\n",
    "        j-=1\n",
    "    print(\"\")\n",
    "    i+=1"
   ]
  },
  {
   "cell_type": "code",
   "execution_count": 90,
   "id": "e507bbf4",
   "metadata": {},
   "outputs": [
    {
     "name": "stdout",
     "output_type": "stream",
     "text": [
      "2  \n",
      "2 4  \n",
      "2 4 6  \n",
      "2 4 6 8  \n",
      "2 4 6 8 10  \n"
     ]
    }
   ],
   "source": [
    "# num triangle\n",
    "num=5\n",
    "i=1\n",
    "while(i<=num):\n",
    "    j=1\n",
    "    while(j<=i): \n",
    "        print(j*2,end=\" \")\n",
    "        j+=1\n",
    "    print(\" \")\n",
    "    i+=1 "
   ]
  },
  {
   "cell_type": "code",
   "execution_count": null,
   "id": "f8a9db88",
   "metadata": {},
   "outputs": [],
   "source": []
  },
  {
   "cell_type": "code",
   "execution_count": 93,
   "id": "59f77d16",
   "metadata": {},
   "outputs": [],
   "source": [
    "# 7and 8 question same"
   ]
  },
  {
   "cell_type": "code",
   "execution_count": 99,
   "id": "e44429eb",
   "metadata": {},
   "outputs": [
    {
     "name": "stdout",
     "output_type": "stream",
     "text": [
      "10\n",
      "9\n",
      "8\n",
      "7\n",
      "6\n",
      "5\n",
      "4\n",
      "3\n",
      "2\n",
      "1\n"
     ]
    }
   ],
   "source": [
    "i=10\n",
    "while(i>0):\n",
    "    print(i)\n",
    "    i-=1\n",
    "        "
   ]
  },
  {
   "cell_type": "code",
   "execution_count": 101,
   "id": "774a3ed8",
   "metadata": {},
   "outputs": [
    {
     "name": "stdout",
     "output_type": "stream",
     "text": [
      "10\n",
      "9\n",
      "8\n",
      "7\n",
      "6\n",
      "5\n",
      "4\n",
      "3\n",
      "2\n"
     ]
    }
   ],
   "source": [
    "for i in range(10,1,-1):\n",
    "    print(i)"
   ]
  },
  {
   "cell_type": "code",
   "execution_count": 104,
   "id": "f28dbcef",
   "metadata": {},
   "outputs": [
    {
     "name": "stdout",
     "output_type": "stream",
     "text": [
      "<class 'int'>\n"
     ]
    }
   ],
   "source": [
    "a=(5)\n",
    "print(type(a))"
   ]
  },
  {
   "cell_type": "code",
   "execution_count": 109,
   "id": "d402631f",
   "metadata": {},
   "outputs": [
    {
     "name": "stdout",
     "output_type": "stream",
     "text": [
      "['a', 1, 2, 3]\n"
     ]
    }
   ],
   "source": [
    "b=[1,2,3]\n",
    "c=[\"a\"]\n",
    "d=c+b\n",
    "\n",
    "print(d)"
   ]
  },
  {
   "cell_type": "code",
   "execution_count": null,
   "id": "baeb7255",
   "metadata": {},
   "outputs": [],
   "source": []
  },
  {
   "cell_type": "code",
   "execution_count": null,
   "id": "85932e22",
   "metadata": {},
   "outputs": [],
   "source": []
  },
  {
   "cell_type": "code",
   "execution_count": null,
   "id": "4c2a79c2",
   "metadata": {},
   "outputs": [],
   "source": []
  },
  {
   "cell_type": "code",
   "execution_count": null,
   "id": "d2152c84",
   "metadata": {},
   "outputs": [],
   "source": []
  },
  {
   "cell_type": "code",
   "execution_count": null,
   "id": "512720ff",
   "metadata": {},
   "outputs": [],
   "source": []
  },
  {
   "cell_type": "code",
   "execution_count": null,
   "id": "fb9d2973",
   "metadata": {},
   "outputs": [],
   "source": []
  },
  {
   "cell_type": "code",
   "execution_count": null,
   "id": "c60e3073",
   "metadata": {},
   "outputs": [],
   "source": []
  },
  {
   "cell_type": "code",
   "execution_count": null,
   "id": "f7381c17",
   "metadata": {},
   "outputs": [],
   "source": []
  },
  {
   "cell_type": "code",
   "execution_count": null,
   "id": "dafe029b",
   "metadata": {},
   "outputs": [],
   "source": []
  },
  {
   "cell_type": "code",
   "execution_count": null,
   "id": "e7eadd05",
   "metadata": {},
   "outputs": [],
   "source": []
  },
  {
   "cell_type": "code",
   "execution_count": null,
   "id": "85051c06",
   "metadata": {},
   "outputs": [],
   "source": []
  },
  {
   "cell_type": "code",
   "execution_count": null,
   "id": "45735e5f",
   "metadata": {},
   "outputs": [],
   "source": []
  }
 ],
 "metadata": {
  "kernelspec": {
   "display_name": "Python 3 (ipykernel)",
   "language": "python",
   "name": "python3"
  },
  "language_info": {
   "codemirror_mode": {
    "name": "ipython",
    "version": 3
   },
   "file_extension": ".py",
   "mimetype": "text/x-python",
   "name": "python",
   "nbconvert_exporter": "python",
   "pygments_lexer": "ipython3",
   "version": "3.9.13"
  }
 },
 "nbformat": 4,
 "nbformat_minor": 5
}
