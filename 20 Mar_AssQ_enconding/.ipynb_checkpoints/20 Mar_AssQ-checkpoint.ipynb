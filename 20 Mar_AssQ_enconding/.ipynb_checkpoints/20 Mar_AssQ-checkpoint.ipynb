{
 "cells": [
  {
   "cell_type": "markdown",
   "id": "84d6a9c9",
   "metadata": {},
   "source": [
    "# Q1. What is data encoding? How is it useful in data science?"
   ]
  },
  {
   "cell_type": "markdown",
   "id": "3419ea41",
   "metadata": {},
   "source": [
    "# Data encoding method used to convert catagorical values into binary values for Data process.\n",
    "# Machine Learning: Data encoding is essential for preparing data for machine learning algorithms. It involves transforming raw data into a suitable numerical representation that can be used as input for models. Encoding techniques help handle missing values, outliers, or categorical variables, enabling algorithms to process the data effectively."
   ]
  },
  {
   "cell_type": "code",
   "execution_count": null,
   "id": "200566be",
   "metadata": {},
   "outputs": [],
   "source": []
  },
  {
   "cell_type": "markdown",
   "id": "80a0dc04",
   "metadata": {},
   "source": [
    "# Q2. What is nominal encoding? Provide an example of how you would use it in a real-world scenario."
   ]
  },
  {
   "cell_type": "markdown",
   "id": "e1530fb1",
   "metadata": {},
   "source": [
    "# nominal encoding used to convert cat values into binary vectors.and it can create unique cargories into multiple features."
   ]
  },
  {
   "cell_type": "markdown",
   "id": "55cf248b",
   "metadata": {},
   "source": [
    "# Ex. we have column called colors in dataset, IN colors column we have red,green,blue ...,depends upon the unique catagories we can seperate red,greeb,blue as a seperate fearues,if that row is green then feature value will e 1 , or its 0."
   ]
  },
  {
   "cell_type": "code",
   "execution_count": null,
   "id": "aa2ae15b",
   "metadata": {},
   "outputs": [],
   "source": []
  },
  {
   "cell_type": "markdown",
   "id": "562b59d5",
   "metadata": {},
   "source": [
    "# Q3. In what situations is nominal encoding preferred over one-hot encoding? Provide a practical example."
   ]
  },
  {
   "cell_type": "markdown",
   "id": "b1b7d27c",
   "metadata": {},
   "source": [
    "# if its ordinal data we cant use nominal encoding\n",
    "# sparse matrix-1 .more no.of unique catagories then we cant use on ehot encoding\n",
    "# 2.less no.of data -leads to sparse matrix-so we cant use one hot encoding here."
   ]
  },
  {
   "cell_type": "code",
   "execution_count": null,
   "id": "d6bc9ea7",
   "metadata": {},
   "outputs": [],
   "source": []
  },
  {
   "cell_type": "code",
   "execution_count": null,
   "id": "7c01ad88",
   "metadata": {},
   "outputs": [],
   "source": []
  },
  {
   "cell_type": "markdown",
   "id": "0108b97d",
   "metadata": {},
   "source": [
    "# Q4. Suppose you have a dataset containing categorical data with 5 unique values. Which encoding technique would you use to transform this data into a format suitable for machine learning algorithms? Explain why you made this choice."
   ]
  },
  {
   "cell_type": "markdown",
   "id": "09d86930",
   "metadata": {},
   "source": [
    "# i l choose one hot encoding -becuase we can get multiple feautures and there is no relation b/w values so we can good results when we build model."
   ]
  },
  {
   "cell_type": "markdown",
   "id": "a843a035",
   "metadata": {},
   "source": [
    "# In label encoding we can get diff types of numerical values so,system can assume that as one catgary has higher value than other catagory ,like there will be ordinal relationship.so i dont want do that."
   ]
  },
  {
   "cell_type": "code",
   "execution_count": null,
   "id": "07446efe",
   "metadata": {},
   "outputs": [],
   "source": []
  },
  {
   "cell_type": "markdown",
   "id": "3592a948",
   "metadata": {},
   "source": [
    "# Q5. In a machine learning project, you have a dataset with 1000 rows and 5 columns. Two of the columns are categorical, and the remaining three columns are numerical. If you were to use nominal encoding to transform the categorical data, how many new columns would be created? Show your calculations."
   ]
  },
  {
   "cell_type": "markdown",
   "id": "3866a460",
   "metadata": {},
   "source": [
    "# To use nominal encoding to transform the categorical data in the dataset, we need to assign unique numerical labels to each category in each categorical column. The number of new columns created depends on the number of unique categories present in each categorical column.\n",
    "\n",
    "Let's assume the first categorical column has m unique categories, and the second categorical column has n unique categories.\n",
    "\n",
    "For the first categorical column, nominal encoding would create m new columns. Each new column represents a unique category, and the original column can be dropped. Therefore, the first categorical column would be replaced by m new columns.\n",
    "\n",
    "Similarly, for the second categorical column, nominal encoding would create n new columns. Again, each new column represents a unique category, and the original column can be dropped. Thus, the second categorical column would be replaced by n new columns.\n",
    "\n",
    "In total, the number of new columns created by nominal encoding for the two categorical columns would be m + n.\n",
    "\n",
    "In this specific case, the number of new columns created cannot be determined without knowing the number of unique categories in each categorical column. Once the unique categories in each column are known, the sum of their counts would give the total number of new columns created by nominal encoding."
   ]
  },
  {
   "cell_type": "code",
   "execution_count": null,
   "id": "6227b301",
   "metadata": {},
   "outputs": [],
   "source": []
  },
  {
   "cell_type": "markdown",
   "id": "5f6773de",
   "metadata": {},
   "source": [
    "# Q6. You are working with a dataset containing information about different types of animals, including their\n",
    "species, habitat, and diet. Which encoding technique would you use to transform the categorical data into\n",
    "a format suitable for machine learning algorithms? Justify your answer."
   ]
  },
  {
   "cell_type": "markdown",
   "id": "45cdbcc2",
   "metadata": {},
   "source": [
    "# To transform the categorical data about different types of animals into a format suitable for machine learning algorithms, I would use a combination of label encoding and one-hot encoding, depending on the nature and characteristics of the categorical variables.\n",
    "\n",
    "1. **Label Encoding:** Label encoding assigns a unique numerical label to each category in a categorical variable. It is suitable when the categorical variable has an inherent ordinal relationship or when there are a large number of categories, and one-hot encoding would lead to high dimensionality. For example, if the categorical variable is \"Habitat\" with categories like \"Forest,\" \"Desert,\" and \"Ocean,\" label encoding can be applied as there is an implied order among the habitats.\n",
    "\n",
    "2. **One-Hot Encoding:** One-hot encoding is a widely used technique for representing categorical variables as binary vectors. It creates binary columns for each category, where the presence or absence of a category is indicated by a value of 1 or 0, respectively. One-hot encoding is appropriate when there is no ordinal relationship among the categories, and each category should be treated as a distinct feature. For example, if the categorical variable is \"Species\" with categories like \"Lion,\" \"Tiger,\" and \"Elephant,\" one-hot encoding would be suitable as there is no inherent order among the species.\n",
    "\n",
    "By using a combination of label encoding and one-hot encoding, we can effectively transform the categorical data about animal species, habitat, and diet into a suitable format for machine learning algorithms. The specific choice between label encoding and one-hot encoding would depend on the characteristics and nature of each categorical variable in the dataset."
   ]
  },
  {
   "cell_type": "code",
   "execution_count": null,
   "id": "92ab6a6c",
   "metadata": {},
   "outputs": [],
   "source": []
  },
  {
   "cell_type": "code",
   "execution_count": null,
   "id": "95f8e7dc",
   "metadata": {},
   "outputs": [],
   "source": []
  },
  {
   "cell_type": "code",
   "execution_count": null,
   "id": "c20b02fe",
   "metadata": {},
   "outputs": [],
   "source": []
  },
  {
   "cell_type": "code",
   "execution_count": null,
   "id": "f666520f",
   "metadata": {},
   "outputs": [],
   "source": []
  },
  {
   "cell_type": "code",
   "execution_count": null,
   "id": "68e8e0bb",
   "metadata": {},
   "outputs": [],
   "source": []
  },
  {
   "cell_type": "code",
   "execution_count": null,
   "id": "11b65a2f",
   "metadata": {},
   "outputs": [],
   "source": []
  },
  {
   "cell_type": "code",
   "execution_count": null,
   "id": "56a06a8f",
   "metadata": {},
   "outputs": [],
   "source": []
  },
  {
   "cell_type": "code",
   "execution_count": null,
   "id": "c00ebbca",
   "metadata": {},
   "outputs": [],
   "source": []
  },
  {
   "cell_type": "code",
   "execution_count": null,
   "id": "1d698fe9",
   "metadata": {},
   "outputs": [],
   "source": []
  }
 ],
 "metadata": {
  "kernelspec": {
   "display_name": "Python 3 (ipykernel)",
   "language": "python",
   "name": "python3"
  },
  "language_info": {
   "codemirror_mode": {
    "name": "ipython",
    "version": 3
   },
   "file_extension": ".py",
   "mimetype": "text/x-python",
   "name": "python",
   "nbconvert_exporter": "python",
   "pygments_lexer": "ipython3",
   "version": "3.10.9"
  }
 },
 "nbformat": 4,
 "nbformat_minor": 5
}
