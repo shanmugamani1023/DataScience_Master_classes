{
 "cells": [
  {
   "cell_type": "markdown",
   "metadata": {},
   "source": [
    "\n",
    "# Q1. Preprocess the dataset by handling missing values, encoding categorical variables, and scaling the numerical features if necessary. "
   ]
  },
  {
   "cell_type": "code",
   "execution_count": 2,
   "metadata": {},
   "outputs": [
    {
     "name": "stdout",
     "output_type": "stream",
     "text": [
      "Collecting pandas\n",
      "  Obtaining dependency information for pandas from https://files.pythonhosted.org/packages/93/26/2a695303a4a3194014dca7cb5d5ce08f0d2c6baa344fb5f562c642e77b2b/pandas-2.2.1-cp310-cp310-win_amd64.whl.metadata\n",
      "  Downloading pandas-2.2.1-cp310-cp310-win_amd64.whl.metadata (19 kB)\n",
      "Requirement already satisfied: numpy<2,>=1.22.4 in c:\\users\\shan\\.conda\\envs\\pwskills\\lib\\site-packages (from pandas) (1.25.2)\n",
      "Requirement already satisfied: python-dateutil>=2.8.2 in c:\\users\\shan\\.conda\\envs\\pwskills\\lib\\site-packages (from pandas) (2.8.2)\n",
      "Collecting pytz>=2020.1 (from pandas)\n",
      "  Obtaining dependency information for pytz>=2020.1 from https://files.pythonhosted.org/packages/9c/3d/a121f284241f08268b21359bd425f7d4825cffc5ac5cd0e1b3d82ffd2b10/pytz-2024.1-py2.py3-none-any.whl.metadata\n",
      "  Downloading pytz-2024.1-py2.py3-none-any.whl.metadata (22 kB)\n",
      "Collecting tzdata>=2022.7 (from pandas)\n",
      "  Obtaining dependency information for tzdata>=2022.7 from https://files.pythonhosted.org/packages/65/58/f9c9e6be752e9fcb8b6a0ee9fb87e6e7a1f6bcab2cdc73f02bb7ba91ada0/tzdata-2024.1-py2.py3-none-any.whl.metadata\n",
      "  Downloading tzdata-2024.1-py2.py3-none-any.whl.metadata (1.4 kB)\n",
      "Requirement already satisfied: six>=1.5 in c:\\users\\shan\\.conda\\envs\\pwskills\\lib\\site-packages (from python-dateutil>=2.8.2->pandas) (1.16.0)\n",
      "Downloading pandas-2.2.1-cp310-cp310-win_amd64.whl (11.6 MB)\n",
      "   ---------------------------------------- 0.0/11.6 MB ? eta -:--:--\n",
      "   ---------------------------------------- 0.1/11.6 MB 3.3 MB/s eta 0:00:04\n",
      "   -- ------------------------------------- 0.7/11.6 MB 8.3 MB/s eta 0:00:02\n",
      "   -- ------------------------------------- 0.8/11.6 MB 7.3 MB/s eta 0:00:02\n",
      "   --- ------------------------------------ 1.0/11.6 MB 5.8 MB/s eta 0:00:02\n",
      "   --- ------------------------------------ 1.1/11.6 MB 5.8 MB/s eta 0:00:02\n",
      "   --- ------------------------------------ 1.1/11.6 MB 5.8 MB/s eta 0:00:02\n",
      "   --- ------------------------------------ 1.1/11.6 MB 5.8 MB/s eta 0:00:02\n",
      "   ---- ----------------------------------- 1.3/11.6 MB 3.8 MB/s eta 0:00:03\n",
      "   ----- ---------------------------------- 1.7/11.6 MB 4.3 MB/s eta 0:00:03\n",
      "   ------ --------------------------------- 1.9/11.6 MB 4.4 MB/s eta 0:00:03\n",
      "   ------- -------------------------------- 2.1/11.6 MB 4.3 MB/s eta 0:00:03\n",
      "   ------- -------------------------------- 2.1/11.6 MB 4.3 MB/s eta 0:00:03\n",
      "   ------- -------------------------------- 2.1/11.6 MB 4.3 MB/s eta 0:00:03\n",
      "   ------- -------------------------------- 2.3/11.6 MB 3.6 MB/s eta 0:00:03\n",
      "   -------- ------------------------------- 2.5/11.6 MB 3.7 MB/s eta 0:00:03\n",
      "   --------- ------------------------------ 2.7/11.6 MB 3.8 MB/s eta 0:00:03\n",
      "   ---------- ----------------------------- 2.9/11.6 MB 3.8 MB/s eta 0:00:03\n",
      "   ---------- ----------------------------- 3.1/11.6 MB 3.9 MB/s eta 0:00:03\n",
      "   ----------- ---------------------------- 3.3/11.6 MB 3.9 MB/s eta 0:00:03\n",
      "   ----------- ---------------------------- 3.5/11.6 MB 3.9 MB/s eta 0:00:03\n",
      "   ------------ --------------------------- 3.6/11.6 MB 3.9 MB/s eta 0:00:03\n",
      "   ------------- -------------------------- 3.8/11.6 MB 3.9 MB/s eta 0:00:03\n",
      "   ------------- -------------------------- 4.0/11.6 MB 3.9 MB/s eta 0:00:02\n",
      "   -------------- ------------------------- 4.2/11.6 MB 3.9 MB/s eta 0:00:02\n",
      "   --------------- ------------------------ 4.4/11.6 MB 3.9 MB/s eta 0:00:02\n",
      "   --------------- ------------------------ 4.5/11.6 MB 3.9 MB/s eta 0:00:02\n",
      "   ---------------- ----------------------- 4.7/11.6 MB 3.9 MB/s eta 0:00:02\n",
      "   ---------------- ----------------------- 4.9/11.6 MB 3.9 MB/s eta 0:00:02\n",
      "   ----------------- ---------------------- 5.1/11.6 MB 3.9 MB/s eta 0:00:02\n",
      "   ------------------ --------------------- 5.2/11.6 MB 3.9 MB/s eta 0:00:02\n",
      "   ------------------ --------------------- 5.4/11.6 MB 3.9 MB/s eta 0:00:02\n",
      "   ------------------- -------------------- 5.6/11.6 MB 3.9 MB/s eta 0:00:02\n",
      "   ------------------- -------------------- 5.8/11.6 MB 3.9 MB/s eta 0:00:02\n",
      "   -------------------- ------------------- 6.0/11.6 MB 3.9 MB/s eta 0:00:02\n",
      "   --------------------- ------------------ 6.1/11.6 MB 3.9 MB/s eta 0:00:02\n",
      "   --------------------- ------------------ 6.3/11.6 MB 3.9 MB/s eta 0:00:02\n",
      "   ---------------------- ----------------- 6.5/11.6 MB 3.9 MB/s eta 0:00:02\n",
      "   ----------------------- ---------------- 6.7/11.6 MB 3.9 MB/s eta 0:00:02\n",
      "   ----------------------- ---------------- 6.9/11.6 MB 3.9 MB/s eta 0:00:02\n",
      "   ------------------------ --------------- 7.0/11.6 MB 3.9 MB/s eta 0:00:02\n",
      "   ------------------------ --------------- 7.1/11.6 MB 3.9 MB/s eta 0:00:02\n",
      "   ------------------------ --------------- 7.1/11.6 MB 3.9 MB/s eta 0:00:02\n",
      "   ------------------------- -------------- 7.3/11.6 MB 3.8 MB/s eta 0:00:02\n",
      "   ------------------------- -------------- 7.5/11.6 MB 3.7 MB/s eta 0:00:02\n",
      "   --------------------------- ------------ 7.9/11.6 MB 3.9 MB/s eta 0:00:01\n",
      "   --------------------------- ------------ 8.1/11.6 MB 3.9 MB/s eta 0:00:01\n",
      "   ---------------------------- ----------- 8.3/11.6 MB 3.9 MB/s eta 0:00:01\n",
      "   ----------------------------- ---------- 8.4/11.6 MB 3.9 MB/s eta 0:00:01\n",
      "   ----------------------------- ---------- 8.6/11.6 MB 3.9 MB/s eta 0:00:01\n",
      "   ------------------------------ --------- 8.8/11.6 MB 3.9 MB/s eta 0:00:01\n",
      "   ------------------------------ --------- 9.0/11.6 MB 3.9 MB/s eta 0:00:01\n",
      "   ------------------------------- -------- 9.2/11.6 MB 3.9 MB/s eta 0:00:01\n",
      "   -------------------------------- ------- 9.3/11.6 MB 3.9 MB/s eta 0:00:01\n",
      "   -------------------------------- ------- 9.5/11.6 MB 3.9 MB/s eta 0:00:01\n",
      "   --------------------------------- ------ 9.7/11.6 MB 3.9 MB/s eta 0:00:01\n",
      "   ---------------------------------- ----- 9.9/11.6 MB 3.9 MB/s eta 0:00:01\n",
      "   ---------------------------------- ----- 10.1/11.6 MB 3.9 MB/s eta 0:00:01\n",
      "   ----------------------------------- ---- 10.2/11.6 MB 3.9 MB/s eta 0:00:01\n",
      "   ----------------------------------- ---- 10.4/11.6 MB 3.9 MB/s eta 0:00:01\n",
      "   ------------------------------------ --- 10.6/11.6 MB 3.8 MB/s eta 0:00:01\n",
      "   ------------------------------------- -- 10.8/11.6 MB 3.8 MB/s eta 0:00:01\n",
      "   ------------------------------------- -- 11.0/11.6 MB 3.7 MB/s eta 0:00:01\n",
      "   -------------------------------------- - 11.1/11.6 MB 3.7 MB/s eta 0:00:01\n",
      "   ---------------------------------------  11.3/11.6 MB 3.7 MB/s eta 0:00:01\n",
      "   ---------------------------------------  11.5/11.6 MB 3.9 MB/s eta 0:00:01\n",
      "   ---------------------------------------  11.6/11.6 MB 3.9 MB/s eta 0:00:01\n",
      "   ---------------------------------------- 11.6/11.6 MB 3.8 MB/s eta 0:00:00\n",
      "Downloading pytz-2024.1-py2.py3-none-any.whl (505 kB)\n",
      "   ---------------------------------------- 0.0/505.5 kB ? eta -:--:--\n",
      "   ------------------------------------- - 491.5/505.5 kB 15.5 MB/s eta 0:00:01\n",
      "   --------------------------------------- 505.5/505.5 kB 10.5 MB/s eta 0:00:00\n",
      "Downloading tzdata-2024.1-py2.py3-none-any.whl (345 kB)\n",
      "   ---------------------------------------- 0.0/345.4 kB ? eta -:--:--\n",
      "   ---------------------------------------  337.9/345.4 kB 7.0 MB/s eta 0:00:01\n",
      "   ---------------------------------------- 345.4/345.4 kB 5.3 MB/s eta 0:00:00\n",
      "Installing collected packages: pytz, tzdata, pandas\n",
      "Successfully installed pandas-2.2.1 pytz-2024.1 tzdata-2024.1\n",
      "Note: you may need to restart the kernel to use updated packages.\n"
     ]
    }
   ],
   "source": [
    "pip install pandas"
   ]
  },
  {
   "cell_type": "code",
   "execution_count": 3,
   "metadata": {},
   "outputs": [
    {
     "name": "stdout",
     "output_type": "stream",
     "text": [
      "Index(['age', 'sex', 'cp', 'trestbps', 'chol', 'fbs', 'restecg', 'thalach',\n",
      "       'exang', 'oldpeak', 'slope', 'ca', 'thal', 'target'],\n",
      "      dtype='object')\n"
     ]
    }
   ],
   "source": [
    "import pandas as pd\n",
    "\n",
    "# Load the dataset\n",
    "url = \"https://drive.google.com/uc?id=1bGoIE4Z2kG5nyh-fGZAJ7LH0ki3UfmSJ\"\n",
    "heart_df = pd.read_csv(url)\n",
    "\n",
    "# Handle missing values\n",
    "missing_values = heart_df.isnull().sum()\n",
    "\n",
    "# Encode categorical variables\n",
    "categorical_cols = heart_df.select_dtypes(include=['object']).columns\n",
    "\n",
    "# Scale numerical features if necessary\n",
    "numerical_cols = heart_df.select_dtypes(include=['int64', 'float64']).columns\n",
    "print(numerical_cols)"
   ]
  },
  {
   "cell_type": "code",
   "execution_count": null,
   "metadata": {},
   "outputs": [],
   "source": []
  },
  {
   "cell_type": "markdown",
   "metadata": {},
   "source": [
    "# Q2. Split the dataset into a training set (70%) and a test set (30%). "
   ]
  },
  {
   "cell_type": "code",
   "execution_count": 4,
   "metadata": {},
   "outputs": [],
   "source": [
    "from sklearn.model_selection import train_test_split\n",
    "\n",
    "# Define features (X) and target variable (y)\n",
    "X = heart_df.drop(columns=['target'])  # Assuming 'target' is the column name for the target variable\n",
    "y = heart_df['target']\n",
    "\n",
    "# Split the dataset into training set (70%) and test set (30%)\n",
    "X_train, X_test, y_train, y_test = train_test_split(X, y, test_size=0.3, random_state=42)\n",
    "\n",
    "# Now you have your training set and test set ready for further analysis.\n"
   ]
  },
  {
   "cell_type": "markdown",
   "metadata": {},
   "source": []
  },
  {
   "cell_type": "markdown",
   "metadata": {},
   "source": [
    "# Q3. Train a random forest classifier on the training set using 100 trees and a maximum depth of 10 for each tree. Use the default values for other hyperparameters. "
   ]
  },
  {
   "cell_type": "code",
   "execution_count": 5,
   "metadata": {},
   "outputs": [
    {
     "data": {
      "text/html": [
       "<style>#sk-container-id-1 {color: black;}#sk-container-id-1 pre{padding: 0;}#sk-container-id-1 div.sk-toggleable {background-color: white;}#sk-container-id-1 label.sk-toggleable__label {cursor: pointer;display: block;width: 100%;margin-bottom: 0;padding: 0.3em;box-sizing: border-box;text-align: center;}#sk-container-id-1 label.sk-toggleable__label-arrow:before {content: \"▸\";float: left;margin-right: 0.25em;color: #696969;}#sk-container-id-1 label.sk-toggleable__label-arrow:hover:before {color: black;}#sk-container-id-1 div.sk-estimator:hover label.sk-toggleable__label-arrow:before {color: black;}#sk-container-id-1 div.sk-toggleable__content {max-height: 0;max-width: 0;overflow: hidden;text-align: left;background-color: #f0f8ff;}#sk-container-id-1 div.sk-toggleable__content pre {margin: 0.2em;color: black;border-radius: 0.25em;background-color: #f0f8ff;}#sk-container-id-1 input.sk-toggleable__control:checked~div.sk-toggleable__content {max-height: 200px;max-width: 100%;overflow: auto;}#sk-container-id-1 input.sk-toggleable__control:checked~label.sk-toggleable__label-arrow:before {content: \"▾\";}#sk-container-id-1 div.sk-estimator input.sk-toggleable__control:checked~label.sk-toggleable__label {background-color: #d4ebff;}#sk-container-id-1 div.sk-label input.sk-toggleable__control:checked~label.sk-toggleable__label {background-color: #d4ebff;}#sk-container-id-1 input.sk-hidden--visually {border: 0;clip: rect(1px 1px 1px 1px);clip: rect(1px, 1px, 1px, 1px);height: 1px;margin: -1px;overflow: hidden;padding: 0;position: absolute;width: 1px;}#sk-container-id-1 div.sk-estimator {font-family: monospace;background-color: #f0f8ff;border: 1px dotted black;border-radius: 0.25em;box-sizing: border-box;margin-bottom: 0.5em;}#sk-container-id-1 div.sk-estimator:hover {background-color: #d4ebff;}#sk-container-id-1 div.sk-parallel-item::after {content: \"\";width: 100%;border-bottom: 1px solid gray;flex-grow: 1;}#sk-container-id-1 div.sk-label:hover label.sk-toggleable__label {background-color: #d4ebff;}#sk-container-id-1 div.sk-serial::before {content: \"\";position: absolute;border-left: 1px solid gray;box-sizing: border-box;top: 0;bottom: 0;left: 50%;z-index: 0;}#sk-container-id-1 div.sk-serial {display: flex;flex-direction: column;align-items: center;background-color: white;padding-right: 0.2em;padding-left: 0.2em;position: relative;}#sk-container-id-1 div.sk-item {position: relative;z-index: 1;}#sk-container-id-1 div.sk-parallel {display: flex;align-items: stretch;justify-content: center;background-color: white;position: relative;}#sk-container-id-1 div.sk-item::before, #sk-container-id-1 div.sk-parallel-item::before {content: \"\";position: absolute;border-left: 1px solid gray;box-sizing: border-box;top: 0;bottom: 0;left: 50%;z-index: -1;}#sk-container-id-1 div.sk-parallel-item {display: flex;flex-direction: column;z-index: 1;position: relative;background-color: white;}#sk-container-id-1 div.sk-parallel-item:first-child::after {align-self: flex-end;width: 50%;}#sk-container-id-1 div.sk-parallel-item:last-child::after {align-self: flex-start;width: 50%;}#sk-container-id-1 div.sk-parallel-item:only-child::after {width: 0;}#sk-container-id-1 div.sk-dashed-wrapped {border: 1px dashed gray;margin: 0 0.4em 0.5em 0.4em;box-sizing: border-box;padding-bottom: 0.4em;background-color: white;}#sk-container-id-1 div.sk-label label {font-family: monospace;font-weight: bold;display: inline-block;line-height: 1.2em;}#sk-container-id-1 div.sk-label-container {text-align: center;}#sk-container-id-1 div.sk-container {/* jupyter's `normalize.less` sets `[hidden] { display: none; }` but bootstrap.min.css set `[hidden] { display: none !important; }` so we also need the `!important` here to be able to override the default hidden behavior on the sphinx rendered scikit-learn.org. See: https://github.com/scikit-learn/scikit-learn/issues/21755 */display: inline-block !important;position: relative;}#sk-container-id-1 div.sk-text-repr-fallback {display: none;}</style><div id=\"sk-container-id-1\" class=\"sk-top-container\"><div class=\"sk-text-repr-fallback\"><pre>RandomForestClassifier(max_depth=10, random_state=42)</pre><b>In a Jupyter environment, please rerun this cell to show the HTML representation or trust the notebook. <br />On GitHub, the HTML representation is unable to render, please try loading this page with nbviewer.org.</b></div><div class=\"sk-container\" hidden><div class=\"sk-item\"><div class=\"sk-estimator sk-toggleable\"><input class=\"sk-toggleable__control sk-hidden--visually\" id=\"sk-estimator-id-1\" type=\"checkbox\" checked><label for=\"sk-estimator-id-1\" class=\"sk-toggleable__label sk-toggleable__label-arrow\">RandomForestClassifier</label><div class=\"sk-toggleable__content\"><pre>RandomForestClassifier(max_depth=10, random_state=42)</pre></div></div></div></div></div>"
      ],
      "text/plain": [
       "RandomForestClassifier(max_depth=10, random_state=42)"
      ]
     },
     "execution_count": 5,
     "metadata": {},
     "output_type": "execute_result"
    }
   ],
   "source": [
    "from sklearn.ensemble import RandomForestClassifier\n",
    "\n",
    "# Initialize the random forest classifier with 100 trees and maximum depth of 10\n",
    "rf_classifier = RandomForestClassifier(n_estimators=100, max_depth=10, random_state=42)\n",
    "\n",
    "# Train the classifier on the training set\n",
    "rf_classifier.fit(X_train, y_train)\n",
    "\n",
    "# Now the random forest classifier is trained on the training set.\n"
   ]
  },
  {
   "cell_type": "markdown",
   "metadata": {},
   "source": [
    "# Q4. Evaluate the performance of the model on the test set using accuracy, precision, recall, and F1 score.  \n"
   ]
  },
  {
   "cell_type": "code",
   "execution_count": 6,
   "metadata": {},
   "outputs": [
    {
     "name": "stdout",
     "output_type": "stream",
     "text": [
      "Accuracy: 0.8131868131868132\n",
      "Precision: 0.8367346938775511\n",
      "Recall: 0.82\n",
      "F1 Score: 0.8282828282828283\n"
     ]
    }
   ],
   "source": [
    "from sklearn.metrics import accuracy_score, precision_score, recall_score, f1_score\n",
    "\n",
    "# Predict the target labels for the test set\n",
    "y_pred = rf_classifier.predict(X_test)\n",
    "\n",
    "# Calculate evaluation metrics\n",
    "accuracy = accuracy_score(y_test, y_pred)\n",
    "precision = precision_score(y_test, y_pred)\n",
    "recall = recall_score(y_test, y_pred)\n",
    "f1 = f1_score(y_test, y_pred)\n",
    "\n",
    "# Print the evaluation metrics\n",
    "print(\"Accuracy:\", accuracy)\n",
    "print(\"Precision:\", precision)\n",
    "print(\"Recall:\", recall)\n",
    "print(\"F1 Score:\", f1)\n"
   ]
  },
  {
   "cell_type": "markdown",
   "metadata": {},
   "source": []
  },
  {
   "cell_type": "code",
   "execution_count": null,
   "metadata": {},
   "outputs": [],
   "source": []
  },
  {
   "cell_type": "markdown",
   "metadata": {},
   "source": [
    "# Q5. Use the feature importance scores to identify the top 5 most important features in predicting heart disease risk. Visualise the feature importances using a bar chart. "
   ]
  },
  {
   "cell_type": "code",
   "execution_count": 8,
   "metadata": {},
   "outputs": [
    {
     "name": "stdout",
     "output_type": "stream",
     "text": [
      "Collecting matplotlib\n",
      "  Obtaining dependency information for matplotlib from https://files.pythonhosted.org/packages/62/5a/a5108ae3db37f35f8a2be8a57d62da327af239214c9661464ce09ee32d7d/matplotlib-3.8.4-cp310-cp310-win_amd64.whl.metadata\n",
      "  Downloading matplotlib-3.8.4-cp310-cp310-win_amd64.whl.metadata (5.9 kB)\n",
      "Collecting contourpy>=1.0.1 (from matplotlib)\n",
      "  Obtaining dependency information for contourpy>=1.0.1 from https://files.pythonhosted.org/packages/b6/b2/27c7a0d46c7dceb9083272eb314bef1ed43e5280a4197719656f866b496d/contourpy-1.2.1-cp310-cp310-win_amd64.whl.metadata\n",
      "  Downloading contourpy-1.2.1-cp310-cp310-win_amd64.whl.metadata (5.8 kB)\n",
      "Collecting cycler>=0.10 (from matplotlib)\n",
      "  Obtaining dependency information for cycler>=0.10 from https://files.pythonhosted.org/packages/e7/05/c19819d5e3d95294a6f5947fb9b9629efb316b96de511b418c53d245aae6/cycler-0.12.1-py3-none-any.whl.metadata\n",
      "  Using cached cycler-0.12.1-py3-none-any.whl.metadata (3.8 kB)\n",
      "Collecting fonttools>=4.22.0 (from matplotlib)\n",
      "  Obtaining dependency information for fonttools>=4.22.0 from https://files.pythonhosted.org/packages/eb/6f/27897f57a4163bade97e26687a1369c191d80b6acb448025e27c8956e4f0/fonttools-4.51.0-cp310-cp310-win_amd64.whl.metadata\n",
      "  Downloading fonttools-4.51.0-cp310-cp310-win_amd64.whl.metadata (162 kB)\n",
      "     ---------------------------------------- 0.0/162.8 kB ? eta -:--:--\n",
      "     -- ------------------------------------- 10.2/162.8 kB ? eta -:--:--\n",
      "     ------------------- ------------------- 81.9/162.8 kB 1.5 MB/s eta 0:00:01\n",
      "     -------------------------------------- 162.8/162.8 kB 1.9 MB/s eta 0:00:00\n",
      "Collecting kiwisolver>=1.3.1 (from matplotlib)\n",
      "  Obtaining dependency information for kiwisolver>=1.3.1 from https://files.pythonhosted.org/packages/4a/a1/8a9c9be45c642fa12954855d8b3a02d9fd8551165a558835a19508fec2e6/kiwisolver-1.4.5-cp310-cp310-win_amd64.whl.metadata\n",
      "  Using cached kiwisolver-1.4.5-cp310-cp310-win_amd64.whl.metadata (6.5 kB)\n",
      "Requirement already satisfied: numpy>=1.21 in c:\\users\\shan\\.conda\\envs\\pwskills\\lib\\site-packages (from matplotlib) (1.25.2)\n",
      "Requirement already satisfied: packaging>=20.0 in c:\\users\\shan\\.conda\\envs\\pwskills\\lib\\site-packages (from matplotlib) (23.1)\n",
      "Collecting pillow>=8 (from matplotlib)\n",
      "  Obtaining dependency information for pillow>=8 from https://files.pythonhosted.org/packages/75/4c/2a850f886a2de7fbd25eedd2c40afec56db872b3e52491d8953698080505/pillow-10.3.0-cp310-cp310-win_amd64.whl.metadata\n",
      "  Downloading pillow-10.3.0-cp310-cp310-win_amd64.whl.metadata (9.4 kB)\n",
      "Collecting pyparsing>=2.3.1 (from matplotlib)\n",
      "  Obtaining dependency information for pyparsing>=2.3.1 from https://files.pythonhosted.org/packages/9d/ea/6d76df31432a0e6fdf81681a895f009a4bb47b3c39036db3e1b528191d52/pyparsing-3.1.2-py3-none-any.whl.metadata\n",
      "  Downloading pyparsing-3.1.2-py3-none-any.whl.metadata (5.1 kB)\n",
      "Requirement already satisfied: python-dateutil>=2.7 in c:\\users\\shan\\.conda\\envs\\pwskills\\lib\\site-packages (from matplotlib) (2.8.2)\n",
      "Requirement already satisfied: six>=1.5 in c:\\users\\shan\\.conda\\envs\\pwskills\\lib\\site-packages (from python-dateutil>=2.7->matplotlib) (1.16.0)\n",
      "Downloading matplotlib-3.8.4-cp310-cp310-win_amd64.whl (7.7 MB)\n",
      "   ---------------------------------------- 0.0/7.7 MB ? eta -:--:--\n",
      "   -- ------------------------------------- 0.6/7.7 MB 17.6 MB/s eta 0:00:01\n",
      "   --- ------------------------------------ 0.7/7.7 MB 9.3 MB/s eta 0:00:01\n",
      "   ---- ----------------------------------- 0.9/7.7 MB 7.3 MB/s eta 0:00:01\n",
      "   ----- ---------------------------------- 1.0/7.7 MB 7.0 MB/s eta 0:00:01\n",
      "   ----- ---------------------------------- 1.0/7.7 MB 7.0 MB/s eta 0:00:01\n",
      "   ----- ---------------------------------- 1.0/7.7 MB 7.0 MB/s eta 0:00:01\n",
      "   ----- ---------------------------------- 1.0/7.7 MB 7.0 MB/s eta 0:00:01\n",
      "   ------- -------------------------------- 1.4/7.7 MB 4.0 MB/s eta 0:00:02\n",
      "   -------- ------------------------------- 1.7/7.7 MB 4.1 MB/s eta 0:00:02\n",
      "   --------- ------------------------------ 1.9/7.7 MB 4.1 MB/s eta 0:00:02\n",
      "   ---------- ----------------------------- 2.1/7.7 MB 4.1 MB/s eta 0:00:02\n",
      "   ----------- ---------------------------- 2.2/7.7 MB 4.1 MB/s eta 0:00:02\n",
      "   ------------ --------------------------- 2.4/7.7 MB 4.1 MB/s eta 0:00:02\n",
      "   ------------- -------------------------- 2.6/7.7 MB 4.1 MB/s eta 0:00:02\n",
      "   ------------- -------------------------- 2.6/7.7 MB 4.1 MB/s eta 0:00:02\n",
      "   ------------- -------------------------- 2.6/7.7 MB 4.1 MB/s eta 0:00:02\n",
      "   -------------- ------------------------- 2.7/7.7 MB 3.6 MB/s eta 0:00:02\n",
      "   --------------- ------------------------ 3.0/7.7 MB 3.7 MB/s eta 0:00:02\n",
      "   ---------------- ----------------------- 3.2/7.7 MB 3.7 MB/s eta 0:00:02\n",
      "   ----------------- ---------------------- 3.3/7.7 MB 3.7 MB/s eta 0:00:02\n",
      "   ------------------ --------------------- 3.5/7.7 MB 3.7 MB/s eta 0:00:02\n",
      "   ------------------- -------------------- 3.7/7.7 MB 3.7 MB/s eta 0:00:02\n",
      "   -------------------- ------------------- 3.9/7.7 MB 3.7 MB/s eta 0:00:02\n",
      "   -------------------- ------------------- 4.0/7.7 MB 3.7 MB/s eta 0:00:01\n",
      "   -------------------- ------------------- 4.0/7.7 MB 3.7 MB/s eta 0:00:01\n",
      "   -------------------- ------------------- 4.0/7.7 MB 3.3 MB/s eta 0:00:02\n",
      "   ----------------------- ---------------- 4.5/7.7 MB 3.6 MB/s eta 0:00:01\n",
      "   ------------------------ --------------- 4.8/7.7 MB 3.7 MB/s eta 0:00:01\n",
      "   ------------------------- -------------- 4.9/7.7 MB 3.7 MB/s eta 0:00:01\n",
      "   -------------------------- ------------- 5.1/7.7 MB 3.8 MB/s eta 0:00:01\n",
      "   --------------------------- ------------ 5.3/7.7 MB 3.7 MB/s eta 0:00:01\n",
      "   ---------------------------- ----------- 5.5/7.7 MB 3.8 MB/s eta 0:00:01\n",
      "   ----------------------------- ---------- 5.7/7.7 MB 3.8 MB/s eta 0:00:01\n",
      "   ------------------------------ --------- 5.8/7.7 MB 3.8 MB/s eta 0:00:01\n",
      "   ------------------------------- -------- 6.0/7.7 MB 3.8 MB/s eta 0:00:01\n",
      "   -------------------------------- ------- 6.2/7.7 MB 3.8 MB/s eta 0:00:01\n",
      "   --------------------------------- ------ 6.4/7.7 MB 3.8 MB/s eta 0:00:01\n",
      "   ---------------------------------- ----- 6.5/7.7 MB 3.8 MB/s eta 0:00:01\n",
      "   ----------------------------------- ---- 6.7/7.7 MB 3.8 MB/s eta 0:00:01\n",
      "   ------------------------------------ --- 6.9/7.7 MB 3.8 MB/s eta 0:00:01\n",
      "   ------------------------------------ --- 7.1/7.7 MB 3.8 MB/s eta 0:00:01\n",
      "   ------------------------------------- -- 7.3/7.7 MB 3.8 MB/s eta 0:00:01\n",
      "   -------------------------------------- - 7.4/7.7 MB 3.8 MB/s eta 0:00:01\n",
      "   ---------------------------------------  7.6/7.7 MB 3.8 MB/s eta 0:00:01\n",
      "   ---------------------------------------- 7.7/7.7 MB 3.7 MB/s eta 0:00:00\n",
      "Downloading contourpy-1.2.1-cp310-cp310-win_amd64.whl (187 kB)\n",
      "   ---------------------------------------- 0.0/187.5 kB ? eta -:--:--\n",
      "   --------------------------------------- 187.5/187.5 kB 11.8 MB/s eta 0:00:00\n",
      "Using cached cycler-0.12.1-py3-none-any.whl (8.3 kB)\n",
      "Downloading fonttools-4.51.0-cp310-cp310-win_amd64.whl (2.2 MB)\n",
      "   ---------------------------------------- 0.0/2.2 MB ? eta -:--:--\n",
      "   ------- -------------------------------- 0.4/2.2 MB 12.9 MB/s eta 0:00:01\n",
      "   ---------- ----------------------------- 0.6/2.2 MB 7.5 MB/s eta 0:00:01\n",
      "   -------------- ------------------------- 0.8/2.2 MB 6.2 MB/s eta 0:00:01\n",
      "   ----------------- ---------------------- 1.0/2.2 MB 5.5 MB/s eta 0:00:01\n",
      "   -------------------- ------------------- 1.1/2.2 MB 5.2 MB/s eta 0:00:01\n",
      "   ------------------------ --------------- 1.3/2.2 MB 5.0 MB/s eta 0:00:01\n",
      "   --------------------------- ------------ 1.5/2.2 MB 4.7 MB/s eta 0:00:01\n",
      "   ------------------------------ --------- 1.7/2.2 MB 4.7 MB/s eta 0:00:01\n",
      "   ---------------------------------- ----- 1.9/2.2 MB 4.6 MB/s eta 0:00:01\n",
      "   ------------------------------------- -- 2.0/2.2 MB 4.5 MB/s eta 0:00:01\n",
      "   ---------------------------------------  2.2/2.2 MB 4.5 MB/s eta 0:00:01\n",
      "   ---------------------------------------- 2.2/2.2 MB 4.4 MB/s eta 0:00:00\n",
      "Using cached kiwisolver-1.4.5-cp310-cp310-win_amd64.whl (56 kB)\n",
      "Downloading pillow-10.3.0-cp310-cp310-win_amd64.whl (2.5 MB)\n",
      "   ---------------------------------------- 0.0/2.5 MB ? eta -:--:--\n",
      "   ----- ---------------------------------- 0.3/2.5 MB 10.2 MB/s eta 0:00:01\n",
      "   ------- -------------------------------- 0.5/2.5 MB 6.3 MB/s eta 0:00:01\n",
      "   ---------- ----------------------------- 0.7/2.5 MB 5.3 MB/s eta 0:00:01\n",
      "   ------------- -------------------------- 0.9/2.5 MB 5.0 MB/s eta 0:00:01\n",
      "   ---------------- ----------------------- 1.0/2.5 MB 5.0 MB/s eta 0:00:01\n",
      "   ------------------- -------------------- 1.2/2.5 MB 4.8 MB/s eta 0:00:01\n",
      "   ---------------------- ----------------- 1.4/2.5 MB 4.7 MB/s eta 0:00:01\n",
      "   ------------------------ --------------- 1.6/2.5 MB 4.6 MB/s eta 0:00:01\n",
      "   --------------------------- ------------ 1.8/2.5 MB 4.5 MB/s eta 0:00:01\n",
      "   ------------------------------ --------- 1.9/2.5 MB 4.4 MB/s eta 0:00:01\n",
      "   --------------------------------- ------ 2.1/2.5 MB 4.3 MB/s eta 0:00:01\n",
      "   ------------------------------------ --- 2.3/2.5 MB 4.3 MB/s eta 0:00:01\n",
      "   -------------------------------------- - 2.5/2.5 MB 4.3 MB/s eta 0:00:01\n",
      "   ---------------------------------------- 2.5/2.5 MB 4.1 MB/s eta 0:00:00\n",
      "Downloading pyparsing-3.1.2-py3-none-any.whl (103 kB)\n",
      "   ---------------------------------------- 0.0/103.2 kB ? eta -:--:--\n",
      "   ---------------------------------------- 103.2/103.2 kB 6.2 MB/s eta 0:00:00\n",
      "Installing collected packages: pyparsing, pillow, kiwisolver, fonttools, cycler, contourpy, matplotlib\n",
      "Successfully installed contourpy-1.2.1 cycler-0.12.1 fonttools-4.51.0 kiwisolver-1.4.5 matplotlib-3.8.4 pillow-10.3.0 pyparsing-3.1.2\n",
      "Note: you may need to restart the kernel to use updated packages.\n"
     ]
    },
    {
     "name": "stderr",
     "output_type": "stream",
     "text": [
      "  WARNING: The scripts fonttools.exe, pyftmerge.exe, pyftsubset.exe and ttx.exe are installed in 'c:\\Users\\shan\\.conda\\envs\\pwskills\\Scripts' which is not on PATH.\n",
      "  Consider adding this directory to PATH or, if you prefer to suppress this warning, use --no-warn-script-location.\n"
     ]
    }
   ],
   "source": [
    "pip install matplotlib"
   ]
  },
  {
   "cell_type": "code",
   "execution_count": 9,
   "metadata": {},
   "outputs": [
    {
     "data": {
      "image/png": "[encoded data removed]",
      "text/plain": [
       "<Figure size 1000x600 with 1 Axes>"
      ]
     },
     "metadata": {},
     "output_type": "display_data"
    }
   ],
   "source": [
    "import matplotlib.pyplot as plt\n",
    "\n",
    "# Get feature importances\n",
    "feature_importances = rf_classifier.feature_importances_\n",
    "\n",
    "# Create a DataFrame to store feature importances along with feature names\n",
    "importance_df = pd.DataFrame({'Feature': X.columns, 'Importance': feature_importances})\n",
    "\n",
    "# Sort the DataFrame by importance scores in descending order\n",
    "importance_df = importance_df.sort_values(by='Importance', ascending=False)\n",
    "\n",
    "# Select the top 5 most important features\n",
    "top_features = importance_df.head(5)\n",
    "\n",
    "# Plot feature importances\n",
    "plt.figure(figsize=(10, 6))\n",
    "plt.bar(top_features['Feature'], top_features['Importance'], color='skyblue')\n",
    "plt.xlabel('Feature')\n",
    "plt.ylabel('Importance')\n",
    "plt.title('Top 5 Most Important Features for Predicting Heart Disease Risk')\n",
    "plt.xticks(rotation=45)\n",
    "plt.show()\n"
   ]
  },
  {
   "cell_type": "markdown",
   "metadata": {},
   "source": [
    "# Q6. Tune the hyperparameters of the random forest classifier using grid search or random search. Try different values of the number of trees, maximum depth, minimum samples split, and minimum samples leaf. Use 5-fold cross-validation to evaluate the performance of each set of hyperparameters. "
   ]
  },
  {
   "cell_type": "code",
   "execution_count": 10,
   "metadata": {},
   "outputs": [
    {
     "name": "stdout",
     "output_type": "stream",
     "text": [
      "Best hyperparameters: {'max_depth': 5, 'min_samples_leaf': 2, 'min_samples_split': 2, 'n_estimators': 100}\n",
      "Accuracy of the best model on the test set: 0.8351648351648352\n"
     ]
    }
   ],
   "source": [
    "from sklearn.model_selection import GridSearchCV\n",
    "\n",
    "# Define the hyperparameter grid\n",
    "param_grid = {\n",
    "    'n_estimators': [50, 100, 150],\n",
    "    'max_depth': [5, 10, 15],\n",
    "    'min_samples_split': [2, 5, 10],\n",
    "    'min_samples_leaf': [1, 2, 4]\n",
    "}\n",
    "\n",
    "# Initialize the random forest classifier\n",
    "rf_classifier = RandomForestClassifier(random_state=42)\n",
    "\n",
    "# Initialize GridSearchCV with 5-fold cross-validation\n",
    "grid_search = GridSearchCV(estimator=rf_classifier, param_grid=param_grid, cv=5, scoring='accuracy')\n",
    "\n",
    "# Fit the grid search to the training data\n",
    "grid_search.fit(X_train, y_train)\n",
    "\n",
    "# Get the best hyperparameters\n",
    "best_params = grid_search.best_params_\n",
    "print(\"Best hyperparameters:\", best_params)\n",
    "\n",
    "# Get the best model\n",
    "best_rf_classifier = grid_search.best_estimator_\n",
    "\n",
    "# Evaluate the performance of the best model on the test set\n",
    "best_rf_classifier.fit(X_train, y_train)  # Retrain on the full training set\n",
    "best_model_accuracy = best_rf_classifier.score(X_test, y_test)\n",
    "print(\"Accuracy of the best model on the test set:\", best_model_accuracy)\n"
   ]
  },
  {
   "cell_type": "markdown",
   "metadata": {},
   "source": []
  },
  {
   "cell_type": "markdown",
   "metadata": {},
   "source": [
    "# Q7. Report the best set of hyperparameters found by the search and the corresponding performance metrics. Compare the performance of the tuned model with the default model. "
   ]
  },
  {
   "cell_type": "code",
   "execution_count": null,
   "metadata": {},
   "outputs": [],
   "source": [
    "# Report the best hyperparameters found by the search\n",
    "print(\"Best hyperparameters found by grid search:\", best_params)\n",
    "\n",
    "# Report the corresponding performance metrics\n",
    "print(\"Performance metrics of the best model:\")\n",
    "print(\"Accuracy:\", best_model_accuracy)\n",
    "print(\"Precision:\", precision_score(y_test, best_rf_classifier.predict(X_test)))\n",
    "print(\"Recall:\", recall_score(y_test, best_rf_classifier.predict(X_test)))\n",
    "print(\"F1 Score:\", f1_score(y_test, best_rf_classifier.predict(X_test)))\n",
    "\n",
    "# Compare the performance of the tuned model with the default model\n",
    "default_model_accuracy = accuracy_score(y_test, rf_classifier.predict(X_test))\n",
    "\n",
    "print(\"\\nComparison of performance:\")\n",
    "print(\"Default model accuracy:\", default_model_accuracy)\n",
    "print(\"Tuned model accuracy:\", best_model_accuracy)"
   ]
  },
  {
   "cell_type": "markdown",
   "metadata": {},
   "source": [
    "\n",
    "# Q8. Interpret the model by analysing the decision boundaries of the random forest classifier. Plot the decision boundaries on a scatter plot of two of the most important features. Discuss the insights and limitations of the model for predicting heart disease risk."
   ]
  },
  {
   "cell_type": "code",
   "execution_count": 12,
   "metadata": {},
   "outputs": [
    {
     "name": "stderr",
     "output_type": "stream",
     "text": [
      "c:\\Users\\shan\\.conda\\envs\\pwskills\\lib\\site-packages\\sklearn\\base.py:464: UserWarning: X does not have valid feature names, but RandomForestClassifier was fitted with feature names\n",
      "  warnings.warn(\n"
     ]
    },
    {
     "data": {
      "image/png": "[encoded data removed]",
      "text/plain": [
       "<Figure size 640x480 with 2 Axes>"
      ]
     },
     "metadata": {},
     "output_type": "display_data"
    }
   ],
   "source": [
    "import numpy as np\n",
    "import matplotlib.pyplot as plt\n",
    "from matplotlib.colors import ListedColormap\n",
    "\n",
    "# Select the top two most important features\n",
    "top_two_features = importance_df.head(2)['Feature'].tolist()\n",
    "X_top_two = X[top_two_features]\n",
    "\n",
    "# Train a random forest classifier using only the top two features\n",
    "rf_classifier.fit(X_top_two, y)\n",
    "\n",
    "# Define meshgrid of feature values\n",
    "x_min, x_max = X_top_two[top_two_features[0]].min() - 1, X_top_two[top_two_features[0]].max() + 1\n",
    "y_min, y_max = X_top_two[top_two_features[1]].min() - 1, X_top_two[top_two_features[1]].max() + 1\n",
    "xx, yy = np.meshgrid(np.arange(x_min, x_max, 0.1), np.arange(y_min, y_max, 0.1))\n",
    "\n",
    "# Make predictions on the meshgrid\n",
    "Z = rf_classifier.predict(np.c_[xx.ravel(), yy.ravel()])\n",
    "Z = Z.reshape(xx.shape)\n",
    "\n",
    "# Plot decision boundaries\n",
    "plt.contourf(xx, yy, Z, alpha=0.4)\n",
    "plt.scatter(X_top_two[top_two_features[0]], X_top_two[top_two_features[1]], c=y, cmap='coolwarm', edgecolors='k', s=20)\n",
    "plt.xlabel(top_two_features[0])\n",
    "plt.ylabel(top_two_features[1])\n",
    "plt.title('Decision Boundaries of Random Forest Classifier')\n",
    "plt.colorbar(label='Target')\n",
    "plt.show()\n"
   ]
  },
  {
   "cell_type": "markdown",
   "metadata": {},
   "source": [
    "Limitations of the model for predicting heart disease risk may include:\n",
    "\n",
    "Complexity: Random forest models may be complex and difficult to interpret, especially with a large number of features. Decision boundaries in high-dimensional feature spaces may not be easily visualized.\n",
    "Overfitting: Random forest models can be prone to overfitting, especially if not properly tuned or if the dataset is small.\n",
    "Interpretability: While decision boundaries can provide insights, they may not fully capture the underlying relationships between features and heart disease risk. Other factors not captured in the dataset may also influence the risk of heart disease.\n",
    "It's essential to interpret the model results with caution and consider domain knowledge when drawing conclusions about heart disease risk based on the model predictions. Additionally, exploring other interpretability techniques and model evaluation methods can provide a more comprehensive understanding of the model's performance and limitations."
   ]
  },
  {
   "cell_type": "markdown",
   "metadata": {},
   "source": []
  },
  {
   "cell_type": "markdown",
   "metadata": {},
   "source": []
  },
  {
   "cell_type": "markdown",
   "metadata": {},
   "source": []
  },
  {
   "cell_type": "markdown",
   "metadata": {},
   "source": []
  },
  {
   "cell_type": "markdown",
   "metadata": {},
   "source": []
  },
  {
   "cell_type": "markdown",
   "metadata": {},
   "source": []
  },
  {
   "cell_type": "markdown",
   "metadata": {},
   "source": []
  },
  {
   "cell_type": "markdown",
   "metadata": {},
   "source": []
  },
  {
   "cell_type": "markdown",
   "metadata": {},
   "source": []
  },
  {
   "cell_type": "markdown",
   "metadata": {},
   "source": []
  },
  {
   "cell_type": "markdown",
   "metadata": {},
   "source": []
  },
  {
   "cell_type": "markdown",
   "metadata": {},
   "source": []
  },
  {
   "cell_type": "markdown",
   "metadata": {},
   "source": []
  },
  {
   "cell_type": "markdown",
   "metadata": {},
   "source": []
  },
  {
   "cell_type": "markdown",
   "metadata": {},
   "source": []
  },
  {
   "cell_type": "markdown",
   "metadata": {},
   "source": []
  },
  {
   "cell_type": "markdown",
   "metadata": {},
   "source": []
  }
 ],
 "metadata": {
  "kernelspec": {
   "display_name": "pwskills",
   "language": "python",
   "name": "python3"
  },
  "language_info": {
   "codemirror_mode": {
    "name": "ipython",
    "version": 3
   },
   "file_extension": ".py",
   "mimetype": "text/x-python",
   "name": "python",
   "nbconvert_exporter": "python",
   "pygments_lexer": "ipython3",
   "version": "3.10.13"
  }
 },
 "nbformat": 4,
 "nbformat_minor": 2
}
