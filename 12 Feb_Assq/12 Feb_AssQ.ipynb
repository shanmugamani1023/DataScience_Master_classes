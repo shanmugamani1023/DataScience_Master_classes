{
 "cells": [
  {
   "cell_type": "markdown",
   "id": "a9e0cee0",
   "metadata": {},
   "source": [
    "# What is an Exception in python? Write the difference between Exceptions and Syntax errors.\n"
   ]
  },
  {
   "cell_type": "code",
   "execution_count": 21,
   "id": "765799e0",
   "metadata": {},
   "outputs": [
    {
     "ename": "SyntaxError",
     "evalue": "invalid syntax (1966499628.py, line 5)",
     "output_type": "error",
     "traceback": [
      "\u001b[0;36m  File \u001b[0;32m\"/tmp/ipykernel_19988/1966499628.py\"\u001b[0;36m, line \u001b[0;32m5\u001b[0m\n\u001b[0;31m    if False\u001b[0m\n\u001b[0m            ^\u001b[0m\n\u001b[0;31mSyntaxError\u001b[0m\u001b[0;31m:\u001b[0m invalid syntax\n"
     ]
    }
   ],
   "source": [
    "# Syntax Errors :\n",
    "#     this error comes when we write incorrect syntax\n",
    "    \n",
    "#     example:\n",
    "if False\n",
    "    print(\"hai i am error\")"
   ]
  },
  {
   "cell_type": "markdown",
   "id": "f23a00ee",
   "metadata": {},
   "source": [
    "# Exceptions are logical errors"
   ]
  },
  {
   "cell_type": "markdown",
   "id": "8cf31824",
   "metadata": {},
   "source": [
    "# 1.Indentation Error\n",
    "# 2.Key error(in dictionary)\n",
    "# 3.Zero division error\n",
    "# 4.Type error(when we wrong type to another data)\n",
    "# 5. File not found error"
   ]
  },
  {
   "cell_type": "code",
   "execution_count": null,
   "id": "4dac6f1e",
   "metadata": {},
   "outputs": [],
   "source": []
  },
  {
   "cell_type": "markdown",
   "id": "ee08e7fb",
   "metadata": {},
   "source": [
    "# Q2. What happens when an exception is not handled? Explain with an example.\n"
   ]
  },
  {
   "cell_type": "markdown",
   "id": "f2614e98",
   "metadata": {},
   "source": [
    "# if we not handle exceptions then the next line after error not runs,so program will stop"
   ]
  },
  {
   "cell_type": "code",
   "execution_count": null,
   "id": "fb9b2bbb",
   "metadata": {},
   "outputs": [],
   "source": []
  },
  {
   "cell_type": "markdown",
   "id": "0228a698",
   "metadata": {},
   "source": [
    "# Q3. Which Python statements are used to catch and handle exceptions? Explain with an example.\n"
   ]
  },
  {
   "cell_type": "code",
   "execution_count": 2,
   "id": "8e07542a",
   "metadata": {},
   "outputs": [
    {
     "name": "stdout",
     "output_type": "stream",
     "text": [
      "[Errno 2] No such file or directory: 'text2.txt'\n",
      "hai i can survive even error comes\n"
     ]
    }
   ],
   "source": [
    "# file not found error\n",
    "try :\n",
    "    file=open(\"text2.txt\",\"r\")\n",
    "    file.open()\n",
    "except Exception as e:\n",
    "    print(e)\n",
    "\n",
    "print(\"hai i can survive even error comes\")"
   ]
  },
  {
   "cell_type": "code",
   "execution_count": null,
   "id": "400d4667",
   "metadata": {},
   "outputs": [],
   "source": []
  },
  {
   "cell_type": "markdown",
   "id": "ede65201",
   "metadata": {},
   "source": [
    "# Q4. Explin with n exmple:#\n",
    "          try and else\n",
    "          finally\n",
    "           raise"
   ]
  },
  {
   "cell_type": "markdown",
   "id": "7e3ef5fc",
   "metadata": {},
   "source": [
    "# try-block will try the particular program\n",
    "# else-will run if try block runs properly\n",
    "# finally-will run condition throws error or not ,it doesnt care about anything ,it will always run\n",
    "# raise use to give custom error handling"
   ]
  },
  {
   "cell_type": "code",
   "execution_count": 7,
   "id": "b01e0a67",
   "metadata": {},
   "outputs": [
    {
     "name": "stdout",
     "output_type": "stream",
     "text": [
      "hai i am True\n",
      "i will run only after try\n",
      "i will run always\n"
     ]
    }
   ],
   "source": [
    "try :\n",
    "    if(True):\n",
    "        print(\"hai i am True\")\n",
    "except Exception as e:\n",
    "    print(e)\n",
    "else:\n",
    "    print(\"i will run only after try\")\n",
    "finally:\n",
    "    print(\"i will run always\")\n",
    "    \n",
    "    "
   ]
  },
  {
   "cell_type": "markdown",
   "id": "191efa85",
   "metadata": {},
   "source": [
    "# Q5. What are Custom Exceptions in python? Why do we need Custom Exceptions? Explain with an example.\n"
   ]
  },
  {
   "cell_type": "code",
   "execution_count": 11,
   "id": "45d5ecee",
   "metadata": {},
   "outputs": [],
   "source": [
    "class check(Exception) : \n",
    "    def __init__(self, msg) :\n",
    "        self.msg = msg"
   ]
  },
  {
   "cell_type": "code",
   "execution_count": 13,
   "id": "3212358b",
   "metadata": {},
   "outputs": [],
   "source": [
    "def check_check(num) : \n",
    "    if num < 0 : \n",
    "        raise validateage(\"num should not be lesser then zeor \" )\n",
    "    elif num > 200 : \n",
    "        raise validateage(\"num is too high \" )\n",
    "        \n",
    "    else :\n",
    "        print(\"num is valid\" )"
   ]
  },
  {
   "cell_type": "code",
   "execution_count": 14,
   "id": "17b76908",
   "metadata": {},
   "outputs": [
    {
     "name": "stdout",
     "output_type": "stream",
     "text": [
      "enter your num10\n",
      "num is valid\n"
     ]
    }
   ],
   "source": [
    "try : \n",
    "    age = int(input(\"enter your num\"))\n",
    "    check_check(age)\n",
    "except check as e : \n",
    "    print(e)"
   ]
  },
  {
   "cell_type": "code",
   "execution_count": null,
   "id": "3dd5390a",
   "metadata": {},
   "outputs": [],
   "source": []
  },
  {
   "cell_type": "code",
   "execution_count": null,
   "id": "f861e187",
   "metadata": {},
   "outputs": [],
   "source": []
  },
  {
   "cell_type": "code",
   "execution_count": null,
   "id": "5b25caaf",
   "metadata": {},
   "outputs": [],
   "source": []
  },
  {
   "cell_type": "code",
   "execution_count": null,
   "id": "09a42c74",
   "metadata": {},
   "outputs": [],
   "source": []
  },
  {
   "cell_type": "code",
   "execution_count": null,
   "id": "7c55a661",
   "metadata": {},
   "outputs": [],
   "source": []
  },
  {
   "cell_type": "code",
   "execution_count": null,
   "id": "c92b839f",
   "metadata": {},
   "outputs": [],
   "source": []
  },
  {
   "cell_type": "code",
   "execution_count": null,
   "id": "ca9ec323",
   "metadata": {},
   "outputs": [],
   "source": []
  }
 ],
 "metadata": {
  "kernelspec": {
   "display_name": "Python 3 (ipykernel)",
   "language": "python",
   "name": "python3"
  },
  "language_info": {
   "codemirror_mode": {
    "name": "ipython",
    "version": 3
   },
   "file_extension": ".py",
   "mimetype": "text/x-python",
   "name": "python",
   "nbconvert_exporter": "python",
   "pygments_lexer": "ipython3",
   "version": "3.9.13"
  }
 },
 "nbformat": 4,
 "nbformat_minor": 5
}
