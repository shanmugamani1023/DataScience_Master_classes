{
 "cells": [
  {
   "cell_type": "markdown",
   "id": "459449bb",
   "metadata": {},
   "source": [
    "# Operators"
   ]
  },
  {
   "cell_type": "markdown",
   "id": "78757d74",
   "metadata": {},
   "source": [
    "1. And\n",
    "2. Or\n",
    "3.Not"
   ]
  },
  {
   "cell_type": "code",
   "execution_count": 1,
   "id": "5b033581",
   "metadata": {},
   "outputs": [
    {
     "ename": "ZeroDivisionError",
     "evalue": "division by zero",
     "output_type": "error",
     "traceback": [
      "\u001b[0;31m---------------------------------------------------------------------------\u001b[0m",
      "\u001b[0;31mZeroDivisionError\u001b[0m                         Traceback (most recent call last)",
      "\u001b[0;32m/tmp/ipykernel_7373/2354412189.py\u001b[0m in \u001b[0;36m<module>\u001b[0;34m\u001b[0m\n\u001b[0;32m----> 1\u001b[0;31m \u001b[0;36m1\u001b[0m\u001b[0;34m/\u001b[0m\u001b[0;36m0\u001b[0m\u001b[0;34m\u001b[0m\u001b[0;34m\u001b[0m\u001b[0m\n\u001b[0m",
      "\u001b[0;31mZeroDivisionError\u001b[0m: division by zero"
     ]
    }
   ],
   "source": [
    "1/0"
   ]
  },
  {
   "cell_type": "code",
   "execution_count": 9,
   "id": "68888b8f",
   "metadata": {},
   "outputs": [
    {
     "name": "stdout",
     "output_type": "stream",
     "text": [
      "hai i am :shan\n",
      "hai i am shan\n",
      "hai i am :shan\n"
     ]
    }
   ],
   "source": [
    "a=\"shan\";\n",
    "\n",
    "print(\"hai i am :\"+a)\n",
    "print(f\"hai i am {a}\")\n",
    "print(\"hai i am :{}\".format(a))"
   ]
  },
  {
   "cell_type": "code",
   "execution_count": 1,
   "id": "9413d69c",
   "metadata": {},
   "outputs": [
    {
     "name": "stdout",
     "output_type": "stream",
     "text": [
      "max_speed of car is 50\n"
     ]
    }
   ],
   "source": [
    "max_speed=50\n",
    "print(f\"max_speed of car is {max_speed}\")"
   ]
  },
  {
   "cell_type": "code",
   "execution_count": 2,
   "id": "d7c8eecf",
   "metadata": {},
   "outputs": [
    {
     "name": "stdout",
     "output_type": "stream",
     "text": [
      "hai hello world\n"
     ]
    }
   ],
   "source": [
    "print(\"hai hello world\")"
   ]
  },
  {
   "cell_type": "code",
   "execution_count": null,
   "id": "4ca1c82d",
   "metadata": {},
   "outputs": [],
   "source": []
  },
  {
   "cell_type": "markdown",
   "id": "6688ae10",
   "metadata": {},
   "source": [
    "# String"
   ]
  },
  {
   "cell_type": "code",
   "execution_count": 6,
   "id": "37b42968",
   "metadata": {},
   "outputs": [
    {
     "data": {
      "text/plain": [
       "'s'"
      ]
     },
     "execution_count": 6,
     "metadata": {},
     "output_type": "execute_result"
    }
   ],
   "source": [
    "str_check=\"shan\"\n",
    "\n",
    "str_check[0]"
   ]
  },
  {
   "cell_type": "code",
   "execution_count": 7,
   "id": "805c91ca",
   "metadata": {},
   "outputs": [
    {
     "ename": "TypeError",
     "evalue": "'str' object does not support item assignment",
     "output_type": "error",
     "traceback": [
      "\u001b[0;31m---------------------------------------------------------------------------\u001b[0m",
      "\u001b[0;31mTypeError\u001b[0m                                 Traceback (most recent call last)",
      "\u001b[0;32m/tmp/ipykernel_20089/875439191.py\u001b[0m in \u001b[0;36m<module>\u001b[0;34m\u001b[0m\n\u001b[0;32m----> 1\u001b[0;31m \u001b[0mstr_check\u001b[0m\u001b[0;34m[\u001b[0m\u001b[0;36m0\u001b[0m\u001b[0;34m]\u001b[0m\u001b[0;34m=\u001b[0m\u001b[0;34m\"m\"\u001b[0m\u001b[0;34m\u001b[0m\u001b[0;34m\u001b[0m\u001b[0m\n\u001b[0m",
      "\u001b[0;31mTypeError\u001b[0m: 'str' object does not support item assignment"
     ]
    }
   ],
   "source": [
    "str_check[0]=\"m\""
   ]
  },
  {
   "cell_type": "code",
   "execution_count": 8,
   "id": "7098e4fd",
   "metadata": {},
   "outputs": [],
   "source": [
    "# we can access string by its index,but we cant change that values"
   ]
  },
  {
   "cell_type": "code",
   "execution_count": 9,
   "id": "0aefe03b",
   "metadata": {},
   "outputs": [
    {
     "ename": "SyntaxError",
     "evalue": "invalid syntax (3469126107.py, line 1)",
     "output_type": "error",
     "traceback": [
      "\u001b[0;36m  File \u001b[0;32m\"/tmp/ipykernel_20089/3469126107.py\"\u001b[0;36m, line \u001b[0;32m1\u001b[0m\n\u001b[0;31m    str_check.\u001b[0m\n\u001b[0m              ^\u001b[0m\n\u001b[0;31mSyntaxError\u001b[0m\u001b[0;31m:\u001b[0m invalid syntax\n"
     ]
    }
   ],
   "source": [
    "str_check.\n",
    "# if i put . with string then if we click tab in jupiter then we can access all functions"
   ]
  },
  {
   "cell_type": "code",
   "execution_count": null,
   "id": "dc9c094a",
   "metadata": {},
   "outputs": [],
   "source": [
    "str_check."
   ]
  },
  {
   "cell_type": "code",
   "execution_count": 11,
   "id": "fce6afd9",
   "metadata": {},
   "outputs": [
    {
     "data": {
      "text/plain": [
       "'h'"
      ]
     },
     "execution_count": 11,
     "metadata": {},
     "output_type": "execute_result"
    }
   ],
   "source": [
    "# slicing\n",
    "\n",
    "str_check=\"shan\"\n",
    "str_check[1:2]\n",
    "# in this ex 1 is start and 2 is end ,except that end index it will retrive value\n"
   ]
  },
  {
   "cell_type": "code",
   "execution_count": 15,
   "id": "0855345f",
   "metadata": {},
   "outputs": [
    {
     "data": {
      "text/plain": [
       "'nahs'"
      ]
     },
     "execution_count": 15,
     "metadata": {},
     "output_type": "execute_result"
    }
   ],
   "source": [
    "# str rev using :: - after :: we can give step,so if we give -1 then we can get reverse of that string\n",
    "str_check=\"shan\"\n",
    "str_check[::-1]"
   ]
  },
  {
   "cell_type": "code",
   "execution_count": null,
   "id": "c966535b",
   "metadata": {},
   "outputs": [],
   "source": []
  },
  {
   "cell_type": "code",
   "execution_count": 21,
   "id": "b85adec4",
   "metadata": {},
   "outputs": [
    {
     "data": {
      "text/plain": [
       "'science'"
      ]
     },
     "execution_count": 21,
     "metadata": {},
     "output_type": "execute_result"
    }
   ],
   "source": [
    "str_1=\"data science masters\"\n",
    "str_1[5:12]\n"
   ]
  },
  {
   "cell_type": "code",
   "execution_count": 33,
   "id": "673b6fb9",
   "metadata": {},
   "outputs": [
    {
     "data": {
      "text/plain": [
       "' ecneics '"
      ]
     },
     "execution_count": 33,
     "metadata": {},
     "output_type": "execute_result"
    }
   ],
   "source": [
    "str_1[12:3:-1]"
   ]
  },
  {
   "cell_type": "code",
   "execution_count": 35,
   "id": "1747da2f",
   "metadata": {},
   "outputs": [
    {
     "data": {
      "text/plain": [
       "'nahs'"
      ]
     },
     "execution_count": 35,
     "metadata": {},
     "output_type": "execute_result"
    }
   ],
   "source": [
    "str_2=\"hai shan\"\n",
    "str_2[8:3:-1]"
   ]
  },
  {
   "cell_type": "code",
   "execution_count": null,
   "id": "af923ccf",
   "metadata": {},
   "outputs": [],
   "source": [
    "# str concate by +  opertor"
   ]
  },
  {
   "cell_type": "code",
   "execution_count": 36,
   "id": "70c66de9",
   "metadata": {},
   "outputs": [
    {
     "data": {
      "text/plain": [
       "8"
      ]
     },
     "execution_count": 36,
     "metadata": {},
     "output_type": "execute_result"
    }
   ],
   "source": [
    "len(str_2)"
   ]
  },
  {
   "cell_type": "code",
   "execution_count": 37,
   "id": "9548a61a",
   "metadata": {},
   "outputs": [],
   "source": [
    "# str.find(\"str_need_to_find\",start_index,end_index)\n",
    "str_3=\"shan hai how are you?\"\n",
    "# str.find method checks that word and return its index\n",
    "# start,end means b/w that index it can check that word and retrn index"
   ]
  },
  {
   "cell_type": "code",
   "execution_count": null,
   "id": "84c78c1c",
   "metadata": {},
   "outputs": [],
   "source": []
  },
  {
   "cell_type": "code",
   "execution_count": 38,
   "id": "132df216",
   "metadata": {},
   "outputs": [
    {
     "data": {
      "text/plain": [
       "2"
      ]
     },
     "execution_count": 38,
     "metadata": {},
     "output_type": "execute_result"
    }
   ],
   "source": [
    "# str.count() -used to check no.of times that word present in string\n",
    "str_34=\"shann\"\n",
    "str_34.count('n')"
   ]
  },
  {
   "cell_type": "code",
   "execution_count": 41,
   "id": "5c21734f",
   "metadata": {},
   "outputs": [],
   "source": [
    "# spilit used to split a string into list based on list but seperator will remove return list"
   ]
  },
  {
   "cell_type": "code",
   "execution_count": 40,
   "id": "d6fd15d5",
   "metadata": {},
   "outputs": [],
   "source": [
    "# # spilit used to split a string into list based on list but seperator will not remove return tuple"
   ]
  },
  {
   "cell_type": "code",
   "execution_count": null,
   "id": "e22e20c8",
   "metadata": {},
   "outputs": [],
   "source": []
  },
  {
   "cell_type": "code",
   "execution_count": null,
   "id": "22a19e31",
   "metadata": {},
   "outputs": [],
   "source": []
  }
 ],
 "metadata": {
  "kernelspec": {
   "display_name": "Python 3 (ipykernel)",
   "language": "python",
   "name": "python3"
  },
  "language_info": {
   "codemirror_mode": {
    "name": "ipython",
    "version": 3
   },
   "file_extension": ".py",
   "mimetype": "text/x-python",
   "name": "python",
   "nbconvert_exporter": "python",
   "pygments_lexer": "ipython3",
   "version": "3.9.13"
  }
 },
 "nbformat": 4,
 "nbformat_minor": 5
}
