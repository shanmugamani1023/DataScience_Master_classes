{
 "cells": [
  {
   "cell_type": "markdown",
   "id": "05cb6867",
   "metadata": {},
   "source": [
    "# Q1. You are writing code for a company. The requirement of the company is that you create a python\n",
    "function that will check whether the password entered by the user is correct or not. The function should\n",
    "take the password as input and return the string “Valid Password” if the entered password follows the\n",
    "below-given password guidelines else it should return “Invalid Password”.\n",
    "\n",
    "\n",
    "Note: 1. The Password should contain at least two uppercase letters and at least two lowercase letters.\n",
    "\n",
    "2. The Password should contain at least a number and three special characters.\n",
    "\n",
    "3. The length of the password should be 10 characters long."
   ]
  },
  {
   "cell_type": "code",
   "execution_count": null,
   "id": "f7656b5a",
   "metadata": {},
   "outputs": [],
   "source": [
    "# 2 UPPERCASE\n",
    "# 2 lowercase\n",
    "# 1 number \n",
    "# 3 special charcters\n",
    "# length=10"
   ]
  },
  {
   "cell_type": "code",
   "execution_count": 142,
   "id": "498de50c",
   "metadata": {},
   "outputs": [],
   "source": [
    "import re\n",
    "def pass_check(input_txt):\n",
    "    length_flag=False\n",
    "    upper=False\n",
    "    lower=False\n",
    "    number=False\n",
    "    special=False\n",
    "    upper_count=0;\n",
    "    lower_count=0;\n",
    "    special_count=0;\n",
    "    number_count=0;\n",
    "    \n",
    "    \n",
    "    if(len(input_txt)<=9):\n",
    "        length_flag=False\n",
    "    else:\n",
    "        length_flag=True\n",
    "        \n",
    "        \n",
    "    for i in input_txt:\n",
    "        if(i.isupper()):\n",
    "            upper_count+=1\n",
    "    \n",
    "    for j in input_txt:\n",
    "        if(i.islower()):\n",
    "            lower_count+=1\n",
    "        \n",
    "    for k in input_txt:\n",
    "        \n",
    "        if(bool(re.match('^[a-zA-Z0-9]*$',k))!=True):\n",
    "            special_count+=1\n",
    "    \n",
    "    for l in input_txt:\n",
    "        if(bool(re.match('^[0-9]*$',k))!=True):\n",
    "            number_count+=1\n",
    "    \n",
    "    if(upper_count>=2):\n",
    "        upper=True\n",
    "    \n",
    "    if(lower_count>=2):\n",
    "        lower=True\n",
    "    \n",
    "    if(number_count>=1):\n",
    "        number=True\n",
    "    \n",
    "    if(special_count>=3):\n",
    "        special=True\n",
    "    \n",
    "    if(upper==True and lower==True and number==True and special==True and length_flag==True):\n",
    "        print(\"Password is valid\")\n",
    "    else:\n",
    "        print(\"Password is invalid\")\n",
    "    \n",
    "    "
   ]
  },
  {
   "cell_type": "code",
   "execution_count": 144,
   "id": "92fa80c4",
   "metadata": {},
   "outputs": [
    {
     "name": "stdout",
     "output_type": "stream",
     "text": [
      "Password is valid\n"
     ]
    }
   ],
   "source": [
    "pass_check(\"shHH1!.$yy\")"
   ]
  },
  {
   "cell_type": "code",
   "execution_count": null,
   "id": "590947f6",
   "metadata": {},
   "outputs": [],
   "source": []
  },
  {
   "cell_type": "markdown",
   "id": "7533da40",
   "metadata": {},
   "source": [
    "# Q2. Solve the below-given questions using at least one of the following: \n",
    "\n",
    "1. Lambda function\n",
    "\n",
    "2. Filter function\n",
    "\n",
    "3. Map function\n",
    "\n",
    "4. List Comprehension\n",
    "Check if the string starts with a particular letter\n",
    "Check if the string is numeric\n",
    "Sort a list of tuples having fruit names and their quantity. [(\"mango\",99),(\"orange\",80), (\"grapes\", 1000)\n",
    "Find the squares of numbers from 1 to 10\n",
    "Find the cube root of numbers from 1 to 10\n",
    "Check if a given number is even\n",
    "Filter odd numbers from the given list.\n",
    "\n",
    "[1,2,3,4,5,6,7,8,9,10\n",
    "Sort a list of integers into positive and negative integers lists.\n",
    "\n",
    "[1,2,3,4,5,6,-1,-2,-3,-4,-5,0]\n",
    "Note: Create your assignment in Jupyter notebook and upload it to"
   ]
  },
  {
   "cell_type": "code",
   "execution_count": null,
   "id": "8a5dd968",
   "metadata": {},
   "outputs": [],
   "source": [
    "# Check if the string starts with a particular letter\n",
    "input_string=\"apple\"\n",
    "result=list(map(lambda x:x==\"a\",input_string))\n",
    "print(result[0])"
   ]
  },
  {
   "cell_type": "code",
   "execution_count": 162,
   "id": "1dad8082",
   "metadata": {},
   "outputs": [
    {
     "data": {
      "text/plain": [
       "True"
      ]
     },
     "execution_count": 162,
     "metadata": {},
     "output_type": "execute_result"
    }
   ],
   "source": [
    "# Check if the string is numeric\n",
    "input_string=\"100\"\n",
    "input_string.isnumeric()\n",
    "\n"
   ]
  },
  {
   "cell_type": "code",
   "execution_count": 181,
   "id": "ad862f60",
   "metadata": {},
   "outputs": [
    {
     "name": "stdout",
     "output_type": "stream",
     "text": [
      "[('orange', 80), ('mango', 99), ('grapes', 1000)]\n"
     ]
    }
   ],
   "source": [
    "# Sort a list of tuples having fruit names and their quantity. [(\"mango\",99),(\"orange\",80), (\"grapes\", 1000)\n",
    "tu=[(\"mango\",99),(\"orange\",80), (\"grapes\", 1000)]\n",
    "tu.sort(key=lambda x:x[1])\n",
    "print(tu)\n",
    "\n",
    "\n"
   ]
  },
  {
   "cell_type": "code",
   "execution_count": 226,
   "id": "2523d1e0",
   "metadata": {},
   "outputs": [
    {
     "data": {
      "text/plain": [
       "{1, 4, 9, 16, 25, 36, 49, 64, 81, 100}"
      ]
     },
     "execution_count": 226,
     "metadata": {},
     "output_type": "execute_result"
    }
   ],
   "source": [
    "# Find the squares of numbers from 1 to 10\n",
    "lis=[]\n",
    "\n",
    "for i in range(1,11):\n",
    "    lis.append(i)\n",
    "\n",
    "set(map(lambda x:x**2 ,lis))\n",
    "\n",
    "\n"
   ]
  },
  {
   "cell_type": "code",
   "execution_count": null,
   "id": "510541ba",
   "metadata": {},
   "outputs": [],
   "source": []
  },
  {
   "cell_type": "code",
   "execution_count": 227,
   "id": "d66bee3f",
   "metadata": {},
   "outputs": [
    {
     "data": {
      "text/plain": [
       "{1, 8, 27, 64, 125, 216, 343, 512, 729, 1000}"
      ]
     },
     "execution_count": 227,
     "metadata": {},
     "output_type": "execute_result"
    }
   ],
   "source": [
    "# Find the cube root of numbers from 1 to 10\n",
    "\n",
    "lis=[]\n",
    "\n",
    "for i in range(1,11):\n",
    "    lis.append(i)\n",
    "\n",
    "set(map(lambda x:x**3 ,lis))"
   ]
  },
  {
   "cell_type": "code",
   "execution_count": null,
   "id": "5dfd93a8",
   "metadata": {},
   "outputs": [],
   "source": []
  },
  {
   "cell_type": "code",
   "execution_count": 245,
   "id": "a3a65c30",
   "metadata": {},
   "outputs": [
    {
     "data": {
      "text/plain": [
       "{10, 2, 4, 6, 8, None}"
      ]
     },
     "execution_count": 245,
     "metadata": {},
     "output_type": "execute_result"
    }
   ],
   "source": [
    "# Check if a given number is even\n",
    "lis1=[]\n",
    "\n",
    "def check(x):\n",
    "    if(x%2==0):\n",
    "        return x\n",
    "    \n",
    "for i in range(1,11):\n",
    "    lis1.append(i)\n",
    "\n",
    "set(map(check,lis1))"
   ]
  },
  {
   "cell_type": "code",
   "execution_count": null,
   "id": "74fca5ec",
   "metadata": {},
   "outputs": [],
   "source": []
  },
  {
   "cell_type": "code",
   "execution_count": 248,
   "id": "d2532ffb",
   "metadata": {},
   "outputs": [
    {
     "data": {
      "text/plain": [
       "{1, 3, 5, 7, 9}"
      ]
     },
     "execution_count": 248,
     "metadata": {},
     "output_type": "execute_result"
    }
   ],
   "source": [
    "# Filter odd numbers from the given list.\n",
    "lis2=[]\n",
    "\n",
    "def check2(x):\n",
    "    if(x%2!=0):\n",
    "        return x\n",
    "    \n",
    "for i in range(1,11):\n",
    "    lis2.append(i)\n",
    "    \n",
    "set(filter(check2,lis2))"
   ]
  },
  {
   "cell_type": "code",
   "execution_count": null,
   "id": "13e60a4a",
   "metadata": {},
   "outputs": [],
   "source": []
  },
  {
   "cell_type": "code",
   "execution_count": 253,
   "id": "4cee87d8",
   "metadata": {},
   "outputs": [
    {
     "name": "stdout",
     "output_type": "stream",
     "text": [
      "[1, 2, 3, 4, 5, 6] [-1, -2, -3, -4, -5, 0]\n"
     ]
    }
   ],
   "source": [
    "# Sort a list of integers into positive and negative integers lists.\n",
    "\n",
    "lis2=[1,2,3,4,5,6,-1,-2,-3,-4,-5,0]\n",
    "lpos=[]\n",
    "lneg=[]\n",
    "\n",
    "def check2(x):\n",
    "    if(x>0):\n",
    "        lpos.append(x)\n",
    "    else:\n",
    "        lneg.append(x)\n",
    "\n",
    "for i in lis2:\n",
    "    check2(i)\n",
    "\n",
    "print(lpos,lneg)"
   ]
  },
  {
   "cell_type": "code",
   "execution_count": null,
   "id": "520242a1",
   "metadata": {},
   "outputs": [],
   "source": []
  },
  {
   "cell_type": "code",
   "execution_count": null,
   "id": "34174d46",
   "metadata": {},
   "outputs": [],
   "source": []
  },
  {
   "cell_type": "code",
   "execution_count": null,
   "id": "0842fdba",
   "metadata": {},
   "outputs": [],
   "source": []
  },
  {
   "cell_type": "code",
   "execution_count": null,
   "id": "e41477d2",
   "metadata": {},
   "outputs": [],
   "source": []
  },
  {
   "cell_type": "code",
   "execution_count": null,
   "id": "cfe84d87",
   "metadata": {},
   "outputs": [],
   "source": []
  },
  {
   "cell_type": "code",
   "execution_count": null,
   "id": "09d354dc",
   "metadata": {},
   "outputs": [],
   "source": []
  }
 ],
 "metadata": {
  "kernelspec": {
   "display_name": "Python 3 (ipykernel)",
   "language": "python",
   "name": "python3"
  },
  "language_info": {
   "codemirror_mode": {
    "name": "ipython",
    "version": 3
   },
   "file_extension": ".py",
   "mimetype": "text/x-python",
   "name": "python",
   "nbconvert_exporter": "python",
   "pygments_lexer": "ipython3",
   "version": "3.9.13"
  }
 },
 "nbformat": 4,
 "nbformat_minor": 5
}
