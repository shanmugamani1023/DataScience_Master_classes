{
 "cells": [
  {
   "cell_type": "code",
   "execution_count": 6,
   "id": "26e9bc51",
   "metadata": {},
   "outputs": [],
   "source": [
    "## No of hours student study daily in a weekly basis\n",
    "##monday,tuesday,Wednesday,thursday,Friday,Saturday,sunday\n",
    "ed=[8,6,7,9,6,9,7]\n",
    "od=[7,8,6,9,9,6,7]"
   ]
  },
  {
   "cell_type": "code",
   "execution_count": 4,
   "id": "ae6d8807",
   "metadata": {},
   "outputs": [],
   "source": [
    "import numpy as np\n",
    "import scipy.stats as stat"
   ]
  },
  {
   "cell_type": "code",
   "execution_count": 5,
   "id": "1c9773c3",
   "metadata": {},
   "outputs": [],
   "source": [
    "# we have to find chisquare test is > or < than critical value ,\n",
    "# if chisqre test value is greater than critical then we have to reject null hypothesis\n",
    "# it means the expected data is false"
   ]
  },
  {
   "cell_type": "code",
   "execution_count": 10,
   "id": "b4ce0baf",
   "metadata": {},
   "outputs": [
    {
     "name": "stdout",
     "output_type": "stream",
     "text": [
      "3.4345238095238093\n"
     ]
    }
   ],
   "source": [
    "# chisquare value\n",
    "chi_value,pvalue=stat.chisquare(od,ed)\n",
    "print(chi_value)"
   ]
  },
  {
   "cell_type": "code",
   "execution_count": 18,
   "id": "d743fda3",
   "metadata": {},
   "outputs": [],
   "source": [
    "# critical value\n",
    "dof=len(od)-1\n",
    "s_v=0.05\n",
    "c_i=1-s_v\n",
    "\n",
    "c_v=stat.chi2.ppf(c_i,dof)"
   ]
  },
  {
   "cell_type": "code",
   "execution_count": 19,
   "id": "57e16f86",
   "metadata": {},
   "outputs": [
    {
     "name": "stdout",
     "output_type": "stream",
     "text": [
      "fail to reject h0\n"
     ]
    }
   ],
   "source": [
    "if chi_value >c_v:\n",
    "    print(\"reject the null hypothesis\")\n",
    "else:\n",
    "    print(\"fail to reject h0\")"
   ]
  },
  {
   "cell_type": "code",
   "execution_count": null,
   "id": "b4a3c3e1",
   "metadata": {},
   "outputs": [],
   "source": []
  },
  {
   "cell_type": "code",
   "execution_count": null,
   "id": "29e01c99",
   "metadata": {},
   "outputs": [],
   "source": []
  }
 ],
 "metadata": {
  "kernelspec": {
   "display_name": "Python 3 (ipykernel)",
   "language": "python",
   "name": "python3"
  },
  "language_info": {
   "codemirror_mode": {
    "name": "ipython",
    "version": 3
   },
   "file_extension": ".py",
   "mimetype": "text/x-python",
   "name": "python",
   "nbconvert_exporter": "python",
   "pygments_lexer": "ipython3",
   "version": "3.10.9"
  }
 },
 "nbformat": 4,
 "nbformat_minor": 5
}
