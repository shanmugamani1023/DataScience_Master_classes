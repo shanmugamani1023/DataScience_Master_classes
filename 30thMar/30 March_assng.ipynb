{
 "cells": [
  {
   "cell_type": "markdown",
   "id": "4d8cfc2a",
   "metadata": {},
   "source": [
    "# Q1. What is Elastic Net Regression and how does it differ from other regression techniques"
   ]
  },
  {
   "cell_type": "markdown",
   "id": "12413c40",
   "metadata": {},
   "source": [
    "elastic net is combination of both ridge and lasso.\n",
    "Elastic Net Regression is a statistical technique used in machine learning and statistics for regression analysis, which is a method for modeling the relationship between a dependent variable (target) and one or more independent variables (predictors or features). Elastic Net Regression is particularly useful when dealing with datasets that have a large number of predictors, and it addresses some of the limitations of other regression techniques like Linear Regression, Ridge Regression, and Lasso Regression.\n",
    "\n",
    "Here's a brief overview of Elastic Net Regression and how it differs from other regression techniques:\n",
    "\n",
    "1. **Linear Regression**: Linear Regression aims to model the relationship between the dependent variable and predictors by fitting a linear equation. It seeks to minimize the sum of squared differences between the predicted and actual values. However, it can be sensitive to multicollinearity (high correlations among predictors), which can lead to unstable and unreliable coefficient estimates.\n",
    "\n",
    "2. **Ridge Regression**: Ridge Regression is an extension of Linear Regression that adds a penalty term to the linear regression equation. This penalty term (L2 regularization) helps to mitigate multicollinearity by adding a constraint on the sum of squared coefficients. It doesn't perform variable selection, meaning it includes all predictors in the model.\n",
    "\n",
    "3. **Lasso Regression**: Lasso Regression, like Ridge, adds a penalty term to the linear regression equation but uses L1 regularization. Lasso has the advantage of feature selection because it can drive the coefficients of some predictors to exactly zero, effectively removing them from the model.\n",
    "\n",
    "4. **Elastic Net Regression**: Elastic Net combines both L2 (Ridge) and L1 (Lasso) regularization terms in the linear regression equation. It strikes a balance between Ridge and Lasso by introducing two hyperparameters: alpha and l1_ratio. Alpha controls the overall strength of regularization, and l1_ratio controls the balance between L1 and L2 regularization. Elastic Net is especially useful when there are many correlated predictors because it can select groups of correlated predictors together while still allowing some individual predictors to be set to zero.\n",
    "\n",
    "In summary, Elastic Net Regression is a versatile regression technique that incorporates both L1 and L2 regularization, making it suitable for handling multicollinearity and performing feature selection simultaneously. The choice between Elastic Net and other regression techniques depends on the specific characteristics of your dataset and the goals of your modeling task."
   ]
  },
  {
   "cell_type": "code",
   "execution_count": null,
   "id": "7c18d333",
   "metadata": {},
   "outputs": [],
   "source": []
  },
  {
   "cell_type": "markdown",
   "id": "bf6bfb38",
   "metadata": {},
   "source": [
    "# Q2. How do you choose the optimal values of the regularization parameters for Elastic Net Regression?"
   ]
  },
  {
   "cell_type": "markdown",
   "id": "ca678032",
   "metadata": {},
   "source": [
    "Choosing the optimal values for the regularization parameters in Elastic Net Regression involves a process known as hyperparameter tuning. The two key hyperparameters in Elastic Net are:\n",
    "\n",
    "1. **Lambda**: It controls the overall strength of regularization. An alpha of 0 corresponds to L2 (Ridge) regularization, and an alpha of 1 corresponds to L1 (Lasso) regularization. Values between 0 and 1 represent a mix of both L1 and L2 regularization.\n",
    "\n",
    "2. **L1 Ratio (l1_ratio)**: It determines the balance between L1 (Lasso) and L2 (Ridge) regularization. A l1_ratio of 0 means pure L2 regularization, while a l1_ratio of 1 means pure L1 regularization. Values between 0 and 1 represent a combination of both L1 and L2 regularization.\n",
    "\n",
    "Here are steps to choose the optimal values for these parameters:\n",
    "\n",
    "1. **Grid Search**: One common approach is to perform a grid search over a range of alpha and l1_ratio values. You define a range of values for alpha and l1_ratio that you want to explore. For example, you might choose alpha values like [0.01, 0.1, 1.0] and l1_ratio values like [0.1, 0.5, 0.9]. This creates a grid of hyperparameter combinations to test.\n",
    "\n",
    "2. **Cross-Validation**: To evaluate the performance of each hyperparameter combination, use cross-validation. Split your dataset into training and validation subsets multiple times (e.g., using k-fold cross-validation), and for each fold, train the Elastic Net model with a different hyperparameter combination and measure its performance (e.g., using mean squared error or another appropriate metric).\n",
    "\n"
   ]
  },
  {
   "cell_type": "code",
   "execution_count": null,
   "id": "b6cf58b1",
   "metadata": {},
   "outputs": [],
   "source": []
  },
  {
   "cell_type": "markdown",
   "id": "77879e3e",
   "metadata": {},
   "source": [
    "# Q3. What are the advantages and disadvantages of Elastic Net Regression?"
   ]
  },
  {
   "cell_type": "markdown",
   "id": "fee4ca57",
   "metadata": {},
   "source": [
    "Advantages:\n",
    "    1.it has both multicollinearty and feature selection\n",
    "    2.will get stabilised model \n",
    "    3.robust to outliers\n",
    "\n",
    "\n"
   ]
  },
  {
   "cell_type": "markdown",
   "id": "8f89c570",
   "metadata": {},
   "source": [
    "Disadvantages:\n",
    "    1.Complex hyperparamter tuning\n",
    "    2.we can get sparse(small)model,because l2,l1 will reduce the coefficients.\n",
    "    3.Not suitable for a high dimensional data\n",
    "    "
   ]
  },
  {
   "cell_type": "code",
   "execution_count": null,
   "id": "760c7264",
   "metadata": {},
   "outputs": [],
   "source": []
  },
  {
   "cell_type": "markdown",
   "id": "4906c92a",
   "metadata": {},
   "source": [
    "# Q4. What are some common use cases for Elastic Net Regression?"
   ]
  },
  {
   "cell_type": "markdown",
   "id": "df39c9e6",
   "metadata": {},
   "source": [
    "Elastic Net Regression is a versatile regression technique that can be applied to a wide range of use cases in various domains. Its ability to combine L1 (Lasso) and L2 (Ridge) regularization makes it suitable for addressing different challenges in regression modeling. Here are some common use cases for Elastic Net Regression:\n",
    "\n",
    "1. **Predictive Modeling:**\n",
    "   - **Real Estate Price Prediction:** Elastic Net can be used to predict property prices based on various features like location, size, amenities, and historical sales data.\n",
    "   - **Stock Price Prediction:** It can help model and predict stock prices using financial indicators, market sentiment, and historical stock data.\n",
    "\n",
    "2. **Biomedical Research:**\n",
    "   - **Disease Prediction:** Elastic Net can be applied to predict the likelihood of disease occurrence based on patient demographics, genetics, and medical history.\n",
    "   - **Drug Discovery:** In pharmaceutical research, it can be used to model the relationship between chemical compound features and their effectiveness as potential drugs.\n",
    "\n",
    "3. **Marketing and Customer Analytics:**\n",
    "   - **Customer Churn Prediction:** Elastic Net can help identify factors contributing to customer churn in subscription-based services and design retention strategies.\n",
    "   - **Market Segmentation:** It can be used to segment customers based on their behavior, demographics, and preferences for targeted marketing campaigns.\n",
    "\n",
    "4. **Environmental Modeling:**\n",
    "   - **Climate Change Analysis:** Elastic Net can model the relationship between environmental variables (temperature, precipitation, CO2 levels) and predict climate changes or extreme weather events.\n",
    "   - **Ecological Studies:** It can be applied to ecological data to understand the impact of various factors on species populations and biodiversity.\n",
    "\n",
    "5. **Finance and Risk Management:**\n",
    "   - **Credit Scoring:** Elastic Net can help financial institutions assess the creditworthiness of applicants by modeling the risk factors associated with lending.\n",
    "   - **Portfolio Optimization:** It can assist in optimizing investment portfolios by predicting asset returns and volatility.\n",
    "\n",
    "6. **Image and Signal Processing:**\n",
    "   - **Image Denoising:** Elastic Net can be used to remove noise from images or signals while preserving important features.\n",
    "   - **Feature Selection in Computer Vision:** It can assist in selecting relevant features for object detection or image classification tasks.\n",
    "\n",
    "7. **Text Analysis:**\n",
    "   - **Sentiment Analysis:** Elastic Net can be applied to analyze and predict sentiment in text data, which is useful in social media monitoring and customer feedback analysis.\n",
    "   - **Topic Modeling:** It can help uncover latent topics in large text corpora by identifying important terms and associations.\n",
    "\n",
    "8. **Genomics and Bioinformatics:**\n",
    "   - **Gene Expression Analysis:** Elastic Net can be used to identify genes associated with specific diseases or conditions from high-dimensional genomic data.\n",
    "   - **Protein Structure Prediction:** In computational biology, it can be applied to predict protein structures based on amino acid sequences.\n",
    "\n",
    "9. **Manufacturing and Quality Control:**\n",
    "   - **Product Quality Prediction:** Elastic Net can predict the quality of manufactured products based on various manufacturing process parameters and sensor data.\n",
    "   - **Fault Detection:** It can help identify faults or anomalies in manufacturing processes.\n",
    "\n",
    "10. **Energy Forecasting:**\n",
    "    - **Energy Consumption Forecasting:** Elastic Net can predict future energy consumption based on historical data, weather conditions, and other relevant factors, aiding in energy resource planning.\n",
    "\n",
    "These are just a few examples of the many use cases where Elastic Net Regression can be applied. Its ability to handle a variety of data types and deal with multicollinearity and feature selection makes it a valuable tool in data-driven decision-making across different fields. The specific application depends on the nature of the data and the problem at hand."
   ]
  },
  {
   "cell_type": "markdown",
   "id": "b4c76564",
   "metadata": {},
   "source": [
    "# Q5. How do you interpret the coefficients in Elastic Net Regression?"
   ]
  },
  {
   "cell_type": "markdown",
   "id": "90a03fde",
   "metadata": {},
   "source": [
    "Interpreting the coefficients in Elastic Net Regression involves looking at their magnitude, sign, and whether they are set to zero or not. The choice of alpha and l1_ratio also plays a crucial role in determining the final coefficient values and the overall sparsity of the model. Careful consideration of these factors, along with domain knowledge, is essential for a meaningful interpretation of Elastic Net coefficients.\n",
    "\n",
    "\n",
    "\n",
    "\n",
    "\n"
   ]
  },
  {
   "cell_type": "markdown",
   "id": "95210bd5",
   "metadata": {},
   "source": [
    "# Q6. How do you handle missing values when using Elastic Net Regression"
   ]
  },
  {
   "cell_type": "markdown",
   "id": "d49c0f2b",
   "metadata": {},
   "source": [
    "Handling missing values is an important preprocessing step when using Elastic Net Regression or any other machine learning technique. Missing values can adversely affect model performance and must be addressed appropriately. Here are several strategies to handle missing values when using Elastic Net Regression:\n",
    "\n",
    "1. **Imputation:**\n",
    "   - One common approach is to impute missing values with appropriate replacements. Common imputation techniques include:\n",
    "     - **Mean or Median Imputation:** Replace missing values in a numerical feature with the mean or median of that feature's non-missing values.\n",
    "     - **Mode Imputation:** Replace missing values in a categorical feature with the mode (most frequent category) of that feature's non-missing values.\n",
    "     - **Regression Imputation:** Predict missing values using regression models (e.g., linear regression) based on other features. This can be especially useful when the missing values are the dependent variable.\n",
    "\n",
    "2. **Removing Rows:**\n",
    "   - If the dataset contains a relatively small number of missing values, you can consider removing rows (samples) that have missing values. However, be cautious when using this approach, as it can lead to a loss of valuable data if the missing values are non-random.\n",
    "\n",
    "\n",
    "3. **Domain-Specific Imputation:**\n",
    "   - In some domains, domain-specific knowledge can help guide imputation. For example, in time series data, you might impute missing values using interpolation techniques if there's a temporal relationship.\n",
    "\n",
    "4. **Predictive Imputation:**\n",
    "   - Train a separate predictive model (e.g., another regression model) to predict the missing values based on other features. This approach can be particularly useful when the missingness pattern is complex and there's no straightforward imputation strategy.\n",
    "\n",
    "5. **Handling Missing Categorical Data:**\n",
    "   - For categorical features, you can create an additional category for missing values. This category can be treated as a separate level in the feature, allowing the model to learn the impact of missingness.\n",
    "\n",
    "\n",
    "6. **Data Augmentation:**\n",
    "   - In some cases, you can augment the dataset by generating synthetic samples with imputed values, especially if the missing data is MAR (Missing At Random). Techniques like bootstrapping or data synthesis can be used for this purpose.\n",
    "\n",
    "The choice of which strategy to use depends on the nature of the missing data, the amount of missing data, and the specific requirements of your modeling task. It's important to carefully consider the implications of each strategy on the model's performance and the validity of the results. Additionally, always document and report how missing values were handled in your analysis to ensure transparency in your modeling process."
   ]
  },
  {
   "cell_type": "code",
   "execution_count": null,
   "id": "5add65c4",
   "metadata": {},
   "outputs": [],
   "source": []
  },
  {
   "cell_type": "markdown",
   "id": "0016d3f5",
   "metadata": {},
   "source": [
    "# Q7. How do you use Elastic Net Regression for feature selection"
   ]
  },
  {
   "cell_type": "markdown",
   "id": "b5bad658",
   "metadata": {},
   "source": [
    "Choose Elastic Net Regression as your modeling technique. Elastic Net is defined by two hyperparameters: alpha (α) and l1_ratio. Alpha controls the overall strength of regularization, and l1_ratio determines the balance between L1 (Lasso) and L2 (Ridge) regularization. To perform feature selection, you typically want to emphasize L1 regularization by setting l1_ratio close to 1."
   ]
  },
  {
   "cell_type": "code",
   "execution_count": null,
   "id": "634f03a9",
   "metadata": {},
   "outputs": [],
   "source": []
  },
  {
   "cell_type": "markdown",
   "id": "552a56ea",
   "metadata": {},
   "source": [
    "# Q8. How do you pickle and unpickle a trained Elastic Net Regression model in Python"
   ]
  },
  {
   "cell_type": "code",
   "execution_count": 12,
   "id": "760cc819",
   "metadata": {},
   "outputs": [],
   "source": [
    "import pickle\n",
    "import numpy as np\n",
    "import sklearn\n",
    "from sklearn.linear_model import ElasticNet"
   ]
  },
  {
   "cell_type": "code",
   "execution_count": 20,
   "id": "f7b48131",
   "metadata": {},
   "outputs": [],
   "source": [
    "X=[1,2,3,4,5,6,7,8,9]\n",
    "y=[1,4,9,16,25,36,49,64,81]"
   ]
  },
  {
   "cell_type": "code",
   "execution_count": 21,
   "id": "c89a7d97",
   "metadata": {},
   "outputs": [],
   "source": [
    "X=np.array(X)\n",
    "Y=np.array(y)"
   ]
  },
  {
   "cell_type": "code",
   "execution_count": 13,
   "id": "1161c74c",
   "metadata": {},
   "outputs": [],
   "source": [
    "e=ElasticNet(alpha=0.5,l1_ratio=0.5)"
   ]
  },
  {
   "cell_type": "code",
   "execution_count": 22,
   "id": "a58b345e",
   "metadata": {},
   "outputs": [],
   "source": [
    "X=X.reshape(-1,1)\n",
    "Y=Y.reshape(-1,1)"
   ]
  },
  {
   "cell_type": "code",
   "execution_count": 23,
   "id": "085e3e19",
   "metadata": {},
   "outputs": [
    {
     "data": {
      "text/html": [
       "<style>#sk-container-id-1 {color: black;}#sk-container-id-1 pre{padding: 0;}#sk-container-id-1 div.sk-toggleable {background-color: white;}#sk-container-id-1 label.sk-toggleable__label {cursor: pointer;display: block;width: 100%;margin-bottom: 0;padding: 0.3em;box-sizing: border-box;text-align: center;}#sk-container-id-1 label.sk-toggleable__label-arrow:before {content: \"▸\";float: left;margin-right: 0.25em;color: #696969;}#sk-container-id-1 label.sk-toggleable__label-arrow:hover:before {color: black;}#sk-container-id-1 div.sk-estimator:hover label.sk-toggleable__label-arrow:before {color: black;}#sk-container-id-1 div.sk-toggleable__content {max-height: 0;max-width: 0;overflow: hidden;text-align: left;background-color: #f0f8ff;}#sk-container-id-1 div.sk-toggleable__content pre {margin: 0.2em;color: black;border-radius: 0.25em;background-color: #f0f8ff;}#sk-container-id-1 input.sk-toggleable__control:checked~div.sk-toggleable__content {max-height: 200px;max-width: 100%;overflow: auto;}#sk-container-id-1 input.sk-toggleable__control:checked~label.sk-toggleable__label-arrow:before {content: \"▾\";}#sk-container-id-1 div.sk-estimator input.sk-toggleable__control:checked~label.sk-toggleable__label {background-color: #d4ebff;}#sk-container-id-1 div.sk-label input.sk-toggleable__control:checked~label.sk-toggleable__label {background-color: #d4ebff;}#sk-container-id-1 input.sk-hidden--visually {border: 0;clip: rect(1px 1px 1px 1px);clip: rect(1px, 1px, 1px, 1px);height: 1px;margin: -1px;overflow: hidden;padding: 0;position: absolute;width: 1px;}#sk-container-id-1 div.sk-estimator {font-family: monospace;background-color: #f0f8ff;border: 1px dotted black;border-radius: 0.25em;box-sizing: border-box;margin-bottom: 0.5em;}#sk-container-id-1 div.sk-estimator:hover {background-color: #d4ebff;}#sk-container-id-1 div.sk-parallel-item::after {content: \"\";width: 100%;border-bottom: 1px solid gray;flex-grow: 1;}#sk-container-id-1 div.sk-label:hover label.sk-toggleable__label {background-color: #d4ebff;}#sk-container-id-1 div.sk-serial::before {content: \"\";position: absolute;border-left: 1px solid gray;box-sizing: border-box;top: 0;bottom: 0;left: 50%;z-index: 0;}#sk-container-id-1 div.sk-serial {display: flex;flex-direction: column;align-items: center;background-color: white;padding-right: 0.2em;padding-left: 0.2em;position: relative;}#sk-container-id-1 div.sk-item {position: relative;z-index: 1;}#sk-container-id-1 div.sk-parallel {display: flex;align-items: stretch;justify-content: center;background-color: white;position: relative;}#sk-container-id-1 div.sk-item::before, #sk-container-id-1 div.sk-parallel-item::before {content: \"\";position: absolute;border-left: 1px solid gray;box-sizing: border-box;top: 0;bottom: 0;left: 50%;z-index: -1;}#sk-container-id-1 div.sk-parallel-item {display: flex;flex-direction: column;z-index: 1;position: relative;background-color: white;}#sk-container-id-1 div.sk-parallel-item:first-child::after {align-self: flex-end;width: 50%;}#sk-container-id-1 div.sk-parallel-item:last-child::after {align-self: flex-start;width: 50%;}#sk-container-id-1 div.sk-parallel-item:only-child::after {width: 0;}#sk-container-id-1 div.sk-dashed-wrapped {border: 1px dashed gray;margin: 0 0.4em 0.5em 0.4em;box-sizing: border-box;padding-bottom: 0.4em;background-color: white;}#sk-container-id-1 div.sk-label label {font-family: monospace;font-weight: bold;display: inline-block;line-height: 1.2em;}#sk-container-id-1 div.sk-label-container {text-align: center;}#sk-container-id-1 div.sk-container {/* jupyter's `normalize.less` sets `[hidden] { display: none; }` but bootstrap.min.css set `[hidden] { display: none !important; }` so we also need the `!important` here to be able to override the default hidden behavior on the sphinx rendered scikit-learn.org. See: https://github.com/scikit-learn/scikit-learn/issues/21755 */display: inline-block !important;position: relative;}#sk-container-id-1 div.sk-text-repr-fallback {display: none;}</style><div id=\"sk-container-id-1\" class=\"sk-top-container\"><div class=\"sk-text-repr-fallback\"><pre>ElasticNet(alpha=0.5)</pre><b>In a Jupyter environment, please rerun this cell to show the HTML representation or trust the notebook. <br />On GitHub, the HTML representation is unable to render, please try loading this page with nbviewer.org.</b></div><div class=\"sk-container\" hidden><div class=\"sk-item\"><div class=\"sk-estimator sk-toggleable\"><input class=\"sk-toggleable__control sk-hidden--visually\" id=\"sk-estimator-id-1\" type=\"checkbox\" checked><label for=\"sk-estimator-id-1\" class=\"sk-toggleable__label sk-toggleable__label-arrow\">ElasticNet</label><div class=\"sk-toggleable__content\"><pre>ElasticNet(alpha=0.5)</pre></div></div></div></div></div>"
      ],
      "text/plain": [
       "ElasticNet(alpha=0.5)"
      ]
     },
     "execution_count": 23,
     "metadata": {},
     "output_type": "execute_result"
    }
   ],
   "source": [
    "e.fit(X,Y)"
   ]
  },
  {
   "cell_type": "code",
   "execution_count": 32,
   "id": "7ef1a600",
   "metadata": {},
   "outputs": [
    {
     "data": {
      "text/plain": [
       "array([ -6.74297189,  22.06425703,  70.07630522, 137.29317269,\n",
       "       223.71485944, 329.34136546, 454.17269076, 598.20883534,\n",
       "       761.4497992 ])"
      ]
     },
     "execution_count": 32,
     "metadata": {},
     "output_type": "execute_result"
    }
   ],
   "source": [
    "y_pred=e.predict(Y)\n",
    "y_pred"
   ]
  },
  {
   "cell_type": "code",
   "execution_count": 29,
   "id": "494bb613",
   "metadata": {},
   "outputs": [
    {
     "data": {
      "text/plain": [
       "0.9496695171637801"
      ]
     },
     "execution_count": 29,
     "metadata": {},
     "output_type": "execute_result"
    }
   ],
   "source": [
    "e.score(X,Y)"
   ]
  },
  {
   "cell_type": "code",
   "execution_count": 30,
   "id": "fd78d05b",
   "metadata": {},
   "outputs": [],
   "source": [
    "# evaluation\n",
    "from sklearn.metrics import mean_squared_error\n",
    "from sklearn.metrics import r2_score\n",
    "from sklearn.metrics import accuracy_score"
   ]
  },
  {
   "cell_type": "code",
   "execution_count": 34,
   "id": "ff5b20de",
   "metadata": {},
   "outputs": [
    {
     "data": {
      "text/plain": [
       "117435.69890808214"
      ]
     },
     "execution_count": 34,
     "metadata": {},
     "output_type": "execute_result"
    }
   ],
   "source": [
    "mean_squared_error(Y,y_pred)\n",
    "# lower values indicate better performance of the model"
   ]
  },
  {
   "cell_type": "code",
   "execution_count": 36,
   "id": "7994df81",
   "metadata": {},
   "outputs": [
    {
     "data": {
      "text/plain": [
       "-166.55251905084643"
      ]
     },
     "execution_count": 36,
     "metadata": {},
     "output_type": "execute_result"
    }
   ],
   "source": [
    "r2_score(Y,y_pred)\n",
    "# 0-1\n",
    "# higher values indicates better performance"
   ]
  },
  {
   "cell_type": "code",
   "execution_count": 39,
   "id": "cc1b1cb4",
   "metadata": {},
   "outputs": [],
   "source": [
    "# accuracy_score(Y,y_pred) -for classification tasks"
   ]
  },
  {
   "cell_type": "code",
   "execution_count": null,
   "id": "8213fb72",
   "metadata": {},
   "outputs": [],
   "source": []
  },
  {
   "cell_type": "code",
   "execution_count": 40,
   "id": "0d846894",
   "metadata": {},
   "outputs": [
    {
     "data": {
      "text/html": [
       "<style>#sk-container-id-2 {color: black;}#sk-container-id-2 pre{padding: 0;}#sk-container-id-2 div.sk-toggleable {background-color: white;}#sk-container-id-2 label.sk-toggleable__label {cursor: pointer;display: block;width: 100%;margin-bottom: 0;padding: 0.3em;box-sizing: border-box;text-align: center;}#sk-container-id-2 label.sk-toggleable__label-arrow:before {content: \"▸\";float: left;margin-right: 0.25em;color: #696969;}#sk-container-id-2 label.sk-toggleable__label-arrow:hover:before {color: black;}#sk-container-id-2 div.sk-estimator:hover label.sk-toggleable__label-arrow:before {color: black;}#sk-container-id-2 div.sk-toggleable__content {max-height: 0;max-width: 0;overflow: hidden;text-align: left;background-color: #f0f8ff;}#sk-container-id-2 div.sk-toggleable__content pre {margin: 0.2em;color: black;border-radius: 0.25em;background-color: #f0f8ff;}#sk-container-id-2 input.sk-toggleable__control:checked~div.sk-toggleable__content {max-height: 200px;max-width: 100%;overflow: auto;}#sk-container-id-2 input.sk-toggleable__control:checked~label.sk-toggleable__label-arrow:before {content: \"▾\";}#sk-container-id-2 div.sk-estimator input.sk-toggleable__control:checked~label.sk-toggleable__label {background-color: #d4ebff;}#sk-container-id-2 div.sk-label input.sk-toggleable__control:checked~label.sk-toggleable__label {background-color: #d4ebff;}#sk-container-id-2 input.sk-hidden--visually {border: 0;clip: rect(1px 1px 1px 1px);clip: rect(1px, 1px, 1px, 1px);height: 1px;margin: -1px;overflow: hidden;padding: 0;position: absolute;width: 1px;}#sk-container-id-2 div.sk-estimator {font-family: monospace;background-color: #f0f8ff;border: 1px dotted black;border-radius: 0.25em;box-sizing: border-box;margin-bottom: 0.5em;}#sk-container-id-2 div.sk-estimator:hover {background-color: #d4ebff;}#sk-container-id-2 div.sk-parallel-item::after {content: \"\";width: 100%;border-bottom: 1px solid gray;flex-grow: 1;}#sk-container-id-2 div.sk-label:hover label.sk-toggleable__label {background-color: #d4ebff;}#sk-container-id-2 div.sk-serial::before {content: \"\";position: absolute;border-left: 1px solid gray;box-sizing: border-box;top: 0;bottom: 0;left: 50%;z-index: 0;}#sk-container-id-2 div.sk-serial {display: flex;flex-direction: column;align-items: center;background-color: white;padding-right: 0.2em;padding-left: 0.2em;position: relative;}#sk-container-id-2 div.sk-item {position: relative;z-index: 1;}#sk-container-id-2 div.sk-parallel {display: flex;align-items: stretch;justify-content: center;background-color: white;position: relative;}#sk-container-id-2 div.sk-item::before, #sk-container-id-2 div.sk-parallel-item::before {content: \"\";position: absolute;border-left: 1px solid gray;box-sizing: border-box;top: 0;bottom: 0;left: 50%;z-index: -1;}#sk-container-id-2 div.sk-parallel-item {display: flex;flex-direction: column;z-index: 1;position: relative;background-color: white;}#sk-container-id-2 div.sk-parallel-item:first-child::after {align-self: flex-end;width: 50%;}#sk-container-id-2 div.sk-parallel-item:last-child::after {align-self: flex-start;width: 50%;}#sk-container-id-2 div.sk-parallel-item:only-child::after {width: 0;}#sk-container-id-2 div.sk-dashed-wrapped {border: 1px dashed gray;margin: 0 0.4em 0.5em 0.4em;box-sizing: border-box;padding-bottom: 0.4em;background-color: white;}#sk-container-id-2 div.sk-label label {font-family: monospace;font-weight: bold;display: inline-block;line-height: 1.2em;}#sk-container-id-2 div.sk-label-container {text-align: center;}#sk-container-id-2 div.sk-container {/* jupyter's `normalize.less` sets `[hidden] { display: none; }` but bootstrap.min.css set `[hidden] { display: none !important; }` so we also need the `!important` here to be able to override the default hidden behavior on the sphinx rendered scikit-learn.org. See: https://github.com/scikit-learn/scikit-learn/issues/21755 */display: inline-block !important;position: relative;}#sk-container-id-2 div.sk-text-repr-fallback {display: none;}</style><div id=\"sk-container-id-2\" class=\"sk-top-container\"><div class=\"sk-text-repr-fallback\"><pre>ElasticNet(alpha=0.5)</pre><b>In a Jupyter environment, please rerun this cell to show the HTML representation or trust the notebook. <br />On GitHub, the HTML representation is unable to render, please try loading this page with nbviewer.org.</b></div><div class=\"sk-container\" hidden><div class=\"sk-item\"><div class=\"sk-estimator sk-toggleable\"><input class=\"sk-toggleable__control sk-hidden--visually\" id=\"sk-estimator-id-2\" type=\"checkbox\" checked><label for=\"sk-estimator-id-2\" class=\"sk-toggleable__label sk-toggleable__label-arrow\">ElasticNet</label><div class=\"sk-toggleable__content\"><pre>ElasticNet(alpha=0.5)</pre></div></div></div></div></div>"
      ],
      "text/plain": [
       "ElasticNet(alpha=0.5)"
      ]
     },
     "execution_count": 40,
     "metadata": {},
     "output_type": "execute_result"
    }
   ],
   "source": [
    "e"
   ]
  },
  {
   "cell_type": "code",
   "execution_count": 41,
   "id": "8fe32164",
   "metadata": {},
   "outputs": [],
   "source": [
    "model_file_name=\"e.pkl\""
   ]
  },
  {
   "cell_type": "code",
   "execution_count": 42,
   "id": "1e27beb2",
   "metadata": {},
   "outputs": [],
   "source": [
    "with open(model_file_name,\"wb\") as model_file:\n",
    "    pickle.dump(e,model_file)\n",
    "# save the model"
   ]
  },
  {
   "cell_type": "code",
   "execution_count": 47,
   "id": "5ba4007f",
   "metadata": {},
   "outputs": [],
   "source": [
    "# open the model\n",
    "with open(model_file_name,\"rb\") as model_file:\n",
    "    e_pickle=pickle.load(model_file)"
   ]
  },
  {
   "cell_type": "code",
   "execution_count": 49,
   "id": "4ffc3143",
   "metadata": {},
   "outputs": [
    {
     "data": {
      "text/plain": [
       "array([943.89558233])"
      ]
     },
     "execution_count": 49,
     "metadata": {},
     "output_type": "execute_result"
    }
   ],
   "source": [
    "e_pickle.predict([[100]])"
   ]
  },
  {
   "cell_type": "code",
   "execution_count": null,
   "id": "f0ca3d03",
   "metadata": {},
   "outputs": [],
   "source": []
  },
  {
   "cell_type": "markdown",
   "id": "bbe397d3",
   "metadata": {},
   "source": [
    "# Q9. What is the purpose of pickling a model in machine learning?"
   ]
  },
  {
   "cell_type": "markdown",
   "id": "1578f85d",
   "metadata": {},
   "source": [
    "we can build the model and can finetune it.but it need to go the user ,and user need to access it ,for access purpose we can convert the model into binary file,so we can deploy the model ,user can use it"
   ]
  },
  {
   "cell_type": "code",
   "execution_count": null,
   "id": "0146efdd",
   "metadata": {},
   "outputs": [],
   "source": []
  },
  {
   "cell_type": "code",
   "execution_count": null,
   "id": "42cc122a",
   "metadata": {},
   "outputs": [],
   "source": []
  }
 ],
 "metadata": {
  "kernelspec": {
   "display_name": "Python 3 (ipykernel)",
   "language": "python",
   "name": "python3"
  },
  "language_info": {
   "codemirror_mode": {
    "name": "ipython",
    "version": 3
   },
   "file_extension": ".py",
   "mimetype": "text/x-python",
   "name": "python",
   "nbconvert_exporter": "python",
   "pygments_lexer": "ipython3",
   "version": "3.10.13"
  }
 },
 "nbformat": 4,
 "nbformat_minor": 5
}
