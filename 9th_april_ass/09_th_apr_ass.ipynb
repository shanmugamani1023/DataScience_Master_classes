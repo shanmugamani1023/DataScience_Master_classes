{
 "cells": [
  {
   "cell_type": "markdown",
   "metadata": {},
   "source": [
    "## Q1. What is Bayes' theorem?\n",
    "    Bayes' theorem, named after Reverend Thomas Bayes, is a fundamental concept in probability theory and statistics. It describes how to update the probability of a hypothesis based on new evidence or information. \n"
   ]
  },
  {
   "cell_type": "markdown",
   "metadata": {},
   "source": []
  },
  {
   "cell_type": "code",
   "execution_count": null,
   "metadata": {},
   "outputs": [],
   "source": []
  },
  {
   "cell_type": "markdown",
   "metadata": {},
   "source": [
    "# Q2. What is the formula for Bayes' theorem? \n",
    "The formula for Bayes' theorem is:\n",
    "\n",
    " P(A|B) = P(B|A) * P(A)  / P(B)\n",
    "\n",
    "Where:\n",
    "- \\( P(A|B) \\) is the probability of event \\( A \\) occurring given that event \\( B \\) has occurred.\n",
    "- \\( P(B|A) \\) is the probability of event \\( B \\) occurring given that event \\( A \\) has occurred.\n",
    "- \\( P(A) \\) and \\( P(B) \\) are the probabilities of events \\( A \\) and \\( B \\) occurring independently of each other.\n",
    "\n",
    "This formula describes how to update the probability of a hypothesis (event \\( A \\)) based on new evidence (event \\( B \\)). It's a fundamental concept in probability theory and statistics, widely used in various fields for reasoning under uncertainty."
   ]
  },
  {
   "cell_type": "markdown",
   "metadata": {},
   "source": [
    " # How is Bayes' theorem used in practice?\n",
    " Bayes' theorem is used in various fields to update beliefs based on new evidence. It's applied in medical diagnosis, spam filtering, machine learning, natural language processing, financial forecasting, and search engines to make informed decisions under uncertainty."
   ]
  },
  {
   "cell_type": "markdown",
   "metadata": {},
   "source": []
  },
  {
   "cell_type": "markdown",
   "metadata": {},
   "source": [
    "# Q4. What is the relationship between Bayes' theorem and conditional probability? \n",
    "\n",
    "Bayes' theorem is derived from conditional probability. It provides a way to calculate the probability of an event given another event, by incorporating prior probabilities and likelihoods. Essentially, Bayes' theorem is an extension of conditional probability that allows for updating beliefs based on new evidence."
   ]
  },
  {
   "cell_type": "markdown",
   "metadata": {},
   "source": []
  },
  {
   "cell_type": "markdown",
   "metadata": {},
   "source": [
    "# How do you choose which type of Naive Bayes classifier to use for any given problem? \n",
    "Choosing the right type of Naive Bayes classifier depends on the nature of the problem and the distribution of the data. Here's a brief overview:\n",
    "\n",
    "1. Gaussian Naive Bayes: This classifier assumes that features follow a Gaussian distribution. It works well for continuous features and is suitable when the data points are assumed to be sampled from a Gaussian distribution.\n",
    "\n",
    "2. **Multinomial Naive Bayes**: This classifier is suitable for classification tasks with discrete features (e.g., word counts in text classification). It assumes that features follow a multinomial distribution.\n",
    "\n",
    "3. **Bernoulli Naive Bayes**: Similar to Multinomial Naive Bayes, but it's designed for features that are binary-valued (e.g., presence or absence of a feature). It's commonly used in text classification tasks where features are represented as binary indicators.\n",
    "\n",
    "The choice depends on the characteristics of your dataset. For example, if you're working with text data, you might start with Multinomial or Bernoulli Naive Bayes. If your features are continuous and approximately Gaussian, Gaussian Naive Bayes could be appropriate. It's often a good idea to try different classifiers and compare their performance using cross-validation or other evaluation metrics to determine the most suitable one for your specific problem."
   ]
  },
  {
   "cell_type": "markdown",
   "metadata": {},
   "source": []
  },
  {
   "cell_type": "markdown",
   "metadata": {},
   "source": [
    "# Q6. Assignment:\n",
    "You have a dataset with two features, X1 and X2, and two possible classes, A and B. You want to use Naive \n",
    "Bayes to classify a new instance with features X1 = 3 and X2 = 4. The following table shows the frequency of \n",
    "each feature value for each class: \n",
    "Class   X1=1     X1=2     X1=3     X2=1     X2=2     X2=3     X2=4 \n",
    "    A             3             3             4             4              3              3               3 \n",
    "    B             2              2              1              2              2              2               3 \n",
    "Assuming equal prior probabilities for each class, which class would Naive Bayes predict the new instance \n",
    "to belong to?"
   ]
  },
  {
   "cell_type": "code",
   "execution_count": 3,
   "metadata": {},
   "outputs": [
    {
     "name": "stdout",
     "output_type": "stream",
     "text": [
      "Predicted class: A\n"
     ]
    }
   ],
   "source": [
    "# Define the frequency table\n",
    "frequency_table = {\n",
    "    'A': {'X1=1': 3, 'X1=2': 3, 'X1=3': 4, 'X2=1': 4, 'X2=2': 3, 'X2=3': 3, 'X2=4': 3},\n",
    "    'B': {'X1=1': 2, 'X1=2': 2, 'X1=3': 1, 'X2=1': 2, 'X2=2': 2, 'X2=3': 2, 'X2=4': 3}\n",
    "}\n",
    "\n",
    "# Calculate likelihoods\n",
    "likelihoods = {}\n",
    "for class_label in frequency_table.keys():\n",
    "    likelihood = 1\n",
    "    for feature in ['X1=3', 'X2=4']:\n",
    "        likelihood *= frequency_table[class_label][feature] / sum(frequency_table[class_label].values())\n",
    "    likelihoods[class_label] = likelihood\n",
    "\n",
    "# Predict the class with the highest likelihood\n",
    "predicted_class = max(likelihoods, key=likelihoods.get)\n",
    "\n",
    "print(\"Predicted class:\", predicted_class)\n"
   ]
  },
  {
   "cell_type": "markdown",
   "metadata": {},
   "source": []
  },
  {
   "cell_type": "markdown",
   "metadata": {},
   "source": []
  },
  {
   "cell_type": "markdown",
   "metadata": {},
   "source": []
  },
  {
   "cell_type": "markdown",
   "metadata": {},
   "source": []
  },
  {
   "cell_type": "markdown",
   "metadata": {},
   "source": []
  },
  {
   "cell_type": "markdown",
   "metadata": {},
   "source": []
  },
  {
   "cell_type": "markdown",
   "metadata": {},
   "source": []
  },
  {
   "cell_type": "markdown",
   "metadata": {},
   "source": []
  },
  {
   "cell_type": "markdown",
   "metadata": {},
   "source": []
  },
  {
   "cell_type": "markdown",
   "metadata": {},
   "source": []
  },
  {
   "cell_type": "markdown",
   "metadata": {},
   "source": []
  },
  {
   "cell_type": "markdown",
   "metadata": {},
   "source": []
  },
  {
   "cell_type": "markdown",
   "metadata": {},
   "source": []
  },
  {
   "cell_type": "markdown",
   "metadata": {},
   "source": []
  },
  {
   "cell_type": "markdown",
   "metadata": {},
   "source": []
  },
  {
   "cell_type": "markdown",
   "metadata": {},
   "source": []
  },
  {
   "cell_type": "markdown",
   "metadata": {},
   "source": []
  },
  {
   "cell_type": "markdown",
   "metadata": {},
   "source": []
  },
  {
   "cell_type": "markdown",
   "metadata": {},
   "source": []
  },
  {
   "cell_type": "markdown",
   "metadata": {},
   "source": []
  },
  {
   "cell_type": "markdown",
   "metadata": {},
   "source": []
  },
  {
   "cell_type": "markdown",
   "metadata": {},
   "source": []
  },
  {
   "cell_type": "markdown",
   "metadata": {},
   "source": []
  },
  {
   "cell_type": "markdown",
   "metadata": {},
   "source": []
  },
  {
   "cell_type": "markdown",
   "metadata": {},
   "source": []
  },
  {
   "cell_type": "markdown",
   "metadata": {},
   "source": []
  },
  {
   "cell_type": "markdown",
   "metadata": {},
   "source": []
  },
  {
   "cell_type": "markdown",
   "metadata": {},
   "source": []
  },
  {
   "cell_type": "markdown",
   "metadata": {},
   "source": []
  },
  {
   "cell_type": "markdown",
   "metadata": {},
   "source": []
  },
  {
   "cell_type": "markdown",
   "metadata": {},
   "source": []
  },
  {
   "cell_type": "markdown",
   "metadata": {},
   "source": []
  },
  {
   "cell_type": "markdown",
   "metadata": {},
   "source": []
  },
  {
   "cell_type": "markdown",
   "metadata": {},
   "source": []
  },
  {
   "cell_type": "markdown",
   "metadata": {},
   "source": []
  },
  {
   "cell_type": "markdown",
   "metadata": {},
   "source": []
  },
  {
   "cell_type": "markdown",
   "metadata": {},
   "source": []
  },
  {
   "cell_type": "code",
   "execution_count": null,
   "metadata": {},
   "outputs": [],
   "source": []
  },
  {
   "cell_type": "code",
   "execution_count": null,
   "metadata": {},
   "outputs": [],
   "source": []
  },
  {
   "cell_type": "code",
   "execution_count": null,
   "metadata": {},
   "outputs": [],
   "source": []
  }
 ],
 "metadata": {
  "kernelspec": {
   "display_name": "pwskills",
   "language": "python",
   "name": "python3"
  },
  "language_info": {
   "codemirror_mode": {
    "name": "ipython",
    "version": 3
   },
   "file_extension": ".py",
   "mimetype": "text/x-python",
   "name": "python",
   "nbconvert_exporter": "python",
   "pygments_lexer": "ipython3",
   "version": "3.10.13"
  }
 },
 "nbformat": 4,
 "nbformat_minor": 2
}
