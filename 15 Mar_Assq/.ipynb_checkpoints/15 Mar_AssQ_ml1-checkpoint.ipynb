{
 "cells": [
  {
   "cell_type": "markdown",
   "id": "defb93b8",
   "metadata": {},
   "source": [
    "# Q1- Explain the following* with an example\n",
    "1) AI\n",
    "2) ML\n",
    "3) DL"
   ]
  },
  {
   "cell_type": "markdown",
   "id": "87a7c1cf",
   "metadata": {},
   "source": [
    "# AI -Artfical intellegence is a application used to do task without any human work\n",
    "ex:robots,self driving cars"
   ]
  },
  {
   "cell_type": "markdown",
   "id": "6ca7460f",
   "metadata": {},
   "source": [
    "# ML -mahine learning-subset of AI -used to give tools to analyze,visualize,build ml models using data,and we can get result based on that.\n",
    "ex:netflix,amazon recommendation system"
   ]
  },
  {
   "cell_type": "markdown",
   "id": "d4ef559d",
   "metadata": {},
   "source": [
    "# DL-deep learning subset of ML,it mimic the brain,and it can learn the things which the way of how human brain can learn.and it l give output"
   ]
  },
  {
   "cell_type": "code",
   "execution_count": null,
   "id": "b940bbc0",
   "metadata": {},
   "outputs": [],
   "source": []
  },
  {
   "cell_type": "markdown",
   "id": "0069e8af",
   "metadata": {},
   "source": [
    "# Q2- What is supervised learning ,ex:"
   ]
  },
  {
   "cell_type": "markdown",
   "id": "448301f3",
   "metadata": {},
   "source": [
    "# In supervised learning ,we can give input,output,and train the model,then model will predict the output based on test data\n",
    "\n",
    "ex: if i want to predict the product price, i should train the model with sample data like the source cost and expenses,and profit,with tax,and price,then model can train after that if i l give inputs like source cost,expenses,profit with tax it l predict the price"
   ]
  },
  {
   "cell_type": "code",
   "execution_count": null,
   "id": "3609333f",
   "metadata": {},
   "outputs": [],
   "source": []
  },
  {
   "cell_type": "markdown",
   "id": "ec43083e",
   "metadata": {},
   "source": [
    "# Q3- What is unsupervised learning ,ex?"
   ]
  },
  {
   "cell_type": "markdown",
   "id": "b6ae62c3",
   "metadata": {},
   "source": [
    "# In unsupervised learning we dont have ouput to train ,we have only input dataset ,so model can train to detect or make clusters or groups,\n",
    "ex.I want to launch new product then i want to know whos my audience first,so for that i can do customer segmentation"
   ]
  },
  {
   "cell_type": "code",
   "execution_count": null,
   "id": "f29b8fba",
   "metadata": {},
   "outputs": [],
   "source": []
  },
  {
   "cell_type": "markdown",
   "id": "f42953e8",
   "metadata": {},
   "source": [
    "# Q4- What is the diff b/wAI, ML, DL, and DS?"
   ]
  },
  {
   "cell_type": "markdown",
   "id": "38aee324",
   "metadata": {},
   "source": [
    "# AI -Artfical intellegence is a application used to do task without any human work\n",
    "ex:robots,self driving cars"
   ]
  },
  {
   "cell_type": "markdown",
   "id": "2bca5a36",
   "metadata": {},
   "source": [
    "# ML -mahine learning-subset of AI -used to give tools to analyze,visualize,build ml models using data,and we can get result based on that.\n",
    "ex:netflix,amazon recommendation system"
   ]
  },
  {
   "cell_type": "markdown",
   "id": "2148992f",
   "metadata": {},
   "source": [
    "# DL-deep learning subset of ML,it mimic the brain,and it can learn the things which the way of how human brain can learn.and it l give output"
   ]
  },
  {
   "cell_type": "markdown",
   "id": "32098ff1",
   "metadata": {},
   "source": [
    "# Data science is a study about all the above things"
   ]
  },
  {
   "cell_type": "code",
   "execution_count": null,
   "id": "fb7aebb9",
   "metadata": {},
   "outputs": [],
   "source": []
  },
  {
   "cell_type": "markdown",
   "id": "eca2d76d",
   "metadata": {},
   "source": [
    "# Q5- What are the main diff b/n supervised, unsupervised, and semi-supervised ?"
   ]
  },
  {
   "cell_type": "markdown",
   "id": "8a830625",
   "metadata": {},
   "source": [
    "# In supervised learning ,we can give input,output,and train the model,then model will predict the output based on test data\n",
    "\n",
    "ex: if i want to predict the product price, i should train the model with sample data like the source cost and expenses,and profit,with tax,and price,then model can train after that if i l give inputs like source cost,expenses,profit with tax it l predict the price"
   ]
  },
  {
   "cell_type": "markdown",
   "id": "47aa4e43",
   "metadata": {},
   "source": [
    "# In unsupervised learning we dont have ouput to train ,we have only input dataset ,so model can train to detect or make clusters or groups,\n",
    "ex.I want to launch new product then i want to know whos my audience first,so for that i can do customer segmentation"
   ]
  },
  {
   "cell_type": "markdown",
   "id": "cdc6b460",
   "metadata": {},
   "source": [
    "# semi-supervised-it can do both supervised and unsupervised"
   ]
  },
  {
   "cell_type": "code",
   "execution_count": null,
   "id": "2a605d90",
   "metadata": {},
   "outputs": [],
   "source": []
  },
  {
   "cell_type": "markdown",
   "id": "dc40d89d",
   "metadata": {},
   "source": [
    "# Q6- What is train, test and validation split? Explain the importance of each term."
   ]
  },
  {
   "cell_type": "markdown",
   "id": "c4b2ea32",
   "metadata": {},
   "source": [
    "# train- Data which used to train the model\n",
    "# test -Date which used to test the model\n",
    "# validatation used to tune the model"
   ]
  },
  {
   "cell_type": "markdown",
   "id": "451fe23b",
   "metadata": {},
   "source": [
    "# ex:IN exam we can read books for exam,so we know about both q and a,after that we may test validate ourself by read other books but same topics,so it can tune our brain,finally we can test ourself by attending the exam."
   ]
  },
  {
   "cell_type": "code",
   "execution_count": null,
   "id": "3f1d1115",
   "metadata": {},
   "outputs": [],
   "source": []
  },
  {
   "cell_type": "markdown",
   "id": "92f2fbd6",
   "metadata": {},
   "source": [
    "# Q7- How can unsupervised learning be used in anomaly detection?"
   ]
  },
  {
   "cell_type": "markdown",
   "id": "1b4e0b30",
   "metadata": {},
   "source": [
    "# Anomaly detection refers to the process of identifying unusual or abnormal instances, patterns, or events in a dataset. It involves finding observations that deviate significantly from the expected or normal behavior. Anomalies can represent valuable insights, rare events, or potential anomalies such as fraudulent transactions, network intrusions, equipment failures, or health anomalies. Anomaly detection techniques utilize statistical analysis, machine learning algorithms, or domain-specific knowledge to distinguish between normal and anomalous data points. The goal is to flag or alert on these anomalies for further investigation or appropriate actions."
   ]
  },
  {
   "cell_type": "markdown",
   "id": "9770ade2",
   "metadata": {},
   "source": [
    "# Unsupervised learning can be used in anomaly detection by applying algorithms such as clustering, density-based methods, autoencoders, or one-class SVM. These algorithms analyze the dataset without labeled examples and identify instances that deviate significantly from the norm or expected behavior. The identified anomalies can be evaluated and refined using domain knowledge and expert feedback."
   ]
  },
  {
   "cell_type": "code",
   "execution_count": null,
   "id": "9fbebd9f",
   "metadata": {},
   "outputs": [],
   "source": []
  },
  {
   "cell_type": "markdown",
   "id": "88b55d07",
   "metadata": {},
   "source": [
    "# Q8- List down some common used supervised learning algorithms and unsupervised learning\n",
    "algorithms."
   ]
  },
  {
   "cell_type": "markdown",
   "id": "6ee4e727",
   "metadata": {},
   "source": [
    "# supervised learning:\n",
    "    1.linear regression\n",
    "    2.logistic regression\n",
    "    3.random forest\n",
    "# unsupervised learning:\n",
    "    1.k means clustering\n",
    "    2.hierarichal clusterring"
   ]
  }
 ],
 "metadata": {
  "kernelspec": {
   "display_name": "Python 3 (ipykernel)",
   "language": "python",
   "name": "python3"
  },
  "language_info": {
   "codemirror_mode": {
    "name": "ipython",
    "version": 3
   },
   "file_extension": ".py",
   "mimetype": "text/x-python",
   "name": "python",
   "nbconvert_exporter": "python",
   "pygments_lexer": "ipython3",
   "version": "3.10.9"
  }
 },
 "nbformat": 4,
 "nbformat_minor": 5
}
