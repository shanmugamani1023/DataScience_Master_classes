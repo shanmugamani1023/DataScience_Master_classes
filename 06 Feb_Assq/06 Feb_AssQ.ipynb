{
 "cells": [
  {
   "cell_type": "markdown",
   "id": "7bec9ff2",
   "metadata": {},
   "source": [
    "# Q1. Create a function which will take a list as an argument and return the product of all the numbers\n",
    "after creating a flat list.\n",
    "\n",
    "Use the below-given list as an argument for your function.\n",
    "\n",
    "\n",
    "list1 = [1,2,3,4, [44,55,66, True], False, (34,56,78,89,34), {1,2,3,3,2,1}, {1:34, \"key2\": [55, 67, 78, 89], 4: (45,\n",
    "22, 61, 34)}, [56, 'data science'], 'Machine Learning']\n",
    "\n",
    "\n",
    "Note: you must extract numeric keys and values of the dictionary also."
   ]
  },
  {
   "cell_type": "code",
   "execution_count": 21,
   "id": "29b383db",
   "metadata": {},
   "outputs": [],
   "source": [
    "\n",
    "list1 = [1,2,3,4, [44,55,66, True], False, (34,56,78,89,34), {1,2,3,3,2,1}, {1:34, \"key2\": [55, 67, 78, 89], 4: (45,\n",
    "22, 61, 34)}, [56, 'data science'], 'Machine Learning']"
   ]
  },
  {
   "cell_type": "code",
   "execution_count": 76,
   "id": "100d1abb",
   "metadata": {},
   "outputs": [
    {
     "name": "stdout",
     "output_type": "stream",
     "text": [
      "0\n"
     ]
    }
   ],
   "source": [
    "from functools import reduce\n",
    "def product_of_list(list1):\n",
    "    fil_lis=[]\n",
    "    for i in list1:\n",
    "        if(type(i)==int):\n",
    "                fil_lis.append(i)\n",
    "        elif(type(i)==list):\n",
    "            for j in i:\n",
    "                if(type(j)==int):\n",
    "                    fil_lis.append(j)\n",
    "        elif(type(i)==bool):\n",
    "            fil_lis.append(int(i))\n",
    "        elif(type(i)==tuple):\n",
    "            for k in i:\n",
    "                if(type(k)==int):\n",
    "                    fil_lis.append(k)\n",
    "        elif(type(i)==set): \n",
    "            for k in i:\n",
    "                if(type(k)==int):\n",
    "                    fil_lis.append(k)\n",
    "        elif(type(i)==dict): \n",
    "            for l in i.values():\n",
    "                if(type(l)==int):\n",
    "                    fil_lis.append(l)\n",
    "                elif(type(l)==list):\n",
    "                    for m in l:\n",
    "                        if(type(m)==int):\n",
    "                            fil_lis.append(m)\n",
    "                elif(type(l)==tuple):\n",
    "                    for o in l:\n",
    "                        if(type(o)==int):\n",
    "                            fil_lis.append(o)\n",
    "                        \n",
    "    return reduce(lambda x,y:x*y,fil_lis)\n",
    "\n",
    "\n",
    "result=product_of_list(list1)\n",
    "print(result)\n",
    "\n",
    "\n",
    "    "
   ]
  },
  {
   "cell_type": "markdown",
   "id": "06f41f67",
   "metadata": {},
   "source": [
    "# Q2. Write a python program for encrypting a message sent to you by your friend. The logic of encryption\n",
    "should be such that, for a the output should be z. For b, the output should be y. For c, the output should\n",
    "be x respectively. Also, the whitespace should be replaced with a dollar sign. Keep the punctuation\n",
    "marks unchanged.\n",
    "\n",
    "\n",
    "Input Sentence: I want to become a Data Scientist.\n",
    "\n",
    "\n",
    "Encrypt the above input sentence using the program you just created.\n",
    "\n",
    "\n",
    "Note: Convert the given input sentence into lowercase before encrypting. The final output should be\n",
    "lowercase."
   ]
  },
  {
   "cell_type": "code",
   "execution_count": 77,
   "id": "f2348209",
   "metadata": {},
   "outputs": [],
   "source": [
    "# a->z\n",
    "# b->y\n",
    "# c->x\n",
    "# white_spce=>$\n",
    "# punctuation\n",
    "# marks-unchanged"
   ]
  },
  {
   "cell_type": "code",
   "execution_count": 122,
   "id": "a2d250ea",
   "metadata": {},
   "outputs": [
    {
     "name": "stdout",
     "output_type": "stream",
     "text": [
      "i$wznt$to$yexome$z$dztz$sxientist.\n"
     ]
    }
   ],
   "source": [
    "string=\"I want to become a Data Scientist.\"\n",
    "# print(len(string))\n",
    "string=string.lower()\n",
    "res_list=[]\n",
    "res_string=\"\"\n",
    "for i in string:\n",
    "    if(i==\"a\"):\n",
    "        res_list.append(\"z\")\n",
    "    elif(i==\"b\"):\n",
    "        res_list.append(\"y\")\n",
    "    elif(i==\"c\"):\n",
    "        res_list.append(\"x\")\n",
    "    elif(i.isspace()):\n",
    "        res_list.append(\"$\")\n",
    "    else:\n",
    "        res_list.append(i)\n",
    "        \n",
    "result=res_string.join(res_list)\n",
    "   \n",
    "print(result)\n"
   ]
  },
  {
   "cell_type": "code",
   "execution_count": null,
   "id": "1db78724",
   "metadata": {},
   "outputs": [],
   "source": []
  },
  {
   "cell_type": "code",
   "execution_count": null,
   "id": "e71b0ab7",
   "metadata": {},
   "outputs": [],
   "source": []
  },
  {
   "cell_type": "code",
   "execution_count": null,
   "id": "68377ee0",
   "metadata": {},
   "outputs": [],
   "source": []
  }
 ],
 "metadata": {
  "kernelspec": {
   "display_name": "Python 3 (ipykernel)",
   "language": "python",
   "name": "python3"
  },
  "language_info": {
   "codemirror_mode": {
    "name": "ipython",
    "version": 3
   },
   "file_extension": ".py",
   "mimetype": "text/x-python",
   "name": "python",
   "nbconvert_exporter": "python",
   "pygments_lexer": "ipython3",
   "version": "3.9.13"
  }
 },
 "nbformat": 4,
 "nbformat_minor": 5
}
