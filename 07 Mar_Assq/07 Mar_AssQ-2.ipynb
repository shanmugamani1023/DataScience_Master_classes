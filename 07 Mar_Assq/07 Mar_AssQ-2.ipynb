{
 "cells": [
  {
   "cell_type": "markdown",
   "id": "d0484448",
   "metadata": {},
   "source": [
    "# Q1. What are the three measures of central tendency?\n"
   ]
  },
  {
   "cell_type": "markdown",
   "id": "c8d6ecb9",
   "metadata": {},
   "source": [
    "# central tendency means what is center value in data set ,where more distribution occurs"
   ]
  },
  {
   "cell_type": "markdown",
   "id": "ccef2b17",
   "metadata": {},
   "source": [
    "# Mean,Median,Mode"
   ]
  },
  {
   "cell_type": "code",
   "execution_count": null,
   "id": "74ca53a0",
   "metadata": {},
   "outputs": [],
   "source": []
  },
  {
   "cell_type": "markdown",
   "id": "905cfa10",
   "metadata": {},
   "source": [
    "# Q2. What is the difference between the mean, median, and mode? How are they used to measure the\n",
    "central tendency of a dataset?\n"
   ]
  },
  {
   "cell_type": "markdown",
   "id": "65d3116e",
   "metadata": {},
   "source": [
    "# Mean: Avg value of data set ,we can use when normal distrbution"
   ]
  },
  {
   "cell_type": "markdown",
   "id": "435795b1",
   "metadata": {},
   "source": [
    "# Median: Middle value of data set ,it will not affect by outliers"
   ]
  },
  {
   "cell_type": "markdown",
   "id": "b1c1e4ff",
   "metadata": {},
   "source": [
    "# Mode: Frequency of data in dataset,The mode is useful for identifying the most common category or value in a dataset. "
   ]
  },
  {
   "cell_type": "markdown",
   "id": "dcbab300",
   "metadata": {},
   "source": [
    "# To Measure Central tendancy: we can use anyoneof the above methods"
   ]
  },
  {
   "cell_type": "code",
   "execution_count": null,
   "id": "1b27ce51",
   "metadata": {},
   "outputs": [],
   "source": []
  },
  {
   "cell_type": "markdown",
   "id": "c9a7abe9",
   "metadata": {},
   "source": [
    "# Q3. Measure the three measures of central tendency for the given height data:\n",
    "\n",
    "[178,177,176,177,178.2,178,175,179,180,175,178.9,176.2,177,172.5,178,176.5]\n"
   ]
  },
  {
   "cell_type": "code",
   "execution_count": 2,
   "id": "dd5d53a6",
   "metadata": {},
   "outputs": [],
   "source": [
    "data=[178,177,176,177,178.2,178,175,179,180,175,178.9,176.2,177,172.5,178,176.5]"
   ]
  },
  {
   "cell_type": "code",
   "execution_count": 11,
   "id": "9af4cbcc",
   "metadata": {},
   "outputs": [],
   "source": [
    "import pandas as pd\n",
    "import numpy as np\n",
    "from scipy import stats"
   ]
  },
  {
   "cell_type": "code",
   "execution_count": 14,
   "id": "2cba1f55",
   "metadata": {},
   "outputs": [
    {
     "name": "stdout",
     "output_type": "stream",
     "text": [
      "177.01875\n",
      "177.0\n",
      "ModeResult(mode=array([177.]), count=array([3]))\n"
     ]
    },
    {
     "name": "stderr",
     "output_type": "stream",
     "text": [
      "/tmp/ipykernel_12399/3897632770.py:3: FutureWarning: Unlike other reduction functions (e.g. `skew`, `kurtosis`), the default behavior of `mode` typically preserves the axis it acts along. In SciPy 1.11.0, this behavior will change: the default value of `keepdims` will become False, the `axis` over which the statistic is taken will be eliminated, and the value None will no longer be accepted. Set `keepdims` to True or False to avoid this warning.\n",
      "  mode_of_data=stats.mode(data)\n"
     ]
    }
   ],
   "source": [
    "mean_of_data=np.mean(data)\n",
    "median_of_data=np.median(data)\n",
    "mode_of_data=stats.mode(data)\n",
    "\n",
    "print(mean_of_data)\n",
    "print(median_of_data)\n",
    "print(mode_of_data)\n"
   ]
  },
  {
   "cell_type": "code",
   "execution_count": null,
   "id": "d8e28156",
   "metadata": {},
   "outputs": [],
   "source": []
  },
  {
   "cell_type": "markdown",
   "id": "28ea02e0",
   "metadata": {},
   "source": [
    "# Q4. Find the standard deviation for the given data:\n",
    "\n",
    "[178,177,176,177,178.2,178,175,179,180,175,178.9,176.2,177,172.5,178,176.5]\n"
   ]
  },
  {
   "cell_type": "code",
   "execution_count": 15,
   "id": "89ceb22c",
   "metadata": {},
   "outputs": [],
   "source": [
    "data2=[178,177,176,177,178.2,178,175,179,180,175,178.9,176.2,177,172.5,178,176.5]"
   ]
  },
  {
   "cell_type": "code",
   "execution_count": 18,
   "id": "33362462",
   "metadata": {},
   "outputs": [
    {
     "name": "stdout",
     "output_type": "stream",
     "text": [
      "1.7885814036548633\n"
     ]
    }
   ],
   "source": [
    "std=np.std(data2)\n",
    "print(std)"
   ]
  },
  {
   "cell_type": "code",
   "execution_count": null,
   "id": "ad222721",
   "metadata": {},
   "outputs": [],
   "source": []
  },
  {
   "cell_type": "markdown",
   "id": "d3ca2d98",
   "metadata": {},
   "source": [
    "# Q5. How are measures of dispersion such as range, variance, and standard deviation used to describe\n",
    "the spread of a dataset? Provide an example.\n"
   ]
  },
  {
   "cell_type": "markdown",
   "id": "85eddaed",
   "metadata": {},
   "source": [
    "# Measures of dispersion such as range, variance, and standard deviation are used to describe the spread or variability of a dataset"
   ]
  },
  {
   "cell_type": "markdown",
   "id": "6020bc3a",
   "metadata": {},
   "source": [
    "# Range: The range is the difference between the highest and lowest values in a dataset. It gives an idea of how spread out the data is. However, it can be heavily influenced by outliers, and does not take into account the distribution of the values within the range."
   ]
  },
  {
   "cell_type": "markdown",
   "id": "eadd5a5c",
   "metadata": {},
   "source": [
    "# Variance: The variance is a measure of how spread out the data is from the mean. It is calculated by taking the average of the squared differences between each value and the mean. A higher variance indicates that the values are more spread out, while a lower variance indicates that the values are more clustered around the mean."
   ]
  },
  {
   "cell_type": "code",
   "execution_count": 22,
   "id": "a47eaf2a",
   "metadata": {},
   "outputs": [],
   "source": [
    "# variance formula is  => cov = E (x-x)/n-1"
   ]
  },
  {
   "cell_type": "code",
   "execution_count": null,
   "id": "ab7aa498",
   "metadata": {},
   "outputs": [],
   "source": []
  },
  {
   "cell_type": "markdown",
   "id": "2d9b2285",
   "metadata": {},
   "source": [
    "# Standard deviation: The standard deviation is the square root of the variance. It is a more commonly used measure of dispersion because it has the same units as the original data, making it easier to interpret. A higher standard deviation indicates that the values are more spread out, while a lower standard deviation indicates that the values are more clustered around the mean."
   ]
  },
  {
   "cell_type": "code",
   "execution_count": null,
   "id": "471ea5d4",
   "metadata": {},
   "outputs": [],
   "source": []
  },
  {
   "cell_type": "markdown",
   "id": "e1ec6f5a",
   "metadata": {},
   "source": [
    "# Here's an example to illustrate how these measures are used:\n",
    "\n",
    "Suppose we have the following dataset of 10 numbers: 5, 7, 10, 12, 15, 18, 20, 20, 25, 30.\n",
    "\n",
    "Range: The range is 30 - 5 = 25.\n",
    "\n",
    "Variance: To calculate the variance, we first need to find the mean, which is (5 + 7 + 10 + 12 + 15 + 18 + 20 + 20 + 25 + 30) / 10 = 17.2. Then we calculate the squared differences between each value and the mean: (5 - 17.2)^2, (7 - 17.2)^2, (10 - 17.2)^2, and so on. We add up all the squared differences and divide by the total number of values minus one: (213.6) / 9 = 23.7333. So the variance is 23.7333.\n",
    "\n",
    "Standard deviation: The standard deviation is the square root of the variance: sqrt(23.7333) = 4.8723.\n",
    "\n",
    "In this example, we can see that the values in the dataset are relatively spread out, with a range of 25 and a standard deviation of 4.8723. This suggests that there is variability in the data and that it is not tightly clustered around the mean of 17.2. The variance and standard deviation can also help to identify outliers or unusual values that are far from the mean."
   ]
  },
  {
   "cell_type": "code",
   "execution_count": null,
   "id": "2d409cec",
   "metadata": {},
   "outputs": [],
   "source": []
  },
  {
   "cell_type": "markdown",
   "id": "93fa401e",
   "metadata": {},
   "source": [
    "# Q6. What is a Venn diagram?\n"
   ]
  },
  {
   "cell_type": "markdown",
   "id": "60adb33f",
   "metadata": {},
   "source": [
    "# A Venn diagram is a visual representation of the relationships between different sets of data. a"
   ]
  },
  {
   "cell_type": "code",
   "execution_count": null,
   "id": "d004bd9e",
   "metadata": {},
   "outputs": [],
   "source": []
  },
  {
   "cell_type": "markdown",
   "id": "2eda06a3",
   "metadata": {},
   "source": [
    "# Q7. For the two given sets A = (2,3,4,5,6,7) & B = (0,2,6,8,10). Find:\n",
    "\n",
    "(i) A intersection B\n",
    "\n",
    "(ii) A ⋃ B\n"
   ]
  },
  {
   "cell_type": "code",
   "execution_count": 24,
   "id": "eb6f37aa",
   "metadata": {},
   "outputs": [],
   "source": [
    "A = {2,3,4,5,6,7}\n",
    "B = {0,2,6,8,10}"
   ]
  },
  {
   "cell_type": "code",
   "execution_count": 25,
   "id": "a6a37560",
   "metadata": {},
   "outputs": [
    {
     "data": {
      "text/plain": [
       "{2, 6}"
      ]
     },
     "execution_count": 25,
     "metadata": {},
     "output_type": "execute_result"
    }
   ],
   "source": [
    "# A intersection B\n",
    "A.intersection(B)"
   ]
  },
  {
   "cell_type": "code",
   "execution_count": 26,
   "id": "fe0e6f77",
   "metadata": {},
   "outputs": [],
   "source": [
    "# A union B"
   ]
  },
  {
   "cell_type": "code",
   "execution_count": 27,
   "id": "80348efd",
   "metadata": {},
   "outputs": [
    {
     "data": {
      "text/plain": [
       "{0, 2, 3, 4, 5, 6, 7, 8, 10}"
      ]
     },
     "execution_count": 27,
     "metadata": {},
     "output_type": "execute_result"
    }
   ],
   "source": [
    "A.union(B)"
   ]
  },
  {
   "cell_type": "code",
   "execution_count": null,
   "id": "3f5de753",
   "metadata": {},
   "outputs": [],
   "source": []
  },
  {
   "cell_type": "markdown",
   "id": "c81007d5",
   "metadata": {},
   "source": [
    "# Q8. What do you understand about skewness in data?\n"
   ]
  },
  {
   "cell_type": "markdown",
   "id": "f029943f",
   "metadata": {},
   "source": [
    "# skewness used explain relationship b/w mean ,median, mode"
   ]
  },
  {
   "cell_type": "markdown",
   "id": "b22ffa42",
   "metadata": {},
   "source": [
    "# types: \n",
    "    1.No skewness\n",
    "    2.Positive skewness\n",
    "    3.Negative skewness\n",
    "    "
   ]
  },
  {
   "cell_type": "code",
   "execution_count": null,
   "id": "9dc8c253",
   "metadata": {},
   "outputs": [],
   "source": []
  },
  {
   "cell_type": "markdown",
   "id": "ed2fe268",
   "metadata": {},
   "source": [
    "# Q9. If a data is right skewed then what will be the position of median with respect to mean?\n"
   ]
  },
  {
   "cell_type": "markdown",
   "id": "5b2ecaec",
   "metadata": {},
   "source": [
    "# mean >median >mode"
   ]
  },
  {
   "cell_type": "code",
   "execution_count": null,
   "id": "ab8046e4",
   "metadata": {},
   "outputs": [],
   "source": []
  },
  {
   "cell_type": "markdown",
   "id": "147c3cbf",
   "metadata": {},
   "source": [
    "# Q10. Explain the difference between covariance and correlation. How are these measures used in\n",
    "statistical analysis?\n"
   ]
  },
  {
   "cell_type": "markdown",
   "id": "4d178d84",
   "metadata": {},
   "source": [
    "# Covariance \n",
    "             1.Used to explain about relationship b/w two or more dataset  of data"
   ]
  },
  {
   "cell_type": "markdown",
   "id": "a852edf4",
   "metadata": {},
   "source": [
    "# ex: x={1,2,3,4,5,6}\n",
    "    y={7,8,9,10,11}\n",
    "#     then x is increasing then y is also increasing \n",
    "#  If x is decreaing then y will decrease\n",
    "# is x is increasing y will decrease\n",
    "# if x is decrease  y will increase "
   ]
  },
  {
   "cell_type": "code",
   "execution_count": 33,
   "id": "a01ce9d2",
   "metadata": {},
   "outputs": [],
   "source": [
    "#  this measeures will be useful in feauture selection"
   ]
  },
  {
   "cell_type": "code",
   "execution_count": null,
   "id": "c0956af9",
   "metadata": {},
   "outputs": [],
   "source": []
  },
  {
   "cell_type": "markdown",
   "id": "1727849d",
   "metadata": {},
   "source": [
    "# Q11. What is the formula for calculating the sample mean? Provide an example calculation for a\n",
    "dataset.\n"
   ]
  },
  {
   "cell_type": "markdown",
   "id": "950cb4ab",
   "metadata": {},
   "source": [
    "# The formula for calculating the sample mean is:\n",
    "\n",
    "x̄ = Σx / n\n",
    "\n",
    "Where x̄ is the sample mean, Σx is the sum of all the values in the sample, and n is the sample size (i.e. the number of values in the sample).\n",
    "\n",
    "Here's an example calculation for a dataset:\n",
    "\n",
    "Suppose we have the following dataset of 6 values: 2, 4, 6, 8, 10, 12.\n",
    "\n",
    "To find the sample mean, we add up all the values in the dataset and divide by the number of values:\n",
    "\n",
    "x̄ = (2 + 4 + 6 + 8 + 10 + 12) / 6\n",
    "\n",
    "x̄ = 42 / 6\n",
    "\n",
    "x̄ = 7\n",
    "\n",
    "So the sample mean of this dataset is 7."
   ]
  },
  {
   "cell_type": "code",
   "execution_count": null,
   "id": "e0c3b968",
   "metadata": {},
   "outputs": [],
   "source": []
  },
  {
   "cell_type": "markdown",
   "id": "8385f5d2",
   "metadata": {},
   "source": [
    "# Q12. For a normal distribution data what is the relationship between its measure of central tendency?\n"
   ]
  },
  {
   "cell_type": "markdown",
   "id": "d965a5b8",
   "metadata": {},
   "source": [
    "# mean =median =mode"
   ]
  },
  {
   "cell_type": "code",
   "execution_count": null,
   "id": "607ba46d",
   "metadata": {},
   "outputs": [],
   "source": []
  },
  {
   "cell_type": "markdown",
   "id": "414733f0",
   "metadata": {},
   "source": [
    "# Q13. How is covariance different from correlation?\n"
   ]
  },
  {
   "cell_type": "markdown",
   "id": "5f0296cc",
   "metadata": {},
   "source": [
    "# covarince used to give any no.of value by that we cant mention this value of coriance has higher corelated with other covarince data"
   ]
  },
  {
   "cell_type": "markdown",
   "id": "418ee967",
   "metadata": {},
   "source": [
    "# But corelation value within -1 to 1 ,so we can mention this set of datasets are more corelated with other set of datas"
   ]
  },
  {
   "cell_type": "code",
   "execution_count": null,
   "id": "1b17799a",
   "metadata": {},
   "outputs": [],
   "source": []
  },
  {
   "cell_type": "markdown",
   "id": "f5dd517a",
   "metadata": {},
   "source": [
    "# Q14. How do outliers affect measures of central tendency and dispersion? Provide an example."
   ]
  },
  {
   "cell_type": "markdown",
   "id": "db35db0d",
   "metadata": {},
   "source": [
    "# Outliers can significantly affect both measures of central tendency and measures of dispersion. An outlier is an extreme value that is significantly higher or lower than most other values in a dataset. Outliers can be the result of measurement errors, data entry errors, or they can represent genuine extreme values.\n",
    "\n",
    "In terms of measures of central tendency, outliers can have a significant impact on the mean. If a dataset contains one or more outliers, the mean can be skewed towards the outlier values, making it an inaccurate measure of the \"average\" value in the dataset. The median, on the other hand, is less affected by outliers since it is only based on the middle value in the dataset. The mode is also relatively unaffected since it is based on the most common value in the dataset.\n",
    "\n",
    "In terms of measures of dispersion, outliers can affect the range, variance, and standard deviation. The range is particularly sensitive to outliers since it is based on the difference between the highest and lowest values in the dataset. If there is an outlier that is significantly higher or lower than all other values, the range will be much larger than it would be without the outlier. The variance and standard deviation are also affected by outliers since they are both based on the deviation of each value from the mean. If there are outliers that are far from the mean, the variance and standard deviation will be higher than they would be without the outliers.\n",
    "\n",
    "Here's an example:\n",
    "\n",
    "Suppose we have the following dataset of 10 values representing the ages of a group of people: 21, 22, 23, 25, 26, 27, 28, 29, 30, 120.\n",
    "\n",
    "The mean of this dataset is (21+22+23+25+26+27+28+29+30+120) / 10 = 33.1, which is significantly higher than most of the values in the dataset. This is because the outlier value of 120 is pulling the mean towards it.\n",
    "\n",
    "The median of this dataset is 26.5, which is not affected by the outlier since it is based on the middle value in the dataset.\n",
    "\n",
    "The range of this dataset is 99 (120 - 21), which is heavily influenced by the outlier value of 120.\n",
    "\n",
    "The variance and standard deviation of this dataset are also heavily influenced by the outlier value of 120, resulting in much higher values than they would be without the outlier."
   ]
  },
  {
   "cell_type": "code",
   "execution_count": null,
   "id": "294aa8d8",
   "metadata": {},
   "outputs": [],
   "source": []
  },
  {
   "cell_type": "code",
   "execution_count": null,
   "id": "5eba2557",
   "metadata": {},
   "outputs": [],
   "source": []
  },
  {
   "cell_type": "code",
   "execution_count": null,
   "id": "5c7a91e4",
   "metadata": {},
   "outputs": [],
   "source": []
  },
  {
   "cell_type": "code",
   "execution_count": null,
   "id": "94c3c8e0",
   "metadata": {},
   "outputs": [],
   "source": []
  },
  {
   "cell_type": "code",
   "execution_count": null,
   "id": "b25592f3",
   "metadata": {},
   "outputs": [],
   "source": []
  },
  {
   "cell_type": "code",
   "execution_count": null,
   "id": "960da9ae",
   "metadata": {},
   "outputs": [],
   "source": []
  },
  {
   "cell_type": "code",
   "execution_count": null,
   "id": "47b736e9",
   "metadata": {},
   "outputs": [],
   "source": []
  }
 ],
 "metadata": {
  "kernelspec": {
   "display_name": "Python 3 (ipykernel)",
   "language": "python",
   "name": "python3"
  },
  "language_info": {
   "codemirror_mode": {
    "name": "ipython",
    "version": 3
   },
   "file_extension": ".py",
   "mimetype": "text/x-python",
   "name": "python",
   "nbconvert_exporter": "python",
   "pygments_lexer": "ipython3",
   "version": "3.10.9"
  }
 },
 "nbformat": 4,
 "nbformat_minor": 5
}
