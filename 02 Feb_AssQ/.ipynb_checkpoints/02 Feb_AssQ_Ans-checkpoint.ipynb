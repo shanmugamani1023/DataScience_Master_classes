{
 "cells": [
  {
   "cell_type": "markdown",
   "id": "5796add9",
   "metadata": {},
   "source": [
    "# Q1.what are the characteristics of the tuples? Is tuple immutable?"
   ]
  },
  {
   "cell_type": "raw",
   "id": "b6d94a66",
   "metadata": {},
   "source": [
    ".syntax : \n",
    "   tuple_value=(1,2,3,4,5)\n",
    "3.it is ordered\n",
    "4.it supports indexing\n",
    "5.it allows duplicates\n",
    "6.it is immutable\n",
    "7.Yes,it is immutable\n"
   ]
  },
  {
   "cell_type": "code",
   "execution_count": null,
   "id": "9ddbe7d4",
   "metadata": {},
   "outputs": [],
   "source": []
  },
  {
   "cell_type": "markdown",
   "id": "47e1be86",
   "metadata": {},
   "source": [
    "# Q2. What are the two tuple methods in python? Give an example of each method. Give a reason why tuples have only two in-built methods as compared to Lists."
   ]
  },
  {
   "cell_type": "raw",
   "id": "317eac68",
   "metadata": {},
   "source": [
    "In Python, tuples are immutables. Meaning, you cannot change items of a tuple once it is assigned."
   ]
  },
  {
   "cell_type": "code",
   "execution_count": 7,
   "id": "eba017ae",
   "metadata": {},
   "outputs": [
    {
     "name": "stdout",
     "output_type": "stream",
     "text": [
      "(1, 2, 3, 4, 5)\n"
     ]
    }
   ],
   "source": [
    "# example\n",
    "tuple_value=(1,2,3,4,5)\n",
    "print(tuple_value)\n",
    "\n",
    "# tuple has only 2 methods count() and index()\n",
    "# Because it is immutable so,we cant update any values into it .\n",
    "# tuple_value.count()\n",
    "# tuple_value.index()\n"
   ]
  },
  {
   "cell_type": "code",
   "execution_count": null,
   "id": "1e3368e4",
   "metadata": {},
   "outputs": [],
   "source": []
  },
  {
   "cell_type": "markdown",
   "id": "c944b613",
   "metadata": {},
   "source": [
    "# Q3. Which collection datatypes in python do not allow duplicate items? Write a code using a set to remove\n",
    "duplicates from the given list.\n",
    "\n",
    "\n",
    "List = [1, 1, 1, 2, 1, 3, 1, 4, 2, 1, 2, 2, 2, 3, 2, 4, 3, 1, 3, 2, 3, 3, 3, 4, 4, 1, 4, 2, 4, 3, 4, 4]"
   ]
  },
  {
   "cell_type": "raw",
   "id": "39b01717",
   "metadata": {},
   "source": [
    "# sets not allow duplicates "
   ]
  },
  {
   "cell_type": "code",
   "execution_count": 9,
   "id": "d7180ab5",
   "metadata": {},
   "outputs": [
    {
     "data": {
      "text/plain": [
       "{1, 2, 3, 4}"
      ]
     },
     "execution_count": 9,
     "metadata": {},
     "output_type": "execute_result"
    }
   ],
   "source": [
    "List = [1, 1, 1, 2, 1, 3, 1, 4, 2, 1, 2, 2, 2, 3, 2, 4, 3, 1, 3, 2, 3, 3, 3, 4, 4, 1, 4, 2, 4, 3, 4, 4]\n",
    "set(List)"
   ]
  },
  {
   "cell_type": "code",
   "execution_count": null,
   "id": "3facc26e",
   "metadata": {},
   "outputs": [],
   "source": []
  },
  {
   "cell_type": "markdown",
   "id": "3193e9af",
   "metadata": {},
   "source": [
    "# Q4. Explain the difference between the union() and update() methods for a set. Give an example of each method."
   ]
  },
  {
   "cell_type": "raw",
   "id": "ccf66c1b",
   "metadata": {},
   "source": [
    "original_set={1,2,3,4}\n",
    "\n",
    "specified_set={1,2,3,4}\n",
    "\n",
    "\n",
    "1.update -update the specified set value into a original set  but doesnt return any new set\n",
    "\n",
    "2.union-it combines original set with specified sets and return new set,but it doesnt update value to original set"
   ]
  },
  {
   "cell_type": "code",
   "execution_count": 28,
   "id": "39ffdf8a",
   "metadata": {},
   "outputs": [
    {
     "data": {
      "text/plain": [
       "{1, 2, 3, 4, 5, 6, 7, 8, 9, 10, 11, 12}"
      ]
     },
     "execution_count": 28,
     "metadata": {},
     "output_type": "execute_result"
    }
   ],
   "source": [
    "# examples:\n",
    "\n",
    "set_1={1,2,3,4,5,6}\n",
    "set_2={7,8,9,10,11,12}\n",
    "set_1.update(set_2)\n",
    "set_1"
   ]
  },
  {
   "cell_type": "code",
   "execution_count": null,
   "id": "aa73a70d",
   "metadata": {},
   "outputs": [],
   "source": []
  },
  {
   "cell_type": "code",
   "execution_count": 31,
   "id": "3bf409ee",
   "metadata": {},
   "outputs": [
    {
     "data": {
      "text/plain": [
       "{1, 2, 3, 4, 5, 6, 7, 8, 9, 10, 11, 12}"
      ]
     },
     "execution_count": 31,
     "metadata": {},
     "output_type": "execute_result"
    }
   ],
   "source": [
    "set_3={13,14,15,16}\n",
    "set_=set_1.union(set_3)\n",
    "set_1"
   ]
  },
  {
   "cell_type": "code",
   "execution_count": 30,
   "id": "9f682ec8",
   "metadata": {},
   "outputs": [
    {
     "data": {
      "text/plain": [
       "{1, 2, 3, 4, 5, 6, 7, 8, 9, 10, 11, 12, 13, 14, 15, 16}"
      ]
     },
     "execution_count": 30,
     "metadata": {},
     "output_type": "execute_result"
    }
   ],
   "source": [
    "set_\n"
   ]
  },
  {
   "cell_type": "code",
   "execution_count": null,
   "id": "6a70a4f0",
   "metadata": {},
   "outputs": [],
   "source": []
  },
  {
   "cell_type": "markdown",
   "id": "39aead5a",
   "metadata": {},
   "source": [
    "# Q5. What is a dictionary? Give an example. Also, state whether a dictionary is ordered or unordered."
   ]
  },
  {
   "cell_type": "raw",
   "id": "8b3f9184",
   "metadata": {},
   "source": [
    "1.dictionary used to store multiple values with key and value manner\n",
    "2.example:\n",
    "  dict_value={\"key1\":\"value1\",\"key2\":\"value2}\n",
    "3.  \n",
    "  "
   ]
  },
  {
   "cell_type": "code",
   "execution_count": null,
   "id": "029fff7e",
   "metadata": {},
   "outputs": [],
   "source": []
  },
  {
   "cell_type": "code",
   "execution_count": null,
   "id": "84815dcb",
   "metadata": {},
   "outputs": [],
   "source": []
  },
  {
   "cell_type": "code",
   "execution_count": null,
   "id": "7677c48c",
   "metadata": {},
   "outputs": [],
   "source": []
  },
  {
   "cell_type": "code",
   "execution_count": null,
   "id": "12149e30",
   "metadata": {},
   "outputs": [],
   "source": []
  },
  {
   "cell_type": "code",
   "execution_count": null,
   "id": "a7b9699b",
   "metadata": {},
   "outputs": [],
   "source": []
  },
  {
   "cell_type": "code",
   "execution_count": null,
   "id": "30e991cb",
   "metadata": {},
   "outputs": [],
   "source": []
  },
  {
   "cell_type": "code",
   "execution_count": null,
   "id": "0f1112f2",
   "metadata": {},
   "outputs": [],
   "source": []
  },
  {
   "cell_type": "code",
   "execution_count": null,
   "id": "50956ad3",
   "metadata": {},
   "outputs": [],
   "source": []
  },
  {
   "cell_type": "code",
   "execution_count": null,
   "id": "1e3cf36d",
   "metadata": {},
   "outputs": [],
   "source": []
  },
  {
   "cell_type": "code",
   "execution_count": null,
   "id": "0b12a772",
   "metadata": {},
   "outputs": [],
   "source": []
  },
  {
   "cell_type": "code",
   "execution_count": null,
   "id": "0dd5e677",
   "metadata": {},
   "outputs": [],
   "source": []
  },
  {
   "cell_type": "code",
   "execution_count": null,
   "id": "3c154e58",
   "metadata": {},
   "outputs": [],
   "source": []
  },
  {
   "cell_type": "code",
   "execution_count": null,
   "id": "0b1d9e0a",
   "metadata": {},
   "outputs": [],
   "source": []
  }
 ],
 "metadata": {
  "kernelspec": {
   "display_name": "Python 3 (ipykernel)",
   "language": "python",
   "name": "python3"
  },
  "language_info": {
   "codemirror_mode": {
    "name": "ipython",
    "version": 3
   },
   "file_extension": ".py",
   "mimetype": "text/x-python",
   "name": "python",
   "nbconvert_exporter": "python",
   "pygments_lexer": "ipython3",
   "version": "3.9.13"
  }
 },
 "nbformat": 4,
 "nbformat_minor": 5
}
