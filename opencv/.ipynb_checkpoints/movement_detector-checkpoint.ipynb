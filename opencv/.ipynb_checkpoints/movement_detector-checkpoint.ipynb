{
 "cells": [
  {
   "cell_type": "code",
   "execution_count": 2,
   "id": "7c84c5f9",
   "metadata": {},
   "outputs": [],
   "source": [
    "import numpy as np\n",
    "import cv2"
   ]
  },
  {
   "cell_type": "code",
   "execution_count": 64,
   "id": "f26bba3b",
   "metadata": {},
   "outputs": [
    {
     "name": "stderr",
     "output_type": "stream",
     "text": [
      "[ WARN:0@1267.896] global cap_v4l.cpp:982 open VIDEOIO(V4L2:/dev/video1): can't open camera by index\n",
      "[ERROR:0@1267.897] global obsensor_uvc_stream_channel.cpp:156 getStreamChannelGroup Camera index out of range\n"
     ]
    },
    {
     "ename": "error",
     "evalue": "OpenCV(4.7.0) /io/opencv/modules/imgproc/src/color.cpp:182: error: (-215:Assertion failed) !_src.empty() in function 'cvtColor'\n",
     "output_type": "error",
     "traceback": [
      "\u001b[0;31m---------------------------------------------------------------------------\u001b[0m",
      "\u001b[0;31merror\u001b[0m                                     Traceback (most recent call last)",
      "Cell \u001b[0;32mIn[64], line 7\u001b[0m\n\u001b[1;32m      5\u001b[0m \u001b[38;5;28;01mwhile\u001b[39;00m \u001b[38;5;28;01mTrue\u001b[39;00m:\n\u001b[1;32m      6\u001b[0m     ret1,frame1\u001b[38;5;241m=\u001b[39mcap\u001b[38;5;241m.\u001b[39mread()\n\u001b[0;32m----> 7\u001b[0m     gray1\u001b[38;5;241m=\u001b[39m\u001b[43mcv2\u001b[49m\u001b[38;5;241;43m.\u001b[39;49m\u001b[43mcvtColor\u001b[49m\u001b[43m(\u001b[49m\u001b[43mframe1\u001b[49m\u001b[43m,\u001b[49m\u001b[43mcv2\u001b[49m\u001b[38;5;241;43m.\u001b[39;49m\u001b[43mCOLOR_BGR2GRAY\u001b[49m\u001b[43m)\u001b[49m\n\u001b[1;32m      9\u001b[0m     blur1\u001b[38;5;241m=\u001b[39mcv2\u001b[38;5;241m.\u001b[39mGaussianBlur(gray1,(\u001b[38;5;241m11\u001b[39m,\u001b[38;5;241m11\u001b[39m),\u001b[38;5;241m0\u001b[39m)\n\u001b[1;32m     11\u001b[0m     thresh1\u001b[38;5;241m=\u001b[39mcv2\u001b[38;5;241m.\u001b[39mthreshold(blur1,\u001b[38;5;241m150\u001b[39m,\u001b[38;5;241m255\u001b[39m,cv2\u001b[38;5;241m.\u001b[39mTHRESH_BINARY_INV)\n",
      "\u001b[0;31merror\u001b[0m: OpenCV(4.7.0) /io/opencv/modules/imgproc/src/color.cpp:182: error: (-215:Assertion failed) !_src.empty() in function 'cvtColor'\n"
     ]
    }
   ],
   "source": [
    "cap=cv2.VideoCapture(1)\n",
    "ret2,frame2=cap.read()\n",
    "\n",
    "\n",
    "while True:\n",
    "    ret1,frame1=cap.read()\n",
    "    gray1=cv2.cvtColor(frame1,cv2.COLOR_BGR2GRAY)\n",
    "    \n",
    "    blur1=cv2.GaussianBlur(gray1,(11,11),0)\n",
    "    \n",
    "    thresh1=cv2.threshold(blur1,150,255,cv2.THRESH_BINARY_INV)\n",
    "    white_pixels=np.sum(thresh1)/255\n",
    "    \n",
    "      \n",
    "    cv2.imshow(\"frame1\",thresh1[1])\n",
    "    key=cv2.waitKey(10)\n",
    "    if key==ord(\"q\"):\n",
    "        break\n",
    "cv2.destroyAllWindows()\n",
    "\n",
    "    \n",
    "    "
   ]
  },
  {
   "cell_type": "code",
   "execution_count": null,
   "id": "300bcc8b",
   "metadata": {},
   "outputs": [],
   "source": []
  }
 ],
 "metadata": {
  "kernelspec": {
   "display_name": "Python 3 (ipykernel)",
   "language": "python",
   "name": "python3"
  },
  "language_info": {
   "codemirror_mode": {
    "name": "ipython",
    "version": 3
   },
   "file_extension": ".py",
   "mimetype": "text/x-python",
   "name": "python",
   "nbconvert_exporter": "python",
   "pygments_lexer": "ipython3",
   "version": "3.10.9"
  }
 },
 "nbformat": 4,
 "nbformat_minor": 5
}
