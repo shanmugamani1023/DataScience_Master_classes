{
 "cells": [
  {
   "cell_type": "markdown",
   "id": "b0d733fc",
   "metadata": {},
   "source": [
    "# Q1. What is a database? Differentiate between SQL and NoSQL databases."
   ]
  },
  {
   "cell_type": "markdown",
   "id": "ff2267ef",
   "metadata": {},
   "source": [
    "# Database used to store the data's"
   ]
  },
  {
   "cell_type": "markdown",
   "id": "475de6db",
   "metadata": {},
   "source": [
    "## SQL- structured query language -used to store data in structured way  ex.mysql,mssql,db2,sqllite"
   ]
  },
  {
   "cell_type": "markdown",
   "id": "aa190f6a",
   "metadata": {},
   "source": [
    "## NOsql -Not only sql,-used to store data in non strtured way -ex.Mongodb,Cassandra"
   ]
  },
  {
   "cell_type": "code",
   "execution_count": null,
   "id": "97238e47",
   "metadata": {},
   "outputs": [],
   "source": []
  },
  {
   "cell_type": "markdown",
   "id": "bdf5bb3e",
   "metadata": {},
   "source": [
    "# Q2. What is DDL? Explain why CREATE, DROP, ALTER, and TRUNCATE are used with an example."
   ]
  },
  {
   "cell_type": "markdown",
   "id": "36bb0756",
   "metadata": {},
   "source": [
    "# DDL - data definition language ,used to define database operations like\n",
    "ex. create database database_name\n",
    "\n",
    "   drop database database_name\n",
    "   \n",
    "   alter table table_name modify colname new_colname datatype(length) constraints\n",
    "   \n",
    "   truncate database database_name -used to delete all data but not its struture"
   ]
  },
  {
   "cell_type": "code",
   "execution_count": null,
   "id": "0656a26c",
   "metadata": {},
   "outputs": [],
   "source": []
  },
  {
   "cell_type": "markdown",
   "id": "1d22fe30",
   "metadata": {},
   "source": [
    "# Q3. What is DML? Explain INSERT, UPDATE, and DELETE with an example."
   ]
  },
  {
   "cell_type": "markdown",
   "id": "20fc601e",
   "metadata": {},
   "source": [
    "# Dml -data manipulation language \n",
    "# insert data -insert into table  table_name(colname1,colname2) values(value1,value2)\n",
    "# update data -update table set colname=colvalue where id=1\n",
    "# delete data -delete from table_name where id=2"
   ]
  },
  {
   "cell_type": "code",
   "execution_count": null,
   "id": "72b7a290",
   "metadata": {},
   "outputs": [],
   "source": []
  },
  {
   "cell_type": "code",
   "execution_count": null,
   "id": "da67e188",
   "metadata": {},
   "outputs": [],
   "source": []
  },
  {
   "cell_type": "code",
   "execution_count": null,
   "id": "c8ad1542",
   "metadata": {},
   "outputs": [],
   "source": []
  },
  {
   "cell_type": "markdown",
   "id": "8c73d6ae",
   "metadata": {},
   "source": [
    "# Q4. What is DQL? Explain SELECT with an example."
   ]
  },
  {
   "cell_type": "markdown",
   "id": "fc6220ce",
   "metadata": {},
   "source": [
    "# Data Query Language. -used to select valules from table"
   ]
  },
  {
   "cell_type": "markdown",
   "id": "21352dad",
   "metadata": {},
   "source": [
    "# select * from table_name  -used to select all values from table"
   ]
  },
  {
   "cell_type": "code",
   "execution_count": null,
   "id": "5ac4611a",
   "metadata": {},
   "outputs": [],
   "source": []
  },
  {
   "cell_type": "markdown",
   "id": "a87dc940",
   "metadata": {},
   "source": [
    "# Q5. Explain Primary Key and Foreign Key."
   ]
  },
  {
   "cell_type": "markdown",
   "id": "76469f95",
   "metadata": {},
   "source": [
    "# primary key -allow only unique and not null values"
   ]
  },
  {
   "cell_type": "markdown",
   "id": "cd163b31",
   "metadata": {},
   "source": [
    "# foreign key - used to make connection with primary key column"
   ]
  },
  {
   "cell_type": "code",
   "execution_count": null,
   "id": "c192e52d",
   "metadata": {},
   "outputs": [],
   "source": []
  },
  {
   "cell_type": "markdown",
   "id": "11be8aa7",
   "metadata": {},
   "source": [
    "# Q6. Write a python code to connect MySQL to python. Explain the cursor() and execute() method."
   ]
  },
  {
   "cell_type": "code",
   "execution_count": null,
   "id": "5e89edf9",
   "metadata": {},
   "outputs": [],
   "source": [
    "import mysql.connector"
   ]
  },
  {
   "cell_type": "code",
   "execution_count": null,
   "id": "9c53ba4a",
   "metadata": {},
   "outputs": [],
   "source": [
    "mydb = mysql.connector.connect(\n",
    "  host=\"localhost\",\n",
    "  user=\"yourusername\",\n",
    "  password=\"yourpassword\"\n",
    ")\n",
    "\n",
    "mycursor = mydb.cursor()\n",
    "\n",
    "mycursor.execute(\"CREATE DATABASE mydatabase\")"
   ]
  },
  {
   "cell_type": "markdown",
   "id": "ede9057c",
   "metadata": {},
   "source": [
    "# Q7. Give the order of execution of SQL clauses in an SQL query."
   ]
  },
  {
   "cell_type": "markdown",
   "id": "fb4d914e",
   "metadata": {},
   "source": [
    "# SQL query execution order means optimizing our search results from the database or where the query clauses are evaluated according to the requirements.\n",
    "\n",
    "Like how we plan something step by step and reach the final result, similarly, we use clauses in a particular order known as the SQL query execution order. Here is the table that shows the order in which the clauses are used."
   ]
  },
  {
   "cell_type": "markdown",
   "id": "f59f1d4d",
   "metadata": {},
   "source": [
    "# Order\tClause\tFunction\n",
    "           1\tFROM\tTables are joined to get the base data.\n",
    "           2\tWHERE\tThe base data is filtered.\n",
    "           3\tGROUP BY\tThe filtered base data is grouped.\n",
    "           4\tHAVING\tThe grouped base data is filtered.\n",
    "           5\tSELECT\tThe final data is returned.\n",
    "           6\tORDER BY\tThe final data is sorted.\n",
    "           7\tLIMIT\tThe returned data is limited to row count.\n",
    "Let us assume the following two tables: Customers and Orders."
   ]
  },
  {
   "cell_type": "code",
   "execution_count": null,
   "id": "48fcfe69",
   "metadata": {},
   "outputs": [],
   "source": []
  },
  {
   "cell_type": "code",
   "execution_count": null,
   "id": "cd3ce4fd",
   "metadata": {},
   "outputs": [],
   "source": []
  },
  {
   "cell_type": "code",
   "execution_count": null,
   "id": "51bc7598",
   "metadata": {},
   "outputs": [],
   "source": []
  },
  {
   "cell_type": "code",
   "execution_count": null,
   "id": "d77f6f7a",
   "metadata": {},
   "outputs": [],
   "source": []
  }
 ],
 "metadata": {
  "kernelspec": {
   "display_name": "Python 3 (ipykernel)",
   "language": "python",
   "name": "python3"
  },
  "language_info": {
   "codemirror_mode": {
    "name": "ipython",
    "version": 3
   },
   "file_extension": ".py",
   "mimetype": "text/x-python",
   "name": "python",
   "nbconvert_exporter": "python",
   "pygments_lexer": "ipython3",
   "version": "3.9.13"
  }
 },
 "nbformat": 4,
 "nbformat_minor": 5
}
