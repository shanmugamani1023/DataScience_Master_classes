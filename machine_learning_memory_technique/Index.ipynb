{
 "cells": [
  {
   "cell_type": "markdown",
   "id": "5dcdef2d",
   "metadata": {},
   "source": [
    "# what is DS,AI,ML,DL"
   ]
  },
  {
   "cell_type": "markdown",
   "id": "2c369838",
   "metadata": {},
   "source": [
    "# Introduction On machine learning"
   ]
  },
  {
   "cell_type": "markdown",
   "id": "6d587f1e",
   "metadata": {},
   "source": [
    "what is machine learning"
   ]
  },
  {
   "cell_type": "markdown",
   "id": "5953d085",
   "metadata": {},
   "source": [
    "Types of machine learning(4)"
   ]
  },
  {
   "cell_type": "markdown",
   "id": "72c144d4",
   "metadata": {},
   "source": [
    "# DataSet Types"
   ]
  },
  {
   "cell_type": "markdown",
   "id": "195b426d",
   "metadata": {},
   "source": [
    "# Diff b/w Test,Train,Validation"
   ]
  },
  {
   "cell_type": "code",
   "execution_count": null,
   "id": "4ee8c574",
   "metadata": {},
   "outputs": [],
   "source": []
  },
  {
   "cell_type": "markdown",
   "id": "7392d44d",
   "metadata": {},
   "source": [
    "# Overfit(low bias,high variance)"
   ]
  },
  {
   "cell_type": "markdown",
   "id": "e751fd71",
   "metadata": {},
   "source": [
    "# underfit(high bias,high variance)"
   ]
  },
  {
   "cell_type": "markdown",
   "id": "5cc9c2c1",
   "metadata": {},
   "source": [
    "# bias-the frequency of model to make systemetic errors"
   ]
  },
  {
   "cell_type": "markdown",
   "id": "61209dc4",
   "metadata": {},
   "source": [
    "# variance-frequency of model to make  random errors"
   ]
  },
  {
   "cell_type": "code",
   "execution_count": null,
   "id": "f7d5f5b3",
   "metadata": {},
   "outputs": [],
   "source": []
  },
  {
   "cell_type": "markdown",
   "id": "f2a977db",
   "metadata": {},
   "source": [
    "# Feature engineering"
   ]
  },
  {
   "cell_type": "markdown",
   "id": "edb5b8eb",
   "metadata": {},
   "source": [
    "# Missing values mechanism\n",
    "    1.MCAR(missing completly at random)\n",
    "    2.MCNAR(missing completly not a random)\n",
    "    3.MAR(missing at random)"
   ]
  },
  {
   "cell_type": "markdown",
   "id": "8f80e963",
   "metadata": {},
   "source": [
    "# Imputation Techniques:"
   ]
  },
  {
   "cell_type": "markdown",
   "id": "db290c9c",
   "metadata": {},
   "source": [
    "# 1.Mean level\n",
    "# 2.median level\n",
    "# 3.model level\n",
    "# 4.Random "
   ]
  },
  {
   "cell_type": "code",
   "execution_count": null,
   "id": "4ea9dff2",
   "metadata": {},
   "outputs": [],
   "source": []
  },
  {
   "cell_type": "markdown",
   "id": "62afa882",
   "metadata": {},
   "source": [
    "# Handling Imbalanced Dataset"
   ]
  },
  {
   "cell_type": "markdown",
   "id": "8a8e073b",
   "metadata": {},
   "source": [
    "# ratio of one catagroical value is too much more than other other catagory at the time we should handle that."
   ]
  },
  {
   "cell_type": "markdown",
   "id": "3c5418d3",
   "metadata": {},
   "source": [
    "# 1.upscaling"
   ]
  },
  {
   "cell_type": "markdown",
   "id": "8c5e4638",
   "metadata": {},
   "source": [
    "# 2.Down scaling"
   ]
  }
 ],
 "metadata": {
  "kernelspec": {
   "display_name": "Python 3 (ipykernel)",
   "language": "python",
   "name": "python3"
  },
  "language_info": {
   "codemirror_mode": {
    "name": "ipython",
    "version": 3
   },
   "file_extension": ".py",
   "mimetype": "text/x-python",
   "name": "python",
   "nbconvert_exporter": "python",
   "pygments_lexer": "ipython3",
   "version": "3.10.9"
  }
 },
 "nbformat": 4,
 "nbformat_minor": 5
}
