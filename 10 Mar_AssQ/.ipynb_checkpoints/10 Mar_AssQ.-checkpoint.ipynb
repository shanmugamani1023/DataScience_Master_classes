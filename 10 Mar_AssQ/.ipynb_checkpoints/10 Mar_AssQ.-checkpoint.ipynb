{
 "cells": [
  {
   "cell_type": "markdown",
   "id": "1ac55a8d",
   "metadata": {},
   "source": [
    "# Q1: What is Estimation Statistics? Explain point estimate and interval estimate."
   ]
  },
  {
   "cell_type": "markdown",
   "id": "c71e86fb",
   "metadata": {},
   "source": [
    "# Estimation statistics is a branch of statistics that deals with the process of estimating a population parameter based on a sample statistic."
   ]
  },
  {
   "cell_type": "markdown",
   "id": "671b7dad",
   "metadata": {},
   "source": [
    "# point estimate is sible value used to explain estimate value of population parameter"
   ]
  },
  {
   "cell_type": "markdown",
   "id": "348174f2",
   "metadata": {},
   "source": [
    "# Interval estimate, on the other hand, provides a range of values that is likely to contain the true population parameter."
   ]
  },
  {
   "cell_type": "code",
   "execution_count": null,
   "id": "5683108f",
   "metadata": {},
   "outputs": [],
   "source": []
  },
  {
   "cell_type": "markdown",
   "id": "05a577c8",
   "metadata": {},
   "source": [
    "# Q2. Write a Python function to estimate the population mean using a sample mean and standard\n",
    "deviation."
   ]
  },
  {
   "cell_type": "code",
   "execution_count": 2,
   "id": "dd90a9ef",
   "metadata": {},
   "outputs": [],
   "source": [
    "import math\n",
    "def estimate_population_mean(sample_mean,sample_std,sample_size):\n",
    "      \n",
    "    std_error=sample_std/math.sqrt(sample_size)\n",
    "    lower_bound=sample_mean-(1.96*(std_error))\n",
    "    upper_bound=sample_mean+(1.96*(std_error))\n",
    "    return(lower_bound,upper_bound)\n",
    "    \n"
   ]
  },
  {
   "cell_type": "code",
   "execution_count": null,
   "id": "6d0fbd68",
   "metadata": {},
   "outputs": [],
   "source": []
  },
  {
   "cell_type": "markdown",
   "id": "28da0d9b",
   "metadata": {},
   "source": [
    "# Q3: What is Hypothesis testing? Why is it used? State the importance of Hypothesis testing."
   ]
  },
  {
   "cell_type": "markdown",
   "id": "18d23480",
   "metadata": {},
   "source": [
    "# hypothesis testing used in inferetial stats,used to make a solution for population by sample ,"
   ]
  },
  {
   "cell_type": "markdown",
   "id": "eb35b357",
   "metadata": {},
   "source": [
    "# The importance of hypothesis testing lies in its ability to help researchers draw valid conclusions from sample data. By systematically evaluating the evidence against the null hypothesis, researchers can determine whether the observed results are likely to have occurred by chance alone. This allows them to make informed decisions, develop theories, and test hypotheses with greater confidence."
   ]
  },
  {
   "cell_type": "code",
   "execution_count": null,
   "id": "4a35f03b",
   "metadata": {},
   "outputs": [],
   "source": []
  },
  {
   "cell_type": "markdown",
   "id": "4f3c6b9f",
   "metadata": {},
   "source": [
    "# Q4. Create a hypothesis that states whether the average weight of male college students is greater than\n",
    "the average weight of female college students."
   ]
  },
  {
   "cell_type": "markdown",
   "id": "c13c89d6",
   "metadata": {},
   "source": [
    "# The hypothesis to test whether the average weight of male college students is greater than the average weight of female college students can be stated as follows:\n",
    "\n",
    "Null hypothesis: The average weight of male college students is equal to or less than the average weight of female college students.\n",
    "Alternative hypothesis: The average weight of male college students is greater than the average weight of female college students.\n",
    "\n",
    "Symbolically, this can be represented as:\n",
    "\n",
    "H0: μ_male <= μ_female\n",
    "Ha: μ_male > μ_female\n",
    "\n",
    "where H0 is the null hypothesis, Ha is the alternative hypothesis, μ_male is the population mean weight of male college students, and μ_female is the population mean weight of female college students.\n",
    "\n",
    "To test this hypothesis, we would need to collect data on the weights of male and female college students and use statistical methods to determine whether the sample data provides evidence to support the alternative hypothesis or not."
   ]
  },
  {
   "cell_type": "code",
   "execution_count": null,
   "id": "a689cc85",
   "metadata": {},
   "outputs": [],
   "source": []
  },
  {
   "cell_type": "markdown",
   "id": "b1fb8c00",
   "metadata": {},
   "source": [
    "# Q5. Write a Python script to conduct a hypothesis test on the difference between two population means,\n",
    "given a sample from each population."
   ]
  },
  {
   "cell_type": "code",
   "execution_count": 15,
   "id": "67537c14",
   "metadata": {},
   "outputs": [
    {
     "name": "stdout",
     "output_type": "stream",
     "text": [
      "T-statistic: -4.434891868397717\n",
      "p value: 2.2247244360078056e-05\n"
     ]
    }
   ],
   "source": [
    "import numpy as np\n",
    "from scipy import stats\n",
    "\n",
    "# Generate two random samples with different means and variances\n",
    "sample1 = np.random.normal(10, 2, 50)\n",
    "sample2 = np.random.normal(12, 3, 60)\n",
    "\n",
    "# Conduct the t-test using scipy\n",
    "results = stats.ttest_ind(sample1, sample2)\n",
    "# stats.ttest_ind()\n",
    "# Print the t-statistic, degrees of freedom, and p-value\n",
    "print(\"T-statistic:\", results[0])\n",
    "print(\"p value:\", results[1])"
   ]
  },
  {
   "cell_type": "code",
   "execution_count": null,
   "id": "cbaa7a05",
   "metadata": {},
   "outputs": [],
   "source": []
  },
  {
   "cell_type": "markdown",
   "id": "dd89d527",
   "metadata": {},
   "source": [
    "# Q6: What is a null and alternative hypothesis? Give some examples."
   ]
  },
  {
   "cell_type": "markdown",
   "id": "c94510ae",
   "metadata": {},
   "source": [
    "# null hypothesis (h0) -describes about population theory\n",
    "alternative hypothesis(h1)-opposite to null hypothesis \n",
    "example:\n",
    "    \n",
    "    question:the avg mean height of school students is 160cm,std=10 ,one doctor the 10 student sample avg height,\n",
    "    calculate its seem like not equal to overall students mean,so we should find its equal or not.\n",
    "    \n",
    "    h0: population mean=160\n",
    "    h1:population mean!=160\n",
    "    \n",
    "    "
   ]
  },
  {
   "cell_type": "code",
   "execution_count": null,
   "id": "1249a200",
   "metadata": {},
   "outputs": [],
   "source": []
  },
  {
   "cell_type": "markdown",
   "id": "d9669be8",
   "metadata": {},
   "source": [
    "# Q7: Write down the steps involved in hypothesis testing."
   ]
  },
  {
   "cell_type": "markdown",
   "id": "d3bc4635",
   "metadata": {},
   "source": [
    "# steps:\n",
    "    1.define null hypothesis\n",
    "    2.define alternate hypothesis\n",
    "    3.create decision boundary\n",
    "    4.results"
   ]
  },
  {
   "cell_type": "code",
   "execution_count": null,
   "id": "e8535a37",
   "metadata": {},
   "outputs": [],
   "source": []
  },
  {
   "cell_type": "markdown",
   "id": "607f9cda",
   "metadata": {},
   "source": [
    "# Q8. Define p-value and explain its significance in hypothesis testing."
   ]
  },
  {
   "cell_type": "markdown",
   "id": "96387a0b",
   "metadata": {},
   "source": [
    "# p value denotes the probability value which is fall in the confidence interval,so nullhypotheies is true,\n",
    "# siginificance value denotes area which is below or above the confidence interval,\n",
    "# so,if pvalue > siginificance value then we can accept null hypothesis\n",
    "# or we can reject"
   ]
  },
  {
   "cell_type": "code",
   "execution_count": null,
   "id": "321c158c",
   "metadata": {},
   "outputs": [],
   "source": []
  },
  {
   "cell_type": "markdown",
   "id": "2334c38b",
   "metadata": {},
   "source": [
    "# Q9. Generate a Student's t-distribution plot using Python's matplotlib library, with the degrees of freedom parameter set to 10."
   ]
  },
  {
   "cell_type": "code",
   "execution_count": 25,
   "id": "474c9dc0",
   "metadata": {},
   "outputs": [],
   "source": [
    "sample=np.random.randint(size=11)\n",
    "dof=10\n"
   ]
  },
  {
   "cell_type": "code",
   "execution_count": 34,
   "id": "e3291954",
   "metadata": {},
   "outputs": [
    {
     "data": {
      "image/png": "[encoded data removed]",
      "text/plain": [
       "<Figure size 640x480 with 1 Axes>"
      ]
     },
     "metadata": {},
     "output_type": "display_data"
    }
   ],
   "source": [
    "import numpy as np\n",
    "import matplotlib.pyplot as plt\n",
    "from scipy.stats import t\n",
    "\n",
    "# Set the degrees of freedom parameter\n",
    "df = 10\n",
    "\n",
    "# Generate a Student's t-distribution object with the specified degrees of freedom\n",
    "t_dist = t(df)\n",
    "\n",
    "# Generate x-values for the t-distribution plot\n",
    "x = np.linspace(t_dist.ppf(0.001), t_dist.ppf(0.999), 1000)\n",
    "# print(x)\n",
    "\n",
    "# Generate y-values for the t-distribution plot\n",
    "y = t_dist.pdf(x)\n",
    "\n",
    "# Create the t-distribution plot\n",
    "plt.plot(x, y)\n",
    "\n",
    "# Add axis labels and a title\n",
    "plt.xlabel('t-value')\n",
    "plt.ylabel('Probability Density')\n",
    "plt.title(\"Student's t-Distribution with df = 10\")\n",
    "\n",
    "# Show the plot\n",
    "plt.show()\n"
   ]
  },
  {
   "cell_type": "code",
   "execution_count": null,
   "id": "c918943a",
   "metadata": {},
   "outputs": [],
   "source": []
  },
  {
   "cell_type": "markdown",
   "id": "d423d2c0",
   "metadata": {},
   "source": [
    "# Q10. Write a Python program to calculate the two-sample t-test for independent samples, given two\n",
    "random samples of equal size and a null hypothesis that the population means are equal."
   ]
  },
  {
   "cell_type": "code",
   "execution_count": 56,
   "id": "e5fab772",
   "metadata": {},
   "outputs": [
    {
     "data": {
      "text/plain": [
       "Ttest_indResult(statistic=-0.11716041239911833, pvalue=0.9080303213560945)"
      ]
     },
     "execution_count": 56,
     "metadata": {},
     "output_type": "execute_result"
    }
   ],
   "source": [
    "import numpy as np\n",
    "from scipy.stats import ttest_ind\n",
    "sample1=np.random.normal(1,2,10)\n",
    "# lloc=mean,std=2,size=10\n",
    "sample2=np.random.normal(2,2,10)\n",
    "ttest_ind(sample1,sample2)"
   ]
  },
  {
   "cell_type": "code",
   "execution_count": null,
   "id": "0e3d5456",
   "metadata": {},
   "outputs": [],
   "source": []
  },
  {
   "cell_type": "markdown",
   "id": "a1a15cec",
   "metadata": {},
   "source": [
    "# Q11: What is Student’s t distribution? When to use the t-Distribution."
   ]
  },
  {
   "cell_type": "markdown",
   "id": "c45d0b39",
   "metadata": {},
   "source": [
    "# The Student's t-distribution is a probability distribution that is used in hypothesis testing when the sample size is small (typically less than 30) and the population standard deviation is unknown. It is similar in shape to the normal distribution, but with heavier tails, which reflects the greater uncertainty that arises when working with small samples.\n",
    "\n"
   ]
  },
  {
   "cell_type": "code",
   "execution_count": null,
   "id": "67d3ee8c",
   "metadata": {},
   "outputs": [],
   "source": []
  },
  {
   "cell_type": "markdown",
   "id": "607f5442",
   "metadata": {},
   "source": [
    "# Q12: What is t-statistic? State the formula for t-statistic."
   ]
  },
  {
   "cell_type": "markdown",
   "id": "a3199352",
   "metadata": {},
   "source": [
    "# The t-statistic is a test statistic used in hypothesis testing to determine whether the difference between two sample means is significant. It is used when the sample sizes are small and the population standard deviations are unknown. The t-statistic measures the difference between the means of two groups relative to the variation within the groups.\n",
    "\n",
    "The formula for the t-statistic is:\n",
    "\n",
    "t = (x̄₁ - x̄₂) / (s_p * sqrt(1/n₁ + 1/n₂))\n",
    "\n",
    "where:\n",
    "- x̄₁ and x̄₂ are the sample means of the two groups\n",
    "- s_p is the pooled standard deviation of the two groups, calculated as:\n",
    "     s_p = sqrt(((n₁ - 1) * s₁² + (n₂ - 1) * s₂²) / (n₁ + n₂ - 2))\n",
    "  where s₁ and s₂ are the sample standard deviations of the two groups, and n₁ and n₂ are the sample sizes of the two groups.\n",
    "- n₁ and n₂ are the sample sizes of the two groups.\n",
    "\n",
    "The t-statistic is used to calculate the p-value, which is the probability of observing a t-value as extreme as the one calculated from the sample data, assuming that the null hypothesis is true. If the p-value is less than the significance level (usually 0.05), we reject the null hypothesis and conclude that there is a significant difference between the means of the two groups. Otherwise, we fail to reject the null hypothesis and conclude that there is no significant difference between the means of the two groups."
   ]
  },
  {
   "cell_type": "code",
   "execution_count": null,
   "id": "df037102",
   "metadata": {},
   "outputs": [],
   "source": []
  },
  {
   "cell_type": "markdown",
   "id": "3f9056ae",
   "metadata": {},
   "source": [
    "# Q13. A coffee shop owner wants to estimate the average daily revenue for their shop. They take a random\n",
    "sample of 50 days and find the sample mean revenue to be $500 with a standard deviation of $50.\n",
    "Estimate the population mean revenue with a 95% confidence interval."
   ]
  },
  {
   "cell_type": "code",
   "execution_count": 73,
   "id": "18f5665c",
   "metadata": {},
   "outputs": [
    {
     "name": "stdout",
     "output_type": "stream",
     "text": [
      "357.9015724388134 642.0984275611866\n",
      "The 95% confidence interval for the population mean revenue is: ($357.90, $642.10)\n"
     ]
    }
   ],
   "source": [
    "# here \n",
    "import scipy.stats as stats\n",
    "n=50\n",
    "sample_mean=500\n",
    "sample_std=50\n",
    "\n",
    "# its a two tail so,\n",
    "c_i=0.975\n",
    "\n",
    "# estimate avg of population\n",
    "# find lower_boundary and highr_boundary\n",
    "# c_i=sample_mean+ or - margin of error\n",
    "\n",
    "standard_err=sample_mean/math.sqrt(n)\n",
    "critcal_value=stats.t.ppf(c_i,df=n-1)\n",
    "\n",
    "\n",
    "lower_fence=sample_mean-(critcal_value*(standard_err))\n",
    "higher_fence=sample_mean+(critcal_value*(standard_err))\n",
    "print(lower_fence,higher_fence)\n",
    "print(f\"The 95% confidence interval for the population mean revenue is: (${lower_fence:.2f}, ${higher_fence:.2f})\")"
   ]
  },
  {
   "cell_type": "code",
   "execution_count": null,
   "id": "6fde8266",
   "metadata": {},
   "outputs": [],
   "source": []
  },
  {
   "cell_type": "markdown",
   "id": "c12297c3",
   "metadata": {},
   "source": [
    "# Q14. A researcher hypothesizes that a new drug will decrease blood pressure by 10 mmHg. They conduct a\n",
    "clinical trial with 100 patients and find that the sample mean decrease in blood pressure is 8 mmHg with a\n",
    "standard deviation of 3 mmHg. Test the hypothesis with a significance level of 0.05."
   ]
  },
  {
   "cell_type": "code",
   "execution_count": 80,
   "id": "e589626a",
   "metadata": {},
   "outputs": [],
   "source": [
    "import scipy.stats as stats\n",
    "mu=10\n",
    "n=100\n",
    "sample_mean=8\n",
    "sample_std=3\n",
    "alpha=0.05\n",
    "\n",
    "# its a one tail because test decrease in blood pressure, "
   ]
  },
  {
   "cell_type": "code",
   "execution_count": 76,
   "id": "66f88500",
   "metadata": {},
   "outputs": [],
   "source": [
    "# h0: null hypotheisis is true mu=10"
   ]
  },
  {
   "cell_type": "code",
   "execution_count": 75,
   "id": "5b06ac16",
   "metadata": {},
   "outputs": [],
   "source": [
    "#h1:alternate hypothesis mu <10"
   ]
  },
  {
   "cell_type": "code",
   "execution_count": 93,
   "id": "d7e3a9eb",
   "metadata": {},
   "outputs": [
    {
     "name": "stdout",
     "output_type": "stream",
     "text": [
      "-6.666666666666667\n",
      "The p-value is 0.0000. The null hypothesis can be rejected at the 5.0% significance level.\n"
     ]
    }
   ],
   "source": [
    "# t -test value\n",
    "t=(sample_mean-mu)/(sample_std/math.sqrt(n))\n",
    "print(t)\n",
    "p_value = stats.t.sf(np.abs(t), df=99) * 2\n",
    "\n",
    "# Test the hypothesis with a significance level of 0.05\n",
    "alpha = 0.05\n",
    "if p_value < alpha:\n",
    "    print(f\"The p-value is {p_value:.4f}. The null hypothesis can be rejected at the {alpha*100}% significance level.\")\n",
    "else:\n",
    "    print(f\"The p-value is {p_value:.4f}. The null hypothesis cannot be rejected at the {alpha*100}% significance level.\")\n",
    "\n",
    "\n",
    "\n",
    "\n",
    "\n",
    "\n"
   ]
  },
  {
   "cell_type": "code",
   "execution_count": null,
   "id": "6d9a4105",
   "metadata": {},
   "outputs": [],
   "source": []
  },
  {
   "cell_type": "markdown",
   "id": "04442281",
   "metadata": {},
   "source": [
    "# Q15. An electronics company produces a certain type of product with a mean weight of 5 pounds and a standard deviation of 0.5 pounds. \n",
    "\n",
    "# A random sample of 25 products is taken, and the sample mean weight is found to be 4.8 pounds. \n",
    "\n",
    "# Test the hypothesis that the true mean weight of the products is less than 5 pounds with a significance level of 0.01."
   ]
  },
  {
   "cell_type": "code",
   "execution_count": 2,
   "id": "0c4b6cb9",
   "metadata": {},
   "outputs": [],
   "source": [
    "mu=5\n",
    "sigma=0.5\n",
    "n=25 \n",
    "# n<30 so we can use t test\n",
    "sample_mean=4.8\n",
    "# weight less than 5 pounds <,so one tail test\n",
    "significan_level=0.01\n"
   ]
  },
  {
   "cell_type": "code",
   "execution_count": null,
   "id": "e77c9cd2",
   "metadata": {},
   "outputs": [],
   "source": [
    "# h0:null hypothesis \n",
    "# mu=5"
   ]
  },
  {
   "cell_type": "code",
   "execution_count": null,
   "id": "fd3055a3",
   "metadata": {},
   "outputs": [],
   "source": [
    "# h1:alternate hypothesis\n",
    "# mu<5"
   ]
  },
  {
   "cell_type": "code",
   "execution_count": 36,
   "id": "036684d1",
   "metadata": {},
   "outputs": [
    {
     "name": "stdout",
     "output_type": "stream",
     "text": [
      "accept null hypothesis p value: 0.4684503052439263 ,significance value: 0.01\n"
     ]
    }
   ],
   "source": [
    "# find p value\n",
    "import scipy.stats as stats\n",
    "import math\n",
    "\n",
    "t_stats_value=(sample_mean-mu)/sigma/math.sqrt(n)\n",
    "p_value=stats.t.sf(abs(t_stats_value),n-1)\n",
    "\n",
    "if p_value >significan_level:\n",
    "    print(\"accept null hypothesis\",\"p value:\",p_value,\",significance value:\",significan_level)\n",
    "else:\n",
    "    print(\"reject null hypothesis\")\n",
    "    \n",
    "    \n"
   ]
  },
  {
   "cell_type": "code",
   "execution_count": null,
   "id": "d2580cd3",
   "metadata": {},
   "outputs": [],
   "source": []
  },
  {
   "cell_type": "markdown",
   "id": "a95893b5",
   "metadata": {},
   "source": [
    "# Q16. Two groups of students are given different study materials to prepare \n",
    "\n",
    "for a test. The first group (n1 =30) has a mean score of 80 with a standard deviation of 10, and the second group (n2 = 40) has a mean score of 75 with a standard deviation of 8. Test the hypothesis that the population means for the two groups are equal with a significance level of 0.01."
   ]
  },
  {
   "cell_type": "code",
   "execution_count": 37,
   "id": "b45e2bae",
   "metadata": {},
   "outputs": [],
   "source": [
    "# first group\n",
    "n1=30\n",
    "first_mean=80\n",
    "first_std=10\n",
    "\n",
    "# second group\n",
    "n2=40\n",
    "sec_mean=75\n",
    "sec_std=8\n",
    "\n",
    "# test hypothesis t test,two groups population means are equal\n",
    "significance=0.01"
   ]
  },
  {
   "cell_type": "code",
   "execution_count": 40,
   "id": "8e841f92",
   "metadata": {},
   "outputs": [
    {
     "name": "stdout",
     "output_type": "stream",
     "text": [
      "accept null hypothesis\n"
     ]
    }
   ],
   "source": [
    "t_stats_value=(first_mean-sec_mean)/math.sqrt((first_std**2/n1)+(sec_std**2/n2))\n",
    "dof=min(n1-1,n2-1)\n",
    "p_value=stats.t.sf(abs(t_stats_value),dof)\n",
    "if p_value >significance:\n",
    "    print(\"accept null hypothesis\")\n",
    "else:\n",
    "    print(\"reject null hypothesis\")"
   ]
  },
  {
   "cell_type": "code",
   "execution_count": null,
   "id": "1dc6ba1f",
   "metadata": {},
   "outputs": [],
   "source": []
  },
  {
   "cell_type": "markdown",
   "id": "7decd28f",
   "metadata": {},
   "source": [
    "# Q17. A marketing company wants to estimate the average number of ads watched by viewers during a TV\n",
    "program. They take a random sample of 50 viewers and find that the sample mean is 4 with a standard\n",
    "deviation of 1.5. Estimate the population mean with a 99% confidence interval."
   ]
  },
  {
   "cell_type": "code",
   "execution_count": 43,
   "id": "aa0f7930",
   "metadata": {},
   "outputs": [],
   "source": [
    "n=50\n",
    "sample_mean=4\n",
    "sample_std=1.5\n",
    "c_i=0.99\n",
    "\n",
    "# estimate the population mean\n",
    "# here n>30 and sample std given so,we can use t test"
   ]
  },
  {
   "cell_type": "code",
   "execution_count": 52,
   "id": "de4254e1",
   "metadata": {},
   "outputs": [
    {
     "name": "stdout",
     "output_type": "stream",
     "text": [
      "answer is :3.431,4.568504\n"
     ]
    }
   ],
   "source": [
    "# confidence_interval=sample_mean +or- margin of error\n",
    "standard_error=sample_std/math.sqrt(n)\n",
    "\n",
    "critical_value=stats.t.ppf(0.995,n-1)\n",
    "\n",
    "margin_of_error=standard_error*critical_value\n",
    "\n",
    "lower_boundary=sample_mean-margin_of_error\n",
    "\n",
    "higher_boundary=sample_mean+margin_of_error\n",
    "\n",
    "print(f\"answer is :{lower_boundary:.3f},{higher_boundary:3f}\")\n"
   ]
  },
  {
   "cell_type": "code",
   "execution_count": null,
   "id": "67aea9d0",
   "metadata": {},
   "outputs": [],
   "source": []
  },
  {
   "cell_type": "code",
   "execution_count": null,
   "id": "79088183",
   "metadata": {},
   "outputs": [],
   "source": []
  },
  {
   "cell_type": "code",
   "execution_count": null,
   "id": "82b9c28e",
   "metadata": {},
   "outputs": [],
   "source": []
  },
  {
   "cell_type": "code",
   "execution_count": null,
   "id": "1b3427f7",
   "metadata": {},
   "outputs": [],
   "source": []
  },
  {
   "cell_type": "code",
   "execution_count": null,
   "id": "1e140868",
   "metadata": {},
   "outputs": [],
   "source": []
  },
  {
   "cell_type": "code",
   "execution_count": null,
   "id": "a51aab84",
   "metadata": {},
   "outputs": [],
   "source": []
  },
  {
   "cell_type": "code",
   "execution_count": null,
   "id": "3ac68a30",
   "metadata": {},
   "outputs": [],
   "source": []
  },
  {
   "cell_type": "code",
   "execution_count": null,
   "id": "2c0063ec",
   "metadata": {},
   "outputs": [],
   "source": []
  },
  {
   "cell_type": "code",
   "execution_count": null,
   "id": "c1ca2f60",
   "metadata": {},
   "outputs": [],
   "source": []
  },
  {
   "cell_type": "code",
   "execution_count": null,
   "id": "4544b49c",
   "metadata": {},
   "outputs": [],
   "source": []
  },
  {
   "cell_type": "code",
   "execution_count": null,
   "id": "1cda521e",
   "metadata": {},
   "outputs": [],
   "source": []
  }
 ],
 "metadata": {
  "kernelspec": {
   "display_name": "Python 3 (ipykernel)",
   "language": "python",
   "name": "python3"
  },
  "language_info": {
   "codemirror_mode": {
    "name": "ipython",
    "version": 3
   },
   "file_extension": ".py",
   "mimetype": "text/x-python",
   "name": "python",
   "nbconvert_exporter": "python",
   "pygments_lexer": "ipython3",
   "version": "3.10.9"
  }
 },
 "nbformat": 4,
 "nbformat_minor": 5
}
