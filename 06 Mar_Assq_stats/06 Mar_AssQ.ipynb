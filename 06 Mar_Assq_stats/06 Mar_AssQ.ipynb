{
 "cells": [
  {
   "cell_type": "markdown",
   "id": "38ca1340",
   "metadata": {},
   "source": [
    "# Q1. What is Statistics?\n"
   ]
  },
  {
   "cell_type": "markdown",
   "id": "1d0d1315",
   "metadata": {},
   "source": [
    "# Statistics is branch of maths ,used to collect ,organize ,analyze the data.and give solution for data related problem"
   ]
  },
  {
   "cell_type": "code",
   "execution_count": null,
   "id": "eb567e3b",
   "metadata": {},
   "outputs": [],
   "source": []
  },
  {
   "cell_type": "markdown",
   "id": "454b1d05",
   "metadata": {},
   "source": [
    "# Q2. Define the different types of statistics and give an example of when each type might be used."
   ]
  },
  {
   "cell_type": "markdown",
   "id": "3a03beb0",
   "metadata": {},
   "source": [
    "# Types:\n",
    "    1.Descriptive stats\n",
    "    2.inferential stats\n",
    "    \n",
    "# Descriptive:\n",
    "    Summarize and describe parameter or charcteristics of dataset\n",
    "    Ex: find the avg height of students in one class\n",
    "    \n",
    "# Inferential :\n",
    "    Used to Give a inference or solution to population by sample.\n",
    "    ex.Using avg height of oneclass find all university students avg equal to avg height of one class"
   ]
  },
  {
   "cell_type": "code",
   "execution_count": null,
   "id": "da9866f2",
   "metadata": {},
   "outputs": [],
   "source": []
  },
  {
   "cell_type": "code",
   "execution_count": null,
   "id": "f3f33b55",
   "metadata": {},
   "outputs": [],
   "source": []
  },
  {
   "cell_type": "markdown",
   "id": "17a9ceaf",
   "metadata": {},
   "source": [
    "# Q3.  What are the different types of data and how do they differ from each other? Provide an example of each type of data."
   ]
  },
  {
   "cell_type": "markdown",
   "id": "9e635418",
   "metadata": {},
   "source": [
    "# Data is facts or pieces of information"
   ]
  },
  {
   "cell_type": "markdown",
   "id": "426da273",
   "metadata": {},
   "source": [
    "# 1.quantitative -numerical \n",
    "   ### 1.1 discrete -whole number with defined range ex. 1,2,3,4,5...100\n",
    "   ### 1.2 continuous - any number with any range ex.0,0.1,1,1.5,...\n",
    "\n",
    "# 2.qualitative -catagorical data's  \n",
    "   ### 2.1 nominal -without rank or order .ex. 'male','female'\n",
    "   ### 2.2 ordinal -catagorical values with order is called ordinal values. \n",
    "     ex. review system\n",
    "      good-1\n",
    "      bad-0\n",
    "      moderate-2\n",
    "     "
   ]
  },
  {
   "cell_type": "markdown",
   "id": "ab55f433",
   "metadata": {},
   "source": [
    "# Q4. Categorise the following datasets with respect to quantitative and qualitative data types:\n",
    "\n",
    "(i)\tGrading in exam: A+, A, B+, B, C+, C, D, E\n",
    "\n",
    "(ii)\tColour of mangoes: yellow, green, orange, red\n",
    "\n",
    "(iii)\tHeight data of a class: [178.9, 179, 179.5, 176, 177.2, 178.3, 175.8,...]\n",
    "\n",
    "(iv)\tNumber of mangoes exported by a farm: [500, 600, 478, 672, …]"
   ]
  },
  {
   "cell_type": "markdown",
   "id": "489831cc",
   "metadata": {},
   "source": [
    "# quantitative\n",
    " \n",
    "     1.continous\n",
    "     (iii)\tHeight data of a class: [178.9, 179, 179.5, 176, 177.2, 178.3, 175.8,...]\n",
    " \n",
    "     2.discreate\n",
    "     (iv)\tNumber of mangoes exported by a farm: [500, 600, 478, 672, …]\n",
    " \n",
    "    "
   ]
  },
  {
   "cell_type": "markdown",
   "id": "9dcd74a6",
   "metadata": {},
   "source": [
    "# qualitative\n",
    "\n",
    "      1.nominal\n",
    "      (ii)\tColour of mangoes: yellow, green, orange, red\n",
    "      \n",
    "      2.ordinal\n",
    "      (i)\tGrading in exam: A+, A, B+, B, C+, C, D, E"
   ]
  },
  {
   "cell_type": "code",
   "execution_count": null,
   "id": "30f0431a",
   "metadata": {},
   "outputs": [],
   "source": []
  },
  {
   "cell_type": "markdown",
   "id": "ec3199cd",
   "metadata": {},
   "source": [
    "# Q5. Explain the concept of levels of measurement and give an example of a variable for each level.\n"
   ]
  },
  {
   "cell_type": "markdown",
   "id": "b41fd963",
   "metadata": {},
   "source": [
    "# 1.Nominal scale data\n",
    "    1.1 catagorical values \n",
    "    ex:\n",
    "    gender \"male\",\"female\"\n",
    "    \n",
    " \n",
    "# 2.ordinal scale data\n",
    "\n",
    "    catagorical values can make order\n",
    "    diff can't calculate\n",
    "    Ex:\n",
    "     \n",
    "    education : rank\n",
    "    phd    :  A\n",
    "    masters:  B\n",
    "    b.e    :  C\n",
    "    b.sc   :  D\n",
    "    b.ca   :  E\n",
    "\n",
    "# 3.interval scale data\n",
    "\n",
    "    It contains numerical data\n",
    "    \n",
    "    In interval scale dada ,we can order the data,\n",
    "    Can calculate difference,\n",
    "    But cant calculate ratio\n",
    "    cant start with 0,or the values doesnt contain zero\n",
    "    \n",
    "    Ex.Temp difference\n",
    "    1.90*c \n",
    "    2.80*c\n",
    "    3.70*c\n",
    "    \n",
    "\n",
    "# 4.ratio scale data\n",
    "    It contains numerical data\n",
    "    we can calculate ratio,diff,and can make order\n",
    "    data can start and contain zero.\n",
    "    ex:\n",
    "    Grades:100  A\n",
    "            80  B\n",
    "            70  C\n",
    "    \n",
    " "
   ]
  },
  {
   "cell_type": "code",
   "execution_count": null,
   "id": "6d9d1766",
   "metadata": {},
   "outputs": [],
   "source": []
  },
  {
   "cell_type": "markdown",
   "id": "a62db504",
   "metadata": {},
   "source": [
    "# Q6. Why is it important to understand the level of measurement when analyzing data? Provide an example to illustrate your answer."
   ]
  },
  {
   "cell_type": "markdown",
   "id": "ab9475e4",
   "metadata": {},
   "source": [
    "# Understanding the level of measurement is crucial when analyzing data because it determines the type of statistical analysis that can be used and the conclusions that can be drawn from the data. There are four levels of measurement: nominal, ordinal, interval, and ratio.\n",
    "\n"
   ]
  },
  {
   "cell_type": "markdown",
   "id": "4cf2f271",
   "metadata": {},
   "source": [
    "## Suppose you are conducting a survey to determine the favorite color of a group of people. The response options are \"Red,\" \"Blue,\" \"Green,\" and \"Yellow.\" This data is nominal because the categories cannot be ordered.\n",
    "\n",
    "## If you were to try to calculate the mean favorite color, it would not make sense since you cannot perform arithmetic operations on nominal data. Instead, you would need to use frequency distributions or percentages to summarize the data.\n",
    "\n",
    "## Alternatively, if you had asked the participants to rank their favorite colors from 1 to 4, with 1 being their most favorite and 4 being their least favorite, the data would be ordinal. In this case, you could calculate the median or mode of the rankings to determine the most popular favorite color."
   ]
  },
  {
   "cell_type": "code",
   "execution_count": null,
   "id": "a38910dc",
   "metadata": {},
   "outputs": [],
   "source": []
  },
  {
   "cell_type": "markdown",
   "id": "5468eb52",
   "metadata": {},
   "source": [
    "# Q7. How nominal data type is different from ordinal data type.\n",
    "\n",
    "    Nominal data:\n",
    "        Data's are catagorical data,\n",
    "        we cant give any order\n",
    "        ex:\n",
    "        common Types of humans:\n",
    "        1.Male\n",
    "        2.Female\n",
    "    Ordinal:\n",
    "        Data's are catagorical data,\n",
    "        we can make order \n",
    "        ex:\n",
    "                Suppose you conduct a survey asking participants to rate their level of agreement with the statement \"I enjoy exercising\" using a 5-point Likert scale, where 1 = \"Strongly Disagree,\" 2 = \"Disagree,\" 3 = \"Neither Agree nor Disagree,\" 4 = \"Agree,\" and 5 = \"Strongly Agree.\" The data obtained from this survey is ordinal because the responses are ranked in order of agreement, but the difference between the response categories is not necessarily equal.\n",
    "\n",
    "        In this case, you could calculate the median or mode of the responses to determine the most common level of agreement with the statement. However, it would not be appropriate to calculate the mean of the responses because the numbers themselves do not have a numerical value that reflects the level of agreement, but instead just represent the order of agreement.\n",
    "      \n",
    "        "
   ]
  },
  {
   "cell_type": "code",
   "execution_count": null,
   "id": "b00c0560",
   "metadata": {},
   "outputs": [],
   "source": []
  },
  {
   "cell_type": "markdown",
   "id": "28d602ea",
   "metadata": {},
   "source": [
    "# Q8. Which type of plot can be used to display data in terms of range?"
   ]
  },
  {
   "cell_type": "markdown",
   "id": "06620a24",
   "metadata": {},
   "source": [
    "# A type of plot that can be used to display data in terms of range is a box and whisker plot, also known as a box plot.\n",
    "\n",
    "Box plots display the distribution of a dataset by showing the median, quartiles, and extremes of the data. The box in the middle of the plot represents the interquartile range (IQR), which is the range of the middle 50% of the data. The line within the box represents the median, which is the midpoint of the dataset. The \"whiskers\" extending from the box represent the range of the data that falls within a certain number of standard deviations from the median. Any points outside of the whiskers are considered outliers.\n",
    "\n",
    "Box plots can be used to compare the ranges and central tendencies of multiple datasets side by side. They can also be used to identify any potential outliers in the data. Box plots are commonly used in fields such as statistics, engineering, and finance to visualize the distribution and variability of data."
   ]
  },
  {
   "cell_type": "code",
   "execution_count": null,
   "id": "70786d30",
   "metadata": {},
   "outputs": [],
   "source": []
  },
  {
   "cell_type": "markdown",
   "id": "bb85713f",
   "metadata": {},
   "source": [
    "# Q9. Describe the difference between descriptive and inferential statistics. Give an example of each\n",
    "type of statistics and explain how they are used."
   ]
  },
  {
   "cell_type": "markdown",
   "id": "a70abd0f",
   "metadata": {},
   "source": [
    "# Descriptive and inferential statistics are two branches of statistical analysis that serve different purposes:\n",
    "\n",
    "### Descriptive statistics: Descriptive statistics are used to summarize and describe the basic features of a dataset. They provide a summary of the data in terms of central tendency (e.g., mean, median, mode), variability (e.g., range, standard deviation), and shape (e.g., skewness, kurtosis). Descriptive statistics can be used to identify patterns and trends in the data, and to provide a simple and easy-to-understand summary of the data.\n",
    "\n",
    "    Example: Suppose you want to summarize the test scores of a class of 30 students. You can use descriptive statistics to calculate the mean, median, and standard deviation of the scores to get a sense of the overall performance of the class. You could also plot a histogram or box plot to visualize the distribution of the scores.\n",
    "\n",
    "### Inferential statistics: Inferential statistics are used to make inferences and draw conclusions about a population based on a sample of data. They involve using probability theory to determine how likely it is that a certain result occurred by chance. Inferential statistics can be used to test hypotheses, make predictions, and generalize findings from a sample to a larger population.\n",
    "    Example: Suppose you want to know whether a new teaching method has an impact on test scores. You could randomly assign some students to be taught using the new method and others to be taught using the traditional method, and then compare the test scores of the two groups using inferential statistics. Specifically, you could use a statistical test such as a t-test to determine whether the difference in mean test scores between the two groups is statistically significant, meaning that it is unlikely to have occurred by chance. If the difference is significant, you could infer that the new teaching method has an effect on test scores."
   ]
  },
  {
   "cell_type": "code",
   "execution_count": null,
   "id": "83b58ad8",
   "metadata": {},
   "outputs": [],
   "source": []
  },
  {
   "cell_type": "markdown",
   "id": "3369ec55",
   "metadata": {},
   "source": [
    "# Q10. What are some common measures of central tendency and variability used in statistics? Explain\n",
    "how each measure can be used to describe a dataset."
   ]
  },
  {
   "cell_type": "markdown",
   "id": "89972583",
   "metadata": {},
   "source": [
    "### Central tendency refers to the measure of the central or typical value around which a set of data points tends to cluster. In other words, it is a measure of the \"middle\" or \"central\" value of a dataset. The measures of central tendency include the mean, median, and mode, which are commonly used in statistics to summarize a dataset. The choice of which measure of central tendency to use depends on the type of data being analyzed and the research question being addressed.\n",
    "\n",
    "### Measures of central tendency:\n",
    "    Mean: The mean is the average of a dataset, calculated by adding up all the values and dividing by the number of values. The mean is sensitive to extreme values and is commonly used to describe datasets that are approximately normally distributed.\n",
    "    \n",
    "    Median: The median is the middle value in a dataset when the values are ordered from lowest to highest. The median is less sensitive to extreme values than the mean and is commonly used to describe datasets with skewed distributions.\n",
    "\n",
    "    Mode: The mode is the value that occurs most frequently in a dataset. The mode can be used to describe datasets with multiple peaks or modes.\n",
    "\n"
   ]
  },
  {
   "cell_type": "markdown",
   "id": "26bba2e0",
   "metadata": {},
   "source": [
    "# Measures of variability:\n",
    "    Range: The range is the difference between the maximum and minimum values in a dataset. The range provides a measure of the spread of the data, but is sensitive to extreme values and may not be a good measure of variability for datasets with outliers.\n",
    "\n",
    "    Interquartile range (IQR): The IQR is the range of the middle 50% of a dataset, calculated by subtracting the first quartile (Q1) from the third quartile (Q3). The IQR is less sensitive to extreme values than the range and is commonly used to describe the spread of datasets with outliers.\n",
    "\n",
    "    Standard deviation: The standard deviation is a measure of the average amount by which the values in a dataset differ from the mean. The standard deviation is sensitive to extreme values and is commonly used to describe datasets that are approximately normally distributed.\n",
    "\n"
   ]
  },
  {
   "cell_type": "code",
   "execution_count": null,
   "id": "76d8eed7",
   "metadata": {},
   "outputs": [],
   "source": []
  },
  {
   "cell_type": "code",
   "execution_count": null,
   "id": "bd216dee",
   "metadata": {},
   "outputs": [],
   "source": []
  },
  {
   "cell_type": "code",
   "execution_count": null,
   "id": "9a92f233",
   "metadata": {},
   "outputs": [],
   "source": []
  },
  {
   "cell_type": "code",
   "execution_count": null,
   "id": "32a36a82",
   "metadata": {},
   "outputs": [],
   "source": []
  },
  {
   "cell_type": "code",
   "execution_count": null,
   "id": "5386ddea",
   "metadata": {},
   "outputs": [],
   "source": []
  }
 ],
 "metadata": {
  "kernelspec": {
   "display_name": "Python 3 (ipykernel)",
   "language": "python",
   "name": "python3"
  },
  "language_info": {
   "codemirror_mode": {
    "name": "ipython",
    "version": 3
   },
   "file_extension": ".py",
   "mimetype": "text/x-python",
   "name": "python",
   "nbconvert_exporter": "python",
   "pygments_lexer": "ipython3",
   "version": "3.10.9"
  }
 },
 "nbformat": 4,
 "nbformat_minor": 5
}
